{
 "cells": [
  {
   "cell_type": "markdown",
   "metadata": {},
   "source": [
    "<h1 align=\"center\"> Integrating factors for second order ODEs </h1>\n",
    "\n",
    "<h3 align=\"center\">A symbolic algorithm for the maxima CAS.</h3>\n",
    "\n",
    "In this manual you will find how to use ode2_lie to find an integrating factor, a lambda symmetry or a first integral of a second order ODE. This method is based on the paper of Cheb-terrab and Roche <a href='#ref:chebterrabroche'>[1]</a>. The link between integrating factors and lambda symmetries comes from the paper of Muriel and Romero <a href='#ref:murielromero'>[2]</a>. "
   ]
  },
  {
   "cell_type": "markdown",
   "metadata": {},
   "source": [
    "# step 1: loading the files "
   ]
  },
  {
   "cell_type": "code",
   "execution_count": 64,
   "metadata": {},
   "outputs": [
    {
     "data": {
      "text/latex": [
       "$$\\mathbf{done}$$"
      ],
      "text/plain": [
       "done"
      ]
     },
     "execution_count": 64,
     "metadata": {},
     "output_type": "execute_result"
    }
   ],
   "source": [
    "kill(all);"
   ]
  },
  {
   "cell_type": "code",
   "execution_count": 64,
   "metadata": {},
   "outputs": [
    {
     "name": "stdout",
     "output_type": "stream",
     "text": [
      "\n",
      "read and interpret file: /home/nijso/mathematics/maxima_files/ode2_lie.mac\n",
      "(%i1) load(antid)\n",
      "(%i2) put('ode2_lie,1,'version)\n",
      "(%i3) DEBUGFLAG:3\n",
      "(%i4) matchdeclare(_la,freeof(_y),_lb,freeof(_y,dy),_lc,freeof(_y,dy))\n",
      "(%i5) defmatch(linearode,_la*dy+_lb*_y+_lc,_y)\n",
      "(%i6) ode2_lie(_expr,_y,_x):=block([_mu,_r,_s,_ode,_ode1,_phi],dprint(3,\"\"),\n",
      "               dprint(3,\n",
      "                      \"----------------------------------------------------------------------------\"),\n",
      "               dprint(3,\n",
      "                      \"--- Lie symmetry method for second order ordinary differential equations ---\"),\n",
      "               dprint(3,\n",
      "                      \"----------------------------------------------------------------------------\"),\n",
      "               dprint(3,\"\"),_ode:odeType(_expr,_y,_x),\n",
      "               if _ode = false then return(false),\n",
      "               dprint(3,\"explicit ode = \",_ode),\n",
      "               _phi:subst(['diff(_y,_x) = _dy],rhs(_ode)),\n",
      "               if isExact(_expr,_y,_x)\n",
      "                   then (dprint(3,\"ode is exact\"),\n",
      "                         _mu:diff(_expr,'diff(_y,_x,2)),\n",
      "                         if not freeof(\"=\",_mu) then _mu:lhs(_mu)-rhs(_mu),\n",
      "                         dprint(3,\"mu=\",_mu),\n",
      "                         if _mu # false\n",
      "                             then return(_mu/constant_factors(_mu,[_x,_y]))),\n",
      "               dprint(3,\"ode is not exact...\"),\n",
      "               dprint(3,\"*** check if ode is of type 'ode2, missing y' \"),\n",
      "               if freeof(_y,_phi)\n",
      "                   then (dprint(1,\"ode is of type: missing y\"),\n",
      "                         _sol:subst(['diff(_y,_x,2) = 'diff(w,_x,1),\n",
      "                                     'diff(_y,_x) = w],_ode),\n",
      "                         dprint(3,\n",
      "                                \"returning the transformed ode with y\\\"=w' and y'=w \"),\n",
      "                         return(_sol)),\n",
      "               dprint(3,\"ode is not of type: missing y\"),\n",
      "               dprint(3,\"*** check if ode is of type 'ode2, missing x' \"),\n",
      "               if freeof(_x,rhs(_ode))\n",
      "                   then (dprint(1,\"ode is of type: missing x\"),\n",
      "                         _sol:subst(['diff(_y,_x,2) = 'diff(w,_y,1)*w,\n",
      "                                     'diff(_y,_x) = w],_ode),\n",
      "                         _sol:solve(_sol,'diff(w,_y,1))[1],\n",
      "                         dprint(3,\n",
      "                                \"returning the transformed ode with y\\\"=w*w' and y'=w \"),\n",
      "                         return(_sol)),\n",
      "               dprint(3,\"ode is not of type: missing x\"),\n",
      "               _mu:integratingFactor(_ode,_y,_x),\n",
      "               if _mu = false\n",
      "                   then (dprint(3,\n",
      "                                \"ode does not have an integrating factor of the form mu(x,y) or mu(x,dy/dx)\"),\n",
      "                         dprint(3,\n",
      "                                \"*** check if ode is of type 'ode2, mu=mu(y,y')' \"),\n",
      "                         dprint(5,\"ode = \",_ode),\n",
      "                         _ode1:solve(ratsimp(ode_changevar(_ode,_y,_x)),\n",
      "                                     'diff(_y,_x,2))[\n",
      "                               1],dprint(5,\"ode1 = \",_ode1),\n",
      "                         _mu:integratingFactor(_ode1,_y,_x),\n",
      "                         if _mu = false\n",
      "                             then dprint(5,\"no integrating factor found\")\n",
      "                             else (_mu:_mu*('diff(_y,_x))^2,\n",
      "                                   dprint(5,\"2. integrating factor = \",_mu),\n",
      "                                   _mu:subst('diff(_y,_x) = _dy,_mu),\n",
      "                                   _mu:subst(_x = _y,_mu),\n",
      "                                   _mu:subst(_dy = 1/'diff(_y,_x),_mu),\n",
      "                                   dprint(5,\"3. integrating factor = \",_mu),\n",
      "                                   dprint(3,\"integrating factor = \",_mu),\n",
      "                                   return(_mu/constant_factors(_mu,[_x,_y]))))\n",
      "                   else (dprint(3,\"integrating factor = \",_mu),\n",
      "                         return(_mu/constant_factors(_mu,[_x,_y]))),\n",
      "               return(false))\n",
      "(%i7) ode_changevar(_ode,_y,_x):=block([_ode1],\n",
      "                    _ode1:subst('diff(_y,_x,2)\n",
      "                                  = (-'diff(_s,_r,2))/('diff(_s,_r))^3,_ode),\n",
      "                    _ode1:subst('diff(_y,_x,1) = 1/'diff(_s,_r),_ode1),\n",
      "                    _ode1:sublis([_x = _s,_y = _r],_ode1),\n",
      "                    _ode1:sublis([_s = _y,_r = _x],_ode1),\n",
      "                    _ode1:sublis([_dy = 'diff(_y,_x),_ddy = 'diff(_y,_x,2)],\n",
      "                                 _ode1),return(_ode1))\n",
      "(%i8) integratingFactor(_ode,_y,_x):=block(\n",
      "                        [_phi,_dy,_ddy,_xi,_eta,_sol,_coeffs,_mu,_mu_tilde,_w,\n",
      "                         _a,_b,_c,_Y,_ax,_by,_phi1,_nu,_gamma,_expr,_gamma_y,\n",
      "                         _F,_p_prime,_H,_W,_beta,_gam,_dp,_ddp,_dddp],\n",
      "                        for _l in facts() do\n",
      "                            assume(subst('diff(_y,_x) = _dy,_l)),\n",
      "                        _ode:subst(['diff(_y,_x) = _dy,'diff(_y,_x,2) = _ddy],\n",
      "                                   _ode),\n",
      "                        _phi:subst(['diff(_y,_x) = _dy],rhs(_ode)),\n",
      "                        dprint(3,\n",
      "                               \"*** check if ode is of type 'ode2, mu=mu(x,y)' \"),\n",
      "                        _phi:rhs(_ode),dprint(5,\"phi = \",_phi),\n",
      "                        _coeffs:linearode(ratexpand(_phi),_y),\n",
      "                        dprint(5,\"coeffs=\",_coeffs),\n",
      "                        if _coeffs # false\n",
      "                            then ([_a,_b,_c,_Y]:map(rhs,_coeffs),\n",
      "                                  dprint(5,\"coeffs=\",a,b,c),\n",
      "                                  dprint(4,\"***    case A \"),_ax:diff(_a,_x),\n",
      "                                  dprint(5,\"ax=\",_ax),_by:diff(_b,_y),\n",
      "                                  dprint(5,\"by=\",_by),\n",
      "                                  if 2*_ax-_by # 0\n",
      "                                      then (dprint(5,\"2a_x-b_y #0\"),\n",
      "                                            _phi1\n",
      "                                             :diff(_c,_y)-_a*_c-diff(_b,_x),\n",
      "                                            dprint(5,\"phi = \",_phi1),\n",
      "                                            _gamma\n",
      "                                             :diff(_ax,_x)+_ax*_b\n",
      "                                                          +diff(_phi1,_y),\n",
      "                                            dprint(5,\"gamma = \",_gamma),\n",
      "                                            if \n",
      "                                             ratsimp(diff(_gamma,_y)-_ax) = 0\n",
      "                                               and ratsimp(\n",
      "                                               diff(_gamma,_x)+_phi1+_b*_gamma\n",
      "                                                              +(-_gamma)\n",
      "                                                               *_gamma)\n",
      "                                                = 0\n",
      "                                              then (\n",
      "                                              _mu\n",
      "                                               :exp(\n",
      "                                                integrate(\n",
      "                                                 (-_gamma)\n",
      "                                                  +diff(integrate(_a,_y),_x),\n",
      "                                                 _x)\n",
      "                                                 -integrate(_a,_y)),\n",
      "                                              for _l in facts() do\n",
      "                                                  if not freeof(_dy,_l)\n",
      "                                                      then forget(\n",
      "                                                      subst(\n",
      "                                                       'diff(_y,_x) = _dy,\n",
      "                                                       _l)),return(_mu))\n",
      "                                              else dprint(4,\n",
      "                                                          \"no integrating factor of form mu(x,y)\"))\n",
      "                                      else (dprint(4,\"***    case B \"),\n",
      "                                            dprint(5,\"2a_x-b_y = 0\"),\n",
      "                                            _phi1:diff(_c,_y)-_a*_c,\n",
      "                                            dprint(5,\"phi = \",_phi1),\n",
      "                                            if \n",
      "                                             ratsimp(\n",
      "                                              diff(_ax,_x)-_ax*_b\n",
      "                                                          -diff(_phi1,_y))\n",
      "                                               = 0\n",
      "                                              then (\n",
      "                                              _nu\n",
      "                                               :[\n",
      "                                                \"solution of A(x)*nu' + B(x)*nu\"],\n",
      "                                              _mu:_nu*exp(-integrate(_a,_y)),\n",
      "                                              for _l in facts() do\n",
      "                                                  if not freeof(_dy,_l)\n",
      "                                                      then forget(\n",
      "                                                      subst(\n",
      "                                                       'diff(_y,_x) = _dy,\n",
      "                                                       _l)),return(_mu))\n",
      "                                              else dprint(4,\n",
      "                                                          \"no integrating factor of form mu(x,y)\"))),\n",
      "                        dprint(3,\n",
      "                               \"*** check if ode is of type 'ode2, mu=mu(x,y')' \"),\n",
      "                        dprint(5,\"phi = \",_phi),_c:ratsimp(diff(_phi,_dy)),\n",
      "                        _b:ratsimp(diff(ratsimp(_phi-_c*_dy),_y)),\n",
      "                        _a:ratsimp(_phi-_b*_y+(-_c)*_dy),dprint(5,\"_a = \",_a),\n",
      "                        dprint(5,\"_b = \",_b),dprint(5,\"_c = \",_c),\n",
      "                        if freeof(_y,_c) and freeof(_y,_b) and _a = 0\n",
      "                            then (_mu:'diff(_y,_x)/_b,\n",
      "                                  for _l in facts() do\n",
      "                                      if not freeof(_dy,_l)\n",
      "                                          then forget(\n",
      "                                          subst('diff(_y,_x) = _dy,_l)),\n",
      "                                  return(_mu))\n",
      "                            else dprint(4,\n",
      "                                        \"ode is not a linear second order ode with symmetries of the form mu(x,y')\"),\n",
      "                        dprint(4,\"***    case A \"),_gamma:diff(_phi,_y),\n",
      "                        _gamma:ratsimp(_gamma),dprint(5,\"gamma = \",_gamma),\n",
      "                        _gamma_y:diff(_gamma,_y),_gamma_y:ratsimp(_gamma_y),\n",
      "                        dprint(5,\"gamma_y = \",_gamma_y),\n",
      "                        if _gamma # 0\n",
      "                            then (_expr:ratsimp(diff(_gamma_y/_gamma,_dy)),\n",
      "                                  dprint(5,\"expr = \",_expr),\n",
      "                                  _expr:ratsimp(\n",
      "                                        factor(num(_expr))\n",
      "                                         /factor(denom(_expr))),\n",
      "                                  dprint(5,\"expr = \",_expr),\n",
      "                                  if _expr # 0\n",
      "                                      then (\n",
      "                                      dprint(4,\n",
      "                                             \"we need the factors of gamma depending on y' but not on y itself\"),\n",
      "                                      dprint(4,\"factors = \",\n",
      "                                             factor_list(_gamma)),\n",
      "                                      _F\n",
      "                                       :sublist(factor_list(_gamma),\n",
      "                                                lambda([_xx],\n",
      "                                                       not freeof(_dy,_xx)\n",
      "                                                         and freeof(_y,_xx))),\n",
      "                                      dprint(4,\"F = \",_F),\n",
      "                                      if true\n",
      "                                          then (_F:1/apply(\"*\",_F),\n",
      "                                                dprint(4,\"F = \",_F),\n",
      "                                                _mu_tilde\n",
      "                                                 :mu_tilde(_phi,_F,_x,_y,_dy),\n",
      "                                                dprint(4,\"mu_tilde=\",\n",
      "                                                       _mu_tilde),\n",
      "                                                if _mu_tilde # false\n",
      "                                                    then (\n",
      "                                                    _mu\n",
      "                                                     :ratsimp(\n",
      "                                                      subst(\n",
      "                                                       _dy = 'diff(_y,_x),\n",
      "                                                       _F*_mu_tilde)),\n",
      "                                                    dprint(4,\n",
      "                                                           \"integrating factor mu(x,y') = \",\n",
      "                                                           _mu),\n",
      "                                                    for _l in facts() do\n",
      "                                                        if not freeof(_dy,_l)\n",
      "                                                            then forget(\n",
      "                                                            subst(\n",
      "                                                             'diff(_y,_x)\n",
      "                                                               = _dy,_l)),\n",
      "                                                    return(_mu))\n",
      "                                                    else dprint(4,\n",
      "                                                                \"no integrating factor of this form, mu_tilde(x) depends on y or dy\")))\n",
      "                                      else dprint(5,\"do nothing\"))\n",
      "                            else dprint(5,\"do nothing\"),\n",
      "                        dprint(4,\"***    case C \"),_gamma:diff(_phi,_y),\n",
      "                        dprint(5,\"gamma = \",_gamma),_gamma_y:diff(_gamma,_y),\n",
      "                        dprint(5,\"gamma_y = \",_gamma_y),\n",
      "                        if _gamma # 0\n",
      "                            then (_expr:ratsimp(diff(_gamma_y/_gamma,_dy)),\n",
      "                                  dprint(5,\"expr = \",_expr),\n",
      "                                  if _expr = 0 and _gamma_y # 0\n",
      "                                      then (\n",
      "                                      dprint(4,\n",
      "                                             \"we need the factors of gamma depending on y but not on y' itself\"),\n",
      "                                      dprint(5,\"factors = \",\n",
      "                                             factor_list(_gamma)),\n",
      "                                      _W\n",
      "                                       :sublist(factor_list(_gamma),\n",
      "                                                lambda([_xx],\n",
      "                                                       freeof(_dy,_xx)\n",
      "                                                         and not freeof(\n",
      "                                                         _y,_xx))),\n",
      "                                      dprint(5,\"W = \",_W),_W:apply(\"*\",_W),\n",
      "                                      dprint(5,\"W = \",_W),\n",
      "                                      if \n",
      "                                       ratsimp(\n",
      "                                        diff(diff(log(_W),_y),_x)\n",
      "                                         *diff(diff(log(_W),_y),_y))\n",
      "                                         = 0\n",
      "                                        then dprint(2,\n",
      "                                                    \"criterion for w not met in case C\")\n",
      "                                        else (_H:diff(log(_W),_y),\n",
      "                                              dprint(5,\"H = \",_H),\n",
      "                                              if ratsimp(diff(_H,_y)) # 0\n",
      "                                                  then (\n",
      "                                                  _p_prime\n",
      "                                                   :ratsimp(\n",
      "                                                    diff(_H,_x)/diff(_H,_y)),\n",
      "                                                  dprint(5,\"p_prime = \",\n",
      "                                                         _p_prime),\n",
      "                                                  _F\n",
      "                                                   :((_p_prime+_dy)*_W)\n",
      "                                                    /_gamma,_F:ratsimp(_F),\n",
      "                                                  dprint(5,\"F = \",_F),\n",
      "                                                  _mu_tilde\n",
      "                                                   :mu_tilde(_phi,_F,_x,_y,\n",
      "                                                             _dy),\n",
      "                                                  dprint(5,\"mu_tilde=\",\n",
      "                                                         _mu_tilde),\n",
      "                                                  if _mu_tilde # false\n",
      "                                                      then (\n",
      "                                                      _mu\n",
      "                                                       :ratsimp(\n",
      "                                                        subst(\n",
      "                                                         _dy = 'diff(_y,_x),\n",
      "                                                         _F*_mu_tilde)),\n",
      "                                                      dprint(4,\n",
      "                                                             \"integrating factor mu(x,y') = \",\n",
      "                                                             _mu),\n",
      "                                                      for _l in facts() do\n",
      "                                                          if \n",
      "                                                          not freeof(_dy,_l)\n",
      "                                                           then forget(\n",
      "                                                           subst(\n",
      "                                                            'diff(_y,_x)\n",
      "                                                              = _dy,_l)),\n",
      "                                                      return(_mu))\n",
      "                                                      else dprint(\n",
      "                                                      4,\n",
      "                                                      \"no integrating factor of this form, mu_tilde(x) depends on y or dy\")))))\n",
      "                            else dprint(5,\"gamma=0\"),\n",
      "                        dprint(4,\"***    case D \"),\n",
      "                        _gamma:ratsimp(diff(_phi,_y)),\n",
      "                        dprint(5,\"gamma = \",_gamma),\n",
      "                        if ratsimp(diff(_gamma,_y)) = 0\n",
      "                            then (_Psi:ratsimp(ratexpand(_phi/_gamma-_y)),\n",
      "                                  _W:sublist(factor_list(_gamma),\n",
      "                                             lambda([_xx],\n",
      "                                                    freeof(_dy,_xx)\n",
      "                                                      and not freeof(\n",
      "                                                      _y,_xx))),\n",
      "                                  _W:apply(\"*\",_W),_H:diff(log(_W),_y),_H:0,\n",
      "                                  if _H = 0\n",
      "                                      then (_Lambda:1/_gamma,\n",
      "                                            _Lambda_yp\n",
      "                                             :ratsimp(\n",
      "                                              ratexpand(diff(_Lambda,_dy))),\n",
      "                                            _Lambda_x\n",
      "                                             :ratsimp(\n",
      "                                              ratexpand(diff(_Lambda,_x))),\n",
      "                                            _Psi_x\n",
      "                                             :ratsimp(\n",
      "                                              ratexpand(diff(_Psi,_x))),\n",
      "                                            _Psi_dy\n",
      "                                             :ratsimp(\n",
      "                                              ratexpand(diff(_Psi,_dy))),\n",
      "                                            if _Lambda_yp # 0\n",
      "                                                then (\n",
      "                                                _ddp\n",
      "                                                 :(-(2*_Psi_dy+_Lambda_x\n",
      "                                                              +(diff(\n",
      "                                                               _Lambda_yp,_x)\n",
      "                                                               +diff(_Psi_dy,\n",
      "                                                                     _dy))\n",
      "                                                               *(_dy+_dp)))\n",
      "                                                  /_Lambda_yp,\n",
      "                                                _ddp:ratsimp(ratexpand(_ddp)),\n",
      "                                                if not freeof(_dy,_ddp)\n",
      "                                                    then dprint(4,\n",
      "                                                                \"not free of dY\")\n",
      "                                                    else (_dddp:diff(_ddp,_x),\n",
      "                                                          _eq1\n",
      "                                                           :ratexpand(\n",
      "                                                            _Lambda*_dddp),\n",
      "                                                          _eq1\n",
      "                                                           :_eq1\n",
      "                                                            +ratexpand(\n",
      "                                                             (diff(_Lambda_x,\n",
      "                                                                   _x)\n",
      "                                                              +diff(_Psi_dy,\n",
      "                                                                    _x))\n",
      "                                                              *(_dy+_dp)),\n",
      "                                                          _eq1\n",
      "                                                           :_eq1\n",
      "                                                            +ratexpand(\n",
      "                                                             (_Lambda_x\n",
      "                                                              +_Psi_dy)\n",
      "                                                              *_ddp),\n",
      "                                                          _eq1\n",
      "                                                           :_eq1\n",
      "                                                            +ratexpand(\n",
      "                                                             _Psi_x),\n",
      "                                                          _eq1:_eq1 = _dp,\n",
      "                                                          _sol\n",
      "                                                           :solve(_eq1,_dp),\n",
      "                                                          _dp:rhs(_sol[1]),\n",
      "                                                          _F\n",
      "                                                           :((_dp+_dy)*_W)\n",
      "                                                            /_gamma,\n",
      "                                                          _mu_tilde\n",
      "                                                           :mu_tilde(\n",
      "                                                            _phi,_F,_x,_y,\n",
      "                                                            _dy),\n",
      "                                                          if _mu_tilde # false\n",
      "                                                              then (\n",
      "                                                              _mu\n",
      "                                                               :subst(\n",
      "                                                                _dy\n",
      "                                                                  = 'diff(\n",
      "                                                                  _y,_x),\n",
      "                                                                _F*_mu_tilde),\n",
      "                                                              _mu\n",
      "                                                               :ratsimp(_mu),\n",
      "                                                              dprint(4,\n",
      "                                                                     \"integrating factor mu(x,y') = \",\n",
      "                                                                     _mu),\n",
      "                                                              for _l in\n",
      "                                                                  facts() do\n",
      "                                                                  if \n",
      "                                                                  not freeof(\n",
      "                                                                   _dy,_l)\n",
      "                                                                   then forget(\n",
      "                                                                   subst(\n",
      "                                                                    'diff(\n",
      "                                                                     _y,_x)\n",
      "                                                                      = _dy,\n",
      "                                                                    _l)),\n",
      "                                                              return(_mu))\n",
      "                                                              else dprint(\n",
      "                                                              4,\n",
      "                                                              \"no integrating factor of this form, mu_tilde(x) depends on y or dy\")))\n",
      "                                                else (\n",
      "                                                dprint(5,\"psi_dy=\",_Psi_dy),\n",
      "                                                if _Psi_dy # 0\n",
      "                                                    then (\n",
      "                                                    _dp\n",
      "                                                     :((-2)*_Psi_dy-_Lambda_x)\n",
      "                                                      /diff(_Psi_dy,_dy)\n",
      "                                                      -_dy,_dp:ratsimp(_dp),\n",
      "                                                    if freeof(_y,_dy,_dp)\n",
      "                                                        then (\n",
      "                                                        _F\n",
      "                                                         :((_dp+_dy)*_W)\n",
      "                                                          /_gamma,\n",
      "                                                        _mu_tilde\n",
      "                                                         :mu_tilde(_phi,_F,_x,\n",
      "                                                                   _y,_dy),\n",
      "                                                        if _mu_tilde # false\n",
      "                                                            then (\n",
      "                                                            _mu\n",
      "                                                             :subst(\n",
      "                                                              _dy\n",
      "                                                                = 'diff(\n",
      "                                                                _y,_x),\n",
      "                                                              _F*_mu_tilde),\n",
      "                                                            _mu:ratsimp(_mu),\n",
      "                                                            dprint(4,\n",
      "                                                                   \"integrating factor mu(x,y') = \",\n",
      "                                                                   _mu),\n",
      "                                                            for _l in facts()\n",
      "                                                                do\n",
      "                                                                if \n",
      "                                                                not freeof(\n",
      "                                                                 _dy,_l)\n",
      "                                                                 then forget(\n",
      "                                                                 subst(\n",
      "                                                                  'diff(_y,_x)\n",
      "                                                                    = _dy,\n",
      "                                                                  _l)),\n",
      "                                                            return(_mu))\n",
      "                                                            else dprint(\n",
      "                                                            4,\n",
      "                                                            \"no integrating factor of this form, mu_tilde(x) depends on y or dy\")))\n",
      "                                                    else dprint(1,\n",
      "                                                                \"warning: input ode is actually a linear second order ode. use other methods...\"))))\n",
      "                            else dprint(4,\"H # 0, case does not apply\"),\n",
      "                        dprint(4,\"***    case E \"),\n",
      "                        _gamma:ratsimp(diff(_phi,_y)),\n",
      "                        _gamma_y:ratsimp(diff(_gamma,_y)),\n",
      "                        _gamma_yy:ratsimp(diff(_gamma,_y,2)),\n",
      "                        _C1:ratsimp(_gamma_y/_gamma),\n",
      "                        _W:sublist(factor_list(_gamma),\n",
      "                                   lambda([_xx],\n",
      "                                          freeof(_dy,_xx)\n",
      "                                            and not freeof(_y,_xx))),\n",
      "                        _W:apply(\"*\",_W),_H:diff(log(_W),_y),\n",
      "                        dprint(5,\"_W = \",_W),dprint(5,\"_H = \",_H),\n",
      "                        if _H # 0 and diff(_H,_y) = 0\n",
      "                            then (dprint(5,\"H#0 and H_y=0\"),\n",
      "                                  _Lambda:(_C1^2*exp(_y*_C1))/_gamma,\n",
      "                                  _Lambda_x:diff(_Lambda,_x),\n",
      "                                  _Lambda_dy:diff(_Lambda,_dy),\n",
      "                                  _Lambda_xdy:diff(_Lambda_dy,_x),\n",
      "                                  _Psi:ratsimp(_phi*_Lambda-_C1*exp(_y*_C1)),\n",
      "                                  dprint(5,\"psi = \",_Psi),\n",
      "                                  _Psi_dy:diff(_Psi,_dy),\n",
      "                                  _Psi_dydy:diff(_Psi_dy,_dy),\n",
      "                                  _C1_Lambda:2*_Psi_dydy,\n",
      "                                  _C1_Lambda_dy:diff(_C1_Lambda,_dy),\n",
      "                                  _eq_283\n",
      "                                   :(_ddp+_dp^2*_C1)*_Lambda_dy\n",
      "                                    +_dp\n",
      "                                     *(_dy*_Lambda_dy*_C1+_Lambda*_C1\n",
      "                                                         +_Lambda_xdy\n",
      "                                                         +_Psi_dydy)+2*_Psi_dy\n",
      "                                    +_Lambda_x+_dy*_Lambda_xdy+_dy*_Psi_dydy\n",
      "                                     = 0,_eq_283:ratsimp(_eq_283),\n",
      "                                  dprint(5,\"eq : \",_eq_283),\n",
      "                                  if _Lambda_dy = 0\n",
      "                                      then (\n",
      "                                      dprint(1,\n",
      "                                             \"warning, never found a test case for this routine! Check your results\"),\n",
      "                                      _dp:solve(_eq_283,_dp))\n",
      "                                      else (_eq:ratsimp(_eq_283/_Lambda_dy),\n",
      "                                            if not freeof(_dy,_eq)\n",
      "                                                then (_deq:diff(_eq,_dy),\n",
      "                                                      _sol:solve(_deq,_dp))\n",
      "                                                else (\n",
      "                                                dprint(4,\n",
      "                                                       \"case F: equation is free of y' \"),\n",
      "                                                _beta:_eq,\n",
      "                                                _gam\n",
      "                                                 :_ddp*_Lambda+_dp*_Lambda_x\n",
      "                                                              +(_dy+_dp)\n",
      "                                                               *_dp*_lambda\n",
      "                                                               *_C1\n",
      "                                                              +(1\n",
      "                                                               +_dp*_Psi_dy),\n",
      "                                                _eq_294\n",
      "                                                 :diff(_gam,_x)+_C_1*_dp*_gam,\n",
      "                                                _sol:solve(_eq_294,_dp)[1],\n",
      "                                                _dp\n",
      "                                                 :solve(subst(_sol,_eq_283),\n",
      "                                                        _dp))),\n",
      "                                  _dp:rhs(_sol[1]),_F:((_dp+_dy)*_W)/_gamma,\n",
      "                                  _mu_tilde:mu_tilde(_phi,_F,_x,_y,_dy),\n",
      "                                  dprint(5,\"mu_tilde=\",_mu_tilde),\n",
      "                                  if _mu_tilde # false\n",
      "                                      then (\n",
      "                                      _mu\n",
      "                                       :ratsimp(\n",
      "                                        subst(_dy = 'diff(_y,_x),\n",
      "                                              _F*_mu_tilde)),\n",
      "                                      dprint(4,\n",
      "                                             \"integrating factor mu(x,y') = \",\n",
      "                                             _mu),\n",
      "                                      for _l in facts() do\n",
      "                                          if not freeof(_dy,_l)\n",
      "                                              then forget(\n",
      "                                              subst('diff(_y,_x) = _dy,_l)),\n",
      "                                      return(_mu))\n",
      "                                      else dprint(4,\n",
      "                                                  \"no integrating factor of this form, mu_tilde(x) depends on y or dy\")),\n",
      "                        dprint(5,\"no integrating factor found\"),return(false))\n",
      "(%i9) mu_tilde(_phi,_F,_x,_y,_dy):=block([_mu_tilde,_phi_y,_phi_1,_phi_2],\n",
      "               _phi_y:diff(_phi,_y),\n",
      "               _phi_1:ratsimp(_phi_y*_F-_dy*diff(_phi_y*_F,_dy)),\n",
      "               _phi_2:ratsimp(diff(_phi_y*_F,_dy)),\n",
      "               _mu_tilde:exp(integrate(ratsimp(\n",
      "                                        (diff(_phi_1,_y)-diff(_phi_2,_x))\n",
      "                                         /_phi_2),_x)),\n",
      "               if freeof(_y,_mu_tilde) and freeof(_dy,_mu_tilde)\n",
      "                   then return(_mu_tilde),return(false))\n",
      "(%i10) factor_list(ex):=if mapatom(ex) then [ex]\n",
      "                    else block([fex:factor(ex),inflag:true],\n",
      "                               if mapatom(fex) or op(fex) # \"*\" then [fex]\n",
      "                                   else args(fex))\n",
      "(%i11) dprint(flag,[expr])::=if flag <= DEBUGFLAG\n",
      "               then buildq([expr],print(splice(expr)))\n",
      "(%o11) dprint(flag, [expr]) ::= if flag <= DEBUGFLAG\n",
      "                                       then buildq([expr], print(splice(expr)))\n",
      "(%i12) constant_factors(_expr,_varlist):=block(\n",
      "                        [inflag:true,_constantfactors:1,_oldratvars],\n",
      "                        if not listp(_varlist) then _varlist:[_varlist],\n",
      "                        _oldratvars:ratvars,ratvars:_varlist,\n",
      "                        _expr:ratsimp(_expr),\n",
      "                        if lfreeof(_varlist,_expr) then _constantfactors:_expr\n",
      "                            else (if not mapatom(_expr) and op(_expr) = \"*\"\n",
      "                                      then _constantfactors\n",
      "                                      :xreduce(\"*\",\n",
      "                                               listify(\n",
      "                                                subset(setify(args(_expr)),\n",
      "                                                       lambda([_u],\n",
      "                                                              lfreeof(\n",
      "                                                               _varlist,\n",
      "                                                               _u)))))),\n",
      "                        ratvars:_oldratvars,return(_constantfactors))\n",
      "(%i13) odeType(_expr,_y,_x):=block([_rhs,_df,_df_x,_df_y,_ode],\n",
      "               dprint(4,\"odetype: ode = \",_expr),\n",
      "               if freeof('diff,_expr)\n",
      "                   then (dprint(0,\n",
      "                                \"Error: no differential operator (diff) found\"),\n",
      "                         return(false)),\n",
      "               if freeof(\"=\",_expr)\n",
      "                   then (_ode:_expr = 0,\n",
      "                         dprint(2,\n",
      "                                \"Warning: no equal sign found! Assuming the input equals zero: \",\n",
      "                                _ode)) else _ode:lhs(_expr)-rhs(_expr),\n",
      "               if derivdegree(_ode,_y,_x) # 2\n",
      "                   then (dprint(0,\"No second order ODE found!\"),\n",
      "                         return(false)),_ode:solve(_ode,'diff(_y,_x,2)),\n",
      "               if not listp(_ode)\n",
      "                   then (dprint(0,\n",
      "                                \"Error: could not write ODE explicitly in the form dy/dx = f(x,y) \",\n",
      "                                _ode),return(false)),\n",
      "               if length(_ode) > 1\n",
      "                   then dprint(1,\n",
      "                               \"warning: writing the ODE in the explicit form dy/dx=f(x,y) leads to multiple ODEs, keeping the first of the list: \",\n",
      "                               _ode),_ode:_ode[1],\n",
      "               if lhs(_ode) # 'diff(_y,_x,2)\n",
      "                   then (dprint(0,\n",
      "                                \"could not write ODE explicitly in the form dy/dx = f(x,y) \",\n",
      "                                _ode),return(false)),dprint(3,\"ODE:\",_ode),\n",
      "               dprint(3,\"x (independent variable) : \",_x),\n",
      "               dprint(3,\"y (dependent variable) : \",_y),return(_ode))\n",
      "(%i14) Dt_A(_expr,_phi,_x,_y,_dy):=block([_fx,_fy,_fdy,_A],\n",
      "            _fx:ratsimp(diff(_expr,_x)),_fy:ratsimp(diff(_expr,_y)),\n",
      "            _fdy:ratsimp(diff(_expr,_dy)),_A:_fx+_dy*_fy+_phi*_fdy,\n",
      "            _A:ratsimp(_A),return(_A))\n",
      "(%i15) lambdaSymmetry(_expr,_mu,_y,_x):=block([_lambda,_phi_dy,_phi,_ode],\n",
      "                      _ode:odeType(_expr,_y,_x),\n",
      "                      _phi:subst(['diff(_y,_x) = _dy],rhs(_ode)),\n",
      "                      _mu:subst(['diff(_y,_x) = _dy],_mu),\n",
      "                      _phi_dy:diff(_phi,_dy),\n",
      "                      _lambda:Dt_A(_mu,_phi,_x,_y,_dy)/_mu+_phi_dy,\n",
      "                      _lambda:ratsimp(_lambda),\n",
      "                      _lambda:subst(_dy = 'diff(_y,_x),_lambda),\n",
      "                      return(_lambda))\n",
      "(%i16) isIntegratingFactor(_mu,_expr,_y,_x):=block([_ode,_phi,_A,_B,_isMu],\n",
      "                           _ode:odeType(_expr,_y,_x),\n",
      "                           _phi:subst(['diff(_y,_x) = _dy],rhs(_ode)),\n",
      "                           _mu:subst(['diff(_y,_x) = _dy],_mu),\n",
      "                           _isMu:diff(_mu,_y)\n",
      "                                 +diff(Dt_A(_mu,_phi,_x,_y,_dy)\n",
      "                                        +_mu*diff(_phi,_dy),_dy),\n",
      "                           _isMu:ratsimp(_isMu),dprint(5,\"ismu = \",_isMu),\n",
      "                           return(is(_isMu = 0)))\n",
      "(%i17) isExact(_expr,_y,_x):=block(\n",
      "               [_dy,_ddy,_dddy,_ode,_phi,_phi_y,_phi_dy,_phi_ddy],\n",
      "               depends(_y,_x),depends(_dy,_x),depends(_ddy,_x),\n",
      "               depends(_dddy,_x),depends(_ddddy,_x),\n",
      "               _phi:subst(['diff(_y,_x) = _dy,'diff(_y,_x,2) = _ddy],\n",
      "                          lhs(_expr)-rhs(_expr)),\n",
      "               dprint(5,\"testing exactness for \",_phi),_phi_y:diff(_phi,_y),\n",
      "               _phi_dy:diff(_phi,_dy),_phi_ddy:diff(_phi,_ddy),\n",
      "               _expr:_phi_y-diff(_phi_dy,_x)+diff(_phi_ddy,_x,2),\n",
      "               dprint(5,\"expr = \",_expr),\n",
      "               _expr:subst(['diff(_y,_x) = _dy,'diff(_y,_x,2) = _ddy,\n",
      "                            'diff(_y,_x,3) = _dddy,'diff(_dy,_x) = _ddy,\n",
      "                            'diff(_dy,_x,2) = _dddy,'diff(_ddy,_x) = _dddy],\n",
      "                           _expr),dprint(5,\"expr = \",_expr),\n",
      "               _expr:ratexpand(_expr),_expr:ratsimp(_expr),\n",
      "               apply('remove,[_y,'dependency]),\n",
      "               apply('remove,[_dy,'dependency]),\n",
      "               apply('remove,[_ddy,'dependency]),\n",
      "               apply('remove,[_dddy,'dependency]),\n",
      "               apply('remove,[_ddddy,'dependency]),return(is(_expr = 0)))\n",
      "(%o17) isExact(_expr, _y, _x) := block([_dy, _ddy, _dddy, _ode, _phi, _phi_y, \n",
      "_phi_dy, _phi_ddy], depends(_y, _x), depends(_dy, _x), depends(_ddy, _x), \n",
      "depends(_dddy, _x), depends(_ddddy, _x), \n",
      "                          2\n",
      "              d_y        d _y\n",
      "_phi : subst([--- = _dy, ---- = _ddy], lhs(_expr) - rhs(_expr)), \n",
      "              d_x           2\n",
      "                         d_x\n",
      "dprint(5, \"testing exactness for \", _phi), _phi_y : diff(_phi, _y), \n",
      "_phi_dy : diff(_phi, _dy), _phi_ddy : diff(_phi, _ddy), \n",
      "_expr : _phi_y - diff(_phi_dy, _x) + diff(_phi_ddy, _x, 2), \n",
      "                                                        2\n",
      "                                            d_y        d _y\n",
      "dprint(5, \"expr = \", _expr), _expr : subst([--- = _dy, ---- = _ddy, \n",
      "                                            d_x           2\n",
      "                                                       d_x\n",
      " 3                          2\n",
      "d _y          d_dy         d _dy          d_ddy\n",
      "---- = _dddy, ---- = _ddy, ----- = _dddy, ----- = _dddy], _expr), \n",
      "   3          d_x             2            d_x\n",
      "d_x                        d_x\n",
      "dprint(5, \"expr = \", _expr), _expr : ratexpand(_expr), _expr : ratsimp(_expr), \n",
      "apply('remove, [_y, 'dependency]), apply('remove, [_dy, 'dependency]), \n",
      "apply('remove, [_ddy, 'dependency]), apply('remove, [_dddy, 'dependency]), \n",
      "apply('remove, [_ddddy, 'dependency]), return(is(_expr = 0)))\n",
      "(%i18) isFirstIntegral(_I,_expr,_y,_x):=block([_phi,_DI,_FI],\n",
      "                       _ode:subst(['diff(_y,_x) = _dy,'diff(_y,_x,2) = _ddy],\n",
      "                                  lhs(_expr)-rhs(_expr)),\n",
      "                       dprint(5,\"ode = \",_ode),\n",
      "                       _FI:subst(['diff(_y,_x) = _dy,'diff(_y,_x,2) = _ddy],\n",
      "                                 _I),_FI:lhs(_FI)-rhs(_FI),\n",
      "                       dprint(5,\"I = \",_FI),dprint(5,\"_dy = \",_dy),\n",
      "                       dprint(5,\"_ddy = \",_ddy),\n",
      "                       dprint(5,\"dFdx = \",diff(_FI,_x)),\n",
      "                       dprint(5,\"dFdy = \",diff(_FI,_y)),\n",
      "                       dprint(5,\"dFddy = \",_ddy*diff(_FI,_dy)),\n",
      "                       _DI:ratsimp(diff(_FI,_x)+_dy*diff(_FI,_y)\n",
      "                                               +_ddy*diff(_FI,_dy)),\n",
      "                       dprint(5,\"DI = \",_DI),\n",
      "                       dprint(3,\"is first integral: DI-ode = \",\n",
      "                              ratsimp(_DI-_ode)),\n",
      "                       return(is(ratsimp(_DI-_ode) = 0)))\n",
      "(%i19) isLambdaSymmetry(_lambda,_expr,_y,_x):=block([],\n",
      "                        _ode:odeType(_expr,_y,_x),\n",
      "                        _phi:subst(['diff(_y,_x) = _dy],rhs(_ode)),\n",
      "                        dprint(5,\"phi = \",_phi),_phi_y:ratsimp(diff(_phi,_y)),\n",
      "                        dprint(5,\"phi_y = \",_phi_y),\n",
      "                        _phi_dy:ratsimp(diff(_phi,_dy)),\n",
      "                        dprint(5,\"phi_dy = \",_phi_dy),\n",
      "                        _lambda:ratsimp(subst(['diff(_y,_x) = _dy],_lambda)),\n",
      "                        dprint(5,\"lambda = \",_lambda),\n",
      "                        _A:Dt_A(_lambda,_phi,_x,_y,_dy),dprint(5,\"A = \",_A),\n",
      "                        _det_eq:_phi_y+_lambda*_phi_dy-_A-_lambda^2,\n",
      "                        dprint(5,\"determining equation = \",_det_eq),\n",
      "                        _det_eq:ratsimp(_det_eq),\n",
      "                        dprint(5,\"determining equation = \",_det_eq),\n",
      "                        _det_eq:subst(['diff(_y,_x) = _dy,\n",
      "                                       'diff(_dy,_x) = _ddy,\n",
      "                                       'diff(_y,_x,2) = _ddy],_det_eq),\n",
      "                        dprint(5,\"determining equation = \",_det_eq),\n",
      "                        _det_eq:ratsimp(_det_eq),\n",
      "                        dprint(3,\"determining equation = \",_det_eq),\n",
      "                        return(is(_det_eq = 0)))\n",
      "(%i20) firstIntegral(_expr,_y,_x):=block(\n",
      "                     [_ode,_lambda,_mu,_isMu,_phi,_dI1,I1,_dI2,_I2,_dI3,_I3,\n",
      "                      _I,_lI,_DI,_ode1],\n",
      "                     if not freeof(\"=\",_expr)\n",
      "                         then _expr:lhs(_expr)-rhs(_expr),\n",
      "                     _ode:odeType(_expr,_y,_x),\n",
      "                     _phi:subst(['diff(_y,_x) = _dy],rhs(_ode)),\n",
      "                     dprint(5,\"phi = \",_phi),_mu:ode2_lie(_expr,_y,_x),\n",
      "                     if _mu = false\n",
      "                         then (dprint(3,\"no integrating factor was found\"),\n",
      "                               return(false)),dprint(5,\"phi = \",_phi),\n",
      "                     dprint(5,\"integrating factor = \",_mu),\n",
      "                     _mu:subst(['diff(_y,_x) = _dy],_mu),\n",
      "                     dprint(3,\"integrating factor = \",_mu),\n",
      "                     _isMu:diff(_mu,_y)+diff(\n",
      "                                        Dt_A(_mu,_phi,_x,_y,_dy)\n",
      "                                         +_mu*diff(_phi,_dy),_dy),\n",
      "                     _isMu:ratsimp(_isMu),dprint(3,\"is mu: \",_isMu),\n",
      "                     dprint(3,\"is mu an integrating factor: \",is(_isMu = 0)),\n",
      "                     _lambda:lambdaSymmetry(_ode,_mu,_y,_x),\n",
      "                     dprint(5,\"lambda symmetry = \",_lambda),\n",
      "                     _lambda:subst(['diff(_y,_x) = _dy,'diff(_dy,_x) = _ddy,\n",
      "                                    'diff(_y,_x,2) = _ddy],_lambda),\n",
      "                     dprint(3,\"lambda symmetry = \",_lambda),\n",
      "                     dprint(3,\"lambda symmetry = \",grind(_lambda)),\n",
      "                     dprint(3,\"is lambda symmetry:\",\n",
      "                            isLambdaSymmetry(_lambda,_ode,_y,_x)),_dI1:_mu,\n",
      "                     dprint(5,\"dI1 = \",_dI1),_I1:integrate(_dI1,_dy),\n",
      "                     dprint(5,\"I1 = \",_I1),_dI2:ratsimp((-_lambda)*_mu),\n",
      "                     dprint(5,\"dI2 = \",_dI2),_I2:integrate(_dI2,_y),\n",
      "                     dprint(5,\"I2 = \",_I2),\n",
      "                     _dI3:ratsimp(_mu*(_lambda*_dy-_phi)),\n",
      "                     dprint(5,\"dI3 = \",_dI3),_I3:integrate(_dI3,_x),\n",
      "                     dprint(5,\"I3 = \",_I3),\n",
      "                     _lI:[if atom(_I1) then _I1\n",
      "                              else (if op(_I1) = \"+\" then args(_I1) else _I1),\n",
      "                          if atom(_I2) then _I2\n",
      "                              else (if op(_I2) = \"+\" then args(_I2) else _I2),\n",
      "                          if atom(_I3) then _I3\n",
      "                              else (if op(_I3) = \"+\" then args(_I3)\n",
      "                                        else _I3)],_lI:unique(flatten(_lI)),\n",
      "                     _I:apply(\"+\",_lI),\n",
      "                     _I:ratsimp(_I)+concat(integration_constant,\n",
      "                                           integration_constant_counter),\n",
      "                     _I:subst(_dy = 'diff(_y,_x),_I),\n",
      "                     dprint(5,\"exact:\",\n",
      "                            isExact(_mu*('diff(_y,_x,2)-_phi),_y,_x)),\n",
      "                     return(_I))\n",
      "(%i21) odeconstruct(_mu,_y,_x):=block([_phi],\n",
      "                    _mu:subst(['diff(_y,_x) = _dy],_mu),\n",
      "                    _phi:(-1/_mu)*diff(integrate(_mu,_dy)+%F(_x,_y),_x),\n",
      "                    _phi:_phi+((-1)/_mu)*_dy\n",
      "                                        *diff(integrate(_mu,_dy)+%F(x,y),_y),\n",
      "                    _phi:ratsimp(subst([_dy = 'diff(_y,_x)],_phi)),\n",
      "                    return('diff(_y,_x,2) = _phi))\n"
     ]
    },
    {
     "data": {
      "text/latex": [
       "$$\\mbox{ /home/nijso/mathematics/maxima\\_files/ode2\\_lie.mac }$$"
      ],
      "text/plain": [
       "\"/home/nijso/mathematics/maxima_files/ode2_lie.mac\""
      ]
     },
     "execution_count": 64,
     "metadata": {},
     "output_type": "execute_result"
    }
   ],
   "source": [
    "batch(\"/home/nijso/mathematics/maxima_files/ode2_lie.mac\");"
   ]
  },
  {
   "cell_type": "markdown",
   "metadata": {},
   "source": [
    "To test our implementation, we use the database of second order nonlinear ordinary differential equations found in the book of Kamke <a href='#ref:kamke'>[3]</a>. These ODEs are defined in chapter 6, and provided as a list in the file kamke6_1.mac "
   ]
  },
  {
   "cell_type": "code",
   "execution_count": 64,
   "metadata": {},
   "outputs": [
    {
     "name": "stdout",
     "output_type": "stream",
     "text": [
      "\n",
      "read and interpret file: /home/nijso/mathematics/maxima_files/kamke6_1.mac\n",
      "(%i22) kamke6:['diff(y,x,2)-y^2,'diff(y,x,2)-6*y^2,'diff(y,x,2)-6*y^2-x,\n",
      "               'diff(y,x,2)-6*y^2+4*y,'diff(y,x,2)+a*y^2+b*x+c,\n",
      "               'diff(y,x,2)-2*y^3+(-y)*x+a,'diff(y,x,2)-a*y^3,\n",
      "               'diff(y,x,2)-2*a^2*y^3+2*a*b*x*y-b,\n",
      "               'diff(y,x,2)+d+b*x*y+c*y+a*y^3,'diff(y,x,2)+d+b*y^2+c*y+a*y^3,\n",
      "               'diff(y,x,2)+a*x^r*y^n,'diff(y,x,2)+(n+1)*a^(2*n)*y^(2*n+1)-y,\n",
      "               'diff(y,x,2)-(a*y^2+b*x*y+c*x^2+d*y+e*x+k)^((-3)/2),\n",
      "               'diff(y,x,2)-exp(y),'diff(y,x,2)+a*exp(x)*y^(1/2),\n",
      "               'diff(y,x,2)+exp(x)*sin(y),'diff(y,x,2)+a*sin(y),\n",
      "               'diff(y,x,2)+a^2*sin(y)+(-b)*sin(x),\n",
      "               'diff(y,x,2)+a^2*sin(y)+(-b)*f(x),\n",
      "               'diff(y,x,2)-x^((-3)/2)*h(y*x^((-1)/2)),\n",
      "               'diff(y,x,2)-3*'diff(y,x)-y^2+(-2)*y,\n",
      "               'diff(y,x,2)-7*'diff(y,x)-y^(3/2)+12*y,\n",
      "               'diff(y,x,2)+5*a*'diff(y,x)+(-6)*y^2+6*a^2*y,\n",
      "               'diff(y,x,2)+3*a*'diff(y,x)+(-2)*y^3+2*a^2*y,\n",
      "               'diff(y,x,2)-((3*n+4)/n)*'diff(y,x)\n",
      "                           +(-(2*(n+1)*(n+2))/n^2)*y*(y^(n/(n+1))-1),\n",
      "               'diff(y,x,2)+a*'diff(y,x)+b*y^n+((a^2-1)/4)*y,\n",
      "               'diff(y,x,2)+a*'diff(y,x)+b*x^r*y^n,\n",
      "               'diff(y,x,2)+a*'diff(y,x)+b*exp(y)+(-2)*a,\n",
      "               'diff(y,x,2)+a*'diff(y,x)+f(x)*sin(y),\n",
      "               'diff(y,x,2)+y*'diff(y,x)-y^3,\n",
      "               'diff(y,x,2)+y*'diff(y,x)-y^3+a*y,\n",
      "               'diff(y,x,2)+(y+3*a)*'diff(y,x)-y^3+a*y^2+2*a^2*y,\n",
      "               'diff(y,x,2)+(y+3*f(x))*'diff(y,x)-y^3+y^2*f(x)\n",
      "                           +y*('diff(f(x),x)+2*f(x)^2),\n",
      "               'diff(y,x,2)+y*'diff(y,x)-y^3\n",
      "                           +(-('diff(f(x),x)/f(x)+f(x)))*(3*'diff(y,x)+y^2)\n",
      "                           +(a*f(x)^2+3*'diff(f(x),x)+3*('diff(f(x),x)/f(x))^2\n",
      "                                     +(-'diff(f(x),x,x))/f(x))\n",
      "                            *y+b*f(x)^3,\n",
      "               'diff(y,x,2)+(y-(3*'diff(f(x),x))/(2*f(x)))*'diff(y,x)-y^3\n",
      "                           +(-'diff(f(x),x)/(2*f(x)))*y^2\n",
      "                           +((f(x)+('diff(f(x),x)/f(x))^2-'diff(f(x),x,x))\n",
      "                            /(2*f(x)))\n",
      "                            *y,\n",
      "               'diff(y,x,2)+2*y*'diff(y,x)+f(x)*'diff(y,x)+'diff(f(x),x)*y,\n",
      "               'diff(y,x,2)+2*y*'diff(y,x)+f(x)*('diff(y,x)+y^2)-g(x),\n",
      "               'diff(y,x,2)+3*y*'diff(y,x)+y^3+f(x)*y-g(x),\n",
      "               'diff(y,x,2)+(3*y+f(x))*'diff(y,x)+y^3+f(x)*y^2,\n",
      "               'diff(y,x,2)-3*y*'diff(y,x)-(3*a*y^2+4*a^2*y+b),\n",
      "               'diff(y,x,2)-(3*y+f(x))*'diff(y,x)+y^3+f(x)*y^2,\n",
      "               'diff(y,x,2)-2*a*y*'diff(y,x)-a,\n",
      "               'diff(y,x,2)+a*y*'diff(y,x)+b*y^3,\n",
      "               'diff(y,x,2)+h(x,y)*'diff(y,x)+j(x,y),\n",
      "               'diff(y,x,2)+a*('diff(y,x))^2+b*y,\n",
      "               'diff(y,x,2)+a*'diff(y,x)*abs('diff(y,x))+b*'diff(y,x)+c*y,\n",
      "               'diff(y,x,2)+a*('diff(y,x))^2+b*'diff(y,x)+c*y,\n",
      "               'diff(y,x,2)+a*('diff(y,x))^2+b*sin(y),\n",
      "               'diff(y,x,2)+a*'diff(y,x)*abs('diff(y,x))+b*sin(y),\n",
      "               'diff(y,x,2)+a*y*('diff(y,x))^2+b*y,\n",
      "               'diff(y,x,2)+h(y)*('diff(y,x))^2+g(x)*'diff(y,x),\n",
      "               'diff(y,x,2)-('diff(h(y),x)/h(y))*('diff(y,x))^2\n",
      "                           +g(x)*'diff(y,x)+f(x)*h(y),\n",
      "               'diff(y,x,2)+((1-'diff(h(y),x))/h(y))*('diff(y,x))^2\n",
      "                           +g(x)*'diff(y,x)+f(x)*h(y),\n",
      "               'diff(y,x,2)+h(y)*('diff(y,x))^2+j(y)*'diff(y,x)+k(y),\n",
      "               'diff(y,x,2)+(('diff(y,x))^2+1)*(h(x,y)*'diff(y,x)+j(x,y)),\n",
      "               'diff(y,x,2)+a*y*(('diff(y,x))^2+1)^2,\n",
      "               'diff(y,x,2)-a*(x*'diff(y,x)-y)^r,\n",
      "               'diff(y,x,2)-k*x^a*y^b*('diff(y,x))^c,\n",
      "               'diff(y,x,2)+('diff(y,x)-y/x)^a*h(x,y),\n",
      "               'diff(y,x,2)-a*sqrt(1+('diff(y,x))^2),\n",
      "               'diff(y,x,2)-a*sqrt(1+('diff(y,x))^2)-b,\n",
      "               'diff(y,x,2)-a*sqrt(b*y^2+('diff(y,x))^2),\n",
      "               'diff(y,x,2)-a*(1+('diff(y,x))^2)^(3/2),\n",
      "               'diff(y,x,2)-2*a*x*(1+('diff(y,x))^2)^(3/2),\n",
      "               'diff(y,x,2)-a*y*(1+('diff(y,x))^2)^(3/2),\n",
      "               'diff(y,x,2)-a*(c+b*x+y)*(1+('diff(y,x))^2)^(3/2),\n",
      "               'diff(y,x,2)+y^3*'diff(y,x)\n",
      "                           +(-y)*'diff(y,x)*sqrt(y^4+4*'diff(y,x)),\n",
      "               'diff(y,x,2)-h('diff(y,x),a*x+b*y),\n",
      "               'diff(y,x,2)-y*h(x,'diff(y,x)/y),\n",
      "               'diff(y,x,2)-x^(n-2)*h(y/x^n,'diff(y,x)/x^(n-1)),\n",
      "               8*'diff(y,x,2)+9*('diff(y,x))^4,\n",
      "               a*'diff(y,x,2)+h('diff(y,x))+c*y,\n",
      "               x*'diff(y,x,2)+2*'diff(y,x)+(-x)*y^n,\n",
      "               x*'diff(y,x,2)+2*'diff(y,x)+a*x^m*y^n,\n",
      "               x*'diff(y,x,2)+2*'diff(y,x)+x*exp(y),\n",
      "               x*'diff(y,x,2)+a*'diff(y,x)+b*x*exp(y),\n",
      "               x*'diff(y,x,2)+a*'diff(y,x)+b*x^(5-2*a)*exp(y),\n",
      "               x*'diff(y,x,2)-(1-y)*'diff(y,x),\n",
      "               x*'diff(y,x,2)-x^2*('diff(y,x))^2+2*'diff(y,x)+y^2,\n",
      "               x*'diff(y,x,2)+a*(x*'diff(y,x)-y)^2-b,\n",
      "               2*x*'diff(y,x,2)+('diff(y,x))^3+'diff(y,x),\n",
      "               x^2*'diff(y,x,2)-a*(y^n-y),x^2*'diff(y,x,2)+a*(exp(y)-1),\n",
      "               x^2*'diff(y,x,2)-(2*a+b-1)*x*'diff(y,x)\n",
      "                               +(c^2*b^2*x^(2*b)+a*(a+b))*y,\n",
      "               x^2*'diff(y,x,2)+(1+a)*x*'diff(y,x)\n",
      "                               +(-x^k)*h(x^k*y,x*'diff(y,x)+k*y),\n",
      "               x^2*'diff(y,x,2)+a*(x*'diff(y,x)-y)^2+(-b)*x^2,\n",
      "               x^2*'diff(y,x,2)+a*y*('diff(y,x))^2+b*x,\n",
      "               x^2*'diff(y,x,2)-sqrt(a*x^2*('diff(y,x))^2+b*y^2),\n",
      "               (1+x^2)*'diff(y,x,2)+('diff(y,x))^2+1,\n",
      "               4*x^2*'diff(y,x,2)-x^4*('diff(y,x))^2+4*y,\n",
      "               9*x^2*'diff(y,x,2)+a*y^3+2*y,\n",
      "               x^3*('diff(y,x,2)+y*'diff(y,x)-y^3)+12*x*y+24,\n",
      "               x^3*'diff(y,x,2)-a*(x*'diff(y,x)-y)^2,\n",
      "               2*x^3*'diff(y,x,2)+x^2*(9+2*x*y)*'diff(y,x)+b\n",
      "                                 +x*y*(a+3*x*y+(-2)*x^2*y^2),\n",
      "               2*((-x^k)+4*x^3)*('diff(y,x,2)+y*'diff(y,x)-y^3)\n",
      "                -(k*x^(k-1)-12*x^2)*(3*'diff(y,x)+y^2)+a*x*y+b,\n",
      "               x^4*'diff(y,x,2)+a^2*y^n,\n",
      "               x^4*'diff(y,x,2)-x*(x^2+2*y)*'diff(y,x)+4*y^2,\n",
      "               x^4*'diff(y,x,2)-x^2*(x+'diff(y,x))*'diff(y,x)+4*y^2,\n",
      "               x^4*'diff(y,x,2)+(x*'diff(y,x)-y)^3,\n",
      "               'diff(y,x,2)*x^(1/2)-y^(3/2),\n",
      "               (c+b*x+a*x^2)^(3/2)*'diff(y,x,2)-F(y/(c+b*x+a*x^2)^(1/2)),\n",
      "               x^(n/(n+1))*'diff(y,x,2)-y^((2*n+1)/(n+1)),\n",
      "               f(x)^2*'diff(y,x,2)+f(x)*'diff(f(x),x)*'diff(y,x)\n",
      "                                  -h(y,f(x)*'diff(y,x)),'diff(y,x,2)*y-a,\n",
      "               'diff(y,x,2)*y-a*x,'diff(y,x,2)*y-a*x^2,\n",
      "               'diff(y,x,2)*y+('diff(y,x))^2-a,'diff(y,x,2)*y+y^2+(-a)*x-b,\n",
      "               'diff(y,x,2)*y+('diff(y,x))^2-'diff(y,x),\n",
      "               'diff(y,x,2)*y-('diff(y,x))^2+1,\n",
      "               'diff(y,x,2)*y-('diff(y,x))^2-1,\n",
      "               'diff(y,x,2)*y-('diff(y,x))^2+exp(x)*y*(c*y^2+d)\n",
      "                             +exp(2*x)*(b+a*y^4),\n",
      "               'diff(y,x,2)*y-('diff(y,x))^2+(-y^2)*ln(y),\n",
      "               'diff(y,x,2)*y-('diff(y,x))^2-'diff(y,x)+f(x)*y^3\n",
      "                             +y^2*'diff('diff(f(x),x)/f(x),x),\n",
      "               'diff(y,x,2)*y-('diff(y,x))^2+f(x)*'diff(y,x)\n",
      "                             +(-'diff(f(x),x))*y-y^3,\n",
      "               'diff(y,x,2)*y-('diff(y,x))^2+'diff(f(x),x)*'diff(y,x)\n",
      "                             +(-'diff(f(x),x,x))*y+f(x)*y^3-y^4,\n",
      "               'diff(y,x,2)*y-('diff(y,x))^2+a*y*'diff(y,x)+b*y^2,\n",
      "               'diff(y,x,2)*y-('diff(y,x))^2+a*y*'diff(y,x)+(-2)*a*y^2+b*y^3,\n",
      "               'diff(y,x,2)*y-('diff(y,x))^2+(-(a*y-1))*'diff(y,x)+2*a^2*y^2\n",
      "                             +(-2)*b^2*y^3+a*y,\n",
      "               'diff(y,x,2)*y-('diff(y,x))^2+(a*y-1)*'diff(y,x)\n",
      "                             +(-y)*(y+1)*(b^2*y^2-a^2),\n",
      "               'diff(y,x,2)*y-('diff(y,x))^2+(tan(x)+cot(x))*y*'diff(y,x)\n",
      "                             +(cos(x)^2-n^2*cot(x)^2)*y^2*ln(y),\n",
      "               'diff(y,x,2)*y-('diff(y,x))^2+(-f(x))*y*'diff(y,x)+(-g(x))*y^2,\n",
      "               'diff(y,x,2)*y-('diff(y,x))^2+(g(x)+f(x)*y^2)*'diff(y,x)\n",
      "                             +(-y)*('diff(g(x),x)-'diff(f(x),x)*y^2),\n",
      "               'diff(y,x,2)*y-3*('diff(y,x))^2+3*y*'diff(y,x)-y^2,\n",
      "               'diff(y,x,2)*y-a*('diff(y,x))^2,\n",
      "               'diff(y,x,2)*y+a*(('diff(y,x))^2+1),\n",
      "               'diff(y,x,2)*y+a*('diff(y,x))^2+b*y^3,\n",
      "               'diff(y,x,2)*y+a*('diff(y,x))^2+b*y*'diff(y,x)+c*y^2\n",
      "                             +d*y^((-a)+1),\n",
      "               'diff(y,x,2)*y+a*('diff(y,x))^2+f(x)*y*'diff(y,x)+g(x)*y^2,\n",
      "               'diff(y,x,2)*y+a*('diff(y,x))^2+b*y^2*'diff(y,x)+c*y^4,\n",
      "               'diff(y,x,2)*y-((a-1)/a)*('diff(y,x))^2+(-f(x))*y^2*'diff(y,x)\n",
      "                             +(a/(a+2)^2)*f(x)^2*y^4\n",
      "                             +(-a/(a+2))*'diff(f(x),x)*y^3,\n",
      "               'diff(y,x,2)*y-(('diff(y,x))^2+1)\n",
      "                             +(-2)*a*y*(('diff(y,x))^2+1)^(3/2),\n",
      "               'diff(y,x,2)*(x+y)+('diff(y,x))^2-'diff(y,x),\n",
      "               'diff(y,x,2)*(x-y)+2*'diff(y,x)*(1+'diff(y,x)),\n",
      "               'diff(y,x,2)*(x-y)-(1+'diff(y,x))*(1+('diff(y,x))^2),\n",
      "               'diff(y,x,2)*(x-y)-h('diff(y,x)),\n",
      "               2*y*'diff(y,x,2)+('diff(y,x))^2+1,\n",
      "               2*y*'diff(y,x,2)-('diff(y,x))^2+a,\n",
      "               2*y*'diff(y,x,2)-('diff(y,x))^2+f(x)*y^2+a,\n",
      "               2*y*'diff(y,x,2)-('diff(y,x))^2+(-8)*y^3,\n",
      "               2*y*'diff(y,x,2)-('diff(y,x))^2+(-8)*y^3+(-4)*y^2,\n",
      "               2*y*'diff(y,x,2)-('diff(y,x))^2+(-4)*(x+2*y)*y^2,\n",
      "               2*y*'diff(y,x,2)-('diff(y,x))^2+(b+a*y)*y^2,\n",
      "               2*y*'diff(y,x,2)-('diff(y,x))^2+1+2*x*y^2+a*y^3,\n",
      "               2*y*'diff(y,x,2)-('diff(y,x))^2+(a*y+b*x)*y^2,\n",
      "               2*y*'diff(y,x,2)-('diff(y,x))^2+(-3)*y^4,\n",
      "               2*y*'diff(y,x,2)-('diff(y,x))^2+b+(-4)*(x^2+a)*y^2+(-8)*x*y^3\n",
      "                               +(-3)*y^4,\n",
      "               2*y*'diff(y,x,2)-('diff(y,x))^2+3*f(x)*y*'diff(y,x)\n",
      "                               +2*('diff(f(x),x)+f(x)^2)*y^2+(-8)*y^3,\n",
      "               2*y*'diff(y,x,2)-('diff(y,x))^2+4*y^2*'diff(y,x)+1+f(x)*y^2\n",
      "                               +y^4,2*y*'diff(y,x,2)-3*('diff(y,x))^2,\n",
      "               2*y*'diff(y,x,2)-3*('diff(y,x))^2+(-4)*y^2,\n",
      "               2*y*'diff(y,x,2)-3*('diff(y,x))^2+f(x)*y^2,\n",
      "               2*y*'diff(y,x,2)-6*('diff(y,x))^2+(1+a*y^3)*y^2,\n",
      "               2*y*'diff(y,x,2)-('diff(y,x))^2*(1+('diff(y,x))^2),\n",
      "               2*(y-a)*'diff(y,x,2)+(1+('diff(y,x))^2),\n",
      "               3*y*'diff(y,x,2)-2*('diff(y,x))^2+(-a)*x^2+(-b)*x-c,\n",
      "               3*y*'diff(y,x,2)-5*('diff(y,x))^2,\n",
      "               4*y*'diff(y,x,2)-3*('diff(y,x))^2+4*y,\n",
      "               4*y*'diff(y,x,2)-3*('diff(y,x))^2+(-12)*y^3,\n",
      "               4*y*'diff(y,x,2)-3*('diff(y,x))^2+a*y^3+b*y^2+c*y,\n",
      "               4*y*'diff(y,x,2)-3*('diff(y,x))^2\n",
      "                               +(6*y^2-2*('diff(f(x),x)/f(x))*y)*'diff(y,x)\n",
      "                               +y^4+(-2)*('diff(y,x)/y)*y^3+g(x)*y^2+f(x)*y,\n",
      "               4*y*'diff(y,x,2)-5*('diff(y,x))^2+a*y^2,\n",
      "               12*y*'diff(y,x,2)-15*('diff(y,x))^2+8*y^3,\n",
      "               n*y*'diff(y,x,2)-(n-1)*('diff(y,x))^2,\n",
      "               a*y*'diff(y,x,2)+b*('diff(y,x))^2+c4*y^4+c3*y^3+c2*y^2+c1*y+c0,\n",
      "               a*y*'diff(y,x,2)+b*('diff(y,x))^2\n",
      "                               +((-y)*'diff(y,x))/sqrt(x^2+c^2),\n",
      "               a*y*'diff(y,x,2)-(a-1)*('diff(y,x))^2+(a+2)*f(x)*y^2*'diff(y,x)\n",
      "                               +f(x)^2*y^4+a*'diff(f(x),x)*y^3,\n",
      "               (a*y+b)*'diff(y,x,2)+c*('diff(y,x))^2,\n",
      "               x*y*'diff(y,x,2)+x*('diff(y,x))^2+(-y)*'diff(y,x),\n",
      "               x*y*'diff(y,x,2)+x*('diff(y,x))^2+a*y*'diff(y,x)+f(x),\n",
      "               x*y*'diff(y,x,2)-x*('diff(y,x))^2+y*'diff(y,x)+x*(d+a*y^4)\n",
      "                               +y*(c+b*y^2),\n",
      "               x*y*'diff(y,x,2)-x*('diff(y,x))^2+a*y*'diff(y,x)+b*x*y^3,\n",
      "               x*y*'diff(y,x,2)+2*x*('diff(y,x))^2+a*y*'diff(y,x),\n",
      "               x*y*'diff(y,x,2)-2*x*('diff(y,x))^2+(1+y)*'diff(y,x),\n",
      "               x*y*'diff(y,x,2)-2*x*('diff(y,x))^2+a*y*'diff(y,x),\n",
      "               x*y*'diff(y,x,2)-4*x*('diff(y,x))^2+4*y*'diff(y,x),\n",
      "               x*y*'diff(y,x,2)+((a*x)/sqrt(b^2-x^2)-x)*('diff(y,x))^2\n",
      "                               +(-y)*'diff(y,x),\n",
      "               x*(x+y)*'diff(y,x,2)+x*('diff(y,x))^2+(x-y)*'diff(y,x)-y,\n",
      "               2*x*y*'diff(y,x,2)-x*('diff(y,x))^2+y*'diff(y,x),\n",
      "               x^2*(y-1)*'diff(y,x,2)-2*x^2*('diff(y,x))^2\n",
      "                                     +(-2)*x*(y-1)*'diff(y,x)+(-2)*y*(y-1)^2,\n",
      "               x^2*(x+y)*'diff(y,x,2)-(x*'diff(y,x)-y)^2,\n",
      "               x^2*(x-y)*'diff(y,x,2)+a*(x*'diff(y,x)-y)^2,\n",
      "               2*x^2*y*'diff(y,x,2)-x^2*(('diff(y,x))^2+1)+y^2,\n",
      "               a*x^2*y*'diff(y,x,2)+b*x^2*('diff(y,x))^2+c*x*y*'diff(y,x)\n",
      "                                   +d*y^2,\n",
      "               x*(1+x)^2*y*'diff(y,x,2)-x*(1+x)^2*('diff(y,x))^2\n",
      "                                       +2*(1+x)^2*y*'diff(y,x)+(-a)*(2+x)*y^2,\n",
      "               8*(1-x^3)*y*'diff(y,x,2)-4*(1-x^3)*('diff(y,x))^2\n",
      "                                       +(-12)*x^2*y*'diff(y,x)+3*x*y^2,\n",
      "               f0(x)*y*'diff(y,x,2)+f1(x)*('diff(y,x))^2+f2(x)*y*'diff(y,x)\n",
      "                                   +f3(x)*y^2,y^2*'diff(y,x,2)-a,\n",
      "               y^2*'diff(y,x,2)+y*('diff(y,x))^2+a*x,\n",
      "               y^2*'diff(y,x,2)+y*('diff(y,x))^2+(-a)*x-b,\n",
      "               (1+y^2)*'diff(y,x,2)+(1-2*y)*('diff(y,x))^2,\n",
      "               (1+y^2)*'diff(y,x,2)-3*y*('diff(y,x))^2,\n",
      "               (x+y^2)*'diff(y,x,2)-2*(x-y^2)*('diff(y,x))^3\n",
      "                                   +'diff(y,x)*(1+4*y*'diff(y,x)),\n",
      "               (x^2+y^2)*'diff(y,x,2)-(1+('diff(y,x))^2)*(x*'diff(y,x)-y),\n",
      "               (x^2+y^2)*'diff(y,x,2)-2*(1+('diff(y,x))^2)*(x*'diff(y,x)-y),\n",
      "               2*y*(1-y)*'diff(y,x,2)-(1-2*y)*('diff(y,x))^2\n",
      "                                     +y*(1-y)*'diff(y,x)*f(x),\n",
      "               2*y*(1-y)*'diff(y,x,2)-(1-3*y)*('diff(y,x))^2+h(y),\n",
      "               2*y*(y-1)*'diff(y,x,2)-(3*y-1)*('diff(y,x))^2\n",
      "                                     +4*y*'diff(y,x)*(f(x)*y+g(x))\n",
      "                                     +4*y^2*(y-1)\n",
      "                                       *(g(x)^2-f(x)^2-'diff(g(x),x)\n",
      "                                               -'diff(f(x),x)),\n",
      "               (-2)*y*(1-y)*'diff(y,x,2)+(1-3*y)*('diff(y,x))^2\n",
      "                                        +(-4)*y*(f(x)*y+g(x))*'diff(y,x)\n",
      "                                        +(1-y)^3*(f0(x)^2*y^2-f1(x)^2)\n",
      "                                        +4*y^2*(1-y)\n",
      "                                          *(f(x)^2-g(x)^2-'diff(g(x),x)\n",
      "                                                  -'diff(f(x),x)),\n",
      "               3*y*(1-y)*'diff(y,x,2)-2*(1-2*y)*('diff(y,x))^2-h(y),\n",
      "               (1-y)*'diff(y,x,2)-3*(1-2*y)*('diff(y,x))^2-h(y),\n",
      "               a*y*(y-1)*'diff(y,x,2)+(b*y+c)*('diff(y,x))^2+h(y),\n",
      "               a*y*(y-1)*'diff(y,x,2)-(a-1)*(2*y-1)*('diff(y,x))^2\n",
      "                                     +f(x)*y*(y-1)*'diff(y,x),\n",
      "               a*b*y*(y-1)*'diff(y,x,2)-((2*a*b-a-b)*y+(1-a)*b)*('diff(y,x))^2\n",
      "                                       +f(x)*y*(y-1)*'diff(y,x),\n",
      "               x*y^2*'diff(y,x,2)-a,\n",
      "               (a^2-x^2)*(a^2-y^2)*'diff(y,x,2)\n",
      "                +(a^2-x^2)*y*('diff(y,x))^2+(-x)*(a^2-y^2)*'diff(y,x),\n",
      "               2*x^2*y*(y-1)*'diff(y,x,2)-x^2*(3*y-1)*('diff(y,x))^2\n",
      "                                         +2*x*y*(y-1)*'diff(y,x)\n",
      "                                         +(a*y^2+b)*(y-1)^3+c*x*y^2*(y-1)\n",
      "                                         +d*x^2*y^2*(1+y),\n",
      "               x^3*y^2*'diff(y,x,2)+(x+y)*(x*'diff(y,x)-y)^3,\n",
      "               y^3*'diff(y,x,2)-a,\n",
      "               y*(1+y^2)*'diff(y,x,2)+(1-3*y^2)*('diff(y,x))^2,\n",
      "               2*y^3*'diff(y,x,2)+y^4+(-a^2)*x*y^2-1,\n",
      "               2*y^3*'diff(y,x,2)+y^2*('diff(y,x))^2+(-a)*x^2+(-b)*x-c,\n",
      "               2*(c-y)*(b-y)*(a-y)*'diff(y,x,2)\n",
      "                +((a-y)*(b-y)+(c-y)*(a-y)+(b-y)*(c-y))*('diff(y,x))^2\n",
      "                -(a0*(c-y)^2*(b-y)^2*(a-y)^2+a1*(b-y)^2*(c-y)^2\n",
      "                                            +a2*(c-y)^2*(a-y)^2\n",
      "                                            +a3*(b-y)^2*(a-y)^2),\n",
      "               (4*y^3-a*y-b)*'diff(y,x,2)-(6*y^2-a/2)*('diff(y,x))^2,\n",
      "               (4*y^3-a*y-b)*('diff(y,x,2)+f(x)*'diff(y,x))\n",
      "                -(6*y^2-a/2)*('diff(y,x))^2,\n",
      "               (-2)*x*y*(1-x)*(1-y)*(x-y)*'diff(y,x,2)\n",
      "                +x*(1-x)*(x-2*x*y+(-2)*y+3*y^2)*('diff(y,x))^2\n",
      "                +2*y*(1-y)*(x^2+y+(-2)*x*y)*'diff(y,x)+(-y^2)*(1-y)^2\n",
      "                -f(x)(y*(y-1)*(y-x))^(3/2),\n",
      "               2*x^2*y*(1-x)^2*(1-y)*(x-y)*'diff(y,x,2)\n",
      "                -x^2*(1-x)^2*(x-2*x*y+(-2)*y+3*y^2)*('diff(y,x))^2\n",
      "                +(-2)*x*y*(1-x)*(1-y)*(x^2+y+(-2)*x*y)*'diff(y,x)\n",
      "                +b*x*(1-y)^2*(x-y)^2+(-c)*(1-x)*y^2*(x-y)^2\n",
      "                +(-d)*x*y^2*(1-x)*(1-y)^2+a*y^2*(x-y)^2*(1-y)^2,\n",
      "               (y^2-1)*(a^2*y^2-1)*'diff(y,x,2)\n",
      "                +b*sqrt((1-y^2)*(1-a^2*y^2))*('diff(y,x))^2\n",
      "                +(1+a^2+(-2)*a^2*y^2)*y*('diff(y,x))^2,\n",
      "               (c+2*b*x+a*x^2+y^2)^2*'diff(y,x,2)+d*y,sqrt(y)*'diff(y,x,2)-a,\n",
      "               sqrt(y^2+x^2)*'diff(y,x,2)-a*(('diff(y,x))^2+1)^(3/2),\n",
      "               y*(1-ln(y))*'diff(y,x,2)+(1+ln(y))*('diff(y,x))^2,\n",
      "               (b+a*sin(y)^2)*'diff(y,x,2)+a*('diff(y,x))^2*cos(y)*sin(y)\n",
      "                                          +A*y*(c+a*sin(y)^2),\n",
      "               h(y)*'diff(y,x,2)+a*D(h)(y)*('diff(y,x))^2+j(y),\n",
      "               h(y)*'diff(y,x,2)-D(h)(y)*('diff(y,x))^2\n",
      "                                +(-h(y)^2)*j(x,'diff(y,x)/h(y)),\n",
      "               'diff(y,x)*'diff(y,x,2)-x^2*y*'diff(y,x)+(-x)*y^2,\n",
      "               (x*'diff(y,x)-y)*'diff(y,x,2)+4*('diff(y,x))^2,\n",
      "               (x*'diff(y,x)-y)*'diff(y,x,2)-(1+('diff(y,x))^2)^2,\n",
      "               a*x^3*'diff(y,x)*'diff(y,x,2)+b*y^2,\n",
      "               (f1*'diff(y,x)+f2*y)*'diff(y,x,2)\n",
      "                +f3*('diff(y,x))^2+f4(x)*y*'diff(y,x)+f5(x)*y^2,\n",
      "               (2*y^2*'diff(y,x)+x^2)*'diff(y,x,2)\n",
      "                +2*y*('diff(y,x))^3+3*x*'diff(y,x)+y,\n",
      "               (y^2+('diff(y,x))^2)*'diff(y,x,2)+y^3,\n",
      "               (('diff(y,x))^2+a*(x*'diff(y,x)-y))*'diff(y,x,2)-b,\n",
      "               (a*sqrt(1+('diff(y,x))^2)-x*'diff(y,x))*'diff(y,x,2)\n",
      "                -('diff(y,x))^2-1,\n",
      "               h('diff(y,x))*'diff(y,x,2)+j(y)*'diff(y,x)+f(x),\n",
      "               ('diff(y,x,2))^2-a*y-b,\n",
      "               a^2*('diff(y,x,2))^2-2*a*x*'diff(y,x,2)+'diff(y,x),\n",
      "               2*(1+x^2)*('diff(y,x,2))^2-x*'diff(y,xi,2)*(x+4*'diff(y,x))\n",
      "                                         +2*(x+'diff(y,x))*'diff(y,x)+(-2)*y,\n",
      "               3*x^2*('diff(y,x,2))^2-2*(3*x*'diff(y,x)+y)*'diff(y,x,2)\n",
      "                                     +4*('diff(y,x))^2,\n",
      "               x^2*(2-9*x)*('diff(y,x,2))^2\n",
      "                -6*x*(1-6*x)*'diff(y,x)*'diff(y,x,2)+6*y*'diff(y,x,2)\n",
      "                +(-36)*x*('diff(y,x))^2,0,y*('diff(y,x,2))^2-a*exp(2*x),\n",
      "               (a^2*y^2-b^2)*('diff(y,x,2))^2\n",
      "                -2*a^2*y*('diff(y,x))^2*'diff(y,x,2)\n",
      "                +(a^2*('diff(y,x))^2-1)*('diff(y,x))^2,\n",
      "               (y^2-x^2*('diff(y,x))^2+x^2*y*'diff(y,x,2))^2\n",
      "                -4*x*y*(x*'diff(y,x)-y)^3,\n",
      "               (2*y*'diff(y,x,2)-('diff(y,x))^2)^3\n",
      "                +32*'diff(y,x,2)*(x*'diff(y,x,2)-'diff(y,x))^3,\n",
      "               sqrt(a*('diff(y,x,2))^2+b*('diff(y,x))^2)\n",
      "                +c*y*'diff(y,x,2)+d*('diff(y,x))^2,0,0,0]\n"
     ]
    },
    {
     "data": {
      "text/latex": [
       "$$\\mbox{ /home/nijso/mathematics/maxima\\_files/kamke6\\_1.mac }$$"
      ],
      "text/plain": [
       "\"/home/nijso/mathematics/maxima_files/kamke6_1.mac\""
      ]
     },
     "execution_count": 64,
     "metadata": {},
     "output_type": "execute_result"
    }
   ],
   "source": [
    "batch(\"/home/nijso/mathematics/maxima_files/kamke6_1.mac\");"
   ]
  },
  {
   "cell_type": "markdown",
   "metadata": {},
   "source": [
    "The code is rather new and therefore produces some intermediate messages to let you know what's going on. To show only warning and error messages, we lower the message verbosity to 1:"
   ]
  },
  {
   "cell_type": "code",
   "execution_count": 64,
   "metadata": {},
   "outputs": [
    {
     "data": {
      "text/latex": [
       "$$1$$"
      ],
      "text/plain": [
       "1"
      ]
     },
     "execution_count": 64,
     "metadata": {},
     "output_type": "execute_result"
    }
   ],
   "source": [
    "DEBUGFLAG:1;"
   ]
  },
  {
   "cell_type": "markdown",
   "metadata": {},
   "source": [
    "A value of 0 shows only error messages, a value of 1 additionally shows warning messages, and values 2..5 show increasingly more messages and intermediate results to help you figure out what is going on.\n"
   ]
  },
  {
   "cell_type": "markdown",
   "metadata": {},
   "source": [
    "# example 1"
   ]
  },
  {
   "cell_type": "markdown",
   "metadata": {},
   "source": [
    "Since ode2_lie is based on the paper of Cheb-terrab and Roche <a href='#ref:chebterrabroche'>[1]</a>, we will first show that it produces the same results as the examples in the paper. The first ODE we will test is kamke ode 6.226, which has an integrating factor of the form $\\mu(x,y')$:"
   ]
  },
  {
   "cell_type": "code",
   "execution_count": 64,
   "metadata": {},
   "outputs": [
    {
     "data": {
      "text/latex": [
       "$${{d}\\over{d\\,x}}\\,y\\,\\left({{d^2}\\over{d\\,x^2}}\\,y\\right)-x^2\\,y\\,\n",
       " \\left({{d}\\over{d\\,x}}\\,y\\right)-x\\,y^2$$"
      ],
      "text/plain": [
       "'diff(y,x,1)*'diff(y,x,2)-x^2*y*'diff(y,x,1)-x*y^2"
      ]
     },
     "execution_count": 64,
     "metadata": {},
     "output_type": "execute_result"
    }
   ],
   "source": [
    "ode226: kamke6[226];"
   ]
  },
  {
   "cell_type": "code",
   "execution_count": 64,
   "metadata": {},
   "outputs": [
    {
     "data": {
      "text/latex": [
       "$${{d}\\over{d\\,x}}\\,y$$"
      ],
      "text/plain": [
       "'diff(y,x,1)"
      ]
     },
     "execution_count": 64,
     "metadata": {},
     "output_type": "execute_result"
    }
   ],
   "source": [
    "mu:ode2_lie(ode226,y,x);"
   ]
  },
  {
   "cell_type": "markdown",
   "metadata": {},
   "source": [
    "The ODE was already in exact form, so the integrating factor $y'$ was detected immediately to be the coefficient of the highest derivative by testing for exactness. We now check if the integratingfactor is correct:  "
   ]
  },
  {
   "cell_type": "code",
   "execution_count": 64,
   "metadata": {},
   "outputs": [
    {
     "data": {
      "text/latex": [
       "$$\\mathbf{true}$$"
      ],
      "text/plain": [
       "true"
      ]
     },
     "execution_count": 64,
     "metadata": {},
     "output_type": "execute_result"
    }
   ],
   "source": [
    "isIntegratingFactor(mu,ode226,y,x);"
   ]
  },
  {
   "cell_type": "markdown",
   "metadata": {},
   "source": [
    "# example 2"
   ]
  },
  {
   "cell_type": "markdown",
   "metadata": {},
   "source": [
    "now we are going to solve the ode $\\frac{dy}{dx}=\\frac{h(y')}{x-y}$, which is kamke ode 6.136. This is another example of an ODE with an integrating factor of the form $\\mu(x,y')$:"
   ]
  },
  {
   "cell_type": "code",
   "execution_count": 64,
   "metadata": {},
   "outputs": [
    {
     "data": {
      "text/latex": [
       "$$\\left(x-y\\right)\\,\\left({{d^2}\\over{d\\,x^2}}\\,y\\right)-h\\left({{d\n",
       " }\\over{d\\,x}}\\,y\\right)$$"
      ],
      "text/plain": [
       "(x-y)*'diff(y,x,2)-h('diff(y,x,1))"
      ]
     },
     "execution_count": 64,
     "metadata": {},
     "output_type": "execute_result"
    }
   ],
   "source": [
    "ode136: kamke6[136];"
   ]
  },
  {
   "cell_type": "markdown",
   "metadata": {},
   "source": [
    "we can compute an integrating factor using the command ode2_lie(ode,y,x), where $y=y(x)$ is the dependent variable and $x$ is the independent variable. Note that we do not need to define explicit dependencies."
   ]
  },
  {
   "cell_type": "code",
   "execution_count": 64,
   "metadata": {},
   "outputs": [
    {
     "data": {
      "text/latex": [
       "$${{{{d}\\over{d\\,x}}\\,y-1}\\over{h\\left({{d}\\over{d\\,x}}\\,y\\right)}}$$"
      ],
      "text/plain": [
       "('diff(y,x,1)-1)/h('diff(y,x,1))"
      ]
     },
     "execution_count": 64,
     "metadata": {},
     "output_type": "execute_result"
    }
   ],
   "source": [
    "mu:ode2_lie(ode136,y,x);"
   ]
  },
  {
   "cell_type": "markdown",
   "metadata": {},
   "source": [
    "we check if the integrating factor is correct:"
   ]
  },
  {
   "cell_type": "code",
   "execution_count": 64,
   "metadata": {},
   "outputs": [
    {
     "data": {
      "text/latex": [
       "$$\\mathbf{true}$$"
      ],
      "text/plain": [
       "true"
      ]
     },
     "execution_count": 64,
     "metadata": {},
     "output_type": "execute_result"
    }
   ],
   "source": [
    "isIntegratingFactor(mu,ode136,y,x);"
   ]
  },
  {
   "cell_type": "markdown",
   "metadata": {},
   "source": [
    "# example 3"
   ]
  },
  {
   "cell_type": "markdown",
   "metadata": {},
   "source": [
    "Another ODE with an integrating factor of the form $\\mu(x,y')$ is Kamke ode 6.66:"
   ]
  },
  {
   "cell_type": "code",
   "execution_count": 64,
   "metadata": {},
   "outputs": [
    {
     "data": {
      "text/latex": [
       "$${{d^2}\\over{d\\,x^2}}\\,y-a\\,\\left(y+b\\,x+c\\right)\\,\\left(\\left({{d\n",
       " }\\over{d\\,x}}\\,y\\right)^2+1\\right)^{{{3}\\over{2}}}$$"
      ],
      "text/plain": [
       "'diff(y,x,2)-a*(y+b*x+c)*(('diff(y,x,1))^2+1)^(3/2)"
      ]
     },
     "execution_count": 64,
     "metadata": {},
     "output_type": "execute_result"
    }
   ],
   "source": [
    "ode66:kamke6[66];"
   ]
  },
  {
   "cell_type": "code",
   "execution_count": 64,
   "metadata": {},
   "outputs": [
    {
     "data": {
      "text/latex": [
       "$${{{{d}\\over{d\\,x}}\\,y+b}\\over{a\\,\\left(\\left({{d}\\over{d\\,x}}\\,y\n",
       " \\right)^2+1\\right)^{{{3}\\over{2}}}}}$$"
      ],
      "text/plain": [
       "('diff(y,x,1)+b)/(a*(('diff(y,x,1))^2+1)^(3/2))"
      ]
     },
     "execution_count": 64,
     "metadata": {},
     "output_type": "execute_result"
    }
   ],
   "source": [
    "mu:ode2_lie(ode,y,x);"
   ]
  },
  {
   "cell_type": "code",
   "execution_count": 64,
   "metadata": {},
   "outputs": [
    {
     "data": {
      "text/latex": [
       "$$\\mathbf{true}$$"
      ],
      "text/plain": [
       "true"
      ]
     },
     "execution_count": 64,
     "metadata": {},
     "output_type": "execute_result"
    }
   ],
   "source": [
    "isIntegratingFactor(mu,ode66,y,x);"
   ]
  },
  {
   "cell_type": "markdown",
   "metadata": {},
   "source": [
    "# example 4"
   ]
  },
  {
   "cell_type": "markdown",
   "metadata": {},
   "source": [
    "This example is not in the Kamke database:"
   ]
  },
  {
   "cell_type": "code",
   "execution_count": 64,
   "metadata": {},
   "outputs": [
    {
     "data": {
      "text/latex": [
       "$${{d^2}\\over{d\\,x^2}}\\,y={{\\left(e^{y}-2\\right)\\,\\left({{d}\\over{d\\,\n",
       " x}}\\,y\\right)\\,\\left(x\\,\\left({{d}\\over{d\\,x}}\\,y\\right)+1\\right)\n",
       " }\\over{x^2\\,\\left({{d}\\over{d\\,x}}\\,y\\right)+{{d}\\over{d\\,x}}\\,y-1}}$$"
      ],
      "text/plain": [
       "'diff(y,x,2) = ((%e^y-2)*'diff(y,x,1)*(x*'diff(y,x,1)+1))\n",
       "             /(x^2*'diff(y,x,1)+'diff(y,x,1)-1)"
      ]
     },
     "execution_count": 64,
     "metadata": {},
     "output_type": "execute_result"
    }
   ],
   "source": [
    "ode: 'diff(y,x,2)=('diff(y,x)*(x*'diff(y,x)+1)*(-2+exp(y)))/('diff(y,x)*x^2+'diff(y,x)-1);"
   ]
  },
  {
   "cell_type": "code",
   "execution_count": 64,
   "metadata": {},
   "outputs": [
    {
     "data": {
      "text/latex": [
       "$${{x^2\\,\\left({{d}\\over{d\\,x}}\\,y\\right)+{{d}\\over{d\\,x}}\\,y-1\n",
       " }\\over{{{d}\\over{d\\,x}}\\,y}}$$"
      ],
      "text/plain": [
       "(x^2*'diff(y,x,1)+'diff(y,x,1)-1)/'diff(y,x,1)"
      ]
     },
     "execution_count": 64,
     "metadata": {},
     "output_type": "execute_result"
    }
   ],
   "source": [
    "mu: ode2_lie(ode,y,x);"
   ]
  },
  {
   "cell_type": "markdown",
   "metadata": {},
   "source": [
    "Note that this result is different from the paper. We check if the integrating factor is correct:"
   ]
  },
  {
   "cell_type": "code",
   "execution_count": 64,
   "metadata": {},
   "outputs": [
    {
     "data": {
      "text/latex": [
       "$$\\mathbf{true}$$"
      ],
      "text/plain": [
       "true"
      ]
     },
     "execution_count": 64,
     "metadata": {},
     "output_type": "execute_result"
    }
   ],
   "source": [
    "isIntegratingFactor(mu,ode,y,x);"
   ]
  },
  {
   "cell_type": "markdown",
   "metadata": {},
   "source": [
    "It seems that in the paper, the first term in the intermediate expression of eq. (2.90) has a wrong sign: $(y'-\\frac{1}{x})$ should be $(y'+\\frac{1}{x})$ and the term cancels with the denominater of the second term in (2.90)."
   ]
  },
  {
   "cell_type": "markdown",
   "metadata": {},
   "source": [
    "# Integrating factors of the form $\\mu(y,y')$\n",
    "An ODE having an integrating factor of the form $\\mu(y,y')$ is the following ODE:"
   ]
  },
  {
   "cell_type": "code",
   "execution_count": 64,
   "metadata": {},
   "outputs": [
    {
     "data": {
      "text/latex": [
       "$${{d^2}\\over{d\\,x^2}}\\,y-{{\\left({{d}\\over{d\\,x}}\\,y\\right)^2}\\over{\n",
       " y}}+\\sin x\\,y\\,\\left({{d}\\over{d\\,x}}\\,y\\right)+\\cos x\\,y^2=0$$"
      ],
      "text/plain": [
       "'diff(y,x,2)-('diff(y,x,1))^2/y+sin(x)*y*'diff(y,x,1)+cos(x)*y^2 = 0"
      ]
     },
     "execution_count": 64,
     "metadata": {},
     "output_type": "execute_result"
    }
   ],
   "source": [
    "ode: 'diff(y,x,2)-'diff(y,x)^2/y + sin(x)*'diff(y,x)*y + cos(x)*y^2=0;"
   ]
  },
  {
   "cell_type": "markdown",
   "metadata": {},
   "source": [
    "It turns out that when a change of variables $y(x)\\rightarrow x, x\\rightarrow y(x)$ is applied to an ODE with $\\mu(y,y')$ as integrating factor, the transformed ODE has an integrating factor of the form $\\mu(x,1/y')/y'^2$. These changes of variables are carried out automatically by ode2_lie in the search for symmetries. In the following example, maxima asks a question during the search. We provide the answer beforehand by defining an assumption first:"
   ]
  },
  {
   "cell_type": "code",
   "execution_count": 64,
   "metadata": {},
   "outputs": [
    {
     "data": {
      "text/latex": [
       "$$\\left[ y^4-4\\,\\left({{d}\\over{d\\,x}}\\,y\\right)^2>0 \\right] $$"
      ],
      "text/plain": [
       "[y^4-4*('diff(y,x,1))^2 > 0]"
      ]
     },
     "execution_count": 64,
     "metadata": {},
     "output_type": "execute_result"
    }
   ],
   "source": [
    "assume(y^4>4*'diff(y,x)^2);"
   ]
  },
  {
   "cell_type": "code",
   "execution_count": 64,
   "metadata": {},
   "outputs": [
    {
     "data": {
      "text/latex": [
       "$${{1}\\over{y}}$$"
      ],
      "text/plain": [
       "1/y"
      ]
     },
     "execution_count": 64,
     "metadata": {},
     "output_type": "execute_result"
    }
   ],
   "source": [
    "mu:ode2_lie(ode,y,x);"
   ]
  },
  {
   "cell_type": "markdown",
   "metadata": {},
   "source": [
    "The paper also gives a first integral for this ODE, which we can compute as well:"
   ]
  },
  {
   "cell_type": "code",
   "execution_count": 64,
   "metadata": {},
   "outputs": [
    {
     "data": {
      "text/latex": [
       "$${{{{d}\\over{d\\,x}}\\,y+\\sin x\\,y^2}\\over{y}}+{\\it \\%c}_{0}$$"
      ],
      "text/plain": [
       "('diff(y,x,1)+sin(x)*y^2)/y+%c0"
      ]
     },
     "execution_count": 64,
     "metadata": {},
     "output_type": "execute_result"
    }
   ],
   "source": [
    "I:firstIntegral(ode,y,x);"
   ]
  },
  {
   "cell_type": "markdown",
   "metadata": {},
   "source": [
    "We can check if the first integral is correct by testing it against the ode. The ode was first made exact by multiplying with the integrating factor:"
   ]
  },
  {
   "cell_type": "code",
   "execution_count": 64,
   "metadata": {},
   "outputs": [
    {
     "data": {
      "text/latex": [
       "$$\\mathbf{true}$$"
      ],
      "text/plain": [
       "true"
      ]
     },
     "execution_count": 64,
     "metadata": {},
     "output_type": "execute_result"
    }
   ],
   "source": [
    "isFirstIntegral(I,ratexpand(mu*(lhs(ode)-rhs(ode))),y,x);"
   ]
  },
  {
   "cell_type": "markdown",
   "metadata": {},
   "source": [
    "It is interesting to note that integrating factors are directly related to $\\lambda$-symmetries, see <a href='#ref:murielromero'>[2]</a>. We can compute the $\\lambda$-symmetry from the integrating factor:"
   ]
  },
  {
   "cell_type": "code",
   "execution_count": 64,
   "metadata": {},
   "outputs": [
    {
     "data": {
      "text/latex": [
       "$$-{{\\sin x\\,y^2-{{d}\\over{d\\,x}}\\,y}\\over{y}}$$"
      ],
      "text/plain": [
       "-(sin(x)*y^2-'diff(y,x,1))/y"
      ]
     },
     "execution_count": 64,
     "metadata": {},
     "output_type": "execute_result"
    }
   ],
   "source": [
    "L:lambdaSymmetry(ode,mu,y,x);"
   ]
  },
  {
   "cell_type": "code",
   "execution_count": 64,
   "metadata": {},
   "outputs": [
    {
     "data": {
      "text/latex": [
       "$$\\mathbf{true}$$"
      ],
      "text/plain": [
       "true"
      ]
     },
     "execution_count": 64,
     "metadata": {},
     "output_type": "execute_result"
    }
   ],
   "source": [
    "isLambdaSymmetry(L,ode,y,x);"
   ]
  },
  {
   "cell_type": "markdown",
   "metadata": {},
   "source": [
    "# second order ODE admitting an integrating factor\n",
    "We can compute the general second order ODE that admits a certain integrating factor $\\mu$. For instance, the general ODE that admits an integrating factor of the form $\\mu=\\mu(x,y)$ is given by:"
   ]
  },
  {
   "cell_type": "code",
   "execution_count": 64,
   "metadata": {},
   "outputs": [
    {
     "data": {
      "text/latex": [
       "$${{d^2}\\over{d\\,x^2}}\\,y=-{{{{d}\\over{d\\,y}}\\,m\\left(x , y\\right)\\,\n",
       " \\left({{d}\\over{d\\,x}}\\,y\\right)^2+\\left({{d}\\over{d\\,x}}\\,m\\left(x\n",
       "  , y\\right)+{{d}\\over{d\\,y}}\\,{\\it \\%F}\\left(x , y\\right)\\right)\\,\n",
       " \\left({{d}\\over{d\\,x}}\\,y\\right)+{{d}\\over{d\\,x}}\\,{\\it \\%F}\\left(x\n",
       "  , y\\right)}\\over{m\\left(x , y\\right)}}$$"
      ],
      "text/plain": [
       "'diff(y,x,2) = -('diff(m(x,y),y,1)*('diff(y,x,1))^2\n",
       "             +('diff(m(x,y),x,1)+'diff(%F(x,y),y,1))*'diff(y,x,1)\n",
       "             +'diff(%F(x,y),x,1))\n",
       "             /m(x,y)"
      ]
     },
     "execution_count": 64,
     "metadata": {},
     "output_type": "execute_result"
    }
   ],
   "source": [
    "odeconstruct(m(x,y),y,x);"
   ]
  },
  {
   "cell_type": "markdown",
   "metadata": {},
   "source": [
    "Here we recognize the ODE eq. (2.13) given in <a href='#ref:chebterrabroche'>[1]</a>."
   ]
  },
  {
   "cell_type": "markdown",
   "metadata": {},
   "source": [
    "This concludes the tutorial for ode2_lie. "
   ]
  },
  {
   "cell_type": "markdown",
   "metadata": {},
   "source": [
    "# bibliography\n",
    "[1] <a id='ref:chebterrabroche'></a> E.S. Cheb-terrab and A.D. Roche, Integrating Factors for Second-order ODEs, J. Symbolic Computation 27 (1999) https://arxiv.org/abs/math-ph/0002025\n",
    "\n",
    "[2] <a id='ref:murielromero'></a> C. Muriel and J.L. Romero, First integrals, integrating factors and lambda-symmetries of second order differential equations, J. Phys. A: Math Theor. 42 (2009)\n",
    "\n",
    "[3] <a id='ref:kamke'></a> E. Kamke, Differentialgleichungen, L$\\mathrm{\\ddot o}$sungsmethoden und L$\\mathrm{\\ddot o}$sungen, Leipzich, 1959"
   ]
  },
  {
   "cell_type": "code",
   "execution_count": null,
   "metadata": {},
   "outputs": [],
   "source": []
  }
 ],
 "metadata": {
  "kernelspec": {
   "display_name": "Maxima",
   "language": "maxima",
   "name": "maxima"
  },
  "language_info": {
   "codemirror_mode": "maxima",
   "mimetype": "text/x-maxima",
   "name": "maxima",
   "pygments_lexer": "maxima",
   "version": "circa-5.37"
  }
 },
 "nbformat": 4,
 "nbformat_minor": 2
}
