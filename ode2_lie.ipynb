{
 "cells": [
  {
   "cell_type": "markdown",
   "metadata": {},
   "source": [
    "<h1 align=\"center\"> Integrating factors for second order ODEs </h1>\n",
    "\n",
    "<h3 align=\"center\">A symbolic algorithm for the maxima CAS.</h3>\n",
    "\n",
    "In this manual you will find how to use ode2_lie to find an integrating factor, a lambda symmetry or a first integral of a second order ODE. This method is based on the paper of Cheb-terrab and Roche <a href='#ref:chebterrabroche'>[1]</a>. The link between integrating factors and lambda symmetries comes from the paper of Muriel and Romero <a href='#ref:murielromero'>[2]</a>. "
   ]
  },
  {
   "cell_type": "markdown",
   "metadata": {},
   "source": [
    "# step 1: loading the files "
   ]
  },
  {
   "cell_type": "code",
   "execution_count": 64,
   "metadata": {},
   "outputs": [
    {
     "data": {
      "text/latex": [
       "$$\\mathbf{done}$$"
      ],
      "text/plain": [
       "done"
      ]
     },
     "execution_count": 64,
     "metadata": {},
     "output_type": "execute_result"
    }
   ],
   "source": [
    "kill(all);"
   ]
  },
  {
   "cell_type": "code",
   "execution_count": null,
   "metadata": {},
   "outputs": [],
   "source": [
    "batch(\"/home/nijso/mathematics/maxima_files/ode2_lie.mac\");"
   ]
  },
  {
   "cell_type": "markdown",
   "metadata": {},
   "source": [
    "To test our implementation, we use the database of second order nonlinear ordinary differential equations found in the book of Kamke <a href='#ref:kamke'>[3]</a>. These ODEs are defined in chapter 6, and provided as a list in the file kamke6_1.mac "
   ]
  },
  {
   "cell_type": "code",
   "execution_count": null,
   "metadata": {},
   "outputs": [],
   "source": [
    "batch(\"/home/nijso/mathematics/maxima_files/kamke6_1.mac\");"
   ]
  },
  {
   "cell_type": "markdown",
   "metadata": {},
   "source": [
    "The code is rather new and therefore produces some intermediate messages to let you know what's going on. To show only warning and error messages, we lower the message verbosity to 1:"
   ]
  },
  {
   "cell_type": "code",
   "execution_count": 64,
   "metadata": {},
   "outputs": [
    {
     "data": {
      "text/latex": [
       "$$1$$"
      ],
      "text/plain": [
       "1"
      ]
     },
     "execution_count": 64,
     "metadata": {},
     "output_type": "execute_result"
    }
   ],
   "source": [
    "DEBUGFLAG:1;"
   ]
  },
  {
   "cell_type": "markdown",
   "metadata": {},
   "source": [
    "A value of 0 shows only error messages, a value of 1 additionally shows warning messages, and values 2..5 show increasingly more messages and intermediate results to help you figure out what is going on.\n"
   ]
  },
  {
   "cell_type": "markdown",
   "metadata": {},
   "source": [
    "# example 1"
   ]
  },
  {
   "cell_type": "markdown",
   "metadata": {},
   "source": [
    "Since ode2_lie is based on the paper of Cheb-terrab and Roche <a href='#ref:chebterrabroche'>[1]</a>, we will first show that it produces the same results as the examples in the paper. The first ODE we will test is kamke ode 6.226, which has an integrating factor of the form $\\mu(x,y')$:"
   ]
  },
  {
   "cell_type": "code",
   "execution_count": 64,
   "metadata": {},
   "outputs": [
    {
     "data": {
      "text/latex": [
       "$${{d}\\over{d\\,x}}\\,y\\,\\left({{d^2}\\over{d\\,x^2}}\\,y\\right)-x^2\\,y\\,\n",
       " \\left({{d}\\over{d\\,x}}\\,y\\right)-x\\,y^2$$"
      ],
      "text/plain": [
       "'diff(y,x,1)*'diff(y,x,2)-x^2*y*'diff(y,x,1)-x*y^2"
      ]
     },
     "execution_count": 64,
     "metadata": {},
     "output_type": "execute_result"
    }
   ],
   "source": [
    "ode226: kamke6[226];"
   ]
  },
  {
   "cell_type": "code",
   "execution_count": 64,
   "metadata": {},
   "outputs": [
    {
     "data": {
      "text/latex": [
       "$${{d}\\over{d\\,x}}\\,y$$"
      ],
      "text/plain": [
       "'diff(y,x,1)"
      ]
     },
     "execution_count": 64,
     "metadata": {},
     "output_type": "execute_result"
    }
   ],
   "source": [
    "mu:ode2_lie(ode226,y,x);"
   ]
  },
  {
   "cell_type": "markdown",
   "metadata": {},
   "source": [
    "The ODE was already in exact form, so the integrating factor $y'$ was detected immediately to be the coefficient of the highest derivative by testing for exactness. We now check if the integratingfactor is correct:  "
   ]
  },
  {
   "cell_type": "code",
   "execution_count": 64,
   "metadata": {},
   "outputs": [
    {
     "data": {
      "text/latex": [
       "$$\\mathbf{true}$$"
      ],
      "text/plain": [
       "true"
      ]
     },
     "execution_count": 64,
     "metadata": {},
     "output_type": "execute_result"
    }
   ],
   "source": [
    "isIntegratingFactor(mu,ode226,y,x);"
   ]
  },
  {
   "cell_type": "markdown",
   "metadata": {},
   "source": [
    "# example 2"
   ]
  },
  {
   "cell_type": "markdown",
   "metadata": {},
   "source": [
    "now we are going to solve the ode $\\frac{dy}{dx}=\\frac{h(y')}{x-y}$, which is kamke ode 6.136. This is another example of an ODE with an integrating factor of the form $\\mu(x,y')$:"
   ]
  },
  {
   "cell_type": "code",
   "execution_count": 64,
   "metadata": {},
   "outputs": [
    {
     "data": {
      "text/latex": [
       "$$\\left(x-y\\right)\\,\\left({{d^2}\\over{d\\,x^2}}\\,y\\right)-h\\left({{d\n",
       " }\\over{d\\,x}}\\,y\\right)$$"
      ],
      "text/plain": [
       "(x-y)*'diff(y,x,2)-h('diff(y,x,1))"
      ]
     },
     "execution_count": 64,
     "metadata": {},
     "output_type": "execute_result"
    }
   ],
   "source": [
    "ode136: kamke6[136];"
   ]
  },
  {
   "cell_type": "markdown",
   "metadata": {},
   "source": [
    "we can compute an integrating factor using the command ode2_lie(ode,y,x), where $y=y(x)$ is the dependent variable and $x$ is the independent variable. Note that we do not need to define explicit dependencies."
   ]
  },
  {
   "cell_type": "code",
   "execution_count": 64,
   "metadata": {},
   "outputs": [
    {
     "data": {
      "text/latex": [
       "$${{{{d}\\over{d\\,x}}\\,y-1}\\over{h\\left({{d}\\over{d\\,x}}\\,y\\right)}}$$"
      ],
      "text/plain": [
       "('diff(y,x,1)-1)/h('diff(y,x,1))"
      ]
     },
     "execution_count": 64,
     "metadata": {},
     "output_type": "execute_result"
    }
   ],
   "source": [
    "mu:ode2_lie(ode136,y,x);"
   ]
  },
  {
   "cell_type": "markdown",
   "metadata": {},
   "source": [
    "we check if the integrating factor is correct:"
   ]
  },
  {
   "cell_type": "code",
   "execution_count": 64,
   "metadata": {},
   "outputs": [
    {
     "data": {
      "text/latex": [
       "$$\\mathbf{true}$$"
      ],
      "text/plain": [
       "true"
      ]
     },
     "execution_count": 64,
     "metadata": {},
     "output_type": "execute_result"
    }
   ],
   "source": [
    "isIntegratingFactor(mu,ode136,y,x);"
   ]
  },
  {
   "cell_type": "markdown",
   "metadata": {},
   "source": [
    "# example 3"
   ]
  },
  {
   "cell_type": "markdown",
   "metadata": {},
   "source": [
    "Another ODE with an integrating factor of the form $\\mu(x,y')$ is Kamke ode 6.66:"
   ]
  },
  {
   "cell_type": "code",
   "execution_count": 64,
   "metadata": {},
   "outputs": [
    {
     "data": {
      "text/latex": [
       "$${{d^2}\\over{d\\,x^2}}\\,y-a\\,\\left(y+b\\,x+c\\right)\\,\\left(\\left({{d\n",
       " }\\over{d\\,x}}\\,y\\right)^2+1\\right)^{{{3}\\over{2}}}$$"
      ],
      "text/plain": [
       "'diff(y,x,2)-a*(y+b*x+c)*(('diff(y,x,1))^2+1)^(3/2)"
      ]
     },
     "execution_count": 64,
     "metadata": {},
     "output_type": "execute_result"
    }
   ],
   "source": [
    "ode66:kamke6[66];"
   ]
  },
  {
   "cell_type": "code",
   "execution_count": 64,
   "metadata": {},
   "outputs": [
    {
     "data": {
      "text/latex": [
       "$${{{{d}\\over{d\\,x}}\\,y+b}\\over{a\\,\\left(\\left({{d}\\over{d\\,x}}\\,y\n",
       " \\right)^2+1\\right)^{{{3}\\over{2}}}}}$$"
      ],
      "text/plain": [
       "('diff(y,x,1)+b)/(a*(('diff(y,x,1))^2+1)^(3/2))"
      ]
     },
     "execution_count": 64,
     "metadata": {},
     "output_type": "execute_result"
    }
   ],
   "source": [
    "mu:ode2_lie(ode,y,x);"
   ]
  },
  {
   "cell_type": "code",
   "execution_count": 64,
   "metadata": {},
   "outputs": [
    {
     "data": {
      "text/latex": [
       "$$\\mathbf{true}$$"
      ],
      "text/plain": [
       "true"
      ]
     },
     "execution_count": 64,
     "metadata": {},
     "output_type": "execute_result"
    }
   ],
   "source": [
    "isIntegratingFactor(mu,ode66,y,x);"
   ]
  },
  {
   "cell_type": "markdown",
   "metadata": {},
   "source": [
    "# example 4"
   ]
  },
  {
   "cell_type": "markdown",
   "metadata": {},
   "source": [
    "This example is not in the Kamke database:"
   ]
  },
  {
   "cell_type": "code",
   "execution_count": 64,
   "metadata": {},
   "outputs": [
    {
     "data": {
      "text/latex": [
       "$${{d^2}\\over{d\\,x^2}}\\,y={{\\left(e^{y}-2\\right)\\,\\left({{d}\\over{d\\,\n",
       " x}}\\,y\\right)\\,\\left(x\\,\\left({{d}\\over{d\\,x}}\\,y\\right)+1\\right)\n",
       " }\\over{x^2\\,\\left({{d}\\over{d\\,x}}\\,y\\right)+{{d}\\over{d\\,x}}\\,y-1}}$$"
      ],
      "text/plain": [
       "'diff(y,x,2) = ((%e^y-2)*'diff(y,x,1)*(x*'diff(y,x,1)+1))\n",
       "             /(x^2*'diff(y,x,1)+'diff(y,x,1)-1)"
      ]
     },
     "execution_count": 64,
     "metadata": {},
     "output_type": "execute_result"
    }
   ],
   "source": [
    "ode: 'diff(y,x,2)=('diff(y,x)*(x*'diff(y,x)+1)*(-2+exp(y)))/('diff(y,x)*x^2+'diff(y,x)-1);"
   ]
  },
  {
   "cell_type": "code",
   "execution_count": 64,
   "metadata": {},
   "outputs": [
    {
     "data": {
      "text/latex": [
       "$${{x^2\\,\\left({{d}\\over{d\\,x}}\\,y\\right)+{{d}\\over{d\\,x}}\\,y-1\n",
       " }\\over{{{d}\\over{d\\,x}}\\,y}}$$"
      ],
      "text/plain": [
       "(x^2*'diff(y,x,1)+'diff(y,x,1)-1)/'diff(y,x,1)"
      ]
     },
     "execution_count": 64,
     "metadata": {},
     "output_type": "execute_result"
    }
   ],
   "source": [
    "mu: ode2_lie(ode,y,x);"
   ]
  },
  {
   "cell_type": "markdown",
   "metadata": {},
   "source": [
    "Note that this result is different from the paper. We check if the integrating factor is correct:"
   ]
  },
  {
   "cell_type": "code",
   "execution_count": 64,
   "metadata": {},
   "outputs": [
    {
     "data": {
      "text/latex": [
       "$$\\mathbf{true}$$"
      ],
      "text/plain": [
       "true"
      ]
     },
     "execution_count": 64,
     "metadata": {},
     "output_type": "execute_result"
    }
   ],
   "source": [
    "isIntegratingFactor(mu,ode,y,x);"
   ]
  },
  {
   "cell_type": "markdown",
   "metadata": {},
   "source": [
    "It seems that in the paper, the first term in the intermediate expression of eq. (2.90) has a wrong sign: $(y'-\\frac{1}{x})$ should be $(y'+\\frac{1}{x})$ and the term cancels with the denominater of the second term in (2.90)."
   ]
  },
  {
   "cell_type": "markdown",
   "metadata": {},
   "source": [
    "# Integrating factors of the form $\\mu(y,y')$\n",
    "An ODE having an integrating factor of the form $\\mu(y,y')$ is the following ODE:"
   ]
  },
  {
   "cell_type": "code",
   "execution_count": 64,
   "metadata": {},
   "outputs": [
    {
     "data": {
      "text/latex": [
       "$${{d^2}\\over{d\\,x^2}}\\,y-{{\\left({{d}\\over{d\\,x}}\\,y\\right)^2}\\over{\n",
       " y}}+\\sin x\\,y\\,\\left({{d}\\over{d\\,x}}\\,y\\right)+\\cos x\\,y^2=0$$"
      ],
      "text/plain": [
       "'diff(y,x,2)-('diff(y,x,1))^2/y+sin(x)*y*'diff(y,x,1)+cos(x)*y^2 = 0"
      ]
     },
     "execution_count": 64,
     "metadata": {},
     "output_type": "execute_result"
    }
   ],
   "source": [
    "ode: 'diff(y,x,2)-'diff(y,x)^2/y + sin(x)*'diff(y,x)*y + cos(x)*y^2=0;"
   ]
  },
  {
   "cell_type": "markdown",
   "metadata": {},
   "source": [
    "It turns out that when a change of variables $y(x)\\rightarrow x, x\\rightarrow y(x)$ is applied to an ODE with $\\mu(y,y')$ as integrating factor, the transformed ODE has an integrating factor of the form $\\mu(x,1/y')/y'^2$. These changes of variables are carried out automatically by ode2_lie in the search for symmetries. In the following example, maxima asks a question during the search. We provide the answer beforehand by defining an assumption first:"
   ]
  },
  {
   "cell_type": "code",
   "execution_count": 64,
   "metadata": {},
   "outputs": [
    {
     "data": {
      "text/latex": [
       "$$\\left[ y^4-4\\,\\left({{d}\\over{d\\,x}}\\,y\\right)^2>0 \\right] $$"
      ],
      "text/plain": [
       "[y^4-4*('diff(y,x,1))^2 > 0]"
      ]
     },
     "execution_count": 64,
     "metadata": {},
     "output_type": "execute_result"
    }
   ],
   "source": [
    "assume(y^4>4*'diff(y,x)^2);"
   ]
  },
  {
   "cell_type": "code",
   "execution_count": 64,
   "metadata": {},
   "outputs": [
    {
     "data": {
      "text/latex": [
       "$${{1}\\over{y}}$$"
      ],
      "text/plain": [
       "1/y"
      ]
     },
     "execution_count": 64,
     "metadata": {},
     "output_type": "execute_result"
    }
   ],
   "source": [
    "mu:ode2_lie(ode,y,x);"
   ]
  },
  {
   "cell_type": "markdown",
   "metadata": {},
   "source": [
    "The paper also gives a first integral for this ODE, which we can compute as well:"
   ]
  },
  {
   "cell_type": "code",
   "execution_count": 64,
   "metadata": {},
   "outputs": [
    {
     "data": {
      "text/latex": [
       "$${{{{d}\\over{d\\,x}}\\,y+\\sin x\\,y^2}\\over{y}}+{\\it \\%c}_{0}$$"
      ],
      "text/plain": [
       "('diff(y,x,1)+sin(x)*y^2)/y+%c0"
      ]
     },
     "execution_count": 64,
     "metadata": {},
     "output_type": "execute_result"
    }
   ],
   "source": [
    "I:firstIntegral(ode,y,x);"
   ]
  },
  {
   "cell_type": "markdown",
   "metadata": {},
   "source": [
    "We can check if the first integral is correct by testing it against the ode. The ode was first made exact by multiplying with the integrating factor:"
   ]
  },
  {
   "cell_type": "code",
   "execution_count": 64,
   "metadata": {},
   "outputs": [
    {
     "data": {
      "text/latex": [
       "$$\\mathbf{true}$$"
      ],
      "text/plain": [
       "true"
      ]
     },
     "execution_count": 64,
     "metadata": {},
     "output_type": "execute_result"
    }
   ],
   "source": [
    "isFirstIntegral(I,ratexpand(mu*(lhs(ode)-rhs(ode))),y,x);"
   ]
  },
  {
   "cell_type": "markdown",
   "metadata": {},
   "source": [
    "It is interesting to note that integrating factors are directly related to $\\lambda$-symmetries, see <a href='#ref:murielromero'>[2]</a>. We can compute the $\\lambda$-symmetry from the integrating factor:"
   ]
  },
  {
   "cell_type": "code",
   "execution_count": 64,
   "metadata": {},
   "outputs": [
    {
     "data": {
      "text/latex": [
       "$$-{{\\sin x\\,y^2-{{d}\\over{d\\,x}}\\,y}\\over{y}}$$"
      ],
      "text/plain": [
       "-(sin(x)*y^2-'diff(y,x,1))/y"
      ]
     },
     "execution_count": 64,
     "metadata": {},
     "output_type": "execute_result"
    }
   ],
   "source": [
    "L:lambdaSymmetry(ode,mu,y,x);"
   ]
  },
  {
   "cell_type": "code",
   "execution_count": 64,
   "metadata": {},
   "outputs": [
    {
     "data": {
      "text/latex": [
       "$$\\mathbf{true}$$"
      ],
      "text/plain": [
       "true"
      ]
     },
     "execution_count": 64,
     "metadata": {},
     "output_type": "execute_result"
    }
   ],
   "source": [
    "isLambdaSymmetry(L,ode,y,x);"
   ]
  },
  {
   "cell_type": "markdown",
   "metadata": {},
   "source": [
    "# second order ODE admitting an integrating factor\n",
    "We can compute the general second order ODE that admits a certain integrating factor $\\mu$. For instance, the general ODE that admits an integrating factor of the form $\\mu=\\mu(x,y)$ is given by:"
   ]
  },
  {
   "cell_type": "code",
   "execution_count": 64,
   "metadata": {},
   "outputs": [
    {
     "data": {
      "text/latex": [
       "$${{d^2}\\over{d\\,x^2}}\\,y=-{{{{d}\\over{d\\,y}}\\,m\\left(x , y\\right)\\,\n",
       " \\left({{d}\\over{d\\,x}}\\,y\\right)^2+\\left({{d}\\over{d\\,x}}\\,m\\left(x\n",
       "  , y\\right)+{{d}\\over{d\\,y}}\\,{\\it \\%F}\\left(x , y\\right)\\right)\\,\n",
       " \\left({{d}\\over{d\\,x}}\\,y\\right)+{{d}\\over{d\\,x}}\\,{\\it \\%F}\\left(x\n",
       "  , y\\right)}\\over{m\\left(x , y\\right)}}$$"
      ],
      "text/plain": [
       "'diff(y,x,2) = -('diff(m(x,y),y,1)*('diff(y,x,1))^2\n",
       "             +('diff(m(x,y),x,1)+'diff(%F(x,y),y,1))*'diff(y,x,1)\n",
       "             +'diff(%F(x,y),x,1))\n",
       "             /m(x,y)"
      ]
     },
     "execution_count": 64,
     "metadata": {},
     "output_type": "execute_result"
    }
   ],
   "source": [
    "odeconstruct(m(x,y),y,x);"
   ]
  },
  {
   "cell_type": "markdown",
   "metadata": {},
   "source": [
    "Here we recognize the ODE eq. (2.13) given in <a href='#ref:chebterrabroche'>[1]</a>."
   ]
  },
  {
   "cell_type": "markdown",
   "metadata": {},
   "source": [
    "This concludes the tutorial for ode2_lie. "
   ]
  },
  {
   "cell_type": "markdown",
   "metadata": {},
   "source": [
    "# bibliography\n",
    "[1] <a id='ref:chebterrabroche'></a> E.S. Cheb-terrab and A.D. Roche, Integrating Factors for Second-order ODEs, J. Symbolic Computation 27 (1999) https://arxiv.org/abs/math-ph/0002025\n",
    "\n",
    "[2] <a id='ref:murielromero'></a> C. Muriel and J.L. Romero, First integrals, integrating factors and lambda-symmetries of second order differential equations, J. Phys. A: Math Theor. 42 (2009)\n",
    "\n",
    "[3] <a id='ref:kamke'></a> E. Kamke, Differentialgleichungen, L$\\mathrm{\\ddot o}$sungsmethoden und L$\\mathrm{\\ddot o}$sungen, Leipzich, 1959"
   ]
  },
  {
   "cell_type": "code",
   "execution_count": null,
   "metadata": {},
   "outputs": [],
   "source": []
  }
 ],
 "metadata": {
  "kernelspec": {
   "display_name": "Maxima",
   "language": "maxima",
   "name": "maxima"
  },
  "language_info": {
   "codemirror_mode": "maxima",
   "mimetype": "text/x-maxima",
   "name": "maxima",
   "pygments_lexer": "maxima",
   "version": "circa-5.37"
  }
 },
 "nbformat": 4,
 "nbformat_minor": 2
}
