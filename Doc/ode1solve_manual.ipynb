{
 "cells": [
  {
   "cell_type": "markdown",
   "metadata": {},
   "source": [
    "<h1 align=\"center\"> Lie point symmetries for first order ODEs </h1>\n",
    " <h3 align=\"center\">A symbolic algorithm for the maxima CAS </br> Nijso Beishuizen</h3>\n",
    "\n",
    "\n",
    "# Introduction\n",
    "\n",
    "The symmetry method is a powerful method to solve differential equations by finding invariant transformations (point symmetries) of the ODE. For first order ODEs, an integrating factor can be constructed from the symmetry and the ODE can then be solved. For first order ODEs, there is no closed form algorithm to find a symmetry in general, but there are algorithms for finding symmetries of a certain form. In Cheb-Terrab and Kolokolnikov <a href='#ref:chebterrabkolokolnikov'>[1]</a>, a very general algorithm is presented that searches for linear symmetries of the form \n",
    "\n",
    "$[\\xi = F(x),\\eta=P(x)y+Q(x)]$. \n",
    "\n",
    "In Cheb-Terrab and Roche <a href='#ref:chebterrabroche'>[2]</a>, an algorithm is presented for finding several simpler symmetries of the form \n",
    "\n",
    "(1) $[\\xi=F(x)*G(y), \\eta=0]$,  $[\\xi=0, \\eta=F(x)*G(y)]$       \n",
    "\n",
    "(2) $[\\xi=F(x)+G(y), \\eta=0]$,  $[\\xi=0, \\eta=F(x)+G(y)]$\n",
    "\n",
    "(3) $[\\xi=F(x), \\eta=G(x)]$,    $[\\xi=F(y), \\eta=G(y)]$\n",
    "\n",
    "(4) $[\\xi=F(x), \\eta=G(y)]$,   $[\\xi=F(y), \\eta=G(x)]$\n",
    "\n",
    "(5) $[\\xi=ax+by+c, \\eta=fx+gy+h]$\n",
    "\n",
    "We see that the linear symmetries presented in <a href='#ref:chebterrabkolokolnikov'>[1]</a> are a generalization of the search for symmetries of the form (3) presented in <a href='#ref:chebterrabroche'>[2]</a>. \n",
    "\n",
    "These methods have been implemented in the function ode1solve and can be found in the file ode1_lie.mac. Additionally, several other methods have been implemented that search for symmetries of specific ODEs. These algorithms are very fast but also limited in applicability. The implemented methods are symmetry searches for ODEs of the type: linear, inverse-linear, separable, exact, Riccati, Bernoulli and Abel. These symmetries can also be found using the search for more general symmetries mentioned above, but these dedicated methods are usually much faster. \n",
    "\n",
    "<h3 align=\"left\">Performance of the implementation</h3>\n",
    "\n",
    "As a performance test, the database of Kamke's first order ODEs was used <a href='#ref:kamke'>[3]</a>. In the database are 367 ODEs of first order and first degree. A number of these ODEs (Cheb-Terrab and Kolokolnikov mention 20 of the first order - first degree) are unsolvable because they are too general (these are ODEs 47, 48, 50, 55, 56, 74, 79, 82, 202, 219, 234, 235, 237, 250, 253, 269, 331). 178 of the ODEs are of type separable, linear, inverse linear and Bernoulli and therefore considered straightforward to solve. They were not considered in the evaluation of the symmetry method in <a href='#ref:chebterrabroche'>[2]</a>. These equations (as well as all homogeneous and Ricatti and Abel odes with constant invariants) all have linear symmetries. Of the 246 ODEs of first order and first degree that are left, 133 were solved by the Cheb-Terrab and Roche method.\n",
    "With the method of Cheb-Terrab and Kolokolnikov, another 20 ODEs of first order and first degree with linear symmetries can be found.  \n",
    "\n",
    "Our implementation currently finds (nontrivial) symmetries for 298 of the 347 solvable ODEs of first order and first degree, which amounts to a success rate of 85%. Every nontrivial symmetry of a first order ODE directly leads to an integrating factor, and therefore to a solution of the ODE. Most ODEs for which no symmetries could be found are currently outside the scope of the method. They are Riccati or (nonconstant invariant) Abel ODEs with special function solutions like Bessel functions."
   ]
  },
  {
   "cell_type": "markdown",
   "metadata": {},
   "source": [
    "<h3 align=\"left\"><b>Overview of functions, options and keywords </b></h3>\n",
    "\n",
    "<u>Function:</u> <b>ode1solve(ode,y,x,[options])</b>\n",
    "\n",
    "Returns: a list with the analytical solutions of the ODE, or false when no solutions are found.\n",
    "\n",
    "ode1solve is an Ordinary Differential Equation (ODE) solver for first order ODEs using symmetries.\n",
    "If point symmetries can be found for the input ODE(s), ode1solve will use these symmetries to solve construct and integrating factor and solve the ODE. The input is a first order ode of the form F('diff(y,x),y,x)=0. ode1solve will first try to solve the ode explicitly for 'diff(y,x) and then solve each of the branches. The default is to return the explicit analytical solution(s) as a list. The list may contain more than one solution. "
   ]
  },
  {
   "cell_type": "code",
   "execution_count": null,
   "metadata": {
    "scrolled": true
   },
   "outputs": [],
   "source": [
    "kill(all);batch(\"~/mathematics/maxima_files/kamke1_1.mac\");batch(\"~/mathematics/maxima_files/ode1_lie.mac\");DEBUGFLAG:1;"
   ]
  },
  {
   "cell_type": "code",
   "execution_count": 3,
   "metadata": {},
   "outputs": [
    {
     "data": {
      "text/latex": [
       "\\[\\tag{${\\it \\%o}_{157}$}\\left[ y=-\\frac{x^3+15\\,x-{\\it \\%c}}{3} \\right] \\]"
      ],
      "text/plain": [
       "                                    3\n",
       "                                   x  + 15 x - %c\n",
       "(%o157)                     [y = - --------------]\n",
       "                                         3"
      ],
      "text/x-maxima": [
       "[y = -(x^3+15*x-%c)/3]"
      ]
     },
     "execution_count": 3,
     "metadata": {},
     "output_type": "execute_result"
    }
   ],
   "source": [
    "ode1solve('diff(y,x)+x^2+5,y,x);"
   ]
  },
  {
   "cell_type": "markdown",
   "metadata": {},
   "source": [
    "Optional arguments are:\n",
    "<dl>\n",
    "\n",
    "<dt>(bool) <b>returnSymmetries</b>={true,false}</dt>\n",
    "    default: false\n",
    "    <dd>if returnSymmetries=true, ode1solve will return the symmetries of the ode as a list [$\\xi$,$\\eta$ </dd></br>\n",
    "    \n",
    "<dt>(bool) <b>returnIntegratingFactor</b>={true,false}</dt>\n",
    "    default: false\n",
    "    <dd>if returnIntegratingFactor=true, ode1Solve will first try to find the symmetries and then use them to construct and return an integrating factor $\\mu$ for the ode as a list [$\\mu$]. A symmetry of the ODE has to be found first.</dd></br>\n",
    "    \n",
    "<dt>(bool) <b>returnSolution</b>={true,false}</dt>\n",
    "    default: true\n",
    "    <dd>if returnSolution=true, ode1solve will use the integrating factor to find the general analytic solution(s) and will return it as a list [sol]. </dd></br>\n",
    "    \n",
    "<dt>(bool) <b>returnExplicit</b>={true,false}</dt>\n",
    "    default: true\n",
    "    <dd>If returnExplicit is true, ode1solve will try to find the explicit solution of the ode. A symmetry and an integrating factor have to be found first. When returnExplicit is false, the implicit solution will be returned as a first integral.</dd></br>\n",
    "\n",
    "<dt>(bool) <b>tryInverse</b>={true,false}</dt>\n",
    "    default: false\n",
    "    <dd>When tryInverse=true, after all regular symmetry methods have been tried and when no symmetry could be found, all methods are tried again but with the inverse ode $y'=1/(a(y)x+b(y)$</dd></br>\n",
    "    \n",
    "<dt>(bool) <b>useCanonical</b>={true,false}</dt>\n",
    "    default: true\n",
    "    <dd>when useCanonical is true, the ode will first be cast into some canonical form before ode1solve tries to solve it. When the original ODE is exact, the canonical form might not be exact.</dd></br>\n",
    "    \n",
    "<dt> (string) <b>useMethod</b>=\"method\"</dt>\n",
    "    default: \"all\"\n",
    "    <dd>Use only \"method\" to find symmetries, integrating factors or solutions. Method can be a string or a list of strings. Options are:\n",
    "    \"all\", \"quadrature\", \"fx\",\"fy\",\"exact\",\"separable\", \"riccati\", \"Riccati\", \"abel\", \"Abel\", \"linear\", \"inverse-linear\",\"bernoulli\",\"Bernoulli\",\"symmetry1\",\"symmetry2\",\"symmetry3\",\"symmetry4\",\"symmetry5\",\"muc\",\"symmetry5b\",\"symmetry6\".\n",
    "       method can be a list, and the methods in the list will then be tried in the order found in the list. \n",
    "       the method \"all\" is a predefined list: [\"separable\",\"exact\",\"linear\",\"inverse-linear\",\"bernoulli\",\"riccati\", \"symmetry1\",\"symmetry2\",\"symmetry3\",\"symmetry4\",\"symmetry5\",\"symmetry5b\",\"symmetry6\"] \n",
    "methods available are :\n",
    "        \n",
    "<dl>\n",
    "  <dt>fx</dt>\n",
    "    solves an ode of the form $y'=f(x)$\n",
    "  <dt>fy</dt>\n",
    "      <dd> solves an ode of the form $y'=f(y)$</dd>\n",
    "  <dt>quadrature</dt>\n",
    "    <dd> solves an ode that can be solved using quadrature. The ode is of the form $y'=f(x)$ or $y'=f(y)$. </dd>\n",
    "  <dt>separable</dt>\n",
    "    <dd> solves separable odes. The ode is of the form $y'=f(x)*g(y)$</dd>\n",
    "  <dt>linear</dt>\n",
    "      <dd> solves linear odes. The ode is of the form $y'=f(x)y + g(x)$</dd>\n",
    "  <dt>inverse-linear</dt>\n",
    "      <dd> solves inverse-linear odes. The ode is of the form $y'=1/(f(y)x + g(y))$</dd>\n",
    "  <dt>exact</dt>\n",
    "      <dd> solves exact odes. The ode is of the form $y'=\\frac{Q(x,y)}{P(x,y)}$ and $\\frac{dP}{dx}-\\frac{dQ}{dy}=0$</dd>\n",
    "  <dt>abel, Abel</dt>\n",
    "      <dd> solves Abel odes. The ode is of the form $y'=a(x)y^3+b(x)y^2+c(x)y+d(x)$ or can be written in this form using a transformation. Only Abel odes with constant invariants are solved. These are also solved by symmetry method 6.</dd>\n",
    "  <dt>bernoulli,Bernoulli</dt>\n",
    "      <dd> solves Bernoulli odes. The ode is of the form $y'=f(x)*y^n + g(x)*y$.</dd>\n",
    "  <dt>riccati,Riccati</dt>\n",
    "    <dd> solves Riccati odes. The ode is of the form $y'=f(x)*y^2 + g(x)*y + h(x)$. Only Riccati odes with constant invariant are solved with this routine. Many other Riccati ode's are solved with the symmetry methods.</dd>\n",
    "  <dt>symmetry1..4</dt>\n",
    "  <dd> The symmetry methods of Cheb-Terrab and Roche.</dd>\n",
    "  <dt>symmetry5</dt>\n",
    "  <dd> Tries to find symmetries of polynomial form. The default is a third degree multivariate polynomial in x and y (In Cheb-Terrab and Roche, a first degree polynomial was used). </dd>\n",
    "    <dt>symmetry6</dt>\n",
    "<dd> The symmetry method of Cheb-Terrab and Kolokolnikov. Note that this method makes a call to method symmetry4.</dd>\n",
    "    <dt>all</dt>\n",
    "<dd> use all available methods in the following order: quadrature, separable, exact, linear, inverse-linear, bernoulli, riccati, symmetry1, symmetry2, symmetry3, symmetry4, symmetry5, symmetry6. </dd>    \n",
    "</dl>"
   ]
  },
  {
   "cell_type": "code",
   "execution_count": 4,
   "metadata": {},
   "outputs": [
    {
     "data": {
      "text/latex": [
       "Bernoulli ODE: y' +a(x)*y = b(x)*y^n, with [b(x),n,a(x)] =  \\(q\\left(x\\right)\\) ,  \\(4\\) ,  \\(-p\\left(x\\right)\\)"
      ],
      "text/plain": [
       "inline-value"
      ]
     },
     "metadata": {},
     "output_type": "display_data"
    },
    {
     "data": {
      "text/latex": [
       "\\[\\tag{${\\it \\%o}_{158}$}1\\]"
      ],
      "text/plain": [
       "(%o158)                                1"
      ],
      "text/x-maxima": [
       "1"
      ]
     },
     "execution_count": 4,
     "metadata": {},
     "output_type": "execute_result"
    },
    {
     "data": {
      "text/latex": [
       "\\[\\tag{${\\it \\%o}_{159}$}\\frac{d}{d\\,x}\\,y+p\\left(x\\right)\\,y=q\\left(x\\right)\\,y^4\\]"
      ],
      "text/plain": [
       "                             dy                  4\n",
       "(%o159)                      -- + p(x) y = q(x) y\n",
       "                             dx"
      ],
      "text/x-maxima": [
       "'diff(y,x,1)+p(x)*y = q(x)*y^4"
      ]
     },
     "execution_count": 4,
     "metadata": {},
     "output_type": "execute_result"
    },
    {
     "data": {
      "text/latex": [
       "\\[\\tag{${\\it \\%o}_{160}$}\\left[ \\frac{e^ {- 3\\,\\int {p\\left(x\\right)}{\\;dx} }\\,\\left(3\\,e^{3\\,\\int {p\\left(x\\right)}{\\;dx}}\\,\\left(\\int {e^ {- 3\\,\\int {p\\left(x\\right)}{\\;dx} }\\,q\\left(x\\right)}{\\;dx}\\right)\\,y^3+1\\right)}{y^3}={\\it \\%c} \\right] \\]"
      ],
      "text/plain": [
       "(%o160) \n",
       "           /                /                  /\n",
       "           [                [                  [\n",
       "       - 3 I p(x) dx      3 I p(x) dx      - 3 I p(x) dx\n",
       "           ]                ]          /       ]\n",
       "           /                /          [       /                   3\n",
       "     %e              (3 %e            (I %e              q(x) dx) y  + 1)\n",
       "                                       ]\n",
       "                                       /\n",
       "    [-------------------------------------------------------------------- = %c]\n",
       "                                       3\n",
       "                                      y"
      ],
      "text/x-maxima": [
       "[(%e^-(3*'integrate(p(x),x))*(3*%e^(3*'integrate(p(x),x))\n",
       "                               *('integrate(%e^-(3*'integrate(p(x),x))*q(x),\n",
       "                                            x))*y^3\n",
       "                             +1))\n",
       "  /y^3\n",
       "   = %c]"
      ]
     },
     "execution_count": 4,
     "metadata": {},
     "output_type": "execute_result"
    }
   ],
   "source": [
    "DEBUGFLAG:1;\n",
    "ode:'diff(y,x)+p(x)*y=q(x)*y^4;\n",
    "ode1solve(ode,y,x,'returnExplicit=false,'useMethod=\"bernoulli\");"
   ]
  },
  {
   "cell_type": "markdown",
   "metadata": {},
   "source": [
    "The default of ode1solve is to use all these methods sequentially, in this order, to find a solution of the ode $y'=\\Phi(x,y)$. The method abel is not called because all Abel ODEs with constant invariants have linear symmetries and can be solved by the method \"symmetry6\". Abel ODEs with non-constant invariants cannot be solved in general, althought there are a couple of specific cases where ode1solve is able to find a symmetry. \n",
    "All the available methods can be called individually. When for instance <i>'useMethod=\"symmetry1\"</i> is chosen, ode1solve searches for symmetries of type $[\\xi=F(x)*G(y), \\eta=0]$. If the ODE instead has the inverse symmetries $[\\xi=0, \\eta=F(x)*G(y)]$, then these inverse symmetries can be found by looking for symmetries of the inverse ode $y' =\\frac{1}{\\Phi(y,x)}$. The inverse of an ODE can be found by using the change of variables $x\\rightarrow y^{*}(x^{*})$ and $y(x)\\rightarrow x^{*}$ and then renaming $y^{*}$ as $y$ and $x^{*}$ as $x$, see e.g. [2].\n",
    "\n",
    "    "
   ]
  },
  {
   "cell_type": "markdown",
   "metadata": {},
   "source": [
    "<h3 align=\"left\"><b>keywords for the method of undetermined coefficients </b></h3>\n",
    "\n",
    "The method of undetermined coefficients is called \"symmetry5\", an alias is \"muc\". This method tries to find a symmetry of an ODE using the method of undetermined coefficients. When no keywords are given by the user, we search for polynomial symmetries of the form \n",
    "    \n",
    "$ax+by+cxy+dx^2+...$,   \n",
    "\n",
    "where the default polynomial order is 2. This is determined by the global keyword SYM5DEGREE and can be changed by the user. It turns out that a polynomial degree of 5 or more is computationally too expensive for even the most patient user.\n",
    "    \n",
    "Symmetry5b is another implementation of the method of undetermined coefficients where we search for rational symmetries of the form $\\frac{P}{Q}$, with $P$ and $Q$ polynomials in the undetermined variables (usually the dependent variable $y$ and independent variable $x$ in $\\frac{dy}{dx}=\\Psi(x,y)$).\n",
    "Symmetry5b looks for first for symmetries of the form $[0,F/G]$ where $F$ is a polynomial $F(x,y)$ and $G=P$ is the polynomial expression in the denominator of the ODE $\\frac{dy}{dx}=\\frac{Q}{P}$. The degree of the polynomial $F$ is fixed at 5.  \n",
    "When these symmetries can not be found, symmetry5b looks for symmetries of the form $[0,F/G]$ and $[F/G,0]$, where $F$ and $G$ are both undetermined polynomials. The degree of the polynomials are set to SYM5DEGREE-1. \n",
    "if SYM5RAT is true, symmetry5b additionally searches for polynomials of the form \n",
    "    \n",
    "$[(ax+by+c)/(dx+ey+f),(gx+hy+i)/(jx+ky+l)]$. \n",
    "\n",
    "The default for SYM5RAT is false because this method is very expensive and does not uniquely solve any ODE in the kamke database.\n",
    "The user can also define her own predefined shapes for the symmetries. This method requires two keywords: xi and eta. xi and eta define the shape of the symmetry, e.g. \n",
    "$xi=a*x+b*y+c$ \n",
    "or \n",
    "$xi=a*sin(x)$  \n",
    "A separate tutorial on using the method of undetermined coefficients is [symmetry5.ipynb](symmetry5.ipynb)   \n",
    "</dl>"
   ]
  },
  {
   "cell_type": "markdown",
   "metadata": {},
   "source": [
    "<h3 align=\"left\"><b>Global variables </b></h3>\n",
    "\n",
    "<u>System variable:</u> <b>(bool) FIX_INTEGRATION_CONSTANT</b></br>\n",
    "default: true</br>\n",
    "When FIX_INTEGRATION_CONSTANT=true, the integration constant will be fixed at maxima's system variable integration_constant (which is usually %c). When FIX_INTEGRATION_CONSTANT=false, then every call to ode1SolveWithIntegrationFactor (this is called from ode1solve as well) will result in a new integration constant %c1, %c2, etc. where the initial value for the counter is taken from maxima's system variable integration_constant_counter.\n",
    "\n",
    "<u>System variable:</u> <b>(integer) DEBUGFLAG</b>={0,1,2,3,4,5}</br>\n",
    "default: 1 </br>\n",
    "When DEBUGFLAG=0, no information except the solution or errors are printed. More intermediate information is given for increasing values of DEBUGFLAG\n",
    "<dl>\n",
    "    <dt>0: no intermediate information</dt>\n",
    "    <dt>1: warning messages</dt>\n",
    "    <dt>2: main results from intermediate calculations (symmetries, integrating factor)</dt>\n",
    "    <dt>3: additional intermediate results</dt>\n",
    "    <dt>4: More intermediate results, for debugging </dt>\n",
    "    <dt>5: A lot of output, for serious debugging </dt>\n",
    "</dl>\n",
    "    "
   ]
  },
  {
   "cell_type": "markdown",
   "metadata": {},
   "source": [
    "<u>System variable:</u> <b>(string) method</b></br>\n",
    "default: false </br>\n",
    "\n",
    "method returns the last successful method used to solve an ODE. if the last call to the solver failed, method is false. "
   ]
  },
  {
   "cell_type": "markdown",
   "metadata": {},
   "source": [
    "<u>System variable:</u> <b>(string) reason</b>\n",
    "\n",
    "default: \"none\"\n",
    "\n",
    "If known, reason returns information on why the solver was not able to find a solution, for instance if the ODE was found to be an Abel ODE with non-constant invariants. "
   ]
  },
  {
   "cell_type": "markdown",
   "metadata": {},
   "source": [
    "<u>Option variable:</u> <b>(bool) returnSymmetries</b>\n",
    "\n",
    "default: false\n",
    "\n",
    "When true, returnSymmetries returns the symmetries found as a list. "
   ]
  },
  {
   "cell_type": "markdown",
   "metadata": {},
   "source": [
    "<u>Option variable:</u> <b>(bool) returnIntegratingFactor</b>\n",
    "\n",
    "default: false\n",
    "\n",
    "When true, returnIntegratingFactor returns the integrating factors found as a list. "
   ]
  },
  {
   "cell_type": "markdown",
   "metadata": {},
   "source": [
    "<u>Option variable:</u> <b>(bool) returnExplicit</b>\n",
    "\n",
    "default: true\n",
    "\n",
    "When true, returnExplicit tries to return an explicit solution in the dependent variable. "
   ]
  },
  {
   "cell_type": "markdown",
   "metadata": {},
   "source": [
    "<u>Option variable:</u> <b>(bool) tryInverse</b>\n",
    "\n",
    "default: false\n",
    "\n",
    "When true, for every symmetry method that ode1solve tries (trying to find a symmetry $X=[\\xi,\\eta]$), after it has failed it will then try to find the inverse symmetry $X=[\\eta,\\xi]$."
   ]
  },
  {
   "cell_type": "markdown",
   "metadata": {},
   "source": [
    "<u>Option variable:</u> <b>(bool) SYM5RAT</b>\n",
    "\n",
    "default: false\n",
    "\n",
    "When SYM5RAT=true, ode1solve will try to find rational-polynomial symmetries of the ODE. This is usually time consuming."
   ]
  },
  {
   "cell_type": "markdown",
   "metadata": {},
   "source": [
    "<u>Option variable:</u> <b>(bool) CHECKSYM</b>\n",
    "\n",
    "default: true\n",
    "\n",
    "When true, checks if the symmetry and integrating factor is valid."
   ]
  },
  {
   "cell_type": "markdown",
   "metadata": {},
   "source": [
    "<u>function:</u> <b>ode1sym(ode,y,x)</b></br>\n",
    "an alias for ode1solve that will only return the symmetries"
   ]
  },
  {
   "cell_type": "code",
   "execution_count": 5,
   "metadata": {},
   "outputs": [
    {
     "data": {
      "text/latex": [
       "\\[\\tag{${\\it \\%o}_{161}$}\\left[ \\frac{1}{f\\left(x\\right)} , 0 \\right] \\]"
      ],
      "text/plain": [
       "                                     1\n",
       "(%o161)                            [----, 0]\n",
       "                                    f(x)"
      ],
      "text/x-maxima": [
       "[1/f(x),0]"
      ]
     },
     "execution_count": 5,
     "metadata": {},
     "output_type": "execute_result"
    }
   ],
   "source": [
    "ode1sym('diff(y,x)=f(x)*g(y),y,x);"
   ]
  },
  {
   "cell_type": "markdown",
   "metadata": {},
   "source": [
    "<u>function:</u> <b>ode1intfac(ode,y,x)</b></br>\n",
    "an alias for ode1solve that will only return the integrating factors"
   ]
  },
  {
   "cell_type": "code",
   "execution_count": 6,
   "metadata": {},
   "outputs": [
    {
     "data": {
      "text/latex": [
       "\\[\\tag{${\\it \\%o}_{162}$}\\left[ \\frac{1}{g\\left(y\\right)} \\right] \\]"
      ],
      "text/plain": [
       "                                      1\n",
       "(%o162)                             [----]\n",
       "                                     g(y)"
      ],
      "text/x-maxima": [
       "[1/g(y)]"
      ]
     },
     "execution_count": 6,
     "metadata": {},
     "output_type": "execute_result"
    }
   ],
   "source": [
    "ode1intfac('diff(y,x)=f(x)*g(y),y,x);"
   ]
  },
  {
   "cell_type": "markdown",
   "metadata": {},
   "source": [
    "<u>function:</u> <b>(list) isBernoulli(ode,y,x)</b></br>\n",
    "returns a list $[b(x),n,a(x)]$ of the ODE $y'+a(x)y=b(x)y^n$ if the input ode is a Bernoulli ODE, or false otherwise."
   ]
  },
  {
   "cell_type": "code",
   "execution_count": 7,
   "metadata": {},
   "outputs": [
    {
     "data": {
      "text/latex": [
       "Bernoulli ODE: y' +a(x)*y = b(x)*y^n, with [b(x),n,a(x)] =  \\(x\\) ,  \\(2\\) ,  \\(3\\,x\\)"
      ],
      "text/plain": [
       "inline-value"
      ]
     },
     "metadata": {},
     "output_type": "display_data"
    },
    {
     "data": {
      "text/latex": [
       "\\[\\tag{${\\it \\%o}_{163}$}\\left[ x , 2 , 3\\,x \\right] \\]"
      ],
      "text/plain": [
       "(%o163)                           [x, 2, 3 x]"
      ],
      "text/x-maxima": [
       "[x,2,3*x]"
      ]
     },
     "execution_count": 7,
     "metadata": {},
     "output_type": "execute_result"
    }
   ],
   "source": [
    "isBernoulli('diff(y,x)-x*y^2-3*x*y,y,x);"
   ]
  },
  {
   "cell_type": "markdown",
   "metadata": {},
   "source": [
    "<u>function:</u> <b>(list) isRiccati(ode,y,x)</b></br>\n",
    "returns the coefficients of the Riccati ODE $y' = A(x)+B(x)y+C(x)y^2$."
   ]
  },
  {
   "cell_type": "code",
   "execution_count": 8,
   "metadata": {},
   "outputs": [
    {
     "data": {
      "text/latex": [
       "Riccati ODE: y' = a(x) + b(x)*y + c(x)*y^2, with [a(x),b(x),c(x)] =  \\(x\\) ,  \\(0\\) ,  \\(1\\)"
      ],
      "text/plain": [
       "inline-value"
      ]
     },
     "metadata": {},
     "output_type": "display_data"
    },
    {
     "data": {
      "text/latex": [
       "\\[\\tag{${\\it \\%o}_{164}$}\\left[ x , 0 , 1 \\right] \\]"
      ],
      "text/plain": [
       "(%o164)                            [x, 0, 1]"
      ],
      "text/x-maxima": [
       "[x,0,1]"
      ]
     },
     "execution_count": 8,
     "metadata": {},
     "output_type": "execute_result"
    }
   ],
   "source": [
    "isRiccati('diff(y,x)=x+y^2,y,x);"
   ]
  },
  {
   "cell_type": "markdown",
   "metadata": {},
   "source": [
    "<u>function:</u> <b>(list) isChini(ode,y,x)</b></br>\n",
    "returns the coefficients [A,n,B,C] if the input ODE is a Chini ODE $y' = C(x) +B(x)y +A(x)y^n$, and false otherwise"
   ]
  },
  {
   "cell_type": "code",
   "execution_count": 9,
   "metadata": {},
   "outputs": [
    {
     "data": {
      "text/latex": [
       "\\[\\tag{${\\it \\%o}_{165}$}\\left[ x , 4 , x^2 , 5 \\right] \\]"
      ],
      "text/plain": [
       "                                         2\n",
       "(%o165)                          [x, 4, x , 5]"
      ],
      "text/x-maxima": [
       "[x,4,x^2,5]"
      ]
     },
     "execution_count": 9,
     "metadata": {},
     "output_type": "execute_result"
    }
   ],
   "source": [
    "isChini('diff(y,x)=x*y^4+x^2*y+5,y,x);"
   ]
  },
  {
   "cell_type": "markdown",
   "metadata": {},
   "source": [
    "<u>function:</u> <b>(list) isAbel(ode,y,x)</b></br>\n",
    "returns a list of the coefficients of the abel ODE, either in first kind form or second kind form if the input ODE is an Abel ODE, or false otherwise. Abel's ODE of the first kind is $y' = a_0(x)+a_1(x)y+a_2(x)y^2 +a_3(x)y^3$.\n",
    "Abel's ODE of the second kind is $y' = \\frac{a_0(x)+a_1(x)y+a_2(x)y^2 +a_3(x)y^3}{a(x)y+b(x)}$."
   ]
  },
  {
   "cell_type": "code",
   "execution_count": 10,
   "metadata": {},
   "outputs": [
    {
     "data": {
      "text/latex": [
       "\\[\\tag{${\\it \\%o}_{166}$}\\left[ {\\it \\_a}_{0}=5 , {\\it \\_a}_{1}=x , {\\it \\_a}_{2}=x^2 , {\\it \\_a}_{3}=x^3 , {\\it \\_y}=y \\right] \\]"
      ],
      "text/plain": [
       "                                          2         3\n",
       "(%o166)         [_a0 = 5, _a1 = x, _a2 = x , _a3 = x , _y = y]"
      ],
      "text/x-maxima": [
       "[_a0 = 5,_a1 = x,_a2 = x^2,_a3 = x^3,_y = y]"
      ]
     },
     "execution_count": 10,
     "metadata": {},
     "output_type": "execute_result"
    }
   ],
   "source": [
    "isAbel('diff(y,x)=5+x*y+x^2*y^2+x^3*y^3,y,x);"
   ]
  },
  {
   "cell_type": "code",
   "execution_count": 11,
   "metadata": {},
   "outputs": [
    {
     "data": {
      "text/latex": [
       "\\[\\tag{${\\it \\%o}_{167}$}\\left[ \\left[ {\\it \\_a}_{0}=5 , {\\it \\_a}_{1}=x , {\\it \\_a}_{2}=x^2 , {\\it \\_a}_{3}=x^3 , {\\it \\_y}=y \\right]  , \\left[ {\\it \\_a}=1 , {\\it \\_b}=x , {\\it \\_x}=y \\right]  \\right] \\]"
      ],
      "text/plain": [
       "                                   2         3\n",
       "(%o167) [[_a0 = 5, _a1 = x, _a2 = x , _a3 = x , _y = y], \n",
       "                                                      [_a = 1, _b = x, _x = y]]"
      ],
      "text/x-maxima": [
       "[[_a0 = 5,_a1 = x,_a2 = x^2,_a3 = x^3,_y = y],[_a = 1,_b = x,_x = y]]"
      ]
     },
     "execution_count": 11,
     "metadata": {},
     "output_type": "execute_result"
    }
   ],
   "source": [
    "isAbel('diff(y,x)=(5+x*y+x^2*y^2+x^3*y^3)/(x+y),y,x);"
   ]
  },
  {
   "cell_type": "markdown",
   "metadata": {},
   "source": [
    "<u>function:</u> <b>(bool) isAbelFirst(ode,y,x)</b></br>\n",
    "returns true if the input ode is an Abel ODE of the first kind $y' = a_0(x)+a_1(x)y+a_2(x)y^2 +a_3(x)y^3$."
   ]
  },
  {
   "cell_type": "markdown",
   "metadata": {},
   "source": [
    "<u>function:</u> <b>(bool) isAbelSecond(ode,y,x)</b></br>\n",
    "returns true if the input ode is an Abel ODE of the second kind $y' = \\frac{a_0(x)+a_1(x)y+a_2(x)y^2 +a_3(x)y^3}{a(x)y+b(x)}$."
   ]
  },
  {
   "cell_type": "markdown",
   "metadata": {},
   "source": [
    "<u>function:</u> <b> ode1AbelSecond2First(ode,y,x)</b></br>\n",
    "converts an Abel ODE of the second kind to an Abel ODE of the first kind"
   ]
  },
  {
   "cell_type": "markdown",
   "metadata": {},
   "source": [
    "<u>function:</u> <b> ode1AbelFirst2Second(ode,y,x)</b></br>\n",
    "converts an Abel ODE of the first kind to an Abel ODE of the second kind"
   ]
  },
  {
   "cell_type": "markdown",
   "metadata": {},
   "source": [
    "<u>function:</u> <b> ode1AbelRNF(ode,y,x)</b></br>\n",
    "converts an Abel ODE to its rational normal form, either $w'+aw3+bw=0$ or $w'+aw^3+bw+1=0$"
   ]
  },
  {
   "cell_type": "markdown",
   "metadata": {},
   "source": [
    "<u>function:</u> <b> ode1AbelSymmetries(ode,y,x)</b></br>\n",
    "Computes the symmetries of an Abel ODE. "
   ]
  },
  {
   "cell_type": "markdown",
   "metadata": {},
   "source": [
    "<u>function:</u> <b>(bool) isIntegratingFactor(mu,ode,y,x)</b></br>\n",
    "returns true if the input expression mu is an integrating factor of the ode."
   ]
  },
  {
   "cell_type": "markdown",
   "metadata": {},
   "source": [
    "<u>function:</u> <b> ode1_CanonicalForm(ode,y,x)</b></br>\n",
    "Write the input ODE into a 'canonical' form, meaning that we try to write the input ODE as an explicit ode $y'=\\omega(x,y)$ and we try to simplify the right hand side."
   ]
  },
  {
   "cell_type": "markdown",
   "metadata": {},
   "source": [
    "<u>function:</u> <b> ode1PfaffianForm(ode,y,x)</b></br>\n",
    "writes the input ODE $\\frac{dy}{dx}=\\frac{P(y,x)}{Q(y,x)}$ in Pfaffian form $P(y,x)dx-Q(y,x)dy=0$ and returns $[P,Q]$."
   ]
  },
  {
   "cell_type": "code",
   "execution_count": 12,
   "metadata": {},
   "outputs": [
    {
     "data": {
      "text/latex": [
       "\\[\\tag{${\\it \\%o}_{168}$}\\left[ g\\left(y\\right) , f\\left(x\\right) \\right] \\]"
      ],
      "text/plain": [
       "(%o168)                          [g(y), f(x)]"
      ],
      "text/x-maxima": [
       "[g(y),f(x)]"
      ]
     },
     "execution_count": 12,
     "metadata": {},
     "output_type": "execute_result"
    }
   ],
   "source": [
    "ode1PfaffianForm('diff(y,x)=f(x)/g(y),y,x);"
   ]
  },
  {
   "cell_type": "markdown",
   "metadata": {},
   "source": [
    "<u>function:</u> <b> checkSymmetries(X,ode,y,x)</b></br>\n",
    "substitutes the input symmetry into the linearized symmetry condition of the ode and returns the result. If the result is 0, then X is a symmetry of the ODE."
   ]
  },
  {
   "cell_type": "code",
   "execution_count": 13,
   "metadata": {},
   "outputs": [
    {
     "data": {
      "text/latex": [
       "\\[\\tag{${\\it \\%o}_{169}$}\\left[ \\frac{1}{f\\left(x\\right)} , 0 \\right] \\]"
      ],
      "text/plain": [
       "                                     1\n",
       "(%o169)                            [----, 0]\n",
       "                                    f(x)"
      ],
      "text/x-maxima": [
       "[1/f(x),0]"
      ]
     },
     "execution_count": 13,
     "metadata": {},
     "output_type": "execute_result"
    },
    {
     "data": {
      "text/latex": [
       "\\[\\tag{${\\it \\%o}_{170}$}0\\]"
      ],
      "text/plain": [
       "(%o170)                                0"
      ],
      "text/x-maxima": [
       "0"
      ]
     },
     "execution_count": 13,
     "metadata": {},
     "output_type": "execute_result"
    }
   ],
   "source": [
    "X:ode1sym('diff(y,x)=f(x)*g(y),y,x);\n",
    "checkSymmetries(X,'diff(y,x)=f(x)*g(y),y,x);"
   ]
  },
  {
   "cell_type": "markdown",
   "metadata": {},
   "source": [
    "<u>function:</u> <b>reverseODE1(ode,y,x)</b></br>\n",
    "returns the reverse ODE of the input ode, that is we interchange variables: $x^{*}=y$ and $y^{*}=x$ and return an ode $\\frac{dy^{*}}{dx^{*}}=\\omega(x^{*},y^{*})$."
   ]
  },
  {
   "cell_type": "code",
   "execution_count": 14,
   "metadata": {},
   "outputs": [
    {
     "data": {
      "text/latex": [
       "\\[\\tag{${\\it \\%o}_{171}$}\\left[ \\frac{d}{d\\,x}\\,y=\\frac{1}{x\\,y} \\right] \\]"
      ],
      "text/plain": [
       "                                   dy    1\n",
       "(%o171)                           [-- = ---]\n",
       "                                   dx   x y"
      ],
      "text/x-maxima": [
       "['diff(y,x,1) = 1/(x*y)]"
      ]
     },
     "execution_count": 14,
     "metadata": {},
     "output_type": "execute_result"
    }
   ],
   "source": [
    "reverseODE1('diff(y,x)=x*y,y,x);"
   ]
  },
  {
   "cell_type": "markdown",
   "metadata": {},
   "source": [
    "<u>function:</u> <b> rootsexpand(expr)</b></br>\n",
    "splits an expression containing square roots and factorizes the square roots such that $sqrt((p_1*p_2*...p_n)/(q_1*q_2*..q_m))= sqrt(p_1)*sqrt(p_2)*...sqrt(p_n)/(sqrt(q_1)*sqrt(q_2)*..sqrt(q_m))$.\n",
    "This is the inverse of rootscontract."
   ]
  },
  {
   "cell_type": "code",
   "execution_count": 15,
   "metadata": {},
   "outputs": [
    {
     "data": {
      "text/latex": [
       "\\[\\tag{${\\it \\%o}_{172}$}a^{\\frac{3}{2}}\\,\\left| x\\right| \\,\\sqrt{y}\\]"
      ],
      "text/plain": [
       "                               3/2\n",
       "(%o172)                       a    abs(x) sqrt(y)"
      ],
      "text/x-maxima": [
       "a^(3/2)*abs(x)*sqrt(y)"
      ]
     },
     "execution_count": 15,
     "metadata": {},
     "output_type": "execute_result"
    }
   ],
   "source": [
    "rootsexpand(sqrt(x^2*y*a^3));"
   ]
  },
  {
   "cell_type": "markdown",
   "metadata": {},
   "source": [
    "<u>function:</u> <b>determiningEquations(ode,y,x)</b></br>\n",
    "returns the determining equations of the first order ODE $y' = \\phi(x,y)$, which is given by:\n",
    "$\\eta_x + \\eta_y - \\xi_x*\\phi - \\xi_y*\\phi^2 - \\xi*\\phi_x - \\eta*\\phi_y$"
   ]
  },
  {
   "cell_type": "code",
   "execution_count": 16,
   "metadata": {},
   "outputs": [
    {
     "data": {
      "text/latex": [
       "\\[\\tag{${\\it \\%o}_{173}$}-{\\it \\_eta}\\,f\\left(x\\right)\\,g_{\\left(1\\right)}(y)-\\frac{d}{d\\,y}\\,{\\it \\_xi}\\,f\\left(x\\right)^2\\,g\\left(y\\right)^2-{\\it \\_xi}\\,f_{\\left(1\\right)}(x)\\,g\\left(y\\right)-\\frac{d}{d\\,x}\\,{\\it \\_xi}\\,f\\left(x\\right)\\,g\\left(y\\right)+\\frac{d}{d\\,y}\\,{\\it \\_eta}\\,f\\left(x\\right)\\,g\\left(y\\right)+\\frac{d}{d\\,x}\\,{\\it \\_eta}\\]"
      ],
      "text/plain": [
       "                                d_xi  2     2\n",
       "(%o173) (- _eta f(x) g   (y)) - ---- f (x) g (y) - _xi f   (x) g(y)\n",
       "                      (1)        dy                     (1)\n",
       "                                       d_xi             d_eta             d_eta\n",
       "                                     - ---- f(x) g(y) + ----- f(x) g(y) + -----\n",
       "                                        dx               dy                dx"
      ],
      "text/x-maxima": [
       "(-_eta*f(x)*pderivop(g,1)(y))-'diff(_xi,y,1)*f(x)^2*g(y)^2\n",
       "                             -_xi*pderivop(f,1)(x)*g(y)\n",
       "                             -'diff(_xi,x,1)*f(x)*g(y)\n",
       "                             +'diff(_eta,y,1)*f(x)*g(y)+'diff(_eta,x,1)"
      ]
     },
     "execution_count": 16,
     "metadata": {},
     "output_type": "execute_result"
    }
   ],
   "source": [
    "determiningEquations('diff(y,x)=f(x)*g(y),y,x);"
   ]
  },
  {
   "cell_type": "markdown",
   "metadata": {},
   "source": [
    "<u>function:</u> <b>canoni(X,y,x)</b></br>\n",
    "compute canonical coordinates from the input symmetry $X$."
   ]
  },
  {
   "cell_type": "code",
   "execution_count": 17,
   "metadata": {},
   "outputs": [
    {
     "data": {
      "text/latex": [
       "\\[\\tag{${\\it \\%o}_{174}$}\\left[ r=y , s=x \\right] \\]"
      ],
      "text/plain": [
       "(%o174)                         [r = y, s = x]"
      ],
      "text/x-maxima": [
       "[r = y,s = x]"
      ]
     },
     "execution_count": 17,
     "metadata": {},
     "output_type": "execute_result"
    }
   ],
   "source": [
    "canoni([1,0],y,x);"
   ]
  },
  {
   "cell_type": "markdown",
   "metadata": {},
   "source": [
    "<u>function:</u> <b>ode1FromSym(X,y,x)</b></br>\n",
    "Generate the most general ODE under the group $X$. The result will contain unknown functions $\\%F(x,y)$ in the independent and dependent variable."
   ]
  },
  {
   "cell_type": "code",
   "execution_count": 18,
   "metadata": {},
   "outputs": [
    {
     "data": {
      "text/latex": [
       "\\[\\tag{${\\it \\%o}_{175}$}\\frac{d}{d\\,x}\\,y={\\it \\%F}\\left(x\\right)\\,y\\]"
      ],
      "text/plain": [
       "                                 dy\n",
       "(%o175)                          -- = %F(x) y\n",
       "                                 dx"
      ],
      "text/x-maxima": [
       "'diff(y,x,1) = %F(x)*y"
      ]
     },
     "execution_count": 18,
     "metadata": {},
     "output_type": "execute_result"
    }
   ],
   "source": [
    "ode1FromSym([0,y],y,x);"
   ]
  },
  {
   "cell_type": "markdown",
   "metadata": {},
   "source": [
    "<u>function:</u> <b>(expr) differentialInvariants(X,y,x)</b></br>\n",
    "Compute differential invariants from the symmetry"
   ]
  },
  {
   "cell_type": "code",
   "execution_count": 19,
   "metadata": {},
   "outputs": [
    {
     "data": {
      "text/latex": [
       "\\[\\tag{${\\it \\%o}_{176}$}\\left[ y={\\it \\%c} \\right] \\]"
      ],
      "text/plain": [
       "(%o176)                            [y = %c]"
      ],
      "text/x-maxima": [
       "[y = %c]"
      ]
     },
     "execution_count": 19,
     "metadata": {},
     "output_type": "execute_result"
    }
   ],
   "source": [
    "differentialInvariants([1,0],y,x);"
   ]
  },
  {
   "cell_type": "markdown",
   "metadata": {},
   "source": [
    "<u>function:</u> <b>(expr) riccati_RNF(ode,y,x)</b></br>\n",
    "try to put the input Riccati ODE into it's Rational Normal Form."
   ]
  },
  {
   "cell_type": "code",
   "execution_count": 20,
   "metadata": {},
   "outputs": [
    {
     "data": {
      "text/latex": [
       "Riccati ODE: y' = a(x) + b(x)*y + c(x)*y^2, with [a(x),b(x),c(x)] =  \\(5\\,\\left(x+1\\right)\\) ,  \\(0\\) ,  \\(x\\)"
      ],
      "text/plain": [
       "inline-value"
      ]
     },
     "metadata": {},
     "output_type": "display_data"
    },
    {
     "data": {
      "text/latex": [
       "\\[\\tag{${\\it \\%o}_{177}$}\\frac{d}{d\\,t}\\,u=\\frac{5\\,t^3\\,u^2}{t+1}+\\frac{10\\,t^2\\,u^2}{t+1}+\\frac{5\\,t\\,u^2}{t+1}-\\frac{u}{t+1}+\\frac{t}{t+1}+\\frac{1}{t+1}\\]"
      ],
      "text/plain": [
       "                   3  2       2  2        2\n",
       "           du   5 t  u    10 t  u    5 t u      u       t       1\n",
       "(%o177)    -- = ------- + -------- + ------ - ----- + ----- + -----\n",
       "           dt    t + 1     t + 1     t + 1    t + 1   t + 1   t + 1"
      ],
      "text/x-maxima": [
       "'diff(u,t,1) = (5*t^3*u^2)/(t+1)+(10*t^2*u^2)/(t+1)+(5*t*u^2)/(t+1)-u/(t+1)\n",
       "                                +t/(t+1)+1/(t+1)"
      ]
     },
     "execution_count": 20,
     "metadata": {},
     "output_type": "execute_result"
    }
   ],
   "source": [
    "riccati_RNF('diff(y,x)=x*y^2+5*x+5,y,x);"
   ]
  },
  {
   "cell_type": "markdown",
   "metadata": {},
   "source": [
    "# Bibliography\n",
    "[1] <a id='ref:chebterrabkolokolnikov'></a> E.S. Cheb-Terrab and T. Kolokolnikov, First-order ordinary differential equations, symmetries and linear transformations, Euro. J. of Applied Mathematics 14 (2003)\n",
    "\n",
    "[2] <a id='ref:chebterrabroche'></a> E.S. Cheb-Terrab and A.D. Roche, Symmetries and first order ODE patterns, Computer Physics Communications 113 (1998)\n",
    "\n",
    "[3] <a id='ref:kamke'></a>E. Kamke, Differentialgleichungen, L$\\ddot o$sungsmethoden und L$\\ddot o$sungen, Leipzig (1959)\n",
    "\n",
    "[4] <a id='ref:chebterrabduarte'></a> E.S. Cheb-Terrab, L.G.S. Duarte and L.A.C.P. da Mota, Computer algebra solving of first order ODEs using symmetry methods, Computer Physics Communications 101 (1997)\n",
    "\n",
    "[5] <a id='ref:schwarz1'></a> F. Schwarz, Symmetry analysis of Abel's equation, Studies in applied mathematics 100 (1998)\n",
    "\n",
    "[6] <a id='ref:schwarz2'></a> F. Schwarz, Algorithmic solution of Abel's equation, Computing 61 (1998)\n"
   ]
  }
 ],
 "metadata": {
  "kernelspec": {
   "display_name": "Maxima",
   "language": "maxima",
   "name": "maxima"
  },
  "language_info": {
   "codemirror_mode": "maxima",
   "file_extension": ".mac",
   "mimetype": "text/x-maxima",
   "name": "maxima",
   "pygments_lexer": "maxima",
   "version": "5.43.0"
  }
 },
 "nbformat": 4,
 "nbformat_minor": 4
}
