{
 "cells": [
  {
   "cell_type": "markdown",
   "metadata": {},
   "source": [
    "<h1 align=\"center\"> Separation of variables  </h1>\n",
    "<h3 align=\"center\">A symbolic algorithm for the maxima CAS </br> Nijso Beishuizen</h3>\n",
    "\n",
    "\n",
    "We discuss a simple but effective implementation of a method to separate variables. Separation of variables is a well-known and much-used technique to solve ordinary and partial differential equations. \n",
    "\n",
    "An expression $F(x,y)$ with the 2 independent variables $x$ and $y$ is separable when $\\frac{\\partial F}{\\partial x}/F = \\frac{F_x}{F}$ depends only on $x$, see <a href='#ref:viazminsky'>[1]</a>, <a href='#ref:cid'>[1]</a>. This is easy to see because if $F$ is separable, it can be written as $F=f(x)\\cdot R(y)$. If on both sides we take the derivative with respect to $x$ and divide by $F$ we obtain: $\\frac{F_x}{F} = \\frac{f_x}{f}$. Since we know that the right-hand side is a function of only x, the left-hand side must be as well.\n",
    "The separated function $f(x)$ can then be found by solving the differential equation:\n",
    "\n",
    "$|f(x)| = e^{\\int(F_x/Fdx)}$ (1)\n",
    "\n",
    "The function $g(y)$ can be found in a similar way, e.g. by computing:\n",
    "\n",
    "$|g(y)| = e^{\\int(F_y/Fdy)}$, (2)\n",
    "\n",
    "or by using $g(y) = F(x,y)/f(x)$. Note that the latter approach might be computationally more costly because we have to properly factor out the x-dependency. With the above aproach eqs. (1)-(2), we lose any constant factors, e.g. when $F(x,y)=C \\cdot f(x) \\cdot g(y)$, we have lost $C$. We can find $C$ during the evaluation of our results: we check that \n",
    "$C = \\frac{F(x,y)}{f(x)\\cdot g(y)}$ is free of $x$ and $y$.\n",
    "\n",
    " \n",
    "The maxima implementation for separation of variables has been implemented as follows:\n"
   ]
  },
  {
   "cell_type": "markdown",
   "metadata": {},
   "source": [
    "# Function and variable index\n",
    "\n",
    "<u>Function:</u> <b>separable</b>(expr,x,y,[options])\n",
    "\n",
    "If the input expression is a separable function in the independent variables $x$ and $y$, e.g. the expression can be written as $C\\cdot f(x)\\cdot g(y)$, with $C$ a constant independent of $x,y$, then separable(expr,x,y) returns a list of the form $[f(x), C\\cdot g(y)]$, or false when the expression is not separable.\n",
    "When the optional input option *'splitConstant=true* is set, the constant factor will be separated as well and a list $[f(x),g(y),C]$ will be returned.\n",
    "\n",
    "\n",
    "<u>Function:</u> <b>isSeparable</b>(expr,x,y)\n",
    "\n",
    "If the input expression can be written as a separable expression $f(x)\\cdot g(y)$, return true, otherwise return false.\n",
    "\n",
    "<u>Function:</u> <b>constant_factors</b>(expr,varlist)\n",
    "\n",
    "If the input expression can be written as $C\\cdot F(x,y)$, with $C$ an expression free of the variables in the list varlist, *constant_factors* will return the constant, or 1.\n"
   ]
  },
  {
   "cell_type": "markdown",
   "metadata": {},
   "source": [
    "# Example\n",
    "For some expressions is it not immediately clear from inspection that they are separable. For instance the expression\n",
    "\n",
    "$e^{x^2+y^2}(\\cos(x+y) + \\cos(x-y))$ \n",
    "\n",
    "can be rewritten as the product of separable functions: \n",
    "\n",
    "$e^{x^2} \\cdot e^{y^2} \\cdot 2\\cos(x) \\cos(y)$\n",
    "\n",
    "The maxima implementation of the above algorithm recognizes this without relying on pattern matching to recognize this separation.  "
   ]
  },
  {
   "cell_type": "code",
   "execution_count": 24,
   "metadata": {
    "scrolled": true
   },
   "outputs": [
    {
     "name": "stdout",
     "output_type": "stream",
     "text": [
      "\n",
      "read and interpret /home/nijso/mathematics/maxima_files/separable.mac\n"
     ]
    },
    {
     "data": {
      "text/plain": [
       "(%i2) batch(\"/home/nijso/mathematics/maxima_files/ode_extra.mac\")"
      ],
      "text/x-maxima": [
       "batch(\"/home/nijso/mathematics/maxima_files/ode_extra.mac\")"
      ]
     },
     "metadata": {},
     "output_type": "display_data"
    },
    {
     "name": "stdout",
     "output_type": "stream",
     "text": [
      "\n",
      "read and interpret /home/nijso/mathematics/maxima_files/ode_extra.mac\n"
     ]
    },
    {
     "data": {
      "text/plain": [
       "(%i3) DEBUGFLAG:1"
      ],
      "text/x-maxima": [
       "DEBUGFLAG:1"
      ]
     },
     "metadata": {},
     "output_type": "display_data"
    },
    {
     "data": {
      "text/plain": [
       "(%i4) MAX_LENGTH_FOR_SIMPLIFICATION:30000"
      ],
      "text/x-maxima": [
       "MAX_LENGTH_FOR_SIMPLIFICATION:30000"
      ]
     },
     "metadata": {},
     "output_type": "display_data"
    },
    {
     "data": {
      "text/plain": [
       "(%i5) dprint(flag,[_expr])::=if flag <= DEBUGFLAG\n",
       "              then buildq([_expr],print(splice(_expr)))"
      ],
      "text/x-maxima": [
       "dprint(flag,[_expr])::=if flag <= DEBUGFLAG\n",
       "        then buildq([_expr],print(splice(_expr)))"
      ]
     },
     "metadata": {},
     "output_type": "display_data"
    },
    {
     "data": {
      "text/plain": [
       "(%i6) listUDF(_expr):=block([_counter:0,listUDF:[]],listUDFPriv(_expr,[]),\n",
       "              return(unique(listUDF)))"
      ],
      "text/x-maxima": [
       "listUDF(_expr):=block([_counter:0,listUDF:[]],listUDFPriv(_expr,[]),\n",
       "        return(unique(listUDF)))"
      ]
     },
     "metadata": {},
     "output_type": "display_data"
    },
    {
     "data": {
      "text/plain": [
       "(%i7) listUDFPriv(_expr,_opList):=block([_x,_args,_newList],\n",
       "                  if atom(_expr) then _opList\n",
       "                      else (if udf(_expr) then listUDF:cons(_expr,listUDF)\n",
       "                                else (_x:op(_expr),_args:args(_expr),\n",
       "                                      _newList:cons(_x,_opList),\n",
       "                                      for _arg in _args do\n",
       "                                          _newList:listUDFPriv(_arg,_newList),\n",
       "                                      _newList)))"
      ],
      "text/x-maxima": [
       "listUDFPriv(_expr,_opList):=block([_x,_args,_newList],\n",
       "            if atom(_expr) then _opList\n",
       "                else (if udf(_expr) then listUDF:cons(_expr,listUDF)\n",
       "                          else (_x:op(_expr),_args:args(_expr),\n",
       "                                _newList:cons(_x,_opList),\n",
       "                                for _arg in _args do\n",
       "                                    _newList:listUDFPriv(_arg,_newList),\n",
       "                                _newList)))"
      ]
     },
     "metadata": {},
     "output_type": "display_data"
    },
    {
     "data": {
      "text/plain": [
       "(%i8) listUDFGeneral(_expr):=block([_counter:0,listUDF:[]],\n",
       "                     listUDFGeneralPriv(_expr,[]),return(unique(listUDF)))"
      ],
      "text/x-maxima": [
       "listUDFGeneral(_expr):=block([_counter:0,listUDF:[]],\n",
       "               listUDFGeneralPriv(_expr,[]),return(unique(listUDF)))"
      ]
     },
     "metadata": {},
     "output_type": "display_data"
    },
    {
     "data": {
      "text/plain": [
       "(%i9) listUDFGeneralPriv(_expr,_opList):=block([_x,_args,_newList],\n",
       "                         if atom(_expr) then _opList\n",
       "                             else (if udfGeneral(_expr)\n",
       "                                       then listUDF:cons(_expr,listUDF)\n",
       "                                       else (_x:op(_expr),_args:args(_expr),\n",
       "                                             _newList:cons(_x,_opList),\n",
       "                                             for _arg in _args do\n",
       "                                                 _newList\n",
       "                                                 :listUDFGeneralPriv(\n",
       "                                                  _arg,_newList),_newList)))"
      ],
      "text/x-maxima": [
       "listUDFGeneralPriv(_expr,_opList):=block([_x,_args,_newList],\n",
       "                   if atom(_expr) then _opList\n",
       "                       else (if udfGeneral(_expr)\n",
       "                                 then listUDF:cons(_expr,listUDF)\n",
       "                                 else (_x:op(_expr),_args:args(_expr),\n",
       "                                       _newList:cons(_x,_opList),\n",
       "                                       for _arg in _args do\n",
       "                                           _newList\n",
       "                                           :listUDFGeneralPriv(_arg,_newList),\n",
       "                                       _newList)))"
      ]
     },
     "metadata": {},
     "output_type": "display_data"
    },
    {
     "data": {
      "text/plain": [
       "(%i10) simplifyingp(_f):=symbolp(_f) and is(get(_f,operators) = false)"
      ],
      "text/x-maxima": [
       "simplifyingp(_f):=symbolp(_f) and is(get(_f,operators) = false)"
      ]
     },
     "metadata": {},
     "output_type": "display_data"
    },
    {
     "data": {
      "text/plain": [
       "(%i11) udf(_f):=not stringp(op(_f)) and symbolp(op(_f))\n",
       "            and simplifyingp(op(_f)) and not fboundp(op(_f))"
      ],
      "text/x-maxima": [
       "udf(_f):=not stringp(op(_f)) and symbolp(op(_f)) and simplifyingp(op(_f))\n",
       "     and not fboundp(op(_f))"
      ]
     },
     "metadata": {},
     "output_type": "display_data"
    },
    {
     "data": {
      "text/plain": [
       "(%i12) udfGeneral(_f):=not stringp(op(_f)) and symbolp(op(_f))\n",
       "                   and not fboundp(op(_f))\n",
       "                   and not op(_f) = op(diff(__f1(__x),__x))"
      ],
      "text/x-maxima": [
       "udfGeneral(_f):=not stringp(op(_f)) and symbolp(op(_f))\n",
       "            and not fboundp(op(_f)) and not op(_f) = op(diff(__f1(__x),__x))"
      ]
     },
     "metadata": {},
     "output_type": "display_data"
    },
    {
     "data": {
      "text/plain": [
       "(%i13) listGDF(_expr,_y,_x):=block([_counter:0,listGDF:[]],\n",
       "               listGDFPriv(_expr,_y,_x,[]),return(unique(listGDF)))"
      ],
      "text/x-maxima": [
       "listGDF(_expr,_y,_x):=block([_counter:0,listGDF:[]],\n",
       "        listGDFPriv(_expr,_y,_x,[]),return(unique(listGDF)))"
      ]
     },
     "metadata": {},
     "output_type": "display_data"
    },
    {
     "data": {
      "text/plain": [
       "(%i14) listGDFPriv(_expr,_y,_x,_opList):=block([_op,_args,_newList],\n",
       "                   if atom(_expr) then _opList\n",
       "                       else (if gdfGeneral1(_expr,_y,_x)\n",
       "                                 then listGDF:cons(_expr,listGDF)\n",
       "                                 else (_op:op(_expr),_args:args(_expr),\n",
       "                                       _newList:cons(_op,_opList),\n",
       "                                       for _arg in _args do\n",
       "                                           _newList\n",
       "                                           :listGDFPriv(_arg,_y,_x,_newList),\n",
       "                                       _newList)))"
      ],
      "text/x-maxima": [
       "listGDFPriv(_expr,_y,_x,_opList):=block([_op,_args,_newList],\n",
       "            if atom(_expr) then _opList\n",
       "                else (if gdfGeneral1(_expr,_y,_x)\n",
       "                          then listGDF:cons(_expr,listGDF)\n",
       "                          else (_op:op(_expr),_args:args(_expr),\n",
       "                                _newList:cons(_op,_opList),\n",
       "                                for _arg in _args do\n",
       "                                    _newList:listGDFPriv(_arg,_y,_x,_newList),\n",
       "                                _newList)))"
      ]
     },
     "metadata": {},
     "output_type": "display_data"
    },
    {
     "data": {
      "text/plain": [
       "(%i15) gdfGeneral1(_f,_y,_x):=\n",
       "                   op(_f) = \"^\" and ((atom(args(_f)[1])\n",
       "                                 and freeof(_x,_y,args(_f)[1]))\n",
       "                                 and not freeof(_x,args(_f)[2])\n",
       "                                 and not freeof(_y,args(_f)[2])\n",
       "                                 or (atom(args(_f)[2])\n",
       "                                  and freeof(_x,_y,args(_f)[2]))\n",
       "                                  and not freeof(_x,args(_f)[1])\n",
       "                                  and not freeof(_y,args(_f)[1]))\n",
       "                    or op(_f) = sqrt and not freeof(_x,args(_f)[1])\n",
       "                                     and not freeof(_y,args(_f)[1])"
      ],
      "text/x-maxima": [
       "gdfGeneral1(_f,_y,_x):=\n",
       "            op(_f) = \"^\" and ((atom(args(_f)[1])\n",
       "                          and freeof(_x,_y,args(_f)[1]))\n",
       "                          and not freeof(_x,args(_f)[2])\n",
       "                          and not freeof(_y,args(_f)[2])\n",
       "                          or (atom(args(_f)[2]) and freeof(_x,_y,args(_f)[2]))\n",
       "                           and not freeof(_x,args(_f)[1])\n",
       "                           and not freeof(_y,args(_f)[1]))\n",
       "             or op(_f) = sqrt and not freeof(_x,args(_f)[1])\n",
       "                              and not freeof(_y,args(_f)[1])"
      ]
     },
     "metadata": {},
     "output_type": "display_data"
    },
    {
     "data": {
      "text/plain": [
       "(%i16) explicit_form_to_dependencies_form1(\n",
       " _ode):=block([_udfargs],_dependencylist:copy(dependencies),\n",
       " _listudf:listUDF(rhs(_ode)),\n",
       " _listudf:sublist(_listudf,\n",
       "                  lambda([_i],\n",
       "                         not (length(args(_i)) = 1 and atom(args(_i)[1])))),\n",
       " _udf_op:map(op,_listudf),_udf_args:flatten(map(args,_listudf)),\n",
       " _listgdf:listUDFGeneral(rhs(_ode)),\n",
       " _listgdf:sublist(_listgdf,\n",
       "                  lambda([_i],\n",
       "                         not (length(args(_i)) = 1 and atom(args(_i)[1])))),\n",
       " _listgdf:append(_listgdf,listGDF(rhs(_ode),_y,_x)),\n",
       " _listgdf:unique(sublist(_listgdf,lambda([_i],not member(_i,_listudf)))),\n",
       " _gdf_op:map(op,_listgdf),_gdf_args:unique(flatten(map(args,_listgdf))),\n",
       " _varlist:makelist(concat(%g,_i),_i,1,length(_udf_args)),\n",
       " dprint(5,\"varlist = \",_varlist),depends(_varlist,[x,y]),_udfargs:_udf_args,\n",
       " for _g in _varlist do\n",
       "     (apply('gradef,[_g,_x,diff(first(_udfargs),_x)]),\n",
       "      apply('gradef,[_g,_y,diff(first(_udfargs),_y)]),\n",
       "      _udfargs:rest(_udfargs)),_ode:subst(map(\"=\",_listudf,_udf_op),_ode),\n",
       " map(depends,_udf_op,_varlist),\n",
       " dprint(5,\"canonical form of ode, replaced long arguments = \",_ode),\n",
       " dprint(5,\"dependencies=\",dependencies),dprint(5,\"listudf = \",_listudf),\n",
       " dprint(5,\"udf_op = \",_udf_op),dprint(5,\"udf_args = \",_udf_args),\n",
       " dprint(5,\"listgdf = \",_listgdf),dprint(5,\"gdf_op = \",_gdf_op),\n",
       " dprint(5,\"gdf_args = \",_gdf_args),return(_ode))"
      ],
      "text/x-maxima": [
       "explicit_form_to_dependencies_form1(_ode):=block([_udfargs],\n",
       "                                    _dependencylist:copy(dependencies),\n",
       "                                    _listudf:listUDF(rhs(_ode)),\n",
       "                                    _listudf\n",
       "                                     :sublist(_listudf,\n",
       "                                              lambda([_i],\n",
       "                                                     not (length(args(_i)) = 1\n",
       "                                                       and atom(\n",
       "                                                       args(_i)[1])))),\n",
       "                                    _udf_op:map(op,_listudf),\n",
       "                                    _udf_args:flatten(map(args,_listudf)),\n",
       "                                    _listgdf:listUDFGeneral(rhs(_ode)),\n",
       "                                    _listgdf\n",
       "                                     :sublist(_listgdf,\n",
       "                                              lambda([_i],\n",
       "                                                     not (length(args(_i)) = 1\n",
       "                                                       and atom(\n",
       "                                                       args(_i)[1])))),\n",
       "                                    _listgdf\n",
       "                                     :append(_listgdf,\n",
       "                                             listGDF(rhs(_ode),_y,_x)),\n",
       "                                    _listgdf\n",
       "                                     :unique(\n",
       "                                      sublist(_listgdf,\n",
       "                                              lambda([_i],\n",
       "                                                     not member(_i,\n",
       "                                                                _listudf)))),\n",
       "                                    _gdf_op:map(op,_listgdf),\n",
       "                                    _gdf_args\n",
       "                                     :unique(flatten(map(args,_listgdf))),\n",
       "                                    _varlist\n",
       "                                     :makelist(concat(%g,_i),_i,1,\n",
       "                                               length(_udf_args)),\n",
       "                                    dprint(5,\"varlist = \",_varlist),\n",
       "                                    depends(_varlist,[x,y]),\n",
       "                                    _udfargs:_udf_args,\n",
       "                                    for _g in _varlist do\n",
       "                                        (\n",
       "                                        apply('gradef,\n",
       "                                              [_g,_x,\n",
       "                                               diff(first(_udfargs),_x)]),\n",
       "                                        apply('gradef,\n",
       "                                              [_g,_y,\n",
       "                                               diff(first(_udfargs),_y)]),\n",
       "                                        _udfargs:rest(_udfargs)),\n",
       "                                    _ode\n",
       "                                     :subst(map(\"=\",_listudf,_udf_op),_ode),\n",
       "                                    map(depends,_udf_op,_varlist),\n",
       "                                    dprint(5,\n",
       "                                           \"canonical form of ode, replaced long arguments = \",\n",
       "                                           _ode),\n",
       "                                    dprint(5,\"dependencies=\",dependencies),\n",
       "                                    dprint(5,\"listudf = \",_listudf),\n",
       "                                    dprint(5,\"udf_op = \",_udf_op),\n",
       "                                    dprint(5,\"udf_args = \",_udf_args),\n",
       "                                    dprint(5,\"listgdf = \",_listgdf),\n",
       "                                    dprint(5,\"gdf_op = \",_gdf_op),\n",
       "                                    dprint(5,\"gdf_args = \",_gdf_args),\n",
       "                                    return(_ode))"
      ]
     },
     "metadata": {},
     "output_type": "display_data"
    },
    {
     "data": {
      "text/plain": [
       "(%i17) nrOps(_expression):=block([_counter:0],\n",
       "             dprint(6,\"expression:\",_expression),nrOpsPriv(_expression,[]))"
      ],
      "text/x-maxima": [
       "nrOps(_expression):=block([_counter:0],dprint(6,\"expression:\",_expression),\n",
       "      nrOpsPriv(_expression,[]))"
      ]
     },
     "metadata": {},
     "output_type": "display_data"
    },
    {
     "data": {
      "text/plain": [
       "(%i18) nrOpsPriv(_expression,_opList):=block([_x,_args,_newList],\n",
       "                 if atom(_expression) then _opList\n",
       "                     else (_x:op(_expression),_args:args(_expression),\n",
       "                           _newList:cons(_x,_opList),\n",
       "                           for _arg in _args do\n",
       "                               _newList:nrOpsPriv(_arg,_newList),_newList))"
      ],
      "text/x-maxima": [
       "nrOpsPriv(_expression,_opList):=block([_x,_args,_newList],\n",
       "          if atom(_expression) then _opList\n",
       "              else (_x:op(_expression),_args:args(_expression),\n",
       "                    _newList:cons(_x,_opList),\n",
       "                    for _arg in _args do _newList:nrOpsPriv(_arg,_newList),\n",
       "                    _newList))"
      ]
     },
     "metadata": {},
     "output_type": "display_data"
    },
    {
     "data": {
      "text/plain": [
       "(%i19) simplify(_S):=block(\n",
       "                [_N,_Nnew,_Snew,_ratvars,_lS,_isimaginary:false,_oldradexpand,\n",
       "                 _N0,_S0],dprint(5,\"simplify::START, S=\",grind(_S)),\n",
       "                dprint(6,\"dependencies = \",dependencies),\n",
       "                if freeof('integrate,_S)\n",
       "                    then (use_pdiff:false,_S:convert_to_diff(_S)),\n",
       "                _N0:slength(string(_S)),_N:_N0,_S0:_S,_Snew:ev(_S,nouns),\n",
       "                _Nnew:slength(string(_Snew)),\n",
       "                if _Nnew < 2.0*_N then (_S:_Snew,_N:slength(string(_S))),\n",
       "                dprint(6,\"simplify:: S=\",grind(_S)),\n",
       "                if not freeof(%i,_S) then _isimaginary:true,\n",
       "                if not freeof(%i,_S)\n",
       "                    then (dprint(2,\n",
       "                                 \"trying to get rid of imaginary numbers, check the result:\",\n",
       "                                 _S),\n",
       "                          _Snew:rootscontract(logarc(rootscontract(_S))),\n",
       "                          if freeof(%c,subst(%i*%c = %k,_Snew))\n",
       "                              then _Snew:subst(%i*%c = %c,_Snew),\n",
       "                          if freeof(%i,_Snew)\n",
       "                              then (_S:_Snew,_isimaginary:false,\n",
       "                                    print(\"got rid of imaginary numbers...\")),\n",
       "                          dprint(2,\n",
       "                                 \"trying to get rid of imaginary numbers, check the result:\",\n",
       "                                 _S)),_lS:slength(string(_S)),\n",
       "                dprint(6,\"   length S = \",_lS),\n",
       "                if _lS > MAX_LENGTH_FOR_SIMPLIFICATION\n",
       "                    then (dprint(1,\n",
       "                                 \"Warning: subexpression is too long to consider simplification. Length = \",\n",
       "                                 _lS),\n",
       "                          dprint(1,\"Returning original expression...\"),\n",
       "                          dprint(1,\n",
       "                                 \"If you want to try anyway, put MAX_LENGTH_FOR_SIMPLIFICATION to a higher value. Current value: \",\n",
       "                                 MAX_LENGTH_FOR_SIMPLIFICATION),return(_S)),\n",
       "                _ratvars:showratvars(_S),dprint(6,\"ratvars = \",_ratvars),\n",
       "                _N:slength(string(_S)),_Snew:fullratsimp(_S),\n",
       "                _Nnew:slength(string(_Snew)),\n",
       "                dprint(6,\"   N,Nnew = \",_N,\" \",_Nnew),\n",
       "                if _isimaginary = false and not freeof(%i,_Snew)\n",
       "                    then dprint(2,\n",
       "                                \"simplification introduced complex numers, ignoring fullratsimp-simplification\")\n",
       "                    else (if _Nnew < 2.0*_N\n",
       "                              then (_S:_Snew,_N:slength(string(_S)))),\n",
       "                dprint(6,\"2. S=\",grind(_S)),\n",
       "                if freeof(diff,_ratvars)\n",
       "                     and sublist(_ratvars,\n",
       "                                 lambda([_i],\n",
       "                                        not freeof(csc,sec,cot,sin,cos,tan,\n",
       "                                                   _i)))\n",
       "                      # []\n",
       "                    then (dprint(6,\"3.0 S=\",grind(_S)),_N:slength(string(_S)),\n",
       "                          _Strig:_S,_Snew:trigreduce(_S),\n",
       "                          dprint(6,\"3.1 trigreduce,S=\",_Snew),\n",
       "                          _Nnew:slength(string(_Snew)),\n",
       "                          dprint(6,\"   N,Nnew = \",_N,\" \",_Nnew),\n",
       "                          if _Nnew < 25*_N then _Strig:_Snew,\n",
       "                          _Snew:trigsimp(_Strig),\n",
       "                          dprint(6,\"3.2 trigsimp,S=\",_Snew),\n",
       "                          _Nnew:slength(string(_Snew)),\n",
       "                          dprint(6,\"   N,Nnew = \",_N,\" \",_Nnew),\n",
       "                          if _Nnew < 25*_N then _Strig:_Snew,\n",
       "                          _Snew:expand(trigexpand(_Strig)),\n",
       "                          dprint(6,\"3.3 trigexpand,S=\",grind(_Snew)),\n",
       "                          _Nnew:slength(string(_Snew)),\n",
       "                          dprint(6,\"   N,Nnew = \",_N,\" \",_Nnew),\n",
       "                          if _Nnew < 25*_N then _Strig:_Snew,\n",
       "                          _Snew:trigsimp(_Strig),\n",
       "                          dprint(6,\"3.4 trigsimp,S=\",grind(_Snew)),\n",
       "                          _Nnew:slength(string(_Snew)),\n",
       "                          dprint(6,\"   N,Nnew = \",_N,\" \",_Nnew),\n",
       "                          if _Nnew < 25*_N then _Strig:_Snew,\n",
       "                          _Snew:trigreduce(_Strig),\n",
       "                          dprint(6,\"3.5 trigreduce,S=\",grind(_Snew)),\n",
       "                          _Nnew:slength(string(_Snew)),\n",
       "                          dprint(6,\"trig,   N,Nnew = \",_N,\" \",_Nnew),\n",
       "                          if _Nnew < 25*_N then _Strig:_Snew,\n",
       "                          if _isimaginary = false and not freeof(%i,_Snew)\n",
       "                              then dprint(2,\n",
       "                                          \"simplification introduced complex numers, ignoring trig-simplification\")\n",
       "                              else (if _Nnew < 2.0*_N\n",
       "                                        then (_S:_Strig,\n",
       "                                              _N:slength(string(_S))))),\n",
       "                dprint(6,\"3. S=\",_S),\n",
       "                if sublist(_ratvars,lambda([_i],not freeof(asinh,acosh,_i)))\n",
       "                     # []\n",
       "                    then (_Snew:logarc(_S),_Nnew:slength(string(_Snew)),\n",
       "                          if _Nnew < 2.0*_N\n",
       "                              then (_S:_Snew,_N:slength(string(_S)))),\n",
       "                if sublist(_ratvars,\n",
       "                           lambda([_i],not freeof(sqrt,dispform(_i,all))))\n",
       "                     # []\n",
       "                    then (_oldradexpand:radexpand,radexpand:all,\n",
       "                          _Snew:rootscontract(_S),radexpand:_oldradexpand,\n",
       "                          dprint(6,\"sqrt: \",_Snew),\n",
       "                          dprint(6,\"sqrt   N,Nnew = \",_N,\" \",_Nnew),\n",
       "                          if _isimaginary = false and not freeof(%i,_Snew)\n",
       "                              then dprint(2,\n",
       "                                          \"simplification introduced complex numers, ignoring sqrt-simplification\")\n",
       "                              else (if _Nnew < 2.0*_N\n",
       "                                        then (_S:_Snew,\n",
       "                                              _N:slength(string(_S))))),\n",
       "                if sublist(_ratvars,lambda([_i],not freeof(%e,log,_i))) # []\n",
       "                    then (dprint(6,\"log, exp\"),_Snew:logcontract(radcan(_S)),\n",
       "                          dprint(6,\"radcan: \",_Snew),\n",
       "                          _Nnew:slength(string(_Snew)),\n",
       "                          dprint(6,\"log   N,Nnew = \",_N,\" \",_Nnew),\n",
       "                          if _isimaginary = false and not freeof(%i,_Snew)\n",
       "                              then dprint(2,\n",
       "                                          \"simplification introduced complex numers, ignoring radcan-simplification\")\n",
       "                              else (if _Nnew < 2.0*_N\n",
       "                                        then (_S:_Snew,\n",
       "                                              _N:slength(string(_S))))),\n",
       "                dprint(5,\"simplify::END, S=\",grind(_S)),\n",
       "                if freeof('integrate,_S) then (use_pdiff:true,_S:ev(_S,diff)),\n",
       "                dprint(5,\"returning from simplify\"),\n",
       "                if _N < 2.0*_N0 then return(_S) else return(_S0))"
      ],
      "text/x-maxima": [
       "simplify(_S):=block(\n",
       "         [_N,_Nnew,_Snew,_ratvars,_lS,_isimaginary:false,_oldradexpand,_N0,\n",
       "          _S0],dprint(5,\"simplify::START, S=\",grind(_S)),\n",
       "         dprint(6,\"dependencies = \",dependencies),\n",
       "         if freeof('integrate,_S)\n",
       "             then (use_pdiff:false,_S:convert_to_diff(_S)),\n",
       "         _N0:slength(string(_S)),_N:_N0,_S0:_S,_Snew:ev(_S,nouns),\n",
       "         _Nnew:slength(string(_Snew)),\n",
       "         if _Nnew < 2.0*_N then (_S:_Snew,_N:slength(string(_S))),\n",
       "         dprint(6,\"simplify:: S=\",grind(_S)),\n",
       "         if not freeof(%i,_S) then _isimaginary:true,\n",
       "         if not freeof(%i,_S)\n",
       "             then (dprint(2,\n",
       "                          \"trying to get rid of imaginary numbers, check the result:\",\n",
       "                          _S),_Snew:rootscontract(logarc(rootscontract(_S))),\n",
       "                   if freeof(%c,subst(%i*%c = %k,_Snew))\n",
       "                       then _Snew:subst(%i*%c = %c,_Snew),\n",
       "                   if freeof(%i,_Snew)\n",
       "                       then (_S:_Snew,_isimaginary:false,\n",
       "                             print(\"got rid of imaginary numbers...\")),\n",
       "                   dprint(2,\n",
       "                          \"trying to get rid of imaginary numbers, check the result:\",\n",
       "                          _S)),_lS:slength(string(_S)),\n",
       "         dprint(6,\"   length S = \",_lS),\n",
       "         if _lS > MAX_LENGTH_FOR_SIMPLIFICATION\n",
       "             then (dprint(1,\n",
       "                          \"Warning: subexpression is too long to consider simplification. Length = \",\n",
       "                          _lS),dprint(1,\"Returning original expression...\"),\n",
       "                   dprint(1,\n",
       "                          \"If you want to try anyway, put MAX_LENGTH_FOR_SIMPLIFICATION to a higher value. Current value: \",\n",
       "                          MAX_LENGTH_FOR_SIMPLIFICATION),return(_S)),\n",
       "         _ratvars:showratvars(_S),dprint(6,\"ratvars = \",_ratvars),\n",
       "         _N:slength(string(_S)),_Snew:fullratsimp(_S),\n",
       "         _Nnew:slength(string(_Snew)),dprint(6,\"   N,Nnew = \",_N,\" \",_Nnew),\n",
       "         if _isimaginary = false and not freeof(%i,_Snew)\n",
       "             then dprint(2,\n",
       "                         \"simplification introduced complex numers, ignoring fullratsimp-simplification\")\n",
       "             else (if _Nnew < 2.0*_N then (_S:_Snew,_N:slength(string(_S)))),\n",
       "         dprint(6,\"2. S=\",grind(_S)),\n",
       "         if freeof(diff,_ratvars) and sublist(_ratvars,\n",
       "                                              lambda([_i],\n",
       "                                                     not freeof(csc,sec,cot,\n",
       "                                                                sin,cos,tan,\n",
       "                                                                _i)))\n",
       "                                   # []\n",
       "             then (dprint(6,\"3.0 S=\",grind(_S)),_N:slength(string(_S)),\n",
       "                   _Strig:_S,_Snew:trigreduce(_S),\n",
       "                   dprint(6,\"3.1 trigreduce,S=\",_Snew),\n",
       "                   _Nnew:slength(string(_Snew)),\n",
       "                   dprint(6,\"   N,Nnew = \",_N,\" \",_Nnew),\n",
       "                   if _Nnew < 25*_N then _Strig:_Snew,_Snew:trigsimp(_Strig),\n",
       "                   dprint(6,\"3.2 trigsimp,S=\",_Snew),\n",
       "                   _Nnew:slength(string(_Snew)),\n",
       "                   dprint(6,\"   N,Nnew = \",_N,\" \",_Nnew),\n",
       "                   if _Nnew < 25*_N then _Strig:_Snew,\n",
       "                   _Snew:expand(trigexpand(_Strig)),\n",
       "                   dprint(6,\"3.3 trigexpand,S=\",grind(_Snew)),\n",
       "                   _Nnew:slength(string(_Snew)),\n",
       "                   dprint(6,\"   N,Nnew = \",_N,\" \",_Nnew),\n",
       "                   if _Nnew < 25*_N then _Strig:_Snew,_Snew:trigsimp(_Strig),\n",
       "                   dprint(6,\"3.4 trigsimp,S=\",grind(_Snew)),\n",
       "                   _Nnew:slength(string(_Snew)),\n",
       "                   dprint(6,\"   N,Nnew = \",_N,\" \",_Nnew),\n",
       "                   if _Nnew < 25*_N then _Strig:_Snew,\n",
       "                   _Snew:trigreduce(_Strig),\n",
       "                   dprint(6,\"3.5 trigreduce,S=\",grind(_Snew)),\n",
       "                   _Nnew:slength(string(_Snew)),\n",
       "                   dprint(6,\"trig,   N,Nnew = \",_N,\" \",_Nnew),\n",
       "                   if _Nnew < 25*_N then _Strig:_Snew,\n",
       "                   if _isimaginary = false and not freeof(%i,_Snew)\n",
       "                       then dprint(2,\n",
       "                                   \"simplification introduced complex numers, ignoring trig-simplification\")\n",
       "                       else (if _Nnew < 2.0*_N\n",
       "                                 then (_S:_Strig,_N:slength(string(_S))))),\n",
       "         dprint(6,\"3. S=\",_S),\n",
       "         if sublist(_ratvars,lambda([_i],not freeof(asinh,acosh,_i))) # []\n",
       "             then (_Snew:logarc(_S),_Nnew:slength(string(_Snew)),\n",
       "                   if _Nnew < 2.0*_N then (_S:_Snew,_N:slength(string(_S)))),\n",
       "         if sublist(_ratvars,lambda([_i],not freeof(sqrt,dispform(_i,all))))\n",
       "              # []\n",
       "             then (_oldradexpand:radexpand,radexpand:all,\n",
       "                   _Snew:rootscontract(_S),radexpand:_oldradexpand,\n",
       "                   dprint(6,\"sqrt: \",_Snew),\n",
       "                   dprint(6,\"sqrt   N,Nnew = \",_N,\" \",_Nnew),\n",
       "                   if _isimaginary = false and not freeof(%i,_Snew)\n",
       "                       then dprint(2,\n",
       "                                   \"simplification introduced complex numers, ignoring sqrt-simplification\")\n",
       "                       else (if _Nnew < 2.0*_N\n",
       "                                 then (_S:_Snew,_N:slength(string(_S))))),\n",
       "         if sublist(_ratvars,lambda([_i],not freeof(%e,log,_i))) # []\n",
       "             then (dprint(6,\"log, exp\"),_Snew:logcontract(radcan(_S)),\n",
       "                   dprint(6,\"radcan: \",_Snew),_Nnew:slength(string(_Snew)),\n",
       "                   dprint(6,\"log   N,Nnew = \",_N,\" \",_Nnew),\n",
       "                   if _isimaginary = false and not freeof(%i,_Snew)\n",
       "                       then dprint(2,\n",
       "                                   \"simplification introduced complex numers, ignoring radcan-simplification\")\n",
       "                       else (if _Nnew < 2.0*_N\n",
       "                                 then (_S:_Snew,_N:slength(string(_S))))),\n",
       "         dprint(5,\"simplify::END, S=\",grind(_S)),\n",
       "         if freeof('integrate,_S) then (use_pdiff:true,_S:ev(_S,diff)),\n",
       "         dprint(5,\"returning from simplify\"),\n",
       "         if _N < 2.0*_N0 then return(_S) else return(_S0))"
      ]
     },
     "metadata": {},
     "output_type": "display_data"
    },
    {
     "data": {
      "text/plain": [
       "(%i20) simplifySymmetry(_X,_x,_y):=block([_xi,_eta,_gcd,_absP,_absQ],\n",
       "                        _xi:_X[1],_eta:_X[2],\n",
       "                        dprint(3,\n",
       "                               \"simplifySymmetry: initial symmetry [xi,eta]=[\",\n",
       "                               _xi,\",\",_eta,\"]\"),_xi:simplify(_xi),\n",
       "                        _eta:simplify(_eta),\n",
       "                        dprint(4,\"simplified [xi,eta]=[\",_xi,\",\",_eta,\"]\"),\n",
       "                        _gcd:greatest_constant_divisor(_xi,_eta,[_x,_y]),\n",
       "                        dprint(4,\n",
       "                               \"simplifying symmetries, found a common constant: \",\n",
       "                               _gcd),\n",
       "                        if _gcd # 0\n",
       "                            then (_xi:ratsimp(_xi/_gcd),\n",
       "                                  _eta:ratsimp(_eta/_gcd)),\n",
       "                        dprint(4,\"simplified symmetry (1) : [xi,eta]=[\",_xi,\n",
       "                               \",\",_eta,\"]\"),_gcd:gcd(_xi,_eta),\n",
       "                        dprint(4,\n",
       "                               \"simplifying symmetries, found a common constant: \",\n",
       "                               _gcd),\n",
       "                        if not freeof(abs,_gcd)\n",
       "                            then (_absP:num(_gcd),_absQ:denom(_gcd),\n",
       "                                  if not atom(_absP)\n",
       "                                      then (if op(_absP) = abs\n",
       "                                                then (dprint(4,\"case 1\"),\n",
       "                                                      _xi\n",
       "                                                       :simplify(\n",
       "                                                        (_xi*_absP)\n",
       "                                                         /args(_absP)[1]),\n",
       "                                                      _eta\n",
       "                                                       :simplify(\n",
       "                                                        (_eta*_absP)\n",
       "                                                         /args(_absP)[1])))\n",
       "                                      else (if not atom(_absQ)\n",
       "                                                then (if op(_absQ) = abs\n",
       "                                                          then (\n",
       "                                                          dprint(4,\"case 2\"),\n",
       "                                                          _xi\n",
       "                                                           :simplify(\n",
       "                                                            (_xi\n",
       "                                                             *args(_absQ)[1])\n",
       "                                                             /_absQ),\n",
       "                                                          _eta\n",
       "                                                           :simplify(\n",
       "                                                            (_eta\n",
       "                                                             *args(_absQ)[1])\n",
       "                                                             /_absQ)))\n",
       "                                                else (if freeof(abs(_x),_absP)\n",
       "                                                          then (\n",
       "                                                          dprint(4,\"case 3\"),\n",
       "                                                          _xi\n",
       "                                                           :simplify(\n",
       "                                                            (_xi*_x)/abs(_x)),\n",
       "                                                          _eta\n",
       "                                                           :(_eta*_x)/abs(_x))\n",
       "                                                          else (if \n",
       "                                                          freeof(abs(_x),\n",
       "                                                                 _absQ)\n",
       "                                                           then (\n",
       "                                                           dprint(4,\"case 4\"),\n",
       "                                                           _xi\n",
       "                                                            :simplify(\n",
       "                                                             (_xi*abs(_x))\n",
       "                                                              /_x),\n",
       "                                                           _eta\n",
       "                                                            :(_eta*abs(_x))\n",
       "                                                             /_x)))),\n",
       "                                  dprint(4,\n",
       "                                         \"simplified symmetry (2) [xi,eta]=[\",\n",
       "                                         _xi,\",\",_eta,\"]\")),\n",
       "                        if not freeof(abs(_x),_xi)\n",
       "                             and not freeof(abs(_x),_eta)\n",
       "                            then [_xi,_eta]:subst(abs(_x) = _x,[_xi,_eta]),\n",
       "                        if not freeof(abs(_y),_X[1])\n",
       "                             and not freeof(abs(_y),_X[2])\n",
       "                            then [_xi,_eta]:subst(abs(_y) = _y,[_xi,_eta]),\n",
       "                        dprint(3,\n",
       "                               \"simplifySymmetry: simplified symmetry [xi,eta]=[\",\n",
       "                               _xi,\",\",_eta,\"]\"),return([_xi,_eta]))"
      ],
      "text/x-maxima": [
       "simplifySymmetry(_X,_x,_y):=block([_xi,_eta,_gcd,_absP,_absQ],_xi:_X[1],\n",
       "                 _eta:_X[2],\n",
       "                 dprint(3,\"simplifySymmetry: initial symmetry [xi,eta]=[\",_xi,\n",
       "                        \",\",_eta,\"]\"),_xi:simplify(_xi),_eta:simplify(_eta),\n",
       "                 dprint(4,\"simplified [xi,eta]=[\",_xi,\",\",_eta,\"]\"),\n",
       "                 _gcd:greatest_constant_divisor(_xi,_eta,[_x,_y]),\n",
       "                 dprint(4,\"simplifying symmetries, found a common constant: \",\n",
       "                        _gcd),\n",
       "                 if _gcd # 0\n",
       "                     then (_xi:ratsimp(_xi/_gcd),_eta:ratsimp(_eta/_gcd)),\n",
       "                 dprint(4,\"simplified symmetry (1) : [xi,eta]=[\",_xi,\",\",_eta,\n",
       "                        \"]\"),_gcd:gcd(_xi,_eta),\n",
       "                 dprint(4,\"simplifying symmetries, found a common constant: \",\n",
       "                        _gcd),\n",
       "                 if not freeof(abs,_gcd)\n",
       "                     then (_absP:num(_gcd),_absQ:denom(_gcd),\n",
       "                           if not atom(_absP)\n",
       "                               then (if op(_absP) = abs\n",
       "                                         then (dprint(4,\"case 1\"),\n",
       "                                               _xi\n",
       "                                                :simplify(\n",
       "                                                 (_xi*_absP)/args(_absP)[1]),\n",
       "                                               _eta\n",
       "                                                :simplify(\n",
       "                                                 (_eta*_absP)\n",
       "                                                  /args(_absP)[1])))\n",
       "                               else (if not atom(_absQ)\n",
       "                                         then (if op(_absQ) = abs\n",
       "                                                   then (dprint(4,\"case 2\"),\n",
       "                                                         _xi\n",
       "                                                          :simplify(\n",
       "                                                           (_xi\n",
       "                                                            *args(_absQ)[1])\n",
       "                                                            /_absQ),\n",
       "                                                         _eta\n",
       "                                                          :simplify(\n",
       "                                                           (_eta\n",
       "                                                            *args(_absQ)[1])\n",
       "                                                            /_absQ)))\n",
       "                                         else (if freeof(abs(_x),_absP)\n",
       "                                                   then (dprint(4,\"case 3\"),\n",
       "                                                         _xi\n",
       "                                                          :simplify(\n",
       "                                                           (_xi*_x)/abs(_x)),\n",
       "                                                         _eta\n",
       "                                                          :(_eta*_x)/abs(_x))\n",
       "                                                   else (if \n",
       "                                                   freeof(abs(_x),_absQ)\n",
       "                                                    then (dprint(4,\"case 4\"),\n",
       "                                                          _xi\n",
       "                                                           :simplify(\n",
       "                                                            (_xi*abs(_x))/_x),\n",
       "                                                          _eta\n",
       "                                                           :(_eta*abs(_x))\n",
       "                                                            /_x)))),\n",
       "                           dprint(4,\"simplified symmetry (2) [xi,eta]=[\",_xi,\n",
       "                                  \",\",_eta,\"]\")),\n",
       "                 if not freeof(abs(_x),_xi) and not freeof(abs(_x),_eta)\n",
       "                     then [_xi,_eta]:subst(abs(_x) = _x,[_xi,_eta]),\n",
       "                 if not freeof(abs(_y),_X[1]) and not freeof(abs(_y),_X[2])\n",
       "                     then [_xi,_eta]:subst(abs(_y) = _y,[_xi,_eta]),\n",
       "                 dprint(3,\"simplifySymmetry: simplified symmetry [xi,eta]=[\",\n",
       "                        _xi,\",\",_eta,\"]\"),return([_xi,_eta]))"
      ]
     },
     "metadata": {},
     "output_type": "display_data"
    },
    {
     "data": {
      "text/latex": [
       "\\[\\tag{${\\it \\%o}_{21}$}\\mbox{ /home/nijso/mathematics/maxima\\_files/ode\\_extra.mac }\\]"
      ],
      "text/plain": [
       "(%o21)        /home/nijso/mathematics/maxima_files/ode_extra.mac"
      ],
      "text/x-maxima": [
       "\"/home/nijso/mathematics/maxima_files/ode_extra.mac\""
      ]
     },
     "metadata": {},
     "output_type": "display_data"
    },
    {
     "data": {
      "text/plain": [
       "(%i22) load(pdiff)"
      ],
      "text/x-maxima": [
       "load(pdiff)"
      ]
     },
     "metadata": {},
     "output_type": "display_data"
    },
    {
     "data": {
      "text/latex": [
       "\\[\\tag{${\\it \\%o}_{22}$}\\mbox{ /usr/local/share/maxima/5.43.0/share/pdiff/pdiff.lisp }\\]"
      ],
      "text/plain": [
       "(%o22)       /usr/local/share/maxima/5.43.0/share/pdiff/pdiff.lisp"
      ],
      "text/x-maxima": [
       "\"/usr/local/share/maxima/5.43.0/share/pdiff/pdiff.lisp\""
      ]
     },
     "metadata": {},
     "output_type": "display_data"
    },
    {
     "name": "stdout",
     "output_type": "stream",
     "text": [
      "\n",
      "REDEFINITION-WITH-DEFUN: \n",
      "  redefining MAXIMA::GET-NUMBER-ARGS in DEFUN\n",
      "\n",
      "REDEFINITION-WITH-DEFUN: \n",
      "  redefining MAXIMA::SIMP-PDERIVOP in DEFUN\n",
      "\n",
      "REDEFINITION-WITH-DEFUN: \n",
      "  redefining MAXIMA::MAPPLY-PDIFF in DEFUN\n",
      "\n",
      "REDEFINITION-WITH-DEFUN: \n",
      "  redefining MAXIMA::SDIFFGRAD-PDIFF in DEFUN\n",
      "\n",
      "REDEFINITION-WITH-DEFUN: \n",
      "  redefining MAXIMA::DIMENSION-PDERIV in DEFUN\n",
      "\n",
      "REDEFINITION-WITH-DEFUN: \n",
      "  redefining MAXIMA::TEX-PDERIVOP in DEFUN\n",
      "\n",
      "REDEFINITION-WITH-DEFUN: \n",
      "  redefining MAXIMA::$CONVERT_TO_DIFF in DEFUN\n"
     ]
    },
    {
     "data": {
      "text/plain": [
       "(%i23) put('separable,3,'version)"
      ],
      "text/x-maxima": [
       "put('separable,3,'version)"
      ]
     },
     "metadata": {},
     "output_type": "display_data"
    },
    {
     "data": {
      "text/plain": [
       "(%i24) DEBUGFLAG:2"
      ],
      "text/x-maxima": [
       "DEBUGFLAG:2"
      ]
     },
     "metadata": {},
     "output_type": "display_data"
    },
    {
     "data": {
      "text/plain": [
       "(%i25) MAX_LENGTH_FOR_SEPARABILITY:16000"
      ],
      "text/x-maxima": [
       "MAX_LENGTH_FOR_SEPARABILITY:16000"
      ]
     },
     "metadata": {},
     "output_type": "display_data"
    },
    {
     "data": {
      "text/plain": [
       "(%i26) ratfac:true"
      ],
      "text/x-maxima": [
       "ratfac:true"
      ]
     },
     "metadata": {},
     "output_type": "display_data"
    },
    {
     "data": {
      "text/plain": [
       "(%i27) radsubstflag:true"
      ],
      "text/x-maxima": [
       "radsubstflag:true"
      ]
     },
     "metadata": {},
     "output_type": "display_data"
    },
    {
     "data": {
      "text/plain": [
       "(%i28) dependentform(_expr):=block([_dc:dependencies],\n",
       "                     for _i thru length(_dc) do\n",
       "                         _expr:subst(op(_dc[_i]),_dc[_i],_expr),return(_expr))"
      ],
      "text/x-maxima": [
       "dependentform(_expr):=block([_dc:dependencies],\n",
       "              for _i thru length(_dc) do\n",
       "                  _expr:subst(op(_dc[_i]),_dc[_i],_expr),return(_expr))"
      ]
     },
     "metadata": {},
     "output_type": "display_data"
    },
    {
     "data": {
      "text/plain": [
       "(%i29) separable(_F,_x,_y,[options]):=block(\n",
       "                 [_F1,_C,_dF,_S,_f:[],_g:[],_P,_Q,_ratvars,_L,_cfp,_cfq,_SP,\n",
       "                  _SQ,_Res,isSeparable:false,SPLITCONSTANT:false],\n",
       "                 SPLITCONSTANT:assoc('splitConstant,options,false),\n",
       "                 dprint(5,\"_F : \",_F),\n",
       "                 for _i thru length(dependencies) do\n",
       "                     (_odetmp:errcatch(subst(dependencies[_i],\n",
       "                                             op(dependencies[_i]),_F)),\n",
       "                      if _odetmp # [] then _F:_odetmp),dprint(5,\"_F : \",_F),\n",
       "                 _F:flatten([_F])[1],\n",
       "                 dprint(5,\"explicit expression =\",_F,\" \",_x,\" \",_y),\n",
       "                 _F1:ratsimp(_F),\n",
       "                 dprint(5,\"explicit expression =\",_F,\" \",_x,\" \",_y),\n",
       "                 dprint(5,\"F1=\",grind(_F1)),\n",
       "                 if freeof(_x,_y,_F1)\n",
       "                     then (isSeparable:true,\n",
       "                           dprint(5,\"separable: expression is C\"),_f:1,_g:1,\n",
       "                           _Res:_F1)\n",
       "                     else (if freeof(_x,_F1)\n",
       "                               then (isSeparable:true,\n",
       "                                     dprint(5,\n",
       "                                            \"separable: expression is f(y)\"),\n",
       "                                     _C:constant_factors(_F1,[_y]),\n",
       "                                     dprint(5,\"C = \",_C),_f:1,\n",
       "                                     _g:ratsimp(_F1/_C),_Res:_C)\n",
       "                               else (if freeof(_y,_F1)\n",
       "                                         then (isSeparable:true,\n",
       "                                               dprint(5,\n",
       "                                                      \"separable: expression is f(x)\"),\n",
       "                                               _C:constant_factors(_F1,[_x]),\n",
       "                                               dprint(5,\"C = \",_C),\n",
       "                                               _f:ratsimp(_F1/_C),_g:1,\n",
       "                                               _Res:_C)\n",
       "                                         else (if \n",
       "                                         op(_F1) = \"*\"\n",
       "                                           or op(_F1) = \"-\" and op(-_F1) = \"*\"\n",
       "                                          then (\n",
       "                                          dprint(5,\"we have product terms\"),\n",
       "                                          if op(_F1) = \"-\"\n",
       "                                              then (_L:args(-_F1),\n",
       "                                                    minussign:-1)\n",
       "                                              else (_L:args(_F1),minussign:1),\n",
       "                                          dprint(5,\"L = \",_L),\n",
       "                                          _Res\n",
       "                                           :sublist(_L,\n",
       "                                                    lambda([_i],\n",
       "                                                           not freeof(_y,_i)\n",
       "                                                             and not freeof(\n",
       "                                                             _x,_i))),\n",
       "                                          dprint(5,\"res = \",_Res),\n",
       "                                          if _Res = []\n",
       "                                              then (isSeparable:true,\n",
       "                                                    _g\n",
       "                                                     :apply(\"*\",\n",
       "                                                            sublist(_L,\n",
       "                                                                    lambda(\n",
       "                                                                     [_i],\n",
       "                                                                     freeof(\n",
       "                                                                      _x,_i)\n",
       "                                                                       and not freeof(\n",
       "                                                                       _y,\n",
       "                                                                       _i)))),\n",
       "                                                    _f\n",
       "                                                     :apply(\"*\",\n",
       "                                                            sublist(_L,\n",
       "                                                                    lambda(\n",
       "                                                                     [_i],\n",
       "                                                                     freeof(\n",
       "                                                                      _y,_i)\n",
       "                                                                       and not freeof(\n",
       "                                                                       _x,\n",
       "                                                                       _i)))),\n",
       "                                                    _Res\n",
       "                                                     :minussign\n",
       "                                                      *apply(\"*\",\n",
       "                                                             sublist(_L,\n",
       "                                                                     lambda(\n",
       "                                                                      [_i],\n",
       "                                                                      freeof(\n",
       "                                                                       _y,_i)\n",
       "                                                                        and freeof(\n",
       "                                                                        _x,\n",
       "                                                                        _i)))),\n",
       "                                                    dprint(5,\"separable, f=\",\n",
       "                                                           _f),\n",
       "                                                    dprint(5,\"separable, g=\",\n",
       "                                                           _g)))))),\n",
       "                 if isSeparable = false\n",
       "                     then (_lS:slength(string(_F1)),\n",
       "                           dprint(5,\"   length S = \",_lS),\n",
       "                           if _lS > MAX_LENGTH_FOR_SEPARABILITY\n",
       "                               then (dprint(1,\n",
       "                                            \"Warning: subexpression is too long to consider separability. Length = \",\n",
       "                                            _lS),\n",
       "                                     dprint(1,\"Putting separable=false. \"),\n",
       "                                     dprint(1,\n",
       "                                            \"If you want to try anyway, put MAX_LENGTH_FOR_SEPARABILITY to a higher value. Current value: \",\n",
       "                                            MAX_LENGTH_FOR_SEPARABILITY),\n",
       "                                     return(false)),_P:num(_F1),_Q:denom(_F1),\n",
       "                           dprint(5,\"F1=\",_F1),dprint(5,\"P=\",_P),\n",
       "                           dprint(5,\"Q=\",_Q),_ratvars:showratvars(_F1),\n",
       "                           dprint(5,\"ratvars=\",_ratvars),\n",
       "                           _L:sublist(_ratvars,\n",
       "                                      lambda([i],\n",
       "                                             not freeof(sqrt,\n",
       "                                                        dispform(i,all)))),\n",
       "                           _L:map(args,_L),\n",
       "                           _L:sublist(_L,\n",
       "                                      lambda([i],\n",
       "                                             not freeof(_x,i)\n",
       "                                               and not freeof(_y,i))),\n",
       "                           _L:sublist(_L,lambda([i],op(i[1]) = \"+\")),\n",
       "                           if _L # []\n",
       "                               then dprint(2,\n",
       "                                           \"unseparable function found: sqrt(f(x) + f(y))\"),\n",
       "                           _L:sublist(_ratvars,\n",
       "                                      lambda([i],\n",
       "                                             not freeof(sin,cos,\n",
       "                                                        dispform(i,all)))),\n",
       "                           _L:map(args,_L),\n",
       "                           _L:sublist(_L,\n",
       "                                      lambda([i],\n",
       "                                             not freeof(_x,i)\n",
       "                                               and not freeof(_y,i))),\n",
       "                           _L:sublist(_L,lambda([i],i[1] = _x*_y)),\n",
       "                           if _L # []\n",
       "                               then (dprint(2,\n",
       "                                            \"unseparable function found: sin(x*y) or cos(x*y)\"),\n",
       "                                     return(false)),\n",
       "                           if _Q # 1\n",
       "                               then (dprint(5,\n",
       "                                            \"separable: expression is P(x,y)/Q(x,y)\"),\n",
       "                                     _SP\n",
       "                                      :separable(_P,_x,_y,\n",
       "                                                 'splitConstant = true),\n",
       "                                     dprint(5,\"sP = \",_SP),\n",
       "                                     if _SP = false then return(false),\n",
       "                                     _SQ\n",
       "                                      :separable(_Q,_x,_y,\n",
       "                                                 'splitConstant = true),\n",
       "                                     dprint(5,\"sQ = \",_SQ),\n",
       "                                     if _SQ = false then return(false),\n",
       "                                     _f:ratsimp(_SP[1]/_SQ[1]),\n",
       "                                     _g:ratsimp(_SP[2]/_SQ[2]),\n",
       "                                     _Res:_SP[3]/_SQ[3])\n",
       "                               else (if \n",
       "                                      slength(string(_F1))\n",
       "                                        < 1.5*slength(string(_F)) then _F:_F1,\n",
       "                                     _dF:diff(_F,_x),_S:_dF/_F,\n",
       "                                     if not freeof(_y,_S)\n",
       "                                         then _S:simplify(_S),\n",
       "                                     dprint(5,\"dependencies = \",dependencies),\n",
       "                                     if freeof(_y,_S)\n",
       "                                         then (_f:exp(integrate(_S,_x)),\n",
       "                                               _f:simplify(_f),\n",
       "                                               _dF:diff(_F,_y),_S:_dF/_F,\n",
       "                                               if not freeof(_x,_S)\n",
       "                                                   then _S:simplify(_S),\n",
       "                                               if freeof(_x,_S)\n",
       "                                                   then (\n",
       "                                                   dprint(5,\n",
       "                                                          \"g was successfully found\"),\n",
       "                                                   _g:exp(integrate(_S,_y)),\n",
       "                                                   dprint(5,\"g:\",grind(_g)),\n",
       "                                                   _g:simplify(_g))\n",
       "                                                   else (\n",
       "                                                   dprint(0,\n",
       "                                                          \"FATAL ERROR! WAS NOT ABLE TO SEPARATE Y FROM THE SEPARABLE FUNCTION \",\n",
       "                                                          _F),return(false)))\n",
       "                                         else return(false)),\n",
       "                           _Res:simplify(_F/(_f*_g)),\n",
       "                           dprint(5,\"residue = \",grind(_Res)),\n",
       "                           if freeof(_x,_Res) and freeof(_y,_Res)\n",
       "                               then dprint(5,\"separability verified\")\n",
       "                               else (dprint(2,\n",
       "                                            \"Warning: could not validate separable function! F=f(x)*g(y), F,f,g = \",\n",
       "                                            simplify(_F),\", \",simplify(_f),\n",
       "                                            \", \",simplify(_g)),\n",
       "                                     dprint(2,\n",
       "                                            \"Warning: could not validate separable function! F=f(x)*g(y), F,f,g = \",\n",
       "                                            _F,\", \",_f,\", \",_g),\n",
       "                                     dprint(2,\"Trying division procedure...\"),\n",
       "                                     _g:simplify(_F/_f),\n",
       "                                     if freeof(_x,_g)\n",
       "                                         then (\n",
       "                                         dprint(2,\n",
       "                                                \"Separation was successful using division procedure\"),\n",
       "                                         _Res:constant_factors(_g,[_y]),\n",
       "                                         _g:ratsimp(_g/_Res),\n",
       "                                         dprint(2,\"Constant factor = \",_Res))\n",
       "                                         else dprint(0,\n",
       "                                                     \"***** Error: validation of separability failed. ***** \"))),\n",
       "                 dprint(5,\"the end\"),if _f = [] then return(false),\n",
       "                 if SPLITCONSTANT\n",
       "                     then return([dependentform(_f),dependentform(_g),_Res])\n",
       "                     else return([dependentform(_f),dependentform(_g)*_Res]))"
      ],
      "text/x-maxima": [
       "separable(_F,_x,_y,[options]):=block(\n",
       "          [_F1,_C,_dF,_S,_f:[],_g:[],_P,_Q,_ratvars,_L,_cfp,_cfq,_SP,_SQ,_Res,\n",
       "           isSeparable:false,SPLITCONSTANT:false],\n",
       "          SPLITCONSTANT:assoc('splitConstant,options,false),\n",
       "          dprint(5,\"_F : \",_F),\n",
       "          for _i thru length(dependencies) do\n",
       "              (_odetmp:errcatch(subst(dependencies[_i],op(dependencies[_i]),\n",
       "                                      _F)),if _odetmp # [] then _F:_odetmp),\n",
       "          dprint(5,\"_F : \",_F),_F:flatten([_F])[1],\n",
       "          dprint(5,\"explicit expression =\",_F,\" \",_x,\" \",_y),_F1:ratsimp(_F),\n",
       "          dprint(5,\"explicit expression =\",_F,\" \",_x,\" \",_y),\n",
       "          dprint(5,\"F1=\",grind(_F1)),\n",
       "          if freeof(_x,_y,_F1)\n",
       "              then (isSeparable:true,dprint(5,\"separable: expression is C\"),\n",
       "                    _f:1,_g:1,_Res:_F1)\n",
       "              else (if freeof(_x,_F1)\n",
       "                        then (isSeparable:true,\n",
       "                              dprint(5,\"separable: expression is f(y)\"),\n",
       "                              _C:constant_factors(_F1,[_y]),\n",
       "                              dprint(5,\"C = \",_C),_f:1,_g:ratsimp(_F1/_C),\n",
       "                              _Res:_C)\n",
       "                        else (if freeof(_y,_F1)\n",
       "                                  then (isSeparable:true,\n",
       "                                        dprint(5,\n",
       "                                               \"separable: expression is f(x)\"),\n",
       "                                        _C:constant_factors(_F1,[_x]),\n",
       "                                        dprint(5,\"C = \",_C),\n",
       "                                        _f:ratsimp(_F1/_C),_g:1,_Res:_C)\n",
       "                                  else (if \n",
       "                                  op(_F1) = \"*\"\n",
       "                                    or op(_F1) = \"-\" and op(-_F1) = \"*\"\n",
       "                                   then (dprint(5,\"we have product terms\"),\n",
       "                                         if op(_F1) = \"-\"\n",
       "                                             then (_L:args(-_F1),minussign:-1)\n",
       "                                             else (_L:args(_F1),minussign:1),\n",
       "                                         dprint(5,\"L = \",_L),\n",
       "                                         _Res\n",
       "                                          :sublist(_L,\n",
       "                                                   lambda([_i],\n",
       "                                                          not freeof(_y,_i)\n",
       "                                                            and not freeof(\n",
       "                                                            _x,_i))),\n",
       "                                         dprint(5,\"res = \",_Res),\n",
       "                                         if _Res = []\n",
       "                                             then (isSeparable:true,\n",
       "                                                   _g\n",
       "                                                    :apply(\"*\",\n",
       "                                                           sublist(_L,\n",
       "                                                                   lambda(\n",
       "                                                                    [_i],\n",
       "                                                                    freeof(\n",
       "                                                                     _x,_i)\n",
       "                                                                      and not freeof(\n",
       "                                                                      _y,\n",
       "                                                                      _i)))),\n",
       "                                                   _f\n",
       "                                                    :apply(\"*\",\n",
       "                                                           sublist(_L,\n",
       "                                                                   lambda(\n",
       "                                                                    [_i],\n",
       "                                                                    freeof(\n",
       "                                                                     _y,_i)\n",
       "                                                                      and not freeof(\n",
       "                                                                      _x,\n",
       "                                                                      _i)))),\n",
       "                                                   _Res\n",
       "                                                    :minussign\n",
       "                                                     *apply(\"*\",\n",
       "                                                            sublist(_L,\n",
       "                                                                    lambda(\n",
       "                                                                     [_i],\n",
       "                                                                     freeof(\n",
       "                                                                      _y,_i)\n",
       "                                                                       and freeof(\n",
       "                                                                       _x,\n",
       "                                                                       _i)))),\n",
       "                                                   dprint(5,\"separable, f=\",\n",
       "                                                          _f),\n",
       "                                                   dprint(5,\"separable, g=\",\n",
       "                                                          _g)))))),\n",
       "          if isSeparable = false\n",
       "              then (_lS:slength(string(_F1)),dprint(5,\"   length S = \",_lS),\n",
       "                    if _lS > MAX_LENGTH_FOR_SEPARABILITY\n",
       "                        then (dprint(1,\n",
       "                                     \"Warning: subexpression is too long to consider separability. Length = \",\n",
       "                                     _lS),\n",
       "                              dprint(1,\"Putting separable=false. \"),\n",
       "                              dprint(1,\n",
       "                                     \"If you want to try anyway, put MAX_LENGTH_FOR_SEPARABILITY to a higher value. Current value: \",\n",
       "                                     MAX_LENGTH_FOR_SEPARABILITY),\n",
       "                              return(false)),_P:num(_F1),_Q:denom(_F1),\n",
       "                    dprint(5,\"F1=\",_F1),dprint(5,\"P=\",_P),dprint(5,\"Q=\",_Q),\n",
       "                    _ratvars:showratvars(_F1),dprint(5,\"ratvars=\",_ratvars),\n",
       "                    _L:sublist(_ratvars,\n",
       "                               lambda([i],not freeof(sqrt,dispform(i,all)))),\n",
       "                    _L:map(args,_L),\n",
       "                    _L:sublist(_L,\n",
       "                               lambda([i],\n",
       "                                      not freeof(_x,i) and not freeof(_y,i))),\n",
       "                    _L:sublist(_L,lambda([i],op(i[1]) = \"+\")),\n",
       "                    if _L # []\n",
       "                        then dprint(2,\n",
       "                                    \"unseparable function found: sqrt(f(x) + f(y))\"),\n",
       "                    _L:sublist(_ratvars,\n",
       "                               lambda([i],\n",
       "                                      not freeof(sin,cos,dispform(i,all)))),\n",
       "                    _L:map(args,_L),\n",
       "                    _L:sublist(_L,\n",
       "                               lambda([i],\n",
       "                                      not freeof(_x,i) and not freeof(_y,i))),\n",
       "                    _L:sublist(_L,lambda([i],i[1] = _x*_y)),\n",
       "                    if _L # []\n",
       "                        then (dprint(2,\n",
       "                                     \"unseparable function found: sin(x*y) or cos(x*y)\"),\n",
       "                              return(false)),\n",
       "                    if _Q # 1\n",
       "                        then (dprint(5,\n",
       "                                     \"separable: expression is P(x,y)/Q(x,y)\"),\n",
       "                              _SP:separable(_P,_x,_y,'splitConstant = true),\n",
       "                              dprint(5,\"sP = \",_SP),\n",
       "                              if _SP = false then return(false),\n",
       "                              _SQ:separable(_Q,_x,_y,'splitConstant = true),\n",
       "                              dprint(5,\"sQ = \",_SQ),\n",
       "                              if _SQ = false then return(false),\n",
       "                              _f:ratsimp(_SP[1]/_SQ[1]),\n",
       "                              _g:ratsimp(_SP[2]/_SQ[2]),_Res:_SP[3]/_SQ[3])\n",
       "                        else (if slength(string(_F1))\n",
       "                                   < 1.5*slength(string(_F)) then _F:_F1,\n",
       "                              _dF:diff(_F,_x),_S:_dF/_F,\n",
       "                              if not freeof(_y,_S) then _S:simplify(_S),\n",
       "                              dprint(5,\"dependencies = \",dependencies),\n",
       "                              if freeof(_y,_S)\n",
       "                                  then (_f:exp(integrate(_S,_x)),\n",
       "                                        _f:simplify(_f),_dF:diff(_F,_y),\n",
       "                                        _S:_dF/_F,\n",
       "                                        if not freeof(_x,_S)\n",
       "                                            then _S:simplify(_S),\n",
       "                                        if freeof(_x,_S)\n",
       "                                            then (\n",
       "                                            dprint(5,\n",
       "                                                   \"g was successfully found\"),\n",
       "                                            _g:exp(integrate(_S,_y)),\n",
       "                                            dprint(5,\"g:\",grind(_g)),\n",
       "                                            _g:simplify(_g))\n",
       "                                            else (\n",
       "                                            dprint(0,\n",
       "                                                   \"FATAL ERROR! WAS NOT ABLE TO SEPARATE Y FROM THE SEPARABLE FUNCTION \",\n",
       "                                                   _F),return(false)))\n",
       "                                  else return(false)),\n",
       "                    _Res:simplify(_F/(_f*_g)),\n",
       "                    dprint(5,\"residue = \",grind(_Res)),\n",
       "                    if freeof(_x,_Res) and freeof(_y,_Res)\n",
       "                        then dprint(5,\"separability verified\")\n",
       "                        else (dprint(2,\n",
       "                                     \"Warning: could not validate separable function! F=f(x)*g(y), F,f,g = \",\n",
       "                                     simplify(_F),\", \",simplify(_f),\", \",\n",
       "                                     simplify(_g)),\n",
       "                              dprint(2,\n",
       "                                     \"Warning: could not validate separable function! F=f(x)*g(y), F,f,g = \",\n",
       "                                     _F,\", \",_f,\", \",_g),\n",
       "                              dprint(2,\"Trying division procedure...\"),\n",
       "                              _g:simplify(_F/_f),\n",
       "                              if freeof(_x,_g)\n",
       "                                  then (\n",
       "                                  dprint(2,\n",
       "                                         \"Separation was successful using division procedure\"),\n",
       "                                  _Res:constant_factors(_g,[_y]),\n",
       "                                  _g:ratsimp(_g/_Res),\n",
       "                                  dprint(2,\"Constant factor = \",_Res))\n",
       "                                  else dprint(0,\n",
       "                                              \"***** Error: validation of separability failed. ***** \"))),\n",
       "          dprint(5,\"the end\"),if _f = [] then return(false),\n",
       "          if SPLITCONSTANT\n",
       "              then return([dependentform(_f),dependentform(_g),_Res])\n",
       "              else return([dependentform(_f),dependentform(_g)*_Res]))"
      ]
     },
     "metadata": {},
     "output_type": "display_data"
    },
    {
     "data": {
      "text/plain": [
       "(%i30) isSeparable(_F,_x,_y):=block([_F1,_P,_Q,_L,_SP,_SQ,_dF,_S],\n",
       "                   _F1:ratsimp(_F),\n",
       "                   if freeof(_x,_y,_F1)\n",
       "                       then (dprint(5,\"separable: expression is C\"),\n",
       "                             return(true)),\n",
       "                   if freeof(_x,_F1)\n",
       "                       then (dprint(5,\"separable: expression is f(y)\"),\n",
       "                             return(true)),\n",
       "                   if freeof(_y,_F1)\n",
       "                       then (dprint(5,\"separable: expression is f(x)\"),\n",
       "                             return(true)),_P:num(_F1),_Q:denom(_F1),\n",
       "                   _ratvars:showratvars(_F1),\n",
       "                   _L:sublist(_ratvars,\n",
       "                              lambda([i],not freeof(sqrt,dispform(i,all)))),\n",
       "                   _L:map(args,_L),\n",
       "                   _L:sublist(_L,\n",
       "                              lambda([i],\n",
       "                                     not freeof(_x,i) and not freeof(_y,i))),\n",
       "                   _L:sublist(_L,lambda([i],op(i[1]) = \"+\")),\n",
       "                   if _L # []\n",
       "                       then (dprint(5,\n",
       "                                    \"unseparable function found: sqrt(f(x) + f(y))\"),\n",
       "                             return(false)),\n",
       "                   _L:sublist(_ratvars,\n",
       "                              lambda([i],\n",
       "                                     not freeof(sin,cos,dispform(i,all)))),\n",
       "                   _L:map(args,_L),\n",
       "                   _L:sublist(_L,\n",
       "                              lambda([i],\n",
       "                                     not freeof(_x,i) and not freeof(_y,i))),\n",
       "                   _L:sublist(_L,lambda([i],i[1] = _x*_y)),\n",
       "                   if _L # []\n",
       "                       then (dprint(5,\n",
       "                                    \"unseparable function found: sin(x*y) or cos(x*y)\"),\n",
       "                             return(false)),\n",
       "                   if not freeof(_x,_y,_Q)\n",
       "                       then (if freeof(_x,_P)\n",
       "                                 then (if freeof(_y,_Q)\n",
       "                                           then (\n",
       "                                           dprint(5,\n",
       "                                                  \"separable: expression is P(y)/Q(x)\"),\n",
       "                                           return(true)))\n",
       "                                 else (if freeof(_y,_P)\n",
       "                                           then (if freeof(_x,_Q)\n",
       "                                                     then (\n",
       "                                                     dprint(5,\n",
       "                                                            \"separable: expression is P(x)/Q(y)\"),\n",
       "                                                     returntrue()))\n",
       "                                           else (_SP:isSeparable(_P,_x,_y),\n",
       "                                                 dprint(5,\n",
       "                                                        \"rational separation: P=\",\n",
       "                                                        _SP),\n",
       "                                                 if _SP = false\n",
       "                                                     then return(false),\n",
       "                                                 _SQ:isSeparable(_Q,_x,_y),\n",
       "                                                 dprint(5,\n",
       "                                                        \"rational separation: Q=\",\n",
       "                                                        _SQ),\n",
       "                                                 if _SQ = false\n",
       "                                                     then return(false),\n",
       "                                                 return(true)))),\n",
       "                   if slength(string(_F1)) < 1.5*slength(string(_F))\n",
       "                       then _F:_F1,_dF:diff(_F,_x),_S:_dF/_F,_S:simplify(_S),\n",
       "                   if freeof(_y,_S)\n",
       "                       then (dprint(5,\"f is separable\"),return(true))\n",
       "                       else return(false))"
      ],
      "text/x-maxima": [
       "isSeparable(_F,_x,_y):=block([_F1,_P,_Q,_L,_SP,_SQ,_dF,_S],_F1:ratsimp(_F),\n",
       "            if freeof(_x,_y,_F1)\n",
       "                then (dprint(5,\"separable: expression is C\"),return(true)),\n",
       "            if freeof(_x,_F1)\n",
       "                then (dprint(5,\"separable: expression is f(y)\"),return(true)),\n",
       "            if freeof(_y,_F1)\n",
       "                then (dprint(5,\"separable: expression is f(x)\"),return(true)),\n",
       "            _P:num(_F1),_Q:denom(_F1),_ratvars:showratvars(_F1),\n",
       "            _L:sublist(_ratvars,lambda([i],not freeof(sqrt,dispform(i,all)))),\n",
       "            _L:map(args,_L),\n",
       "            _L:sublist(_L,lambda([i],not freeof(_x,i) and not freeof(_y,i))),\n",
       "            _L:sublist(_L,lambda([i],op(i[1]) = \"+\")),\n",
       "            if _L # []\n",
       "                then (dprint(5,\n",
       "                             \"unseparable function found: sqrt(f(x) + f(y))\"),\n",
       "                      return(false)),\n",
       "            _L:sublist(_ratvars,\n",
       "                       lambda([i],not freeof(sin,cos,dispform(i,all)))),\n",
       "            _L:map(args,_L),\n",
       "            _L:sublist(_L,lambda([i],not freeof(_x,i) and not freeof(_y,i))),\n",
       "            _L:sublist(_L,lambda([i],i[1] = _x*_y)),\n",
       "            if _L # []\n",
       "                then (dprint(5,\n",
       "                             \"unseparable function found: sin(x*y) or cos(x*y)\"),\n",
       "                      return(false)),\n",
       "            if not freeof(_x,_y,_Q)\n",
       "                then (if freeof(_x,_P)\n",
       "                          then (if freeof(_y,_Q)\n",
       "                                    then (\n",
       "                                    dprint(5,\n",
       "                                           \"separable: expression is P(y)/Q(x)\"),\n",
       "                                    return(true)))\n",
       "                          else (if freeof(_y,_P)\n",
       "                                    then (if freeof(_x,_Q)\n",
       "                                              then (\n",
       "                                              dprint(5,\n",
       "                                                     \"separable: expression is P(x)/Q(y)\"),\n",
       "                                              returntrue()))\n",
       "                                    else (_SP:isSeparable(_P,_x,_y),\n",
       "                                          dprint(5,\"rational separation: P=\",\n",
       "                                                 _SP),\n",
       "                                          if _SP = false then return(false),\n",
       "                                          _SQ:isSeparable(_Q,_x,_y),\n",
       "                                          dprint(5,\"rational separation: Q=\",\n",
       "                                                 _SQ),\n",
       "                                          if _SQ = false then return(false),\n",
       "                                          return(true)))),\n",
       "            if slength(string(_F1)) < 1.5*slength(string(_F)) then _F:_F1,\n",
       "            _dF:diff(_F,_x),_S:_dF/_F,_S:simplify(_S),\n",
       "            if freeof(_y,_S) then (dprint(5,\"f is separable\"),return(true))\n",
       "                else return(false))"
      ]
     },
     "metadata": {},
     "output_type": "display_data"
    },
    {
     "data": {
      "text/plain": [
       "(%i31) hasNegativeSign(expr):=block([],if atom(expr) then return(false),\n",
       "                       if op(expr) = \"-\" then return(true) else return(false))"
      ],
      "text/x-maxima": [
       "hasNegativeSign(expr):=block([],if atom(expr) then return(false),\n",
       "                if op(expr) = \"-\" then return(true) else return(false))"
      ]
     },
     "metadata": {},
     "output_type": "display_data"
    },
    {
     "data": {
      "text/plain": [
       "(%i32) constant_factors(_expr,_varlist):=block(\n",
       "                        [inflag:true,_constantfactors:1,_oldratvars,\n",
       "                         _substlist],\n",
       "                        if not listp(_varlist) then _varlist:[_varlist],\n",
       "                        _varlist:append(_varlist,map(op,dependencies)),\n",
       "                        _oldratvars:ratvars,ratvars:_varlist,\n",
       "                        _expr:ratsimp(_expr),\n",
       "                        if lfreeof(_varlist,_expr) then _constantfactors:_expr\n",
       "                            else (if not mapatom(_expr) and op(_expr) = \"*\"\n",
       "                                      then _constantfactors\n",
       "                                      :xreduce(\"*\",\n",
       "                                               listify(\n",
       "                                                subset(setify(args(_expr)),\n",
       "                                                       lambda([_u],\n",
       "                                                              lfreeof(\n",
       "                                                               _varlist,\n",
       "                                                               _u)))))),\n",
       "                        ratvars:_oldratvars,return(_constantfactors))"
      ],
      "text/x-maxima": [
       "constant_factors(_expr,_varlist):=block(\n",
       "                 [inflag:true,_constantfactors:1,_oldratvars,_substlist],\n",
       "                 if not listp(_varlist) then _varlist:[_varlist],\n",
       "                 _varlist:append(_varlist,map(op,dependencies)),\n",
       "                 _oldratvars:ratvars,ratvars:_varlist,_expr:ratsimp(_expr),\n",
       "                 if lfreeof(_varlist,_expr) then _constantfactors:_expr\n",
       "                     else (if not mapatom(_expr) and op(_expr) = \"*\"\n",
       "                               then _constantfactors\n",
       "                               :xreduce(\"*\",\n",
       "                                        listify(\n",
       "                                         subset(setify(args(_expr)),\n",
       "                                                lambda([_u],\n",
       "                                                       lfreeof(_varlist,\n",
       "                                                               _u)))))),\n",
       "                 ratvars:_oldratvars,return(_constantfactors))"
      ]
     },
     "metadata": {},
     "output_type": "display_data"
    },
    {
     "data": {
      "text/latex": [
       "\\[\\tag{${\\it \\%o}_{0}$}\\mathbf{done}\\]"
      ],
      "text/plain": [
       "(%o0)                                done"
      ],
      "text/x-maxima": [
       "done"
      ]
     },
     "execution_count": 24,
     "metadata": {},
     "output_type": "execute_result"
    },
    {
     "data": {
      "text/latex": [
       "\\[\\tag{${\\it \\%o}_{34}$}\\mbox{ /home/nijso/mathematics/maxima\\_files/separable.mac }\\]"
      ],
      "text/plain": [
       "(%o34)        /home/nijso/mathematics/maxima_files/separable.mac"
      ],
      "text/x-maxima": [
       "\"/home/nijso/mathematics/maxima_files/separable.mac\""
      ]
     },
     "execution_count": 24,
     "metadata": {},
     "output_type": "execute_result"
    }
   ],
   "source": [
    "kill(all);batch(\"~/mathematics/maxima_files/separable.mac\");"
   ]
  },
  {
   "cell_type": "code",
   "execution_count": 15,
   "metadata": {},
   "outputs": [
    {
     "data": {
      "text/latex": [
       "\\[\\tag{${\\it \\%o}_{69}$}6\\,e^{y^2+x^2}\\,\\left(2\\,\\cos \\left(y+x\\right)+2\\,\\cos \\left(y-x\\right)\\right)\\]"
      ],
      "text/plain": [
       "                       2    2\n",
       "                      y  + x\n",
       "(%o69)             6 e        (2 cos(y + x) + 2 cos(y - x))"
      ],
      "text/x-maxima": [
       "6*e^(y^2+x^2)*(2*cos(y+x)+2*cos(y-x))"
      ]
     },
     "execution_count": 15,
     "metadata": {},
     "output_type": "execute_result"
    }
   ],
   "source": [
    "expr1 : 6*e^(x^2+y^2)*(2*cos(x+y) + 2*cos(x-y));"
   ]
  },
  {
   "cell_type": "code",
   "execution_count": 16,
   "metadata": {},
   "outputs": [
    {
     "data": {
      "text/latex": [
       "\\[\\tag{${\\it \\%o}_{70}$}\\left[ e^{x^2}\\,\\cos x , 24\\,e^{y^2}\\,\\cos y \\right] \\]"
      ],
      "text/plain": [
       "                             2              2\n",
       "                            x              y\n",
       "(%o70)                    [e   cos(x), 24 e   cos(y)]"
      ],
      "text/x-maxima": [
       "[e^x^2*cos(x),24*e^y^2*cos(y)]"
      ]
     },
     "execution_count": 16,
     "metadata": {},
     "output_type": "execute_result"
    }
   ],
   "source": [
    "separable(expr1,x,y);"
   ]
  },
  {
   "cell_type": "markdown",
   "metadata": {},
   "source": [
    "The constant factor is always added to the second term $g(y)$. We can also separate the constant by using the optional command 'splitConstant=true. The constant factor is then added to the list."
   ]
  },
  {
   "cell_type": "code",
   "execution_count": 17,
   "metadata": {},
   "outputs": [
    {
     "data": {
      "text/latex": [
       "\\[\\tag{${\\it \\%o}_{71}$}\\left[ e^{x^2}\\,\\cos x , e^{y^2}\\,\\cos y , 24 \\right] \\]"
      ],
      "text/plain": [
       "                            2           2\n",
       "                           x           y\n",
       "(%o71)                   [e   cos(x), e   cos(y), 24]"
      ],
      "text/x-maxima": [
       "[e^x^2*cos(x),e^y^2*cos(y),24]"
      ]
     },
     "execution_count": 17,
     "metadata": {},
     "output_type": "execute_result"
    }
   ],
   "source": [
    "expr2 : separable(expr1,x,y,'splitConstant=true);"
   ]
  },
  {
   "cell_type": "markdown",
   "metadata": {},
   "source": [
    "We can also call the routine responsible for the separation of the constant factor independently:"
   ]
  },
  {
   "cell_type": "code",
   "execution_count": 18,
   "metadata": {},
   "outputs": [
    {
     "data": {
      "text/latex": [
       "\\[\\tag{${\\it \\%o}_{72}$}5\\,c\\]"
      ],
      "text/plain": [
       "(%o72)                                5 c"
      ],
      "text/x-maxima": [
       "5*c"
      ]
     },
     "execution_count": 18,
     "metadata": {},
     "output_type": "execute_result"
    }
   ],
   "source": [
    "constant_factors(5*c*x+5*c,[x]);"
   ]
  },
  {
   "cell_type": "markdown",
   "metadata": {},
   "source": [
    "constant_factors also tries to find a shared minus sign. If all terms in an expression of the form a+b+c+d have a minus sign, e.g. expr: -a-b-c-d, then the minus sign will also be factored out."
   ]
  },
  {
   "cell_type": "code",
   "execution_count": 19,
   "metadata": {},
   "outputs": [
    {
     "data": {
      "text/latex": [
       "\\[\\tag{${\\it \\%o}_{73}$}-5\\,c\\]"
      ],
      "text/plain": [
       "(%o73)                               - 5 c"
      ],
      "text/x-maxima": [
       "-5*c"
      ]
     },
     "execution_count": 19,
     "metadata": {},
     "output_type": "execute_result"
    }
   ],
   "source": [
    "constant_factors(-5*c*x-5*c,[x]);"
   ]
  },
  {
   "cell_type": "markdown",
   "metadata": {},
   "source": [
    "Sometimes we just want to know if an expression is separable or not. We can then skip some internal computations."
   ]
  },
  {
   "cell_type": "code",
   "execution_count": 20,
   "metadata": {},
   "outputs": [
    {
     "data": {
      "text/latex": [
       "\\[\\tag{${\\it \\%o}_{74}$}\\mathbf{true}\\]"
      ],
      "text/plain": [
       "(%o74)                               true"
      ],
      "text/x-maxima": [
       "true"
      ]
     },
     "execution_count": 20,
     "metadata": {},
     "output_type": "execute_result"
    }
   ],
   "source": [
    "isSeparable(x*y,x,y);"
   ]
  },
  {
   "cell_type": "markdown",
   "metadata": {},
   "source": [
    "# Separation of variables for an ODE\n",
    "\n",
    "We can use separation of variables to solve ordinary differential equations. For the general separable ode:"
   ]
  },
  {
   "cell_type": "code",
   "execution_count": 21,
   "metadata": {},
   "outputs": [
    {
     "data": {
      "text/latex": [
       "\\[\\tag{${\\it \\%o}_{75}$}\\frac{d}{d\\,x}\\,y=f\\left(x\\right)\\,g\\left(y\\right)\\]"
      ],
      "text/plain": [
       "                                dy\n",
       "(%o75)                          -- = f(x) g(y)\n",
       "                                dx"
      ],
      "text/x-maxima": [
       "'diff(y,x,1) = f(x)*g(y)"
      ]
     },
     "execution_count": 21,
     "metadata": {},
     "output_type": "execute_result"
    }
   ],
   "source": [
    "ode:'diff(y,x)=f(x)*g(y);"
   ]
  },
  {
   "cell_type": "code",
   "execution_count": 22,
   "metadata": {},
   "outputs": [
    {
     "data": {
      "text/latex": [
       "\\[\\tag{${\\it \\%o}_{76}$}\\left[ f\\left(x\\right) , g\\left(y\\right) \\right] \\]"
      ],
      "text/plain": [
       "(%o76)                           [f(x), g(y)]"
      ],
      "text/x-maxima": [
       "[f(x),g(y)]"
      ]
     },
     "execution_count": 22,
     "metadata": {},
     "output_type": "execute_result"
    }
   ],
   "source": [
    "S:separable(rhs(ode),x,y);"
   ]
  },
  {
   "cell_type": "code",
   "execution_count": 23,
   "metadata": {},
   "outputs": [
    {
     "data": {
      "text/latex": [
       "\\[\\tag{${\\it \\%o}_{77}$}\\int {\\frac{1}{g\\left(y\\right)}}{\\;dy}=\\int {f\\left(x\\right)}{\\;dx}\\]"
      ],
      "text/plain": [
       "                             /           /\n",
       "                             [  1        [\n",
       "(%o77)                       I ---- dy = I f(x) dx\n",
       "                             ] g(y)      ]\n",
       "                             /           /"
      ],
      "text/x-maxima": [
       "'integrate(1/g(y),y) = 'integrate(f(x),x)"
      ]
     },
     "execution_count": 23,
     "metadata": {},
     "output_type": "execute_result"
    }
   ],
   "source": [
    "sol:integrate(1/S[2],y)=integrate(S[1],x);"
   ]
  },
  {
   "cell_type": "markdown",
   "metadata": {},
   "source": [
    "# Bibliography\n",
    "\n",
    "[1] <a id='ref:viazminsky'></a> C.P. Viazminsky, On separation of variables, arXiv:math/0210167 (https://arxiv.org/pdf/math/0210167.pdf)\n",
    "\n",
    "[2] <a id='ref:cid'></a> J.A. Cid, A simple method to find out when and ordinary differential equation is separable,  International Journal of Mathematical Education in Science and Technology Vol. 40 , Iss. 5,2009 (http://www4.ujaen.es/~angelcid/Archivos/Papers/IJMEST.pdf)"
   ]
  }
 ],
 "metadata": {
  "kernelspec": {
   "display_name": "Maxima",
   "language": "maxima",
   "name": "maxima"
  },
  "language_info": {
   "codemirror_mode": "maxima",
   "file_extension": ".mac",
   "mimetype": "text/x-maxima",
   "name": "maxima",
   "pygments_lexer": "maxima",
   "version": "5.43.0"
  }
 },
 "nbformat": 4,
 "nbformat_minor": 4
}
