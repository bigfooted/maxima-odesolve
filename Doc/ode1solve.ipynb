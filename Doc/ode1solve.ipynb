{
 "cells": [
  {
   "cell_type": "markdown",
   "metadata": {},
   "source": [
    "<h1 align=\"center\"> Lie point symmetries for first order ODEs </h1>\n",
    " <h3 align=\"center\">A symbolic algorithm for the maxima CAS </br> Nijso Beishuizen</h3>\n",
    "\n",
    "\n",
    "# Introduction\n",
    "\n",
    "The symmetry method is a powerful method to solve differential equations by finding invariant transformations (point symmetries) of the ODE. For first order ODEs, an integrating factor can be constructed from the symmetry and the ODE can then be solved. For first order ODEs, there is no closed form algorithm to find a symmetry in general, but there are algorithms for finding symmetries of a certain form. In Cheb-Terrab and Kolokolnikov <a href='#ref:chebterrabkolokolnikov'>[1]</a>, a very general algorithm is presented that searches for linear symmetries of the form \n",
    "\n",
    "$[\\xi = F(x),\\eta=P(x)y+Q(x)]$. \n",
    "\n",
    "In Cheb-Terrab and Roche <a href='#ref:chebterrabroche'>[2]</a>, an algorithm is presented for finding several simpler symmetries of the form \n",
    "\n",
    "(1) $[\\xi=F(x)*G(y), \\eta=0]$,  $[\\xi=0, \\eta=F(x)*G(y)]$       \n",
    "\n",
    "(2) $[\\xi=F(x)+G(y), \\eta=0]$,  $[\\xi=0, \\eta=F(x)+G(y)]$\n",
    "\n",
    "(3) $[\\xi=F(x), \\eta=G(x)]$,    $[\\xi=F(y), \\eta=G(y)]$\n",
    "\n",
    "(4) $[\\xi=F(x), \\eta=G(y)]$,   $[\\xi=F(y), \\eta=G(x)]$\n",
    "\n",
    "(5) $[\\xi=ax+by+c, \\eta=fx+gy+h]$\n",
    "\n",
    "We see that the linear symmetries presented in <a href='#ref:chebterrabkolokolnikov'>[1]</a> are a generalization of the search for symmetries of the form (3) presented in <a href='#ref:chebterrabroche'>[2]</a>. \n",
    "\n",
    "These methods have been implemented in the function ode1solve and can be found in the file ode1_lie.mac. Additionally, several other methods have been implemented that search for symmetries of specific ODEs. These algorithms are very fast but also limited in applicability. The implemented methods are symmetry searches for ODEs of the type: linear, inverse-linear, separable, exact, Riccati, Bernoulli and Abel. These symmetries can also be found using the search for more general symmetries mentioned above, but these dedicated methods are usually much faster. \n",
    "\n",
    "<h3 align=\"left\">Performance of the implementation</h3>\n",
    "\n",
    "As a performance test, the database of Kamke's first order ODEs was used <a href='#ref:kamke'>[3]</a>. In the database are 367 ODEs of first order and first degree. A number of these ODEs (Cheb-Terrab and Kolokolnikov mention 20 of the first order - first degree) are unsolvable because they are too general (these are ODEs 47, 48, 50, 55, 56, 74, 79, 82, 202, 219, 234, 235, 237, 250, 253, 269, 331). 178 of the ODEs are of type separable, linear, inverse linear and Bernoulli and therefore considered straightforward to solve. They were not considered in the evaluation of the symmetry method in <a href='#ref:chebterrabroche'>[2]</a>. These equations (as well as all homogeneous and Ricatti and Abel odes with constant invariants) all have linear symmetries. Of the 246 ODEs of first order and first degree that are left, 133 were solved by the Cheb-Terrab and Roche method.\n",
    "With the method of Cheb-Terrab and Kolokolnikov, another 20 ODEs of first order and first degree with linear symmetries can be found.  \n",
    "\n",
    "Our implementation currently finds (nontrivial) symmetries for 298 of the 347 solvable ODEs of first order and first degree, which amounts to a success rate of 85%. Every nontrivial symmetry of a first order ODE directly leads to an integrating factor, and therefore to a solution of the ODE. Most ODEs for which no symmetries could be found are currently outside the scope of the method. They are Riccati or (nonconstant invariant) Abel ODEs with special function solutions like Bessel functions."
   ]
  },
  {
   "cell_type": "markdown",
   "metadata": {},
   "source": [
    "# Usage\n",
    "\n",
    "The file ode1_lie.mac has to be loaded before use. ode1_lie.mac depends on separable.mac, ode1_abel.mac and ode_extra.mac. A database of first order odes from the book of Kamke <a href='#ref:kamke'>[3]</a> is stored as a list with name kamke1 in the file kamke1_1.mac. We first load both these files (the kill(all) command will remove any user defined functions and variables. This is useful if you are running this notebook interactively)."
   ]
  },
  {
   "cell_type": "code",
   "execution_count": null,
   "metadata": {
    "scrolled": true
   },
   "outputs": [],
   "source": [
    "kill(all);batch(\"~/mathematics/maxima_files/kamke1_1.mac\");batch(\"~/mathematics/maxima_files/ode1_lie.mac\");"
   ]
  },
  {
   "cell_type": "markdown",
   "metadata": {},
   "source": [
    "The code is very new and might produce a lot of output to help in the development. To reduce the amount of messages, we set the keyword DEBUGFLAG to 1:"
   ]
  },
  {
   "cell_type": "code",
   "execution_count": 4,
   "metadata": {},
   "outputs": [
    {
     "data": {
      "text/latex": [
       "\\[\\tag{${\\it \\%o}_{156}$}1\\]"
      ],
      "text/plain": [
       "(%o156)                                1"
      ],
      "text/x-maxima": [
       "1"
      ]
     },
     "execution_count": 4,
     "metadata": {},
     "output_type": "execute_result"
    }
   ],
   "source": [
    "DEBUGFLAG:1;"
   ]
  },
  {
   "cell_type": "markdown",
   "metadata": {},
   "source": [
    "Let's first solve a differential equation with a known solution. To solve the general first order linear ODE, simply call ode1solve,"
   ]
  },
  {
   "cell_type": "code",
   "execution_count": 5,
   "metadata": {},
   "outputs": [
    {
     "data": {
      "text/latex": [
       "\\[\\tag{${\\it \\%o}_{157}$}\\frac{d}{d\\,x}\\,y=f\\left(x\\right)\\,y+g\\left(x\\right)\\]"
      ],
      "text/plain": [
       "                              dy\n",
       "(%o157)                       -- = f(x) y + g(x)\n",
       "                              dx"
      ],
      "text/x-maxima": [
       "'diff(y,x,1) = f(x)*y+g(x)"
      ]
     },
     "execution_count": 5,
     "metadata": {},
     "output_type": "execute_result"
    }
   ],
   "source": [
    "ode: 'diff(y,x)=f(x)*y+g(x);"
   ]
  },
  {
   "cell_type": "code",
   "execution_count": 6,
   "metadata": {},
   "outputs": [
    {
     "data": {
      "text/latex": [
       "\\[\\tag{${\\it \\%o}_{158}$}\\left[ y=e^{\\int {f\\left(x\\right)}{\\;dx}}\\,\\left(\\int {e^ {- \\int {f\\left(x\\right)}{\\;dx} }\\,g\\left(x\\right)}{\\;dx}+{\\it \\%c}\\right) \\right] \\]"
      ],
      "text/plain": [
       "                      /                /\n",
       "                      [                [\n",
       "                      I f(x) dx      - I f(x) dx\n",
       "                      ]          /     ]\n",
       "                      /          [     /\n",
       "(%o158)        [y = %e          (I %e            g(x) dx + %c)]\n",
       "                                 ]\n",
       "                                 /"
      ],
      "text/x-maxima": [
       "[y = %e^('integrate(f(x),x))*('integrate(%e^-('integrate(f(x),x))*g(x),x)+%c)]"
      ]
     },
     "execution_count": 6,
     "metadata": {},
     "output_type": "execute_result"
    }
   ],
   "source": [
    "ode1solve(ode,y,x);"
   ]
  },
  {
   "cell_type": "markdown",
   "metadata": {},
   "source": [
    "We recognize the general solution as found in many standard textbooks. When a solution has been found, the keyword <i>method</i> indicates which solver was used to find the symmetry, integrating method or solution."
   ]
  },
  {
   "cell_type": "code",
   "execution_count": 7,
   "metadata": {
    "scrolled": true
   },
   "outputs": [
    {
     "data": {
      "text/latex": [
       "\\[\\tag{${\\it \\%o}_{159}$}\\mbox{ linear }\\]"
      ],
      "text/plain": [
       "(%o159)                             linear"
      ],
      "text/x-maxima": [
       "\"linear\""
      ]
     },
     "execution_count": 7,
     "metadata": {},
     "output_type": "execute_result"
    }
   ],
   "source": [
    "method;"
   ]
  },
  {
   "cell_type": "markdown",
   "metadata": {},
   "source": [
    "The default behavior is to return only the solution, if it is found. You can control the output using the options returnSymmetries, returnIntegratingFactor and returnSolution.  "
   ]
  },
  {
   "cell_type": "code",
   "execution_count": 8,
   "metadata": {},
   "outputs": [
    {
     "data": {
      "text/latex": [
       "\\[\\tag{${\\it \\%o}_{160}$}\\left[ \\left[ 0 , e^{\\int {f\\left(x\\right)}{\\;dx}} \\right]  , \\left[ e^ {- \\int {f\\left(x\\right)}{\\;dx} } \\right]  , \\left[ y=e^{\\int {f\\left(x\\right)}{\\;dx}}\\,\\left(\\int {e^ {- \\int {f\\left(x\\right)}{\\;dx} }\\,g\\left(x\\right)}{\\;dx}+{\\it \\%c}\\right) \\right]  \\right] \\]"
      ],
      "text/plain": [
       "               /                /\n",
       "               [                [\n",
       "               I f(x) dx      - I f(x) dx\n",
       "               ]                ]\n",
       "               /                /\n",
       "(%o160) [[0, %e         ], [%e           ], \n",
       "                                     /                /\n",
       "                                     [                [\n",
       "                                     I f(x) dx      - I f(x) dx\n",
       "                                     ]          /     ]\n",
       "                                     /          [     /\n",
       "                              [y = %e          (I %e            g(x) dx + %c)]]\n",
       "                                                ]\n",
       "                                                /"
      ],
      "text/x-maxima": [
       "[[0,%e^'integrate(f(x),x)],[%e^-'integrate(f(x),x)],\n",
       " [y = %e^('integrate(f(x),x))*('integrate(%e^-('integrate(f(x),x))*g(x),x)\n",
       "                              +%c)]]"
      ]
     },
     "execution_count": 8,
     "metadata": {},
     "output_type": "execute_result"
    }
   ],
   "source": [
    "ode1solve(ode,y,x,'returnSymmetries=true,'returnIntegratingFactor=true,'returnSolution=true);"
   ]
  },
  {
   "cell_type": "markdown",
   "metadata": {},
   "source": [
    "The output is a list $X,\\mu,y$ containing the symmetry $X=[\\xi,\\eta]$, the integrating factor $\\mu$ and the explicit solution of the ODE. The solver might return more than one solution. It is also possible to set the output behavior globally. For instance, if you want to return only the symmetries,"
   ]
  },
  {
   "cell_type": "code",
   "execution_count": 9,
   "metadata": {},
   "outputs": [
    {
     "data": {
      "text/latex": [
       "\\[\\tag{${\\it \\%o}_{161}$}\\mathbf{true}\\]"
      ],
      "text/plain": [
       "(%o161)                              true"
      ],
      "text/x-maxima": [
       "true"
      ]
     },
     "execution_count": 9,
     "metadata": {},
     "output_type": "execute_result"
    },
    {
     "data": {
      "text/latex": [
       "\\[\\tag{${\\it \\%o}_{162}$}\\mathbf{false}\\]"
      ],
      "text/plain": [
       "(%o162)                              false"
      ],
      "text/x-maxima": [
       "false"
      ]
     },
     "execution_count": 9,
     "metadata": {},
     "output_type": "execute_result"
    },
    {
     "data": {
      "text/latex": [
       "\\[\\tag{${\\it \\%o}_{163}$}\\mathbf{false}\\]"
      ],
      "text/plain": [
       "(%o163)                              false"
      ],
      "text/x-maxima": [
       "false"
      ]
     },
     "execution_count": 9,
     "metadata": {},
     "output_type": "execute_result"
    }
   ],
   "source": [
    "returnSymmetries:true;returnIntegratingFactor:false;returnSolution:false;"
   ]
  },
  {
   "cell_type": "code",
   "execution_count": 10,
   "metadata": {},
   "outputs": [
    {
     "data": {
      "text/latex": [
       "\\[\\tag{${\\it \\%o}_{164}$}\\left[ 0 , e^{\\int {f\\left(x\\right)}{\\;dx}} \\right] \\]"
      ],
      "text/plain": [
       "                                     /\n",
       "                                     [\n",
       "                                     I f(x) dx\n",
       "                                     ]\n",
       "                                     /\n",
       "(%o164)                        [0, %e         ]"
      ],
      "text/x-maxima": [
       "[0,%e^'integrate(f(x),x)]"
      ]
     },
     "execution_count": 10,
     "metadata": {},
     "output_type": "execute_result"
    }
   ],
   "source": [
    "X:ode1solve(ode,y,x);"
   ]
  },
  {
   "cell_type": "markdown",
   "metadata": {},
   "source": [
    "# Checking the results\n",
    "\n",
    "There are some built-in commands for checking the results. Kamke ODE 1.101 is a Bernoulli ODE:"
   ]
  },
  {
   "cell_type": "code",
   "execution_count": 11,
   "metadata": {},
   "outputs": [
    {
     "data": {
      "text/latex": [
       "\\[\\tag{${\\it \\%o}_{165}$}1\\]"
      ],
      "text/plain": [
       "(%o165)                                1"
      ],
      "text/x-maxima": [
       "1"
      ]
     },
     "execution_count": 11,
     "metadata": {},
     "output_type": "execute_result"
    },
    {
     "data": {
      "text/latex": [
       "\\[\\tag{${\\it \\%o}_{166}$}x\\,\\left(\\frac{d}{d\\,x}\\,y\\right)+x\\,y^2-y\\]"
      ],
      "text/plain": [
       "                                  dy      2\n",
       "(%o166)                         x -- + x y  - y\n",
       "                                  dx"
      ],
      "text/x-maxima": [
       "x*'diff(y,x,1)+x*y^2-y"
      ]
     },
     "execution_count": 11,
     "metadata": {},
     "output_type": "execute_result"
    }
   ],
   "source": [
    "DEBUGFLAG:1;ode:kamke1[101];"
   ]
  },
  {
   "cell_type": "markdown",
   "metadata": {},
   "source": [
    "The function *isBernoulli(ode,y,x)* will return the coefficients $b(x),n,a(x)$ of a Bernoulli ODE $y'+a(x)y=b(x)y^n$, or false if the ODE is not a Bernoulli ODE."
   ]
  },
  {
   "cell_type": "code",
   "execution_count": 12,
   "metadata": {},
   "outputs": [
    {
     "data": {
      "text/latex": [
       "Bernoulli ODE: y' +a(x)*y = b(x)*y^n, with [b(x),n,a(x)] =  \\(-1\\) ,  \\(2\\) ,  \\(\\frac{1}{x}\\)"
      ],
      "text/plain": [
       "inline-value"
      ]
     },
     "metadata": {},
     "output_type": "display_data"
    },
    {
     "data": {
      "text/latex": [
       "\\[\\tag{${\\it \\%o}_{167}$}\\left[ -1 , 2 , \\frac{1}{x} \\right] \\]"
      ],
      "text/plain": [
       "                                           1\n",
       "(%o167)                           [- 1, 2, -]\n",
       "                                           x"
      ],
      "text/x-maxima": [
       "[-1,2,1/x]"
      ]
     },
     "execution_count": 12,
     "metadata": {},
     "output_type": "execute_result"
    }
   ],
   "source": [
    "isBernoulli(ode,y,x);"
   ]
  },
  {
   "cell_type": "code",
   "execution_count": 13,
   "metadata": {},
   "outputs": [
    {
     "data": {
      "text/latex": [
       "Bernoulli ODE: y' +a(x)*y = b(x)*y^n, with [b(x),n,a(x)] =  \\(-1\\) ,  \\(2\\) ,  \\(\\frac{1}{x}\\)"
      ],
      "text/plain": [
       "inline-value"
      ]
     },
     "metadata": {},
     "output_type": "display_data"
    },
    {
     "data": {
      "text/latex": [
       "\\[\\tag{${\\it \\%o}_{168}$}\\left[ 0 , \\frac{y^2}{x} \\right] \\]"
      ],
      "text/plain": [
       "                                         2\n",
       "                                        y\n",
       "(%o168)                             [0, --]\n",
       "                                        x"
      ],
      "text/x-maxima": [
       "[0,y^2/x]"
      ]
     },
     "execution_count": 13,
     "metadata": {},
     "output_type": "execute_result"
    }
   ],
   "source": [
    "X:ode1solve(ode,y,x);"
   ]
  },
  {
   "cell_type": "markdown",
   "metadata": {},
   "source": [
    "We can test the symmetry by substituting it back into the determining equations. If $X=[\\xi,\\eta]$ is a symmetry of the ODE, the result is 0: "
   ]
  },
  {
   "cell_type": "code",
   "execution_count": 14,
   "metadata": {},
   "outputs": [
    {
     "data": {
      "text/latex": [
       "\\[\\tag{${\\it \\%o}_{169}$}0\\]"
      ],
      "text/plain": [
       "(%o169)                                0"
      ],
      "text/x-maxima": [
       "0"
      ]
     },
     "execution_count": 14,
     "metadata": {},
     "output_type": "execute_result"
    }
   ],
   "source": [
    "checkSymmetries(X,ode,y,x);"
   ]
  },
  {
   "cell_type": "markdown",
   "metadata": {},
   "source": [
    "An integrating factor for the ODE $y'=\\frac{Q(x,y)}{P(x,y)}$can be obtained from the symmetry using $\\mu=\\frac{1}{\\xi Q - \\eta P}$. The correctness of the integrating factor can be checked in a similar way. Note that we previously set returnSymmetries to true and returnIntegratingFactor to false globally. We want to return the integrating factors for only this call to ode1solve:  "
   ]
  },
  {
   "cell_type": "code",
   "execution_count": 15,
   "metadata": {},
   "outputs": [
    {
     "data": {
      "text/latex": [
       "Bernoulli ODE: y' +a(x)*y = b(x)*y^n, with [b(x),n,a(x)] =  \\(-1\\) ,  \\(2\\) ,  \\(\\frac{1}{x}\\)"
      ],
      "text/plain": [
       "inline-value"
      ]
     },
     "metadata": {},
     "output_type": "display_data"
    },
    {
     "data": {
      "text/latex": [
       "\\[\\tag{${\\it \\%o}_{170}$}\\left[ \\frac{1}{y^2} \\right] \\]"
      ],
      "text/plain": [
       "                                      1\n",
       "(%o170)                              [--]\n",
       "                                       2\n",
       "                                      y"
      ],
      "text/x-maxima": [
       "[1/y^2]"
      ]
     },
     "execution_count": 15,
     "metadata": {},
     "output_type": "execute_result"
    }
   ],
   "source": [
    "mu:ode1solve(ode,y,x,'returnSymmetries=false,'returnIntegratingFactor=true,returnSolution=false);"
   ]
  },
  {
   "cell_type": "code",
   "execution_count": 16,
   "metadata": {},
   "outputs": [
    {
     "data": {
      "text/latex": [
       "\\[\\tag{${\\it \\%o}_{171}$}\\mathbf{true}\\]"
      ],
      "text/plain": [
       "(%o171)                              true"
      ],
      "text/x-maxima": [
       "true"
      ]
     },
     "execution_count": 16,
     "metadata": {},
     "output_type": "execute_result"
    }
   ],
   "source": [
    "isIntegratingFactor(mu[1],ode,y,x);"
   ]
  },
  {
   "cell_type": "markdown",
   "metadata": {},
   "source": [
    "the solution can be checked by substituting it back into the ode:"
   ]
  },
  {
   "cell_type": "code",
   "execution_count": 17,
   "metadata": {},
   "outputs": [
    {
     "data": {
      "text/latex": [
       "Bernoulli ODE: y' +a(x)*y = b(x)*y^n, with [b(x),n,a(x)] =  \\(-1\\) ,  \\(2\\) ,  \\(\\frac{1}{x}\\)"
      ],
      "text/plain": [
       "inline-value"
      ]
     },
     "metadata": {},
     "output_type": "display_data"
    },
    {
     "data": {
      "text/latex": [
       "\\[\\tag{${\\it \\%o}_{172}$}y=\\frac{2\\,x}{x^2+{\\it \\%c}}\\]"
      ],
      "text/plain": [
       "                                        2 x\n",
       "(%o172)                           y = -------\n",
       "                                       2\n",
       "                                      x  + %c"
      ],
      "text/x-maxima": [
       "y = (2*x)/(x^2+%c)"
      ]
     },
     "execution_count": 17,
     "metadata": {},
     "output_type": "execute_result"
    }
   ],
   "source": [
    "sol:ode1solve(ode,y,x,'returnSymmetries=false,'returnIntegratingFactor=false,'returnSolution=true)[1];"
   ]
  },
  {
   "cell_type": "code",
   "execution_count": 18,
   "metadata": {},
   "outputs": [
    {
     "data": {
      "text/latex": [
       "\\[\\tag{${\\it \\%o}_{173}$}x\\,\\left(\\frac{d}{d\\,x}\\,\\left(\\frac{2\\,x}{x^2+{\\it \\%c}}\\right)\\right)-\\frac{2\\,x}{x^2+{\\it \\%c}}+\\frac{4\\,x^3}{\\left(x^2+{\\it \\%c}\\right)^2}\\]"
      ],
      "text/plain": [
       "                                                       3\n",
       "                       d     2 x         2 x        4 x\n",
       "(%o173)             x (-- (-------)) - ------- + ----------\n",
       "                       dx   2           2          2      2\n",
       "                           x  + %c     x  + %c   (x  + %c)"
      ],
      "text/x-maxima": [
       "x*'diff((2*x)/(x^2+%c),x,1)-(2*x)/(x^2+%c)+(4*x^3)/(x^2+%c)^2"
      ]
     },
     "execution_count": 18,
     "metadata": {},
     "output_type": "execute_result"
    }
   ],
   "source": [
    "subst(sol,ode);"
   ]
  },
  {
   "cell_type": "code",
   "execution_count": 19,
   "metadata": {},
   "outputs": [
    {
     "data": {
      "text/latex": [
       "\\[\\tag{${\\it \\%o}_{174}$}x\\,\\left(\\frac{2}{x^2+{\\it \\%c}}-\\frac{4\\,x^2}{\\left(x^2+{\\it \\%c}\\right)^2}\\right)-\\frac{2\\,x}{x^2+{\\it \\%c}}+\\frac{4\\,x^3}{\\left(x^2+{\\it \\%c}\\right)^2}\\]"
      ],
      "text/plain": [
       "                                   2                       3\n",
       "                      2         4 x          2 x        4 x\n",
       "(%o174)         x (------- - ----------) - ------- + ----------\n",
       "                    2          2      2     2          2      2\n",
       "                   x  + %c   (x  + %c)     x  + %c   (x  + %c)"
      ],
      "text/x-maxima": [
       "x*(2/(x^2+%c)-(4*x^2)/(x^2+%c)^2)-(2*x)/(x^2+%c)+(4*x^3)/(x^2+%c)^2"
      ]
     },
     "execution_count": 19,
     "metadata": {},
     "output_type": "execute_result"
    }
   ],
   "source": [
    "ev(%,nouns);"
   ]
  },
  {
   "cell_type": "code",
   "execution_count": 20,
   "metadata": {},
   "outputs": [
    {
     "data": {
      "text/latex": [
       "\\[\\tag{${\\it \\%o}_{175}$}0\\]"
      ],
      "text/plain": [
       "(%o175)                                0"
      ],
      "text/x-maxima": [
       "0"
      ]
     },
     "execution_count": 20,
     "metadata": {},
     "output_type": "execute_result"
    }
   ],
   "source": [
    "ratsimp(%);"
   ]
  },
  {
   "cell_type": "markdown",
   "metadata": {},
   "source": [
    "# Controlling output\n",
    "With the flag DEBUGFLAG you can control the amount of output printed on the screen. DEBUGFLAG can be set to a value between 0 and 5. The following rules are used for the level of detail of the output:\n",
    "<ol start=\"0\">\n",
    "  <li>error messages. These messages start with the word \"error\". Errors are fatal and the program will terminate after the message.</li>\n",
    "  <li>warning messages. These messages start with the word \"warning\". These messages might lead to failure in finding a solution.</li>\n",
    "  <li>program flow messages. These messages show info about the main calls made in the program</li>\n",
    "  <li>intermediate result messages. These messages show additional intermediate results that might be interesting for the expert user which might not be available globally. For instance, for the Riccati method, the value for the invariant will be shown (constant invariant Riccati ODEs can always be solved).</li>\n",
    "  <li>debugging messages. More info to help with debugging the code.</li>\n",
    "   <li>full debugging messages. A lot of messages on almost anything that is going on inside the code.</li>\n",
    "</ol>\n",
    "\n",
    "For most users, DEBUGFLAG is 1 or 2. "
   ]
  },
  {
   "cell_type": "code",
   "execution_count": 21,
   "metadata": {},
   "outputs": [
    {
     "data": {
      "text/latex": [
       "\\[\\tag{${\\it \\%o}_{176}$}2\\]"
      ],
      "text/plain": [
       "(%o176)                                2"
      ],
      "text/x-maxima": [
       "2"
      ]
     },
     "execution_count": 21,
     "metadata": {},
     "output_type": "execute_result"
    }
   ],
   "source": [
    "DEBUGFLAG:2;"
   ]
  },
  {
   "cell_type": "code",
   "execution_count": 22,
   "metadata": {},
   "outputs": [
    {
     "data": {
      "text/latex": [
       "\\[\\tag{${\\it \\%o}_{177}$}\\frac{d}{d\\,x}\\,y+2\\,a\\,x^3\\,y^3+2\\,x\\,y\\]"
      ],
      "text/plain": [
       "                            dy        3  3\n",
       "(%o177)                     -- + 2 a x  y  + 2 x y\n",
       "                            dx"
      ],
      "text/x-maxima": [
       "'diff(y,x,1)+2*a*x^3*y^3+2*x*y"
      ]
     },
     "execution_count": 22,
     "metadata": {},
     "output_type": "execute_result"
    }
   ],
   "source": [
    "ode:kamke1[44];"
   ]
  },
  {
   "cell_type": "code",
   "execution_count": 23,
   "metadata": {},
   "outputs": [
    {
     "data": {
      "text/latex": [
       "canonical form of ode =  \\(\\left[ \\frac{d}{d\\,x}\\,y=-2\\,x\\,y\\,\\left(a\\,x^2\\,y^2+1\\right) \\right] \\)"
      ],
      "text/plain": [
       "inline-value"
      ]
     },
     "metadata": {},
     "output_type": "display_data"
    },
    {
     "data": {
      "text/latex": [
       "ode =  \\(\\frac{d}{d\\,x}\\,y=-2\\,x\\,y\\,\\left(a\\,x^2\\,y^2+1\\right)\\)"
      ],
      "text/plain": [
       "inline-value"
      ]
     },
     "metadata": {},
     "output_type": "display_data"
    },
    {
     "data": {
      "text/latex": [
       "   trying separable ..."
      ],
      "text/plain": [
       "inline-value"
      ]
     },
     "metadata": {},
     "output_type": "display_data"
    },
    {
     "data": {
      "text/latex": [
       "   trying exact ..."
      ],
      "text/plain": [
       "inline-value"
      ]
     },
     "metadata": {},
     "output_type": "display_data"
    },
    {
     "data": {
      "text/latex": [
       "   trying linear ..."
      ],
      "text/plain": [
       "inline-value"
      ]
     },
     "metadata": {},
     "output_type": "display_data"
    },
    {
     "data": {
      "text/latex": [
       "   trying inverse linear ..."
      ],
      "text/plain": [
       "inline-value"
      ]
     },
     "metadata": {},
     "output_type": "display_data"
    },
    {
     "data": {
      "text/latex": [
       "   trying Bernoulli ..."
      ],
      "text/plain": [
       "inline-value"
      ]
     },
     "metadata": {},
     "output_type": "display_data"
    },
    {
     "data": {
      "text/latex": [
       "Bernoulli ODE: y' +a(x)*y = b(x)*y^n, with [b(x),n,a(x)] =  \\(-2\\,a\\,x^3\\) ,  \\(3\\) ,  \\(-2\\,x\\)"
      ],
      "text/plain": [
       "inline-value"
      ]
     },
     "metadata": {},
     "output_type": "display_data"
    },
    {
     "data": {
      "text/latex": [
       "*** solution found : y' = c1*y^c2 + c3*y (Bernoulli) ***"
      ],
      "text/plain": [
       "inline-value"
      ]
     },
     "metadata": {},
     "output_type": "display_data"
    },
    {
     "data": {
      "text/latex": [
       "[xi,eta]= \\(\\left[ 0 , e^{2\\,x^2}\\,y^3 \\right] \\)"
      ],
      "text/plain": [
       "inline-value"
      ]
     },
     "metadata": {},
     "output_type": "display_data"
    },
    {
     "data": {
      "text/latex": [
       "symmetry= \\(\\mathbf{true}\\)"
      ],
      "text/plain": [
       "inline-value"
      ]
     },
     "metadata": {},
     "output_type": "display_data"
    },
    {
     "data": {
      "text/latex": [
       "integrating factor =  \\(\\frac{1}{e^{2\\,x^2}\\,y^3}\\)"
      ],
      "text/plain": [
       "inline-value"
      ]
     },
     "metadata": {},
     "output_type": "display_data"
    },
    {
     "data": {
      "text/latex": [
       "checking if it is truly an integrating factor:"
      ],
      "text/plain": [
       "inline-value"
      ]
     },
     "metadata": {},
     "output_type": "display_data"
    },
    {
     "data": {
      "text/latex": [
       "integrating factor=   \\(\\mathbf{true}\\)"
      ],
      "text/plain": [
       "inline-value"
      ]
     },
     "metadata": {},
     "output_type": "display_data"
    },
    {
     "data": {
      "text/latex": [
       "simplification introduced complex numers, ignoring radcan-simplification"
      ],
      "text/plain": [
       "inline-value"
      ]
     },
     "metadata": {},
     "output_type": "display_data"
    },
    {
     "data": {
      "text/latex": [
       "method= bernoulli"
      ],
      "text/plain": [
       "inline-value"
      ]
     },
     "metadata": {},
     "output_type": "display_data"
    },
    {
     "data": {
      "text/latex": [
       "solution =  \\(\\left[ \\left[ 0 , e^{2\\,x^2}\\,y^3 \\right]  , \\left[ \\frac{e^ {- 2\\,x^2 }}{y^3} \\right]  , \\left[ y=-\\sqrt{\\frac{2}{4\\,{\\it \\%c}\\,e^{2\\,x^2}-2\\,a\\,x^2-a}} , y=\\sqrt{\\frac{2}{4\\,{\\it \\%c}\\,e^{2\\,x^2}-2\\,a\\,x^2-a}} \\right]  \\right] \\)"
      ],
      "text/plain": [
       "inline-value"
      ]
     },
     "metadata": {},
     "output_type": "display_data"
    },
    {
     "data": {
      "text/latex": [
       "\\[\\tag{${\\it \\%o}_{178}$}\\left[ \\left[ 0 , e^{2\\,x^2}\\,y^3 \\right]  , \\left[ \\frac{e^ {- 2\\,x^2 }}{y^3} \\right]  , \\left[ y=-\\sqrt{\\frac{2}{4\\,{\\it \\%c}\\,e^{2\\,x^2}-2\\,a\\,x^2-a}} , y=\\sqrt{\\frac{2}{4\\,{\\it \\%c}\\,e^{2\\,x^2}-2\\,a\\,x^2-a}} \\right]  \\right] \\]"
      ],
      "text/plain": [
       "                                 2\n",
       "                  2         - 2 x\n",
       "               2 x   3    %e                                2\n",
       "(%o178) [[0, %e     y ], [--------], [y = - sqrt(------------------------), \n",
       "                              3                            2\n",
       "                             y                          2 x         2\n",
       "                                                 4 %c %e     - 2 a x  - a\n",
       "                                                               2\n",
       "                                           y = sqrt(------------------------)]]\n",
       "                                                              2\n",
       "                                                           2 x         2\n",
       "                                                    4 %c %e     - 2 a x  - a"
      ],
      "text/x-maxima": [
       "[[0,%e^(2*x^2)*y^3],[%e^-(2*x^2)/y^3],\n",
       " [y = -sqrt(2/(4*%c*%e^(2*x^2)-2*a*x^2-a)),\n",
       "  y = sqrt(2/(4*%c*%e^(2*x^2)-2*a*x^2-a))]]"
      ]
     },
     "execution_count": 23,
     "metadata": {},
     "output_type": "execute_result"
    }
   ],
   "source": [
    "sol:ode1solve(ode,y,x,'returnSymmetries=true,'returnIntegratingFactor=true,'returnSolution=true);"
   ]
  },
  {
   "cell_type": "markdown",
   "metadata": {},
   "source": [
    "In this case, the solver returns two explicit solutions of the Bernoulli ODE. For many ODEs, the solution can not be written in explicit form. Sometimes, the implicit form is prefered over the explict form because the solution is much simpler in implicit form. With the keyword returnExplicit you can tell the solver to try to write the solution in explicit form or to return the implicit solution. An implicit solution of the first order ode is a first integral. "
   ]
  },
  {
   "cell_type": "code",
   "execution_count": 24,
   "metadata": {},
   "outputs": [
    {
     "data": {
      "text/latex": [
       "Bernoulli ODE: y' +a(x)*y = b(x)*y^n, with [b(x),n,a(x)] =  \\(-2\\,a\\,x^3\\) ,  \\(3\\) ,  \\(-2\\,x\\)"
      ],
      "text/plain": [
       "inline-value"
      ]
     },
     "metadata": {},
     "output_type": "display_data"
    },
    {
     "data": {
      "text/latex": [
       "\\[\\tag{${\\it \\%o}_{179}$}1\\]"
      ],
      "text/plain": [
       "(%o179)                                1"
      ],
      "text/x-maxima": [
       "1"
      ]
     },
     "execution_count": 24,
     "metadata": {},
     "output_type": "execute_result"
    },
    {
     "data": {
      "text/latex": [
       "\\[\\tag{${\\it \\%o}_{180}$}\\frac{e^ {- 2\\,x^2 }\\,\\left(\\left(2\\,a\\,x^2+a\\right)\\,y^2+2\\right)}{y^2}={\\it \\%c}\\]"
      ],
      "text/plain": [
       "                             2\n",
       "                        - 2 x         2       2\n",
       "                      %e       ((2 a x  + a) y  + 2)\n",
       "(%o180)               ------------------------------ = %c\n",
       "                                     2\n",
       "                                    y"
      ],
      "text/x-maxima": [
       "(%e^-(2*x^2)*((2*a*x^2+a)*y^2+2))/y^2 = %c"
      ]
     },
     "execution_count": 24,
     "metadata": {},
     "output_type": "execute_result"
    }
   ],
   "source": [
    "DEBUGFLAG:1;\n",
    "sol:ode1solve(ode,y,x,'returnSymmetries=false,'returnIntegratingFactor=false,'returnSolution=true,'returnExplicit=false)[1];"
   ]
  },
  {
   "cell_type": "markdown",
   "metadata": {},
   "source": [
    "In the book of Kamke, the solution is showns semi-explicitly, with $1/y^2$ on the left-hand side:"
   ]
  },
  {
   "cell_type": "code",
   "execution_count": 25,
   "metadata": {},
   "outputs": [
    {
     "data": {
      "text/latex": [
       "\\[\\tag{${\\it \\%o}_{181}$}\\left[ Y=\\frac{{\\it \\%c}\\,e^{2\\,x^2}}{2}-a\\,x^2-\\frac{a}{2} \\right] \\]"
      ],
      "text/plain": [
       "                                       2\n",
       "                                    2 x\n",
       "                               %c %e          2   a\n",
       "(%o181)                   [Y = --------- - a x  - -]\n",
       "                                   2              2"
      ],
      "text/x-maxima": [
       "[Y = (%c*%e^(2*x^2))/2-a*x^2-a/2]"
      ]
     },
     "execution_count": 25,
     "metadata": {},
     "output_type": "execute_result"
    }
   ],
   "source": [
    "ratexpand(solve(subst(y^2=1/Y,%),Y));"
   ]
  },
  {
   "cell_type": "markdown",
   "metadata": {},
   "source": [
    "# Choosing solver methods\n",
    "\n",
    "If you already know the type of ode, for instance separable or linear, you can restrict the solver to use only the solver for this type of problem."
   ]
  },
  {
   "cell_type": "code",
   "execution_count": 26,
   "metadata": {},
   "outputs": [
    {
     "data": {
      "text/latex": [
       "\\[\\tag{${\\it \\%o}_{182}$}\\frac{d}{d\\,x}\\,y=f\\left(x\\right)\\,g\\left(y\\right)\\]"
      ],
      "text/plain": [
       "                                dy\n",
       "(%o182)                         -- = f(x) g(y)\n",
       "                                dx"
      ],
      "text/x-maxima": [
       "'diff(y,x,1) = f(x)*g(y)"
      ]
     },
     "execution_count": 26,
     "metadata": {},
     "output_type": "execute_result"
    }
   ],
   "source": [
    "ode:'diff(y,x)=f(x)*g(y);"
   ]
  },
  {
   "cell_type": "code",
   "execution_count": 27,
   "metadata": {},
   "outputs": [
    {
     "data": {
      "text/latex": [
       "warning:could not separate y : \\(\\left[ \\int {\\frac{1}{g\\left(y\\right)}}{\\;dy}=\\int {f\\left(x\\right)}{\\;dx}-{\\it \\%c} \\right] \\)"
      ],
      "text/plain": [
       "inline-value"
      ]
     },
     "metadata": {},
     "output_type": "display_data"
    },
    {
     "data": {
      "text/latex": [
       "\\[\\tag{${\\it \\%o}_{183}$}\\int {\\frac{1}{g\\left(y\\right)}}{\\;dy}-\\int {f\\left(x\\right)}{\\;dx}={\\it \\%c}\\]"
      ],
      "text/plain": [
       "                          /           /\n",
       "                          [  1        [\n",
       "(%o183)                   I ---- dy - I f(x) dx = %c\n",
       "                          ] g(y)      ]\n",
       "                          /           /"
      ],
      "text/x-maxima": [
       "'integrate(1/g(y),y)-'integrate(f(x),x) = %c"
      ]
     },
     "execution_count": 27,
     "metadata": {},
     "output_type": "execute_result"
    }
   ],
   "source": [
    "ode1solve(ode,y,x,'useMethod=\"separable\",'returnSymmetries=false,'returnIntegratingFactor=false,'returnSolution=true)[1];"
   ]
  },
  {
   "cell_type": "markdown",
   "metadata": {},
   "source": [
    "The solution is returned in implicit form, because the solver failed to find the explicit solution. We get a warning because *returnExplicit* is still *true*. *useMethod* can also be a list of methods and the methods will be tried in the order as they appear in the list.\n",
    "\n",
    "\n",
    "# Boundary conditions\n",
    "\n",
    "Using boundary conditions works in the same way as for the built-in ode solvers. We use *ic1(solution,x=x0,y=y0)* to impose the boundary condition y(x0)=y0 on the solution of the ode. Note that ode1solve takes into account the global values *integration_constant* and *integration_constant_counter*. The default integration constant for first order ODEs is %c as is the case with the built-in ode solver.\n"
   ]
  },
  {
   "cell_type": "code",
   "execution_count": 28,
   "metadata": {},
   "outputs": [
    {
     "data": {
      "text/latex": [
       "\\[\\tag{${\\it \\%o}_{184}$}\\frac{d}{d\\,x}\\,y=x\\]"
      ],
      "text/plain": [
       "                                    dy\n",
       "(%o184)                             -- = x\n",
       "                                    dx"
      ],
      "text/x-maxima": [
       "'diff(y,x,1) = x"
      ]
     },
     "execution_count": 28,
     "metadata": {},
     "output_type": "execute_result"
    }
   ],
   "source": [
    "ode:'diff(y,x)=x;"
   ]
  },
  {
   "cell_type": "code",
   "execution_count": 29,
   "metadata": {},
   "outputs": [
    {
     "data": {
      "text/latex": [
       "\\[\\tag{${\\it \\%o}_{185}$}y=\\frac{x^2+{\\it \\%c}}{2}\\]"
      ],
      "text/plain": [
       "                                       2\n",
       "                                      x  + %c\n",
       "(%o185)                           y = -------\n",
       "                                         2"
      ],
      "text/x-maxima": [
       "y = (x^2+%c)/2"
      ]
     },
     "execution_count": 29,
     "metadata": {},
     "output_type": "execute_result"
    }
   ],
   "source": [
    "sol:ode1solve(ode,y,x,'returnSymmetries=false,'returnIntegratingFactor=false,'returnSolution=true)[1];"
   ]
  },
  {
   "cell_type": "code",
   "execution_count": 30,
   "metadata": {},
   "outputs": [
    {
     "data": {
      "text/latex": [
       "\\[\\tag{${\\it \\%o}_{186}$}\\mathbf{false}\\]"
      ],
      "text/plain": [
       "(%o186)                              false"
      ],
      "text/x-maxima": [
       "false"
      ]
     },
     "execution_count": 30,
     "metadata": {},
     "output_type": "execute_result"
    }
   ],
   "source": [
    "FIX_INTEGRATION_CONSTANT:false;"
   ]
  },
  {
   "cell_type": "code",
   "execution_count": 31,
   "metadata": {},
   "outputs": [
    {
     "data": {
      "text/latex": [
       "\\[\\tag{${\\it \\%o}_{187}$}y=\\frac{x^2-2\\,{\\it \\%c}_{0}}{2}\\]"
      ],
      "text/plain": [
       "                                     2\n",
       "                                    x  - 2 %c0\n",
       "(%o187)                         y = ----------\n",
       "                                        2"
      ],
      "text/x-maxima": [
       "y = (x^2-2*%c0)/2"
      ]
     },
     "execution_count": 31,
     "metadata": {},
     "output_type": "execute_result"
    }
   ],
   "source": [
    "sol:ode1solve(ode,y,x,'returnSymmetries=false,'returnIntegratingFactor=false,'returnSolution=true)[1];"
   ]
  },
  {
   "cell_type": "code",
   "execution_count": 32,
   "metadata": {},
   "outputs": [
    {
     "data": {
      "text/latex": [
       "\\[\\tag{${\\it \\%o}_{188}$}y=\\frac{x^2-2\\,{\\it \\%c}_{1}}{2}\\]"
      ],
      "text/plain": [
       "                                     2\n",
       "                                    x  - 2 %c1\n",
       "(%o188)                         y = ----------\n",
       "                                        2"
      ],
      "text/x-maxima": [
       "y = (x^2-2*%c1)/2"
      ]
     },
     "execution_count": 32,
     "metadata": {},
     "output_type": "execute_result"
    }
   ],
   "source": [
    "sol:ode1solve(ode,y,x,'returnSymmetries=false,'returnIntegratingFactor=false,'returnSolution=true)[1];"
   ]
  },
  {
   "cell_type": "code",
   "execution_count": 33,
   "metadata": {},
   "outputs": [
    {
     "data": {
      "text/latex": [
       "\\[\\tag{${\\it \\%o}_{189}$}y=\\frac{2\\,y_{0}-x_{0}^2+x^2}{2}\\]"
      ],
      "text/plain": [
       "                                           2    2\n",
       "                                  2 y0 - x0  + x\n",
       "(%o189)                       y = ---------------\n",
       "                                         2"
      ],
      "text/x-maxima": [
       "y = (2*y0-x0^2+x^2)/2"
      ]
     },
     "execution_count": 33,
     "metadata": {},
     "output_type": "execute_result"
    }
   ],
   "source": [
    "ic1(sol,x=x0,y=y0);"
   ]
  },
  {
   "cell_type": "code",
   "execution_count": 34,
   "metadata": {},
   "outputs": [
    {
     "data": {
      "text/latex": [
       "\\[\\tag{${\\it \\%o}_{190}$}y=\\frac{x^2+2}{2}\\]"
      ],
      "text/plain": [
       "                                       2\n",
       "                                      x  + 2\n",
       "(%o190)                           y = ------\n",
       "                                        2"
      ],
      "text/x-maxima": [
       "y = (x^2+2)/2"
      ]
     },
     "execution_count": 34,
     "metadata": {},
     "output_type": "execute_result"
    }
   ],
   "source": [
    "ic1(sol,x=0,y=1);"
   ]
  },
  {
   "cell_type": "markdown",
   "metadata": {},
   "source": [
    "# Bibliography\n",
    "[1] <a id='ref:chebterrabkolokolnikov'></a> E.S. Cheb-Terrab and T. Kolokolnikov, First-order ordinary differential equations, symmetries and linear transformations, Euro. J. of Applied Mathematics 14 (2003)\n",
    "\n",
    "[2] <a id='ref:chebterrabroche'></a> E.S. Cheb-Terrab and A.D. Roche, Symmetries and first order ODE patterns, Computer Physics Communications 113 (1998)\n",
    "\n",
    "[3] <a id='ref:kamke'></a>E. Kamke, Differentialgleichungen, L$\\ddot o$sungsmethoden und L$\\ddot o$sungen, Leipzig (1959)\n",
    "\n",
    "[4] <a id='ref:chebterrabduarte'></a> E.S. Cheb-Terrab, L.G.S. Duarte and L.A.C.P. da Mota, Computer algebra solving of first order ODEs using symmetry methods, Computer Physics Communications 101 (1997)\n",
    "\n",
    "[5] <a id='ref:schwarz1'></a> F. Schwarz, Symmetry analysis of Abel's equation, Studies in applied mathematics 100 (1998)\n",
    "\n",
    "[6] <a id='ref:schwarz2'></a> F. Schwarz, Algorithmic solution of Abel's equation, Computing 61 (1998)\n",
    "\n",
    "\n",
    "\n"
   ]
  }
 ],
 "metadata": {
  "kernelspec": {
   "display_name": "Maxima",
   "language": "maxima",
   "name": "maxima"
  },
  "language_info": {
   "codemirror_mode": "maxima",
   "file_extension": ".mac",
   "mimetype": "text/x-maxima",
   "name": "maxima",
   "pygments_lexer": "maxima",
   "version": "5.43.0"
  }
 },
 "nbformat": 4,
 "nbformat_minor": 4
}
