{
 "cells": [
  {
   "cell_type": "markdown",
   "metadata": {},
   "source": [
    "<h1 align=\"center\"> Lie point symmetries for first order ODEs </h1>\n",
    " <h3 align=\"center\">A symbolic algorithm for the maxima CAS </h3>\n",
    "\n",
    "\n",
    "# Introduction\n",
    "\n",
    "The symmetry method is a powerful method to solve differential equations by finding invariant transformations (point symmetries) of the ODE. For first order ODEs, there is no closed form algorithm to find a symmetry in general, but there are algorithms for finding symmetries of a certain form. In Cheb-Terrab and Kolokolnikov <a href='#ref:chebterrabkolokolnikov'>[1]</a>, a very general algorithm is presented that searches for linear symmetries of the form \n",
    "\n",
    "$[\\xi = F(x),\\eta=P(x)y+Q(x)]$. \n",
    "\n",
    "In Cheb-Terrab and Roche <a href='#ref:chebterrabroche'>[2]</a>, an algorithm is presented for finding several simpler symmetries of the form \n",
    "\n",
    "(1) $[\\xi=F(x)*G(y), \\eta=0]$,  $[\\xi=0, \\eta=F(x)*G(y)]$       \n",
    "\n",
    "(2) $[\\xi=F(x)+G(y), \\eta=0]$,  $[\\xi=0, \\eta=F(x)+G(y)]$\n",
    "\n",
    "(3) $[\\xi=F(x), \\eta=G(x)]$,    $[\\xi=F(y), \\eta=G(y)]$\n",
    "\n",
    "(4) $[\\xi=F(x), \\eta=G(y)]$,   $[\\xi=F(y), \\eta=G(x)]$\n",
    "\n",
    "(5) $[\\xi=ax+by+c, \\eta=fx+gy+h]$\n",
    "\n",
    "We see that the linear symmetries presented in <a href='#ref:chebterrabkolokolnikov'>[1]</a> are a generalization of the search for symmetries of the form (3) presented in <a href='#ref:chebterrabroche'>[2]</a>. \n",
    "\n",
    "These methods have been implemented in the function ode1solve and can be found in the file ode1_lie.mac. Additionally, several other methods have been implemented that search for symmetries of specific ODEs. These algorithms are very fast but also limited in applicability. The implemented methods are symmetry searches for ODEs of the type: linear, inverse-linear, separable, exact, Riccati, Bernoulli and Abel. These symmetries can also be found using the search for more general symmetries mentioned above, but these dedicated methods are usually much faster. \n",
    "\n",
    "<h3 align=\"left\">Performance of the implementation</h3>\n",
    "\n",
    "As a performance test, the database of Kamke's first order ODEs was used <a href='#ref:kamke'>[3]</a>. In the database are 367 ODEs of first order and first degree. A number of these ODEs (Cheb-Terrab and Kolokolnikov mention 20 of the first order - first degree) are unsolvable because they are too general (these are ODEs 47, 48, 50, 55, 56, 74, 79, 82, 202, 219, 234, 235, 237, 250, 253, 269, 331). 178 of the ODEs are of type separable, linear, inverse linear and Bernoulli and therefore considered straightforward to solve. They were not considered in the evaluation of the symmetry method in <a href='#ref:chebterrabroche'>[2]</a>. These equations (as well as all homogeneous and Ricatti and Abel odes with constant invariants) all have linear symmetries. Of the 246 ODEs of first order and first degree that are left, 133 were solved by the Cheb-Terrab and Roche method.\n",
    "With the method of Cheb-Terrab and Kolokolnikov, another 20 ODEs of first order and first degree with linear symmetries can be found.  \n",
    "\n",
    "Our implementation currently finds (nontrivial) symmetries for 298 of the 347 solvable ODEs of first order and first degree, which amounts to a success rate of 85%. Every nontrivial symmetry of a first order ODE directly leads to an integrating factor, and therefore to a solution of the ODE."
   ]
  },
  {
   "cell_type": "markdown",
   "metadata": {},
   "source": [
    "# Usage\n",
    "\n",
    "The file ode1_lie.mac has to be loaded before use. ode1_lie.mac depends on separable.mac, ode1_abel.mac and ode_extra.mac. A database of first order odes from the book of Kamke <a href='#ref:kamke'>[3]</a> is stored as a list with name kamke1 in the file kamke1_1.mac. We first load both these files (the kill(all) command will remove any user defined functions and variables. This is useful if you are running this notebook interactively)."
   ]
  },
  {
   "cell_type": "code",
   "execution_count": 64,
   "metadata": {},
   "outputs": [
    {
     "data": {
      "text/latex": [
       "$$\\mathbf{done}$$"
      ],
      "text/plain": [
       "done"
      ]
     },
     "execution_count": 64,
     "metadata": {},
     "output_type": "execute_result"
    }
   ],
   "source": [
    "kill(all);"
   ]
  },
  {
   "cell_type": "code",
   "execution_count": null,
   "metadata": {
    "scrolled": false
   },
   "outputs": [],
   "source": [
    "batch(\"/home/nijso/mathematics/maxima_files/kamke1_1.mac\");"
   ]
  },
  {
   "cell_type": "code",
   "execution_count": null,
   "metadata": {
    "scrolled": false
   },
   "outputs": [],
   "source": [
    "batch(\"/home/nijso/mathematics/maxima_files/ode1_lie.mac\");"
   ]
  },
  {
   "cell_type": "markdown",
   "metadata": {},
   "source": [
    "The code is very new and might produce a lot of output to help in the development. To reduce the amount of messages, we set the keyword DEBUGFLAG to 1:"
   ]
  },
  {
   "cell_type": "code",
   "execution_count": 64,
   "metadata": {},
   "outputs": [
    {
     "data": {
      "text/latex": [
       "$$1$$"
      ],
      "text/plain": [
       "1"
      ]
     },
     "execution_count": 64,
     "metadata": {},
     "output_type": "execute_result"
    }
   ],
   "source": [
    "DEBUGFLAG:1;"
   ]
  },
  {
   "cell_type": "markdown",
   "metadata": {},
   "source": [
    "Let's first solve a differential equation with a known solution. To solve the general first order linear ODE, simply call ode1Solve,"
   ]
  },
  {
   "cell_type": "code",
   "execution_count": 64,
   "metadata": {},
   "outputs": [
    {
     "data": {
      "text/latex": [
       "$${{d}\\over{d\\,x}}\\,y=f\\left(x\\right)\\,y+g\\left(x\\right)$$"
      ],
      "text/plain": [
       "'diff(y,x,1) = f(x)*y+g(x)"
      ]
     },
     "execution_count": 64,
     "metadata": {},
     "output_type": "execute_result"
    }
   ],
   "source": [
    "ode: 'diff(y,x)=f(x)*y+g(x);"
   ]
  },
  {
   "cell_type": "code",
   "execution_count": 64,
   "metadata": {},
   "outputs": [
    {
     "data": {
      "text/latex": [
       "$$\\left[ \\left[ 0 , e^{\\int {f\\left(x\\right)}{\\;dx}} \\right]  , \n",
       " \\left[ {{1}\\over{e^{\\int {f\\left(x\\right)}{\\;dx}}}} \\right]  , \n",
       " \\left[ y=e^{\\int {f\\left(x\\right)}{\\;dx}}\\,\\int {{{g\\left(x\\right)\n",
       " }\\over{e^{\\int {f\\left(x\\right)}{\\;dx}}}}}{\\;dx}+{\\it \\%c}\\,e^{\n",
       " \\int {f\\left(x\\right)}{\\;dx}} \\right]  \\right] $$"
      ],
      "text/plain": [
       "[[0,%e^'integrate(f(x),x)],[1/%e^'integrate(f(x),x)],\n",
       " [y = %e^('integrate(f(x),x))*'integrate(g(x)/%e^'integrate(f(x),x),x)\n",
       "    +%c*%e^'integrate(f(x),x)]]"
      ]
     },
     "execution_count": 64,
     "metadata": {},
     "output_type": "execute_result"
    }
   ],
   "source": [
    "[X,mu,sol] : ode1Solve(ode,y,x);"
   ]
  },
  {
   "cell_type": "markdown",
   "metadata": {},
   "source": [
    "We recognize the general solution as found in many standard textbooks in the third element of the list. The first element of the list contains the point symmetries and the second element contains the integrating factor. When a solution has been found, the keyword <i>method</i> indicates which solver was used to find the symmetry, integrating method or solution."
   ]
  },
  {
   "cell_type": "code",
   "execution_count": 64,
   "metadata": {
    "scrolled": true
   },
   "outputs": [
    {
     "data": {
      "text/latex": [
       "$$\\mbox{ linear }$$"
      ],
      "text/plain": [
       "\"linear\""
      ]
     },
     "execution_count": 64,
     "metadata": {},
     "output_type": "execute_result"
    }
   ],
   "source": [
    "method;"
   ]
  },
  {
   "cell_type": "markdown",
   "metadata": {},
   "source": [
    "The default behavior is to return the point symmetries, the integrating factor as well as the solution, if they are found. You can control the output using the options returnSymmetries, returnIntegratingFactor and returnSolution.  "
   ]
  },
  {
   "cell_type": "code",
   "execution_count": 64,
   "metadata": {},
   "outputs": [
    {
     "data": {
      "text/latex": [
       "$$\\left[ y=e^{\\int {f\\left(x\\right)}{\\;dx}}\\,\\int {{{g\\left(x\\right)\n",
       " }\\over{e^{\\int {f\\left(x\\right)}{\\;dx}}}}}{\\;dx}+{\\it \\%c}\\,e^{\n",
       " \\int {f\\left(x\\right)}{\\;dx}} \\right] $$"
      ],
      "text/plain": [
       "[y = %e^('integrate(f(x),x))*'integrate(g(x)/%e^'integrate(f(x),x),x)\n",
       "   +%c*%e^'integrate(f(x),x)]"
      ]
     },
     "execution_count": 64,
     "metadata": {},
     "output_type": "execute_result"
    }
   ],
   "source": [
    "ode1Solve(ode,y,x,'returnSymmetries=false,'returnIntegratingFactor=false)[1];"
   ]
  },
  {
   "cell_type": "markdown",
   "metadata": {},
   "source": [
    "The output is still a list of lists and the solver might return more than one solution. It is also possible to set the output behavior globally. For instance, if you want to return only the symmetries,"
   ]
  },
  {
   "cell_type": "code",
   "execution_count": 64,
   "metadata": {},
   "outputs": [
    {
     "data": {
      "text/latex": [
       "$$\\mathbf{true}$$"
      ],
      "text/plain": [
       "true"
      ]
     },
     "execution_count": 64,
     "metadata": {},
     "output_type": "execute_result"
    }
   ],
   "source": [
    "returnSymmetries:true;"
   ]
  },
  {
   "cell_type": "code",
   "execution_count": 64,
   "metadata": {},
   "outputs": [
    {
     "data": {
      "text/latex": [
       "$$\\mathbf{false}$$"
      ],
      "text/plain": [
       "false"
      ]
     },
     "execution_count": 64,
     "metadata": {},
     "output_type": "execute_result"
    }
   ],
   "source": [
    "returnIntegratingFactor:false;"
   ]
  },
  {
   "cell_type": "code",
   "execution_count": 64,
   "metadata": {},
   "outputs": [
    {
     "data": {
      "text/latex": [
       "$$\\mathbf{false}$$"
      ],
      "text/plain": [
       "false"
      ]
     },
     "execution_count": 64,
     "metadata": {},
     "output_type": "execute_result"
    }
   ],
   "source": [
    "returnSolution:false;"
   ]
  },
  {
   "cell_type": "code",
   "execution_count": 64,
   "metadata": {},
   "outputs": [
    {
     "data": {
      "text/latex": [
       "$$\\left[ 0 , e^{\\int {f\\left(x\\right)}{\\;dx}} \\right] $$"
      ],
      "text/plain": [
       "[0,%e^'integrate(f(x),x)]"
      ]
     },
     "execution_count": 64,
     "metadata": {},
     "output_type": "execute_result"
    }
   ],
   "source": [
    "X:ode1Solve(ode,y,x)[1];"
   ]
  },
  {
   "cell_type": "markdown",
   "metadata": {},
   "source": [
    "# Checking the results\n",
    "\n",
    "There are some built-in commands for checking the results. Kamke ODE 1.101 is a Bernoulli ODE:"
   ]
  },
  {
   "cell_type": "code",
   "execution_count": 64,
   "metadata": {},
   "outputs": [
    {
     "data": {
      "text/latex": [
       "$$x\\,\\left({{d}\\over{d\\,x}}\\,y\\right)+x\\,y^2-y$$"
      ],
      "text/plain": [
       "x*'diff(y,x,1)+x*y^2-y"
      ]
     },
     "execution_count": 64,
     "metadata": {},
     "output_type": "execute_result"
    }
   ],
   "source": [
    "ode:kamke1[101];"
   ]
  },
  {
   "cell_type": "code",
   "execution_count": 64,
   "metadata": {},
   "outputs": [
    {
     "data": {
      "text/latex": [
       "$$\\left[ 0 , {{y^2}\\over{x}} \\right] $$"
      ],
      "text/plain": [
       "[0,y^2/x]"
      ]
     },
     "execution_count": 64,
     "metadata": {},
     "output_type": "execute_result"
    }
   ],
   "source": [
    "X:ode1Solve(ode,y,x)[1];"
   ]
  },
  {
   "cell_type": "markdown",
   "metadata": {},
   "source": [
    "We can test the symmetry by substituting it back into the determining equations. If $X=[\\xi,\\eta]$ is a symmetry of the ODE, the result is 0: "
   ]
  },
  {
   "cell_type": "code",
   "execution_count": 64,
   "metadata": {},
   "outputs": [
    {
     "data": {
      "text/latex": [
       "$$0$$"
      ],
      "text/plain": [
       "0"
      ]
     },
     "execution_count": 64,
     "metadata": {},
     "output_type": "execute_result"
    }
   ],
   "source": [
    "checkSymmetries(X,ode,y,x);"
   ]
  },
  {
   "cell_type": "markdown",
   "metadata": {},
   "source": [
    "An integrating factor for the ODE $y'=\\frac{Q(x,y)}{P(x,y)}$can be obtained from the symmetry using $\\mu=\\frac{1}{\\xi Q - \\eta P}$. The correctness of the integrating factor can be checked in a similar way. Note that we previously set returnSymmetries to true and returnIntegratingFactor to false globally. We want to return the integrating factors for only this call to ode1Solve:  "
   ]
  },
  {
   "cell_type": "code",
   "execution_count": 64,
   "metadata": {},
   "outputs": [
    {
     "data": {
      "text/latex": [
       "$$\\left[ {{1}\\over{y^2}} \\right] $$"
      ],
      "text/plain": [
       "[1/y^2]"
      ]
     },
     "execution_count": 64,
     "metadata": {},
     "output_type": "execute_result"
    }
   ],
   "source": [
    "mu:ode1Solve(ode,y,x,'returnSymmetries=false,'returnIntegratingFactor=true,returnSolution=false)[1];"
   ]
  },
  {
   "cell_type": "code",
   "execution_count": 64,
   "metadata": {},
   "outputs": [
    {
     "data": {
      "text/latex": [
       "$$\\mathbf{true}$$"
      ],
      "text/plain": [
       "true"
      ]
     },
     "execution_count": 64,
     "metadata": {},
     "output_type": "execute_result"
    }
   ],
   "source": [
    "isIntegratingFactor(mu[1],ode,y,x);"
   ]
  },
  {
   "cell_type": "markdown",
   "metadata": {},
   "source": [
    "the solution can be checked by substituting it back into the ode:"
   ]
  },
  {
   "cell_type": "code",
   "execution_count": 64,
   "metadata": {},
   "outputs": [
    {
     "data": {
      "text/latex": [
       "$$\\left[ y={{2\\,x}\\over{x^2+{\\it \\%c}}} \\right] $$"
      ],
      "text/plain": [
       "[y = (2*x)/(x^2+%c)]"
      ]
     },
     "execution_count": 64,
     "metadata": {},
     "output_type": "execute_result"
    }
   ],
   "source": [
    "sol:ode1Solve(ode,y,x,'returnSymmetries=false,'returnIntegratingFactor=false,'returnSolution=true)[1];"
   ]
  },
  {
   "cell_type": "code",
   "execution_count": 64,
   "metadata": {},
   "outputs": [
    {
     "data": {
      "text/latex": [
       "$$x\\,\\left({{d}\\over{d\\,x}}\\,\\left({{2\\,x}\\over{x^2+{\\it \\%c}}}\n",
       " \\right)\\right)-{{2\\,x}\\over{x^2+{\\it \\%c}}}+{{4\\,x^3}\\over{\\left(x^2\n",
       " +{\\it \\%c}\\right)^2}}$$"
      ],
      "text/plain": [
       "x*'diff((2*x)/(x^2+%c),x,1)-(2*x)/(x^2+%c)+(4*x^3)/(x^2+%c)^2"
      ]
     },
     "execution_count": 64,
     "metadata": {},
     "output_type": "execute_result"
    }
   ],
   "source": [
    "subst(sol,ode);"
   ]
  },
  {
   "cell_type": "code",
   "execution_count": 64,
   "metadata": {},
   "outputs": [
    {
     "data": {
      "text/latex": [
       "$$x\\,\\left({{2}\\over{x^2+{\\it \\%c}}}-{{4\\,x^2}\\over{\\left(x^2+\n",
       " {\\it \\%c}\\right)^2}}\\right)-{{2\\,x}\\over{x^2+{\\it \\%c}}}+{{4\\,x^3\n",
       " }\\over{\\left(x^2+{\\it \\%c}\\right)^2}}$$"
      ],
      "text/plain": [
       "x*(2/(x^2+%c)-(4*x^2)/(x^2+%c)^2)-(2*x)/(x^2+%c)+(4*x^3)/(x^2+%c)^2"
      ]
     },
     "execution_count": 64,
     "metadata": {},
     "output_type": "execute_result"
    }
   ],
   "source": [
    "ev(%,nouns);"
   ]
  },
  {
   "cell_type": "code",
   "execution_count": 64,
   "metadata": {},
   "outputs": [
    {
     "data": {
      "text/latex": [
       "$$0$$"
      ],
      "text/plain": [
       "0"
      ]
     },
     "execution_count": 64,
     "metadata": {},
     "output_type": "execute_result"
    }
   ],
   "source": [
    "ratsimp(%);"
   ]
  },
  {
   "cell_type": "markdown",
   "metadata": {},
   "source": [
    "# Controlling output\n",
    "With the flag DEBUGFLAG you can control the amount of output printed on the screen. DEBUGFLAG can be set to a value between 0 and 5. The following rules are used for the level of detail of the output:\n",
    "<ol start=\"0\">\n",
    "  <li>error messages. These messages start with the word \"error\". Errors are fatal and the program will terminate after the message.</li>\n",
    "  <li>warning messages. These messages start with the word \"warning\". These messages might lead to failure in finding a solution.</li>\n",
    "  <li>program flow messages. These messages show info about the main calls made in the program</li>\n",
    "  <li>intermediate result messages. These messages show additional intermediate results that might be interesting for the expert user which might not be available globally. For instance, for the Riccati method, the value for the invariant will be shown (constant invariant Riccati ODEs can always be solved).</li>\n",
    "  <li>debugging messages. More info to help with debugging the code.</li>\n",
    "   <li>full debugging messages. A lot of messages on almost anything that is going on inside the code.</li>\n",
    "</ol>\n",
    "\n",
    "For most users, DEBUGFLAG is 1 or 2. "
   ]
  },
  {
   "cell_type": "code",
   "execution_count": 64,
   "metadata": {},
   "outputs": [
    {
     "data": {
      "text/latex": [
       "$$2$$"
      ],
      "text/plain": [
       "2"
      ]
     },
     "execution_count": 64,
     "metadata": {},
     "output_type": "execute_result"
    }
   ],
   "source": [
    "DEBUGFLAG:2;"
   ]
  },
  {
   "cell_type": "code",
   "execution_count": 64,
   "metadata": {},
   "outputs": [
    {
     "data": {
      "text/latex": [
       "$${{d}\\over{d\\,x}}\\,y+2\\,a\\,x^3\\,y^3+2\\,x\\,y$$"
      ],
      "text/plain": [
       "'diff(y,x,1)+2*a*x^3*y^3+2*x*y"
      ]
     },
     "execution_count": 64,
     "metadata": {},
     "output_type": "execute_result"
    }
   ],
   "source": [
    "ode:kamke1[44];"
   ]
  },
  {
   "cell_type": "code",
   "execution_count": 64,
   "metadata": {},
   "outputs": [
    {
     "name": "stdout",
     "output_type": "stream",
     "text": [
      "   trying y' = F(y) ... \n",
      "   trying y' = F(x) ... \n",
      "   trying y' = f(x)*g(y) ... \n",
      "   trying exact ... \n",
      "   trying linear ... \n",
      "   trying inverse linear ... \n",
      "   trying Bernoulli ... \n",
      "*** solution found : y' = c1*y^c2 + c3*y (Bernoulli) *** \n"
     ]
    },
    {
     "data": {
      "text/latex": [
       "$$\\left[ \\left[ 0 , e^{2\\,x^2}\\,y^3 \\right]  , \\left[ -{{1}\\over{e^{2\n",
       " \\,x^2}\\,y^3}} \\right]  , \\left[ y=-{{\\sqrt{2}\\,i}\\over{\\sqrt{4\\,\n",
       " {\\it \\%c}\\,e^{2\\,x^2}+2\\,a\\,x^2+a}}} , y={{\\sqrt{2}\\,i}\\over{\\sqrt{4\n",
       " \\,{\\it \\%c}\\,e^{2\\,x^2}+2\\,a\\,x^2+a}}} \\right]  \\right] $$"
      ],
      "text/plain": [
       "[[0,%e^(2*x^2)*y^3],[-1/(%e^(2*x^2)*y^3)],\n",
       " [y = -(sqrt(2)*%i)/sqrt(4*%c*%e^(2*x^2)+2*a*x^2+a),\n",
       "  y = (sqrt(2)*%i)/sqrt(4*%c*%e^(2*x^2)+2*a*x^2+a)]]"
      ]
     },
     "execution_count": 64,
     "metadata": {},
     "output_type": "execute_result"
    }
   ],
   "source": [
    "sol:ode1Solve(ode,y,x,'returnSymmetries=true,'returnIntegratingFactor=true,'returnSolution=true);"
   ]
  },
  {
   "cell_type": "markdown",
   "metadata": {},
   "source": [
    "In this case, the solver returns two explicit solutions of the Bernoulli ODE. For many ODEs, the solution can not be written in explicit form. Sometimes, the implicit form is prefered over the explict form because the solution is much simpler in implicit form. Here, the solution contains the imaginary number, which is usually not a prefered presentation of the solution. With the keyword returnExplicit you can tell the solver to try to write the solution in explicit form or to return the implicit solution. An implicit solution of the first order ode is a first integral. "
   ]
  },
  {
   "cell_type": "code",
   "execution_count": 64,
   "metadata": {},
   "outputs": [
    {
     "name": "stdout",
     "output_type": "stream",
     "text": [
      "   trying y' = F(y) ... \n",
      "   trying y' = F(x) ... \n",
      "   trying y' = f(x)*g(y) ... \n",
      "   trying exact ... \n",
      "   trying linear ... \n",
      "   trying inverse linear ... \n",
      "   trying Bernoulli ... \n",
      "*** solution found : y' = c1*y^c2 + c3*y (Bernoulli) *** \n"
     ]
    },
    {
     "data": {
      "text/latex": [
       "$$\\left[ -{{\\left(2\\,a\\,x^2+a\\right)\\,y^2+2}\\over{4\\,e^{2\\,x^2}\\,y^2\n",
       " }}={\\it \\%c} \\right] $$"
      ],
      "text/plain": [
       "[-((2*a*x^2+a)*y^2+2)/(4*%e^(2*x^2)*y^2) = %c]"
      ]
     },
     "execution_count": 64,
     "metadata": {},
     "output_type": "execute_result"
    }
   ],
   "source": [
    "sol:ode1Solve(ode,y,x,'returnSymmetries=false,'returnIntegratingFactor=false,'returnSolution=true,'returnExplicit=false)[1];"
   ]
  },
  {
   "cell_type": "markdown",
   "metadata": {},
   "source": [
    "In the book of Kamke, the solution is showns semi-explicitly, with $1/y^2$ on the left-hand side:"
   ]
  },
  {
   "cell_type": "code",
   "execution_count": 64,
   "metadata": {},
   "outputs": [
    {
     "data": {
      "text/latex": [
       "$$\\left[ Y=-2\\,{\\it \\%c}\\,e^{2\\,x^2}-a\\,x^2-{{a}\\over{2}} \\right] $$"
      ],
      "text/plain": [
       "[Y = (-2*%c*%e^(2*x^2))-a*x^2-a/2]"
      ]
     },
     "execution_count": 64,
     "metadata": {},
     "output_type": "execute_result"
    }
   ],
   "source": [
    "ratexpand(solve(subst(y^2=1/Y,%),Y));"
   ]
  },
  {
   "cell_type": "markdown",
   "metadata": {},
   "source": [
    "# Choosing solver methods\n",
    "\n",
    "If you already know the type of ode, for instance separable or linear, you can restrict the solver to use only the solver for this type of problem."
   ]
  },
  {
   "cell_type": "code",
   "execution_count": 64,
   "metadata": {},
   "outputs": [
    {
     "data": {
      "text/latex": [
       "$${{d}\\over{d\\,x}}\\,y=f\\left(x\\right)\\,g\\left(y\\right)$$"
      ],
      "text/plain": [
       "'diff(y,x,1) = f(x)*g(y)"
      ]
     },
     "execution_count": 64,
     "metadata": {},
     "output_type": "execute_result"
    }
   ],
   "source": [
    "ode:'diff(y,x)=f(x)*g(y);"
   ]
  },
  {
   "cell_type": "code",
   "execution_count": 64,
   "metadata": {},
   "outputs": [
    {
     "name": "stdout",
     "output_type": "stream",
     "text": [
      "   trying y' = f(x)*g(y) ... \n",
      "*** solution found : y' = f(x)*g(y) (separable) *** \n",
      "                                /           /\n",
      "                                [  1        [\n",
      "warning:could not separate y : [I ---- dy = I f(x) dx - %c] \n",
      "                                ] g(y)      ]\n",
      "                                /           /\n"
     ]
    },
    {
     "data": {
      "text/latex": [
       "$$\\int {f\\left(x\\right)}{\\;dx}-\\int {{{1}\\over{g\\left(y\\right)}}}{\\;d\n",
       " y}={\\it \\%c}$$"
      ],
      "text/plain": [
       "'integrate(f(x),x)-'integrate(1/g(y),y) = %c"
      ]
     },
     "execution_count": 64,
     "metadata": {},
     "output_type": "execute_result"
    }
   ],
   "source": [
    "ode1Solve(ode,y,x,'useMethod=\"separable\",'returnSymmetries=false,'returnIntegratingFactor=false,'returnSolution=true)[1];"
   ]
  },
  {
   "cell_type": "markdown",
   "metadata": {},
   "source": [
    "The solution is returned in implicit form, because the solver failed to find the explicit solution.\n",
    "The available ode types are: fx, fy, quadrature, linear, inverse-linear, separable, exact, bernoulli, abel, riccati and symmetry1..6.\n",
    "\n",
    "# Boundary conditions\n",
    "\n",
    "Using boundary conditions works in the same way as for the built-in ode solvers. We use ic1(solution,x=x0,y=y0) to impose the boundary condition y(x0)=y0 on the solution of the ode. Note that ode1Solve takes into account the global values integration_constant and integration_constant_counter. The default integration constant is %c as is the case with the built-in ode solver.\n"
   ]
  },
  {
   "cell_type": "code",
   "execution_count": 64,
   "metadata": {},
   "outputs": [
    {
     "data": {
      "text/latex": [
       "$${{d}\\over{d\\,x}}\\,y=x$$"
      ],
      "text/plain": [
       "'diff(y,x,1) = x"
      ]
     },
     "execution_count": 64,
     "metadata": {},
     "output_type": "execute_result"
    }
   ],
   "source": [
    "ode:'diff(y,x)=x;"
   ]
  },
  {
   "cell_type": "code",
   "execution_count": 64,
   "metadata": {},
   "outputs": [
    {
     "name": "stdout",
     "output_type": "stream",
     "text": [
      "   trying y' = F(y) ... \n",
      "   trying y' = F(x) ... \n",
      "*** solution found : y' = F(x) (quadrature) *** \n"
     ]
    },
    {
     "data": {
      "text/latex": [
       "$$\\left[ y={{x^2+{\\it \\%c}}\\over{2}} \\right] $$"
      ],
      "text/plain": [
       "[y = (x^2+%c)/2]"
      ]
     },
     "execution_count": 64,
     "metadata": {},
     "output_type": "execute_result"
    }
   ],
   "source": [
    "sol:ode1Solve(ode,y,x,'returnSymmetries=false,'returnIntegratingFactor=false,'returnSolution=true)[1];"
   ]
  },
  {
   "cell_type": "code",
   "execution_count": 64,
   "metadata": {},
   "outputs": [
    {
     "data": {
      "text/latex": [
       "$$\\mathbf{false}$$"
      ],
      "text/plain": [
       "false"
      ]
     },
     "execution_count": 64,
     "metadata": {},
     "output_type": "execute_result"
    }
   ],
   "source": [
    "FIX_INTEGRATION_CONSTANT:false;"
   ]
  },
  {
   "cell_type": "code",
   "execution_count": 64,
   "metadata": {},
   "outputs": [
    {
     "name": "stdout",
     "output_type": "stream",
     "text": [
      "   trying y' = F(y) ... \n",
      "   trying y' = F(x) ... \n",
      "*** solution found : y' = F(x) (quadrature) *** \n"
     ]
    },
    {
     "data": {
      "text/latex": [
       "$$\\left[ y={{x^2-2\\,{\\it \\%c}_{0}}\\over{2}} \\right] $$"
      ],
      "text/plain": [
       "[y = (x^2-2*%c0)/2]"
      ]
     },
     "execution_count": 64,
     "metadata": {},
     "output_type": "execute_result"
    }
   ],
   "source": [
    "sol:ode1Solve(ode,y,x,'returnSymmetries=false,'returnIntegratingFactor=false,'returnSolution=true)[1];"
   ]
  },
  {
   "cell_type": "code",
   "execution_count": 64,
   "metadata": {},
   "outputs": [
    {
     "name": "stdout",
     "output_type": "stream",
     "text": [
      "   trying y' = F(y) ... \n",
      "   trying y' = F(x) ... \n",
      "*** solution found : y' = F(x) (quadrature) *** \n"
     ]
    },
    {
     "data": {
      "text/latex": [
       "$$\\left[ y={{x^2-2\\,{\\it \\%c}_{1}}\\over{2}} \\right] $$"
      ],
      "text/plain": [
       "[y = (x^2-2*%c1)/2]"
      ]
     },
     "execution_count": 64,
     "metadata": {},
     "output_type": "execute_result"
    }
   ],
   "source": [
    "sol:ode1Solve(ode,y,x,'returnSymmetries=false,'returnIntegratingFactor=false,'returnSolution=true)[1];"
   ]
  },
  {
   "cell_type": "code",
   "execution_count": 64,
   "metadata": {},
   "outputs": [
    {
     "data": {
      "text/latex": [
       "$$y={{2\\,y_{0}-x_{0}^2+x^2}\\over{2}}$$"
      ],
      "text/plain": [
       "y = (2*y0-x0^2+x^2)/2"
      ]
     },
     "execution_count": 64,
     "metadata": {},
     "output_type": "execute_result"
    }
   ],
   "source": [
    "ic1(sol[1],x=x0,y=y0);"
   ]
  },
  {
   "cell_type": "code",
   "execution_count": 64,
   "metadata": {},
   "outputs": [
    {
     "data": {
      "text/latex": [
       "$$y={{x^2+2}\\over{2}}$$"
      ],
      "text/plain": [
       "y = (x^2+2)/2"
      ]
     },
     "execution_count": 64,
     "metadata": {},
     "output_type": "execute_result"
    }
   ],
   "source": [
    "ic1(sol[1],x=0,y=1);"
   ]
  },
  {
   "cell_type": "markdown",
   "metadata": {},
   "source": [
    "# Bibliography\n",
    "[1] <a id='ref:chebterrabkolokolnikov'></a> E.S. Cheb-Terrab and T. Kolokolnikov, First-order ordinary differential equations, symmetries and linear transformations, Euro. J. of Applied Mathematics 14 (2003)\n",
    "\n",
    "[2] <a id='ref:chebterrabroche'></a> E.S. Cheb-Terrab and A.D. Roche, Symmetries and first order ODE patterns, Computer Physics Communications 113 (1998)\n",
    "\n",
    "[3] <a id='ref:kamke'></a>E. Kamke, Differentialgleichungen, L$\\ddot o$sungsmethoden und L$\\ddot o$sungen, Leipzig (1959)\n",
    "\n",
    "[4] <a id='ref:chebterrabduarte'></a> E.S. Cheb-Terrab, L.G.S. Duarte and L.A.C.P. da Mota, Computer algebra solving of first order ODEs using symmetry methods, Computer Physics Communications 101 (1997)\n",
    "\n",
    "[5] <a id='ref:schwarz1'></a> F. Schwarz, Symmetry analysis of Abel's equation, Studies in applied mathematics 100 (1998)\n",
    "\n",
    "[6] <a id='ref:schwarz2'></a> F. Schwarz, Algorithmic solution of Abel's equation, Computing 61 (1998)\n",
    "\n",
    "\n",
    "\n"
   ]
  }
 ],
 "metadata": {
  "kernelspec": {
   "display_name": "Maxima",
   "language": "maxima",
   "name": "maxima"
  },
  "language_info": {
   "codemirror_mode": "maxima",
   "mimetype": "text/x-maxima",
   "name": "maxima",
   "pygments_lexer": "maxima",
   "version": "circa-5.37"
  }
 },
 "nbformat": 4,
 "nbformat_minor": 2
}
