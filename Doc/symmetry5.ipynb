{
 "cells": [
  {
   "cell_type": "markdown",
   "metadata": {},
   "source": [
    "<h1 align=\"center\"><b> Lie point symmetries for first order ODEs </b></h1>\n",
    " <h3 align=\"center\">A symbolic algorithm for the maxima CAS </h3>\n",
    "\n",
    "\n",
    "<h3 align=\"left\"><b>The method of undetermined coefficients </b></h3>\n"
   ]
  },
  {
   "cell_type": "markdown",
   "metadata": {},
   "source": [
    "The method of undetermined coefficients (symmetry5) is the most successful methods of the paper of Cheb-terrab and Roche [2]. In the paper, the symmetry generators $\\xi$ and $\\eta$ are assumed to be bivariate: $\\xi=a_1x+a_2y+a_3$, $\\eta=b_1x+b_2y+b_3$ and the coefficients $a_1..a_3,b_1..b_3$ are solved using the method of undetermined coefficients. The default in our maxima implementation is a bivariate polynomial of degree 2. For $\\xi$ this means $\\xi=a_1x + a_2y + a_3 + a_4x^2 + a_5xy + a_6y^2$. This means we can solve many more odes with the method of undetermined coefficients than mentioned in the paper. \n",
    "we load the file containing the list of Kamke ODEs and the file ode1_lie.mac"
   ]
  },
  {
   "cell_type": "code",
   "execution_count": null,
   "metadata": {
    "scrolled": true
   },
   "outputs": [],
   "source": [
    "kill(all);batch(\"~/mathematics/maxima_files/kamke1_1.mac\");batch(\"~/mathematics/maxima_files/ode1_lie.mac\");"
   ]
  },
  {
   "cell_type": "code",
   "execution_count": 2,
   "metadata": {},
   "outputs": [
    {
     "data": {
      "text/latex": [
       "\\[\\tag{${\\it \\%o}_{156}$}\\frac{d}{d\\,x}\\,y+a\\,y^2-b\\]"
      ],
      "text/plain": [
       "                                 dy      2\n",
       "(%o156)                          -- + a y  - b\n",
       "                                 dx"
      ],
      "text/x-maxima": [
       "'diff(y,x,1)+a*y^2-b"
      ]
     },
     "execution_count": 2,
     "metadata": {},
     "output_type": "execute_result"
    }
   ],
   "source": [
    "ode:kamke1[23];"
   ]
  },
  {
   "cell_type": "code",
   "execution_count": 7,
   "metadata": {},
   "outputs": [
    {
     "data": {
      "text/latex": [
       "\\[\\tag{${\\it \\%o}_{184}$}1\\]"
      ],
      "text/plain": [
       "(%o184)                                1"
      ],
      "text/x-maxima": [
       "1"
      ]
     },
     "execution_count": 7,
     "metadata": {},
     "output_type": "execute_result"
    },
    {
     "data": {
      "text/latex": [
       "\\[\\tag{${\\it \\%o}_{185}$}\\mathbf{true}\\]"
      ],
      "text/plain": [
       "(%o185)                              true"
      ],
      "text/x-maxima": [
       "true"
      ]
     },
     "execution_count": 7,
     "metadata": {},
     "output_type": "execute_result"
    },
    {
     "data": {
      "text/latex": [
       "\\[\\tag{${\\it \\%o}_{186}$}\\mathbf{true}\\]"
      ],
      "text/plain": [
       "(%o186)                              true"
      ],
      "text/x-maxima": [
       "true"
      ]
     },
     "execution_count": 7,
     "metadata": {},
     "output_type": "execute_result"
    },
    {
     "data": {
      "text/latex": [
       "\\[\\tag{${\\it \\%o}_{187}$}\\mathbf{true}\\]"
      ],
      "text/plain": [
       "(%o187)                              true"
      ],
      "text/x-maxima": [
       "true"
      ]
     },
     "execution_count": 7,
     "metadata": {},
     "output_type": "execute_result"
    },
    {
     "data": {
      "text/latex": [
       "\\[\\tag{${\\it \\%o}_{188}$}\\left[ {\\it redundant} \\right] \\]"
      ],
      "text/plain": [
       "(%o188)                           [redundant]"
      ],
      "text/x-maxima": [
       "[redundant]"
      ]
     },
     "execution_count": 7,
     "metadata": {},
     "output_type": "execute_result"
    },
    {
     "data": {
      "text/latex": [
       "\\[\\tag{${\\it \\%o}_{189}$}\\left[ \\left[ 1 , 0 \\right]  , \\left[ \\frac{1}{a\\,y^2-b} \\right]  , \\left[ y=\\frac{\\sqrt{\\frac{b}{a}}\\,\\left({\\it \\%c}\\,e^{2\\,\\sqrt{a\\,b}\\,x}+1\\right)}{{\\it \\%c}\\,e^{2\\,\\sqrt{a\\,b}\\,x}-1} \\right]  \\right] \\]"
      ],
      "text/plain": [
       "                                        b        2 sqrt(a b) x\n",
       "                                   sqrt(-) (%c %e              + 1)\n",
       "                      1                 a\n",
       "(%o189)  [[1, 0], [--------], [y = --------------------------------]]\n",
       "                      2                      2 sqrt(a b) x\n",
       "                   a y  - b             %c %e              - 1"
      ],
      "text/x-maxima": [
       "[[1,0],[1/(a*y^2-b)],\n",
       " [y = (sqrt(b/a)*(%c*%e^(2*sqrt(a*b)*x)+1))/(%c*%e^(2*sqrt(a*b)*x)-1)]]"
      ]
     },
     "execution_count": 7,
     "metadata": {},
     "output_type": "execute_result"
    },
    {
     "data": {
      "text/latex": [
       "\\[\\tag{${\\it \\%o}_{190}$}\\left[ a\\,b>0 \\right] \\]"
      ],
      "text/plain": [
       "(%o190)                            [a b > 0]"
      ],
      "text/x-maxima": [
       "[a*b > 0]"
      ]
     },
     "execution_count": 7,
     "metadata": {},
     "output_type": "execute_result"
    },
    {
     "data": {
      "text/latex": [
       "\\[\\tag{${\\it \\%o}_{191}$}\\mbox{ [ax+by+c,fx+gy+h] }\\]"
      ],
      "text/plain": [
       "(%o191)                        [ax+by+c,fx+gy+h]"
      ],
      "text/x-maxima": [
       "\"[ax+by+c,fx+gy+h]\""
      ]
     },
     "execution_count": 7,
     "metadata": {},
     "output_type": "execute_result"
    }
   ],
   "source": [
    "DEBUGFLAG:1;returnSymmetries:true;returnIntegratingFactor:true;returnSolution:true;\n",
    "assume(a*b>0);\n",
    "ode1solve(ode,y,x,'useMethod=\"muc\");\n",
    "forget(a*b>0);\n",
    "method;"
   ]
  },
  {
   "cell_type": "markdown",
   "metadata": {},
   "source": [
    "The ODE has a simple polynomial symmetry due to being separable, but also a polynomial symmetry of degree 2, which is given in the first item of the output list. \n",
    "\n",
    "Polynomial symmetries occur frequently and the method of undetermined coefficients is one of the most successfull algorithms for finding symmetries. \n",
    "The method of undetermined coefficients sees rational variables like log(), sqrt() and exp() as additional variables. A multivariate polynomial is constructed that includes these variables. For instance for Kamke ODE 1.59: "
   ]
  },
  {
   "cell_type": "code",
   "execution_count": 8,
   "metadata": {},
   "outputs": [
    {
     "data": {
      "text/latex": [
       "\\[\\tag{${\\it \\%o}_{192}$}\\frac{d}{d\\,x}\\,y-a\\,\\sqrt{y^2+1}-b\\]"
      ],
      "text/plain": [
       "                            dy           2\n",
       "(%o192)                     -- - a sqrt(y  + 1) - b\n",
       "                            dx"
      ],
      "text/x-maxima": [
       "'diff(y,x,1)-a*sqrt(y^2+1)-b"
      ]
     },
     "execution_count": 8,
     "metadata": {},
     "output_type": "execute_result"
    }
   ],
   "source": [
    "ode:kamke1[59];"
   ]
  },
  {
   "cell_type": "markdown",
   "metadata": {},
   "source": [
    "This ODE has a square root term. First, we try to factor the term. In this case, we can factor into $\\sqrt{y^2+1}=\\sqrt{y+i}\\sqrt{y-i}$. The factors are complex, and we value real over complex. This is why we ignore the complex factorization and introduce the new variable $z=\\sqrt{y^2+1}$ and we construct a second degree polynomial in $x,y,z$. Note that if the ode had a term of the form $\\sqrt{y^2-1}=\\sqrt{y+1}\\sqrt{y-1}$, we would have introduced 2 new variables $z_1=\\sqrt{y+1}$ and $z_2=\\sqrt{y-1}$. Factorization gives us more variables and a more general shape of the determining equations."
   ]
  },
  {
   "cell_type": "code",
   "execution_count": 9,
   "metadata": {},
   "outputs": [
    {
     "data": {
      "text/latex": [
       "warning:could not separate y : \\(\\left[ \\int {\\frac{1}{a\\,\\sqrt{y^2+1}+b}}{\\;dy}=x-{\\it \\%c} \\right] \\)"
      ],
      "text/plain": [
       "inline-value"
      ]
     },
     "metadata": {},
     "output_type": "display_data"
    },
    {
     "data": {
      "text/latex": [
       "\\[\\tag{${\\it \\%o}_{193}$}\\left[ \\left[ 1 , \\frac{a\\,\\sqrt{y^2+1}+b}{a} \\right]  , \\left[ \\frac{1}{a\\,\\sqrt{y^2+1}+b} \\right]  , \\left[ \\int {\\frac{1}{a\\,\\sqrt{y^2+1}+b}}{\\;dy}-x={\\it \\%c} \\right]  \\right] \\]"
      ],
      "text/plain": [
       "                     2\n",
       "             a sqrt(y  + 1) + b            1\n",
       "(%o193) [[1, ------------------], [------------------], \n",
       "                     a                     2\n",
       "                                   a sqrt(y  + 1) + b\n",
       "                                             /\n",
       "                                             [         1\n",
       "                                            [I ------------------ dy - x = %c]]\n",
       "                                             ]         2\n",
       "                                             / a sqrt(y  + 1) + b"
      ],
      "text/x-maxima": [
       "[[1,(a*sqrt(y^2+1)+b)/a],[1/(a*sqrt(y^2+1)+b)],\n",
       " ['integrate(1/(a*sqrt(y^2+1)+b),y)-x = %c]]"
      ]
     },
     "execution_count": 9,
     "metadata": {},
     "output_type": "execute_result"
    }
   ],
   "source": [
    "ode1solve(ode,y,x,'useMethod=\"symmetry5\");"
   ]
  },
  {
   "cell_type": "markdown",
   "metadata": {},
   "source": [
    "The method of undetermined coefficients finds a polynomial symmetry and an implicit solution (we asked for an explicit solution, hence the warning).\n",
    "\n",
    "\n",
    "Additionally, the method of undetermined coefficients searches for rational polynomial symmetries of the form $\\xi=Q_1/P_1$ and $\\eta=Q_2/P_2$, with $P,Q$ bivariate polynomials. Because the search for such symmetries is much more expensive, the default is to search only for rational symmetries of the form $[\\xi,\\eta]=[0,\\frac{Q}{P}]$ and $[\\xi,\\eta]=[\\frac{Q}{P},0]$. It turns out that there is a class of ODEs of the form $y'=\\frac{Q(x,y)}{P(x,y)}$ and $y'=\\frac{Q(x,y)}{xP(x,y)}$ whose symmetries have the form $[\\xi,\\eta]=[0,\\frac{F(x,y)}{P(x,y)}]$, so symmetries whose denominator is the denominator (or denominator times $x$) of the right-hand side of the differential equation. We are also looking for these symmetries. "
   ]
  },
  {
   "cell_type": "code",
   "execution_count": 10,
   "metadata": {},
   "outputs": [
    {
     "data": {
      "text/latex": [
       "\\[\\tag{${\\it \\%o}_{194}$}x\\,\\left(\\frac{d}{d\\,x}\\,y\\right)\\,\\left(y\\,\\log \\left(x\\,y\\right)+y-a\\,x\\right)-y\\,\\left(a\\,x\\,\\log \\left(x\\,y\\right)-y+a\\,x\\right)\\]"
      ],
      "text/plain": [
       "             dy\n",
       "(%o194)    x -- (y log(x y) + y - a x) - y (a x log(x y) - y + a x)\n",
       "             dx"
      ],
      "text/x-maxima": [
       "x*'diff(y,x,1)*(y*log(x*y)+y-a*x)-y*(a*x*log(x*y)-y+a*x)"
      ]
     },
     "execution_count": 10,
     "metadata": {},
     "output_type": "execute_result"
    }
   ],
   "source": [
    "ode:kamke1[346];"
   ]
  },
  {
   "cell_type": "markdown",
   "metadata": {},
   "source": [
    "This ODE can be written as $y'=Q/P$, with $P=x(\\log(xy)+y-ax)$. So we are factoring out the $x$, and are looking for symmetries of the form $[\\xi,\\eta] =[0,\\frac{F(x,y)}{\\log(xy)+y-ax}]$. The method *symmetry5b* will look for such symmetries."
   ]
  },
  {
   "cell_type": "code",
   "execution_count": 11,
   "metadata": {},
   "outputs": [
    {
     "data": {
      "text/latex": [
       "warning: explicit solution was requested but could not write solution in explicit form"
      ],
      "text/plain": [
       "inline-value"
      ]
     },
     "metadata": {},
     "output_type": "display_data"
    },
    {
     "data": {
      "text/latex": [
       "\\[\\tag{${\\it \\%o}_{195}$}\\left[ \\left[ 0 , \\frac{y}{y\\,\\left(\\log \\left(x\\,y\\right)+1\\right)-a\\,x} \\right]  , \\left[ \\frac{1}{x\\,y} \\right]  , \\left[ \\left(y-a\\,x\\right)\\,\\log \\left(x\\,y\\right)={\\it \\%c} \\right]  \\right] \\]"
      ],
      "text/plain": [
       "                       y                1\n",
       "(%o195) [[0, ----------------------], [---], [(y - a x) log(x y) = %c]]\n",
       "             y (log(x y) + 1) - a x    x y"
      ],
      "text/x-maxima": [
       "[[0,y/(y*(log(x*y)+1)-a*x)],[1/(x*y)],[(y-a*x)*log(x*y) = %c]]"
      ]
     },
     "execution_count": 11,
     "metadata": {},
     "output_type": "execute_result"
    }
   ],
   "source": [
    "ode1solve(ode,y,x,'useMethod=\"symmetry5b\");"
   ]
  },
  {
   "cell_type": "markdown",
   "metadata": {},
   "source": [
    "note that the denominator of the symmetry does not match the original denominator of the ODE. This is because internally, ode1solve tries to simplify the ODE by rewriting $\\log(xy)$ in terms of $\\log(x)$ and $\\log(y)$. These canonical forms can be obtained as follows:"
   ]
  },
  {
   "cell_type": "code",
   "execution_count": 12,
   "metadata": {},
   "outputs": [
    {
     "data": {
      "text/latex": [
       "\\[\\tag{${\\it \\%o}_{196}$}\\left[ \\frac{d}{d\\,x}\\,y=\\frac{y\\,\\left(a\\,x\\,\\log \\left(x\\,y\\right)-y+a\\,x\\right)}{x\\,\\left(y\\,\\log \\left(x\\,y\\right)+y-a\\,x\\right)} \\right] \\]"
      ],
      "text/plain": [
       "                        dy   y (a x log(x y) - y + a x)\n",
       "(%o196)                [-- = --------------------------]\n",
       "                        dx    x (y log(x y) + y - a x)"
      ],
      "text/x-maxima": [
       "['diff(y,x,1) = (y*(a*x*log(x*y)-y+a*x))/(x*(y*log(x*y)+y-a*x))]"
      ]
     },
     "execution_count": 12,
     "metadata": {},
     "output_type": "execute_result"
    }
   ],
   "source": [
    "ode1CanonicalForm(ode,y,x);"
   ]
  },
  {
   "cell_type": "code",
   "execution_count": 13,
   "metadata": {},
   "outputs": [
    {
     "data": {
      "text/latex": [
       "\\[\\tag{${\\it \\%o}_{197}$}\\left[ x , y\\,\\log \\left(x\\,y\\right)+y-a\\,x \\right] \\]"
      ],
      "text/plain": [
       "(%o197)                    [x, y log(x y) + y - a x]"
      ],
      "text/x-maxima": [
       "[x,y*log(x*y)+y-a*x]"
      ]
     },
     "execution_count": 13,
     "metadata": {},
     "output_type": "execute_result"
    }
   ],
   "source": [
    "P:factor_list(denom(rhs(%[1])));"
   ]
  },
  {
   "cell_type": "markdown",
   "metadata": {},
   "source": [
    "# user defined functions for symmetries\n",
    "\n",
    "symmetry5 can be used to look for user defined shapes of symmetries. The user has to supply a function with unknown coefficients for the symmetries $\\xi,\\eta$. Let's take a look at Kamke ODE 1.62, which cannot be solved automatically by ode1solve:"
   ]
  },
  {
   "cell_type": "code",
   "execution_count": 14,
   "metadata": {},
   "outputs": [
    {
     "data": {
      "text/latex": [
       "\\[\\tag{${\\it \\%o}_{198}$}\\frac{d}{d\\,x}\\,y=\\frac{y-x^2\\,\\sqrt{x^2-y^2}}{x\\,y\\,\\sqrt{x^2-y^2}+x}\\]"
      ],
      "text/plain": [
       "                                    2       2    2\n",
       "                          dy   y - x  sqrt(x  - y )\n",
       "(%o198)                   -- = ---------------------\n",
       "                          dx             2    2\n",
       "                               x y sqrt(x  - y ) + x"
      ],
      "text/x-maxima": [
       "'diff(y,x,1) = (y-x^2*sqrt(x^2-y^2))/(x*y*sqrt(x^2-y^2)+x)"
      ]
     },
     "execution_count": 14,
     "metadata": {},
     "output_type": "execute_result"
    }
   ],
   "source": [
    "ode:kamke1[62];"
   ]
  },
  {
   "cell_type": "code",
   "execution_count": 15,
   "metadata": {},
   "outputs": [
    {
     "data": {
      "text/latex": [
       "\\[\\tag{${\\it \\%o}_{199}$}\\mathbf{false}\\]"
      ],
      "text/plain": [
       "(%o199)                              false"
      ],
      "text/x-maxima": [
       "false"
      ]
     },
     "execution_count": 15,
     "metadata": {},
     "output_type": "execute_result"
    },
    {
     "data": {
      "text/latex": [
       "\\[\\tag{${\\it \\%o}_{200}$}\\mathbf{false}\\]"
      ],
      "text/plain": [
       "(%o200)                              false"
      ],
      "text/x-maxima": [
       "false"
      ]
     },
     "execution_count": 15,
     "metadata": {},
     "output_type": "execute_result"
    },
    {
     "data": {
      "text/latex": [
       "\\[\\tag{${\\it \\%o}_{201}$}\\mathbf{true}\\]"
      ],
      "text/plain": [
       "(%o201)                              true"
      ],
      "text/x-maxima": [
       "true"
      ]
     },
     "execution_count": 15,
     "metadata": {},
     "output_type": "execute_result"
    },
    {
     "data": {
      "text/latex": [
       "\\[\\tag{${\\it \\%o}_{202}$}1\\]"
      ],
      "text/plain": [
       "(%o202)                                1"
      ],
      "text/x-maxima": [
       "1"
      ]
     },
     "execution_count": 15,
     "metadata": {},
     "output_type": "execute_result"
    }
   ],
   "source": [
    "returnSolution:false;returnIntegratingFactor:false;returnSymmetries:true;DEBUGFLAG:1;"
   ]
  },
  {
   "cell_type": "code",
   "execution_count": 16,
   "metadata": {},
   "outputs": [
    {
     "name": "stdout",
     "output_type": "stream",
     "text": [
      "\n",
      "expt: undefined: 0 to a negative exponent.\n",
      "\n",
      "expt: undefined: 0 to a negative exponent."
     ]
    },
    {
     "data": {
      "text/latex": [
       "got rid of imaginary numbers..."
      ],
      "text/plain": [
       "inline-value"
      ]
     },
     "metadata": {},
     "output_type": "display_data"
    },
    {
     "data": {
      "text/latex": [
       "\\[\\tag{${\\it \\%o}_{203}$}\\mathbf{false}\\]"
      ],
      "text/plain": [
       "(%o203)                              false"
      ],
      "text/x-maxima": [
       "false"
      ]
     },
     "execution_count": 16,
     "metadata": {},
     "output_type": "execute_result"
    },
    {
     "name": "stdout",
     "output_type": "stream",
     "text": [
      "\n"
     ]
    }
   ],
   "source": [
    "ode1solve(ode,y,x);"
   ]
  },
  {
   "cell_type": "markdown",
   "metadata": {},
   "source": [
    "We did not find any nontrivial symmetries of the ODE. Actually, we found some trivial symmetries, which internally lead to the *expt: undefined: 0 to a negative exponent* error message. We can use the method of undetermined coefficients with a user defined function for the shape of the symmetries. The ODE contains the term $\\sqrt{x^2-y^2}$. If the symmetry contains such a term, it will not be recognized by any of the methods. With the method of undetermined coefficients, we can look for a symmetry containing this term. Let's define a shortcut:"
   ]
  },
  {
   "cell_type": "code",
   "execution_count": 17,
   "metadata": {},
   "outputs": [
    {
     "data": {
      "text/latex": [
       "\\[\\tag{${\\it \\%o}_{204}$}\\sqrt{x^2-y^2}\\]"
      ],
      "text/plain": [
       "                                       2    2\n",
       "(%o204)                          sqrt(x  - y )"
      ],
      "text/x-maxima": [
       "sqrt(x^2-y^2)"
      ]
     },
     "execution_count": 17,
     "metadata": {},
     "output_type": "execute_result"
    }
   ],
   "source": [
    "V1:sqrt(x^2-y^2);"
   ]
  },
  {
   "cell_type": "markdown",
   "metadata": {},
   "source": [
    "Let's also define a shortcut for $\\sqrt{x^2+y^2}$:"
   ]
  },
  {
   "cell_type": "code",
   "execution_count": 18,
   "metadata": {},
   "outputs": [
    {
     "data": {
      "text/latex": [
       "\\[\\tag{${\\it \\%o}_{205}$}\\sqrt{y^2+x^2}\\]"
      ],
      "text/plain": [
       "                                       2    2\n",
       "(%o205)                          sqrt(y  + x )"
      ],
      "text/x-maxima": [
       "sqrt(y^2+x^2)"
      ]
     },
     "execution_count": 18,
     "metadata": {},
     "output_type": "execute_result"
    }
   ],
   "source": [
    "V2:sqrt(x^2+y^2);"
   ]
  },
  {
   "cell_type": "markdown",
   "metadata": {},
   "source": [
    "We could define a very general multivariate polynomial with the variables $x,y,V_1,V_2$, but after some trial and error you will find that this one works:"
   ]
  },
  {
   "cell_type": "code",
   "execution_count": 19,
   "metadata": {},
   "outputs": [
    {
     "data": {
      "text/latex": [
       "\\[\\tag{${\\it \\%o}_{206}$}\\left[ \\frac{x}{y^2+x^2} , \\frac{y}{y^2+x^2} \\right] \\]"
      ],
      "text/plain": [
       "                                  x        y\n",
       "(%o206)                       [-------, -------]\n",
       "                                2    2   2    2\n",
       "                               y  + x   y  + x"
      ],
      "text/x-maxima": [
       "[x/(y^2+x^2),y/(y^2+x^2)]"
      ]
     },
     "execution_count": 19,
     "metadata": {},
     "output_type": "execute_result"
    }
   ],
   "source": [
    "X:ode1solve(ode,y,x,'useMethod=\"symmetry5\",'xi=a1*x/V1^2+a2*x/V2^2,'eta=b1*y/V1^2+b2*y/V2^2);"
   ]
  },
  {
   "cell_type": "code",
   "execution_count": 20,
   "metadata": {},
   "outputs": [
    {
     "data": {
      "text/latex": [
       "X= \\(\\left[ \\frac{x}{y^2+x^2} , \\frac{y}{y^2+x^2} \\right] \\) is a symmetry of ODE  \\(\\frac{d}{d\\,x}\\,y=\\frac{y-x^2\\,\\sqrt{x^2-y^2}}{x\\,y\\,\\sqrt{x^2-y^2}+x}\\) :  \\(\\mathbf{true}\\)"
      ],
      "text/plain": [
       "inline-value"
      ]
     },
     "metadata": {},
     "output_type": "display_data"
    }
   ],
   "source": [
    "print(\"X=\",X,\"is a symmetry of ODE \",ode,\": \", is(checkSymmetries(X,ode,y,x)=0))$"
   ]
  },
  {
   "cell_type": "markdown",
   "metadata": {},
   "source": [
    "we could have tried a symmetry search for a general rational symmetry of degree 2. However, this computation is very expensive. The search for such symmetries is not done automatically. With the symmetry that we have just found, we can construct an integrating factor for the ODE. Note that our symmetry is valid for the canonical form of the ODE, but in this case the ODE is already in canonical form. If it is not, you can use the function *ode1CanonicalForm(ode,y,x)* to place the ODE in canonical form."
   ]
  },
  {
   "cell_type": "code",
   "execution_count": 21,
   "metadata": {},
   "outputs": [
    {
     "data": {
      "text/latex": [
       "\\[\\tag{${\\it \\%o}_{208}$}\\frac{d}{d\\,x}\\,y=-\\frac{x^2\\,\\sqrt{x^2-y^2}-y}{x\\,\\left(y\\,\\sqrt{x^2-y^2}+1\\right)}\\]"
      ],
      "text/plain": [
       "                                 2       2    2\n",
       "                        dy      x  sqrt(x  - y ) - y\n",
       "(%o208)                 -- = - -----------------------\n",
       "                        dx                2    2\n",
       "                               x (y sqrt(x  - y ) + 1)"
      ],
      "text/x-maxima": [
       "'diff(y,x,1) = -(x^2*sqrt(x^2-y^2)-y)/(x*(y*sqrt(x^2-y^2)+1))"
      ]
     },
     "execution_count": 21,
     "metadata": {},
     "output_type": "execute_result"
    },
    {
     "data": {
      "text/latex": [
       "\\[\\tag{${\\it \\%o}_{209}$}\\frac{i}{x\\,\\sqrt{y^2-x^2}}\\]"
      ],
      "text/plain": [
       "                                      %i\n",
       "(%o209)                         ---------------\n",
       "                                        2    2\n",
       "                                x sqrt(y  - x )"
      ],
      "text/x-maxima": [
       "%i/(x*sqrt(y^2-x^2))"
      ]
     },
     "execution_count": 21,
     "metadata": {},
     "output_type": "execute_result"
    },
    {
     "data": {
      "text/latex": [
       "\\[\\tag{${\\it \\%o}_{210}$}\\mathbf{true}\\]"
      ],
      "text/plain": [
       "(%o210)                              true"
      ],
      "text/x-maxima": [
       "true"
      ]
     },
     "execution_count": 21,
     "metadata": {},
     "output_type": "execute_result"
    },
    {
     "data": {
      "text/latex": [
       "\\[\\tag{${\\it \\%o}_{211}$}-\\frac{1}{x\\,\\sqrt{y^2-x^2}}\\]"
      ],
      "text/plain": [
       "                                        1\n",
       "(%o211)                        - ---------------\n",
       "                                         2    2\n",
       "                                 x sqrt(y  - x )"
      ],
      "text/x-maxima": [
       "-1/(x*sqrt(y^2-x^2))"
      ]
     },
     "execution_count": 21,
     "metadata": {},
     "output_type": "execute_result"
    },
    {
     "data": {
      "text/latex": [
       "\\[\\tag{${\\it \\%o}_{212}$}\\mathbf{true}\\]"
      ],
      "text/plain": [
       "(%o212)                              true"
      ],
      "text/x-maxima": [
       "true"
      ]
     },
     "execution_count": 21,
     "metadata": {},
     "output_type": "execute_result"
    }
   ],
   "source": [
    "ode:ode1CanonicalForm(ode,y,x)[1];\n",
    "mu:ode1IntegratingFactor(X,ode,y,x);\n",
    "isIntegratingFactor(mu,ode,y,x);\n",
    "mu:ratsimp(%i*mu);\n",
    "isIntegratingFactor(mu,ode,y,x);"
   ]
  },
  {
   "cell_type": "markdown",
   "metadata": {},
   "source": [
    "A manual computation of the integrating factor from the symmetry will reveal that the integrating factor is complex. It turns out that if we multiply the integrating factor with $i$, it is still an integrating factor, which might lead to a more elegant solution later in the computation. Internally, we try this if the integrating factor is complex. Unfortunately, computing an elegant solution using this integrating factor was not possible, but a solution can certainly be computed using *ode1SolveWithIntegratingFactor(ode,mu,y,x,returnExplicit)* where (bool) returnExplicit=true means that we want to compute an explicit solution."
   ]
  },
  {
   "cell_type": "markdown",
   "metadata": {},
   "source": [
    "# Bibliography\n",
    "[1] E.S. Cheb-Terrab and T. Kolokolnikov, First-order ordinary differential equations, symmetries and linear transformations, Euro. J. of Applied Mathematics 14 (2003)\n",
    "\n",
    "[2] E.S. Cheb-Terrab and A.D. Roche, Symmetries and first order ODE patterns, Computer Physics Communications 113 (1998)\n",
    "\n",
    "[3] E.S. Cheb-Terrab, L.G.S. Duarte and L.A.C.P. da Mota, Computer algebra solving of first order ODEs using symmetry methods, Computer Physics Communications 101 (1997)\n",
    "\n",
    "[4] F. Schwarz, Symmetry analysis of Abel's equation, Studies in applied mathematics 100 (1998)\n",
    "\n",
    "[5] F. Schwarz, Algorithmic solution of Abel's equation, Computing 61 (1998)\n",
    "\n",
    "[6] E. Kamke, Differentialgleichungen, L$\\mathrm{\\ddot o}$sungsmethoden und L$\\mathrm{\\ddot o}$sungen, Leipzig (1959)\n"
   ]
  }
 ],
 "metadata": {
  "kernelspec": {
   "display_name": "Maxima",
   "language": "maxima",
   "name": "maxima"
  },
  "language_info": {
   "codemirror_mode": "maxima",
   "file_extension": ".mac",
   "mimetype": "text/x-maxima",
   "name": "maxima",
   "pygments_lexer": "maxima",
   "version": "5.43.0"
  }
 },
 "nbformat": 4,
 "nbformat_minor": 4
}
