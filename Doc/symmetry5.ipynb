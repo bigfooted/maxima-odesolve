{
 "cells": [
  {
   "cell_type": "markdown",
   "metadata": {},
   "source": [
    "<h1 align=\"center\"> Lie point symmetries for first order ODEs </h1>\n",
    " <h3 align=\"center\">A symbolic algorithm for the maxima CAS </h3>\n",
    "\n",
    "\n",
    "#  \n",
    "#   \n",
    " \n",
    "\n",
    "# The method of undetermined coefficients"
   ]
  },
  {
   "cell_type": "markdown",
   "metadata": {},
   "source": [
    "The method of undetermined coefficients (symmetry5) is the most successful methods of the paper of Cheb-terrab and Roche. In the paper, the symmetry generators $\\xi$ and $\\eta$ are assumed to be bivariate: $\\xi=a_1x+a_2y+a_3$, $\\eta=b_1x+b_2y+b_3$ and the coefficients $a_1..a_3,b_1..b_3$ are solved using the method of undetermined coefficients. The default in our maxima implementation is a bivariate polynomial of degree 2. For $\\xi$ this means $\\xi=a_1x + a_2y + a_3 + a_4x^2 + a_5xy + a_6y^2$. This means we can solve many more odes with the method of undetermined coefficients than mentioned in the paper. \n"
   ]
  },
  {
   "cell_type": "code",
   "execution_count": 1,
   "metadata": {},
   "outputs": [
    {
     "data": {
      "text/latex": [
       "$$\\mathbf{done}$$"
      ],
      "text/plain": [
       "done"
      ]
     },
     "execution_count": 1,
     "metadata": {},
     "output_type": "execute_result"
    }
   ],
   "source": [
    "kill(all);"
   ]
  },
  {
   "cell_type": "code",
   "execution_count": null,
   "metadata": {
    "scrolled": true
   },
   "outputs": [],
   "source": [
    "batch(\"~/mathematics/maxima_files/kamke1_1.mac\");"
   ]
  },
  {
   "cell_type": "code",
   "execution_count": null,
   "metadata": {
    "scrolled": false
   },
   "outputs": [],
   "source": [
    "batch(\"~/mathematics/maxima_files/ode1_lie.mac\");"
   ]
  },
  {
   "cell_type": "code",
   "execution_count": 4,
   "metadata": {},
   "outputs": [
    {
     "data": {
      "text/latex": [
       "$${{d}\\over{d\\,x}}\\,y+a\\,y^2-b$$"
      ],
      "text/plain": [
       "'diff(y,x,1)+a*y^2-b"
      ]
     },
     "execution_count": 4,
     "metadata": {},
     "output_type": "execute_result"
    }
   ],
   "source": [
    "ode:kamke1[23];"
   ]
  },
  {
   "cell_type": "code",
   "execution_count": 5,
   "metadata": {},
   "outputs": [
    {
     "name": "stdout",
     "output_type": "stream",
     "text": [
      "   trying [xi,eta]=[ax+by+c,fx+gy+h] \n",
      "warning: division by zero might occur, but we will take care of it... (it mean\\\n",
      "s the symmetry is not valid) \n",
      "*** solution found : [xi,eta]=[ax+by+c,fx+gy+h] (symmetry5) *** \n"
     ]
    },
    {
     "data": {
      "text/latex": [
       "$$\\left[ \\left[ b , b-a\\,y^2 \\right]  \\right] $$"
      ],
      "text/plain": [
       "[[b,b-a*y^2]]"
      ]
     },
     "execution_count": 5,
     "metadata": {},
     "output_type": "execute_result"
    }
   ],
   "source": [
    "ode1Solve(ode,y,x,'useMethod=\"symmetry5\",'returnSolution=false,'returnIntegratingFactor=false);"
   ]
  },
  {
   "cell_type": "markdown",
   "metadata": {},
   "source": [
    "The ODE has a polynomial symmetry of degree 2. \n",
    "\n",
    "Polynomial symmetries occur frequently and the method of undetermined coefficients is one of the most successfull algorithms for finding symmetries. \n",
    "The method of undetermined coefficients sees rational variables like log(), sqrt() and exp() as additional variables. A multivariate polynomial is constructed that includes these variables. For instance for Kamke ODE 1.59: "
   ]
  },
  {
   "cell_type": "code",
   "execution_count": 6,
   "metadata": {},
   "outputs": [
    {
     "data": {
      "text/latex": [
       "$${{d}\\over{d\\,x}}\\,y-a\\,\\sqrt{y^2+1}-b$$"
      ],
      "text/plain": [
       "'diff(y,x,1)-a*sqrt(y^2+1)-b"
      ]
     },
     "execution_count": 6,
     "metadata": {},
     "output_type": "execute_result"
    }
   ],
   "source": [
    "ode:kamke1[59];"
   ]
  },
  {
   "cell_type": "markdown",
   "metadata": {},
   "source": [
    "This ODE has a square root term. First, we try to factor the term. In this case, we can factor into $\\sqrt{y^2+1}=\\sqrt{y+i}\\sqrt{y-i}$. The factors are complex, and we value real over complex. This is why we ignore the complex factorization and introduce the new variable $z=\\sqrt{y^2+1}$ and we construct a second degree polynomial in $x,y,z$. Note that if the ode had a term of the form $\\sqrt{y^2-1}=\\sqrt{y+1}\\sqrt{y-1}$, we would have introduced 2 new variables $z_1=\\sqrt{y+1}$ and $z_2=\\sqrt{y-1}$. Factorization gives us more variables and a more general shape of the determining equations."
   ]
  },
  {
   "cell_type": "code",
   "execution_count": 7,
   "metadata": {},
   "outputs": [
    {
     "name": "stdout",
     "output_type": "stream",
     "text": [
      "   trying [xi,eta]=[ax+by+c,fx+gy+h] \n",
      "warning: division by zero might occur, but we will take care of it... (it mean\\\n",
      "s the symmetry is not valid) \n",
      "*** solution found : [xi,eta]=[ax+by+c,fx+gy+h] (symmetry5) *** \n",
      "                                /\n",
      "                                [         1\n",
      "warning:could not separate y : [I ------------------ dy = x + %c (1 - b)] \n",
      "                                ]         2\n",
      "                                / a sqrt(y  + 1) + b\n"
     ]
    },
    {
     "data": {
      "text/latex": [
       "$$\\left[ \\left[ a\\,\\sqrt{y^2+1}+a\\,y+x , \\left(a^2\\,y+a\\,x+a\\right)\\,\n",
       " \\sqrt{y^2+1}+a^2\\,y^2+a\\,b\\,y+b\\,x-b^2+b+a^2 \\right]  , \\left[ {{1\n",
       " }\\over{\\left(b-1\\right)\\,\\left(a\\,\\sqrt{y^2+1}+b\\right)}} \\right] \n",
       "  , {{x-\\int {{{1}\\over{a\\,\\sqrt{y^2+1}+b}}}{\\;dy}}\\over{b-1}}=\n",
       " {\\it \\%c} \\right] $$"
      ],
      "text/plain": [
       "[[a*sqrt(y^2+1)+a*y+x,(a^2*y+a*x+a)*sqrt(y^2+1)+a^2*y^2+a*b*y+b*x-b^2+b+a^2],\n",
       " [1/((b-1)*(a*sqrt(y^2+1)+b))],\n",
       " (x-'integrate(1/(a*sqrt(y^2+1)+b),y))/(b-1) = %c]"
      ]
     },
     "execution_count": 7,
     "metadata": {},
     "output_type": "execute_result"
    }
   ],
   "source": [
    "ode1Solve(ode,y,x,'useMethod=\"symmetry5\");"
   ]
  },
  {
   "cell_type": "markdown",
   "metadata": {},
   "source": [
    "The method of undetermined coefficients finds a polynomial symmetry and an implicit solution (we asked for an explicit solution, hence the warning).\n",
    "\n",
    "\n",
    "Additionally, the method of undetermined coefficients searches for rational polynomial symmetries of the form $\\xi=Q_1/P_1$ and $\\eta=Q_2/P_2$, with $P,Q$ bivariate polynomials. Because the search for such symmetries is much more expensive, the default is to search only for rational symmetries of the form $[\\xi,\\eta]=[0,\\frac{Q}{P}]$ and $[\\xi,\\eta]=[\\frac{Q}{P},0]$. It turns out that there is a class of ODEs of the form $y'=\\frac{Q(x,y)}{P(x,y)}$ and $y'=\\frac{Q(x,y)}{xP(x,y)}$ whose symmetries have the form $[\\xi,\\eta]=[0,\\frac{F(x,y)}{P(x,y)}]$, so symmetries whose denominator is the denominator (or denominator times $x$) of the right-hand side of the differential equation. We are also looking for these symmetries. "
   ]
  },
  {
   "cell_type": "code",
   "execution_count": 8,
   "metadata": {},
   "outputs": [
    {
     "data": {
      "text/latex": [
       "$$x\\,\\left({{d}\\over{d\\,x}}\\,y\\right)\\,\\left(y\\,\\log \\left(x\\,y\n",
       " \\right)+y-a\\,x\\right)-y\\,\\left(a\\,x\\,\\log \\left(x\\,y\\right)-y+a\\,x\n",
       " \\right)$$"
      ],
      "text/plain": [
       "x*'diff(y,x,1)*(y*log(x*y)+y-a*x)-y*(a*x*log(x*y)-y+a*x)"
      ]
     },
     "execution_count": 8,
     "metadata": {},
     "output_type": "execute_result"
    }
   ],
   "source": [
    "ode:kamke1[346];"
   ]
  },
  {
   "cell_type": "markdown",
   "metadata": {},
   "source": [
    "This ODE can be written as $y'=Q/P$, with $P=x(\\log(xy)+y-ax)$. So we are factoring out the $x$, and are looking for symmetries of the form $[\\xi,\\eta] =[0,\\frac{F(x,y)}{\\log(xy)+y-ax}]$ symmetry5 is automatically looking for such symmetries."
   ]
  },
  {
   "cell_type": "code",
   "execution_count": 9,
   "metadata": {},
   "outputs": [
    {
     "name": "stdout",
     "output_type": "stream",
     "text": [
      "   trying [xi,eta]=[ax+by+c,fx+gy+h] \n",
      "warning: division by zero might occur, but we will take care of it... (it mean\\\n",
      "s the symmetry is not valid) \n",
      "warning: division by zero might occur, but we will take care of it... (it mean\\\n",
      "s the symmetry is not valid) \n",
      "*** solution found : [xi,eta]=[0,(fx+gy+h)/P(x,y)] (symmetry5) *** \n"
     ]
    },
    {
     "data": {
      "text/latex": [
       "$$\\left[ \\left[ 0 , {{y}\\over{y\\,\\log y+\\left(\\log x+1\\right)\\,y-a\\,x\n",
       " }} \\right]  , \\left[ -{{1}\\over{x\\,y}} \\right]  , \\left[ y={{a\\,x\\,\n",
       " \\log \\left(x\\,y\\right)+{\\it \\%c}}\\over{\\log \\left(x\\,y\\right)}}\n",
       "  \\right]  \\right] $$"
      ],
      "text/plain": [
       "[[0,y/(y*log(y)+(log(x)+1)*y-a*x)],[-1/(x*y)],\n",
       " [y = (a*x*log(x*y)+%c)/log(x*y)]]"
      ]
     },
     "execution_count": 9,
     "metadata": {},
     "output_type": "execute_result"
    }
   ],
   "source": [
    "ode1Solve(ode,y,x,'useMethod=\"symmetry5\");"
   ]
  },
  {
   "cell_type": "markdown",
   "metadata": {},
   "source": [
    "note that the denominator of the symmetry does not match the original denominator of the ODE. This is because internally, ode1Solve tries to simplify the ODE by rewriting $\\log(xy)$ in terms of $\\log(x)$ and $\\log(y)$. These canonical forms can be obtained as follows:"
   ]
  },
  {
   "cell_type": "code",
   "execution_count": 10,
   "metadata": {},
   "outputs": [
    {
     "data": {
      "text/latex": [
       "$${{d}\\over{d\\,x}}\\,y={{a\\,x\\,y\\,\\log y-y^2+\\left(a\\,x\\,\\log x+a\\,x\n",
       " \\right)\\,y}\\over{x\\,y\\,\\log y+\\left(x\\,\\log x+x\\right)\\,y-a\\,x^2}}$$"
      ],
      "text/plain": [
       "'diff(y,x,1) = (a*x*y*log(y)-y^2+(a*x*log(x)+a*x)*y)\n",
       "             /(x*y*log(y)+(x*log(x)+x)*y-a*x^2)"
      ]
     },
     "execution_count": 10,
     "metadata": {},
     "output_type": "execute_result"
    }
   ],
   "source": [
    "ode1CanonicalForm(ode,y,x);"
   ]
  },
  {
   "cell_type": "code",
   "execution_count": 11,
   "metadata": {},
   "outputs": [
    {
     "data": {
      "text/latex": [
       "$$\\left[ x , y\\,\\log y+\\log x\\,y+y-a\\,x \\right] $$"
      ],
      "text/plain": [
       "[x,y*log(y)+log(x)*y+y-a*x]"
      ]
     },
     "execution_count": 11,
     "metadata": {},
     "output_type": "execute_result"
    }
   ],
   "source": [
    "P:factor_list(denom(rhs(%)));"
   ]
  },
  {
   "cell_type": "markdown",
   "metadata": {},
   "source": [
    "# user defined functions for symmetries\n",
    "\n",
    "symmetry5 can be used to look for user defined shapes of symmetries. The user has to supply a function with unknown coefficients for the symmetries $\\xi,\\eta$. Let's take a look at Kamke ODE 1.2, which cannot be solved automatically by ode1Solve:"
   ]
  },
  {
   "cell_type": "code",
   "execution_count": 12,
   "metadata": {},
   "outputs": [
    {
     "data": {
      "text/latex": [
       "$${{d}\\over{d\\,x}}\\,y={{y-x^2\\,\\sqrt{x^2-y^2}}\\over{x\\,y\\,\\sqrt{x^2-y\n",
       " ^2}+x}}$$"
      ],
      "text/plain": [
       "'diff(y,x,1) = (y-x^2*sqrt(x^2-y^2))/(x*y*sqrt(x^2-y^2)+x)"
      ]
     },
     "execution_count": 12,
     "metadata": {},
     "output_type": "execute_result"
    }
   ],
   "source": [
    "ode:kamke1[62];"
   ]
  },
  {
   "cell_type": "code",
   "execution_count": 13,
   "metadata": {},
   "outputs": [
    {
     "data": {
      "text/latex": [
       "$$\\mathbf{false}$$"
      ],
      "text/plain": [
       "false"
      ]
     },
     "execution_count": 13,
     "metadata": {},
     "output_type": "execute_result"
    }
   ],
   "source": [
    "returnSolution:false;"
   ]
  },
  {
   "cell_type": "code",
   "execution_count": 14,
   "metadata": {},
   "outputs": [
    {
     "data": {
      "text/latex": [
       "$$\\mathbf{false}$$"
      ],
      "text/plain": [
       "false"
      ]
     },
     "execution_count": 14,
     "metadata": {},
     "output_type": "execute_result"
    }
   ],
   "source": [
    "returnIntegratingFactor:false;"
   ]
  },
  {
   "cell_type": "code",
   "execution_count": 15,
   "metadata": {},
   "outputs": [
    {
     "name": "stdout",
     "output_type": "stream",
     "text": [
      "   trying y' = F(y) ... \n",
      "   trying y' = F(x) ... \n",
      "   trying y' = f(x)*g(y) ... \n",
      "   trying exact ... \n",
      "   trying linear ... \n",
      "   trying inverse linear ... \n",
      "   trying Bernoulli ... \n",
      "   trying Riccati ... \n",
      "   trying simple symmetries ... \n",
      "   trying [xi,eta]=[F(x),G(y)] (non-general) \n",
      "warning: could not find symmetry even though function was found \n",
      "warning: could not find symmetry even though function was found \n",
      "   trying [xi,eta]=[ax+by+c,fx+gy+h] \n",
      "warning: division by zero might occur, but we will take care of it... (it mean\\\n",
      "s the symmetry is not valid) \n",
      "warning: division by zero might occur, but we will take care of it... (it mean\\\n",
      "s the symmetry is not valid) \n",
      "warning: division by zero might occur, but we will take care of it... (it mean\\\n",
      "s the symmetry is not valid) \n",
      "expt: undefined: 0 to a negative exponent.\n",
      "warning: division by zero might occur, but we will take care of it... (it mean\\\n",
      "s the symmetry is not valid) \n",
      "expt: undefined: 0 to a negative exponent.\n",
      "   trying [xi,eta]=[F(x),P(x)y+Q(x)] \n",
      "I is not linear in y. Just trying without transformation  \n",
      "** trying inverse ode **  \n",
      "** trying inverse ode **  \n",
      "   trying y' = F(y) ... \n",
      "   trying y' = F(x) ... \n",
      "   trying y' = f(x)*g(y) ... \n",
      "   trying exact ... \n",
      "   trying linear ... \n",
      "   trying inverse linear ... \n",
      "   trying Bernoulli ... \n",
      "   trying Riccati ... \n",
      "   trying simple symmetries ... \n",
      "   trying [xi,eta]=[F(x),G(y)] (non-general) \n",
      "warning: could not find symmetry even though function was found \n",
      "warning: could not find symmetry even though function was found \n",
      "   trying [xi,eta]=[ax+by+c,fx+gy+h] \n",
      "warning: division by zero might occur, but we will take care of it... (it mean\\\n",
      "s the symmetry is not valid) \n",
      "warning: division by zero might occur, but we will take care of it... (it mean\\\n",
      "s the symmetry is not valid) \n",
      "warning: division by zero might occur, but we will take care of it... (it mean\\\n",
      "s the symmetry is not valid) \n",
      "expt: undefined: 0 to a negative exponent.\n",
      "warning: division by zero might occur, but we will take care of it... (it mean\\\n",
      "s the symmetry is not valid) \n",
      "expt: undefined: 0 to a negative exponent.\n",
      "   trying [xi,eta]=[F(x),P(x)y+Q(x)] \n",
      "I is not linear in y. Just trying without transformation  \n"
     ]
    },
    {
     "data": {
      "text/latex": [
       "$$\\left[ \\mathbf{false} , \\mbox{ no symmetries found } \\right] $$"
      ],
      "text/plain": [
       "[false,\"no symmetries found\"]"
      ]
     },
     "execution_count": 15,
     "metadata": {},
     "output_type": "execute_result"
    }
   ],
   "source": [
    "ode1Solve(ode,y,x);"
   ]
  },
  {
   "cell_type": "markdown",
   "metadata": {},
   "source": [
    "The ode contains the term $\\sqrt{x^2-y^2}$. If the symmetry contains such a term, it will not be recognized by any of the methods. With the method of undetermined coefficients, we can look for a symmetry containing this term. Let's define a shortcut:"
   ]
  },
  {
   "cell_type": "code",
   "execution_count": 16,
   "metadata": {},
   "outputs": [
    {
     "data": {
      "text/latex": [
       "$$\\sqrt{x^2-y^2}$$"
      ],
      "text/plain": [
       "sqrt(x^2-y^2)"
      ]
     },
     "execution_count": 16,
     "metadata": {},
     "output_type": "execute_result"
    }
   ],
   "source": [
    "V1:sqrt(x^2-y^2);"
   ]
  },
  {
   "cell_type": "markdown",
   "metadata": {},
   "source": [
    "Let's also define a shortcut for $\\sqrt{x^2+y^2}$:"
   ]
  },
  {
   "cell_type": "code",
   "execution_count": 17,
   "metadata": {},
   "outputs": [
    {
     "data": {
      "text/latex": [
       "$$\\sqrt{y^2+x^2}$$"
      ],
      "text/plain": [
       "sqrt(y^2+x^2)"
      ]
     },
     "execution_count": 17,
     "metadata": {},
     "output_type": "execute_result"
    }
   ],
   "source": [
    "V2:sqrt(x^2+y^2);"
   ]
  },
  {
   "cell_type": "markdown",
   "metadata": {},
   "source": [
    "We could define a very general multivariate polynomial with the variables $x,y,V_1,V_2$, but after some trial and erro you will find that this one works:"
   ]
  },
  {
   "cell_type": "code",
   "execution_count": 18,
   "metadata": {},
   "outputs": [
    {
     "name": "stdout",
     "output_type": "stream",
     "text": [
      "   trying [xi,eta]=[ax+by+c,fx+gy+h] \n",
      "warning: division by zero might occur, but we will take care of it... (it mean\\\n",
      "s the symmetry is not valid) \n",
      "*** solution found : [xi,eta]=[ax+by+c,fx+gy+h] (symmetry5) *** \n"
     ]
    },
    {
     "data": {
      "text/latex": [
       "$$\\left[ \\left[ {{x}\\over{y^2+x^2}} , {{y}\\over{y^2+x^2}} \\right] \n",
       "  \\right] $$"
      ],
      "text/plain": [
       "[[x/(y^2+x^2),y/(y^2+x^2)]]"
      ]
     },
     "execution_count": 18,
     "metadata": {},
     "output_type": "execute_result"
    }
   ],
   "source": [
    "ode1Solve(kamke1[62],y,x,'useMethod=\"symmetry5\",'xi=a1*x/V1^2+a2*x/V2^2,\\eta=b1*y/V1^2+b2*y/V2^2);"
   ]
  },
  {
   "cell_type": "markdown",
   "metadata": {},
   "source": [
    "we could have tried a symmetry search for a general rational symmetry of degree 2. However, this computation is very expensive. The search for such symmetries is not done automatically."
   ]
  },
  {
   "cell_type": "markdown",
   "metadata": {},
   "source": [
    "# Bibliography\n",
    "[1] E.S. Cheb-Terrab and T. Kolokolnikov, First-order ordinary differential equations, symmetries and linear transformations, Euro. J. of Applied Mathematics 14 (2003)\n",
    "\n",
    "[2] E.S. Cheb-Terrab and A.D. Roche, Symmetries and first order ODE patterns, Computer Physics Communications 113 (1998)\n",
    "\n",
    "[3] E.S. Cheb-Terrab, L.G.S. Duarte and L.A.C.P. da Mota, Computer algebra solving of first order ODEs using symmetry methods, Computer Physics Communications 101 (1997)\n",
    "\n",
    "[4] F. Schwarz, Symmetry analysis of Abel's equation, Studies in applied mathematics 100 (1998)\n",
    "\n",
    "[5] F. Schwarz, Algorithmic solution of Abel's equation, Computing 61 (1998)\n",
    "\n",
    "[6] E. Kamke, Differentialgleichungen, L$\\mathrm{\\ddot o}$sungsmethoden und L$\\mathrm{\\ddot o}$sungen, Leipzig (1959)\n"
   ]
  }
 ],
 "metadata": {
  "kernelspec": {
   "display_name": "Maxima",
   "language": "maxima",
   "name": "maxima"
  },
  "language_info": {
   "codemirror_mode": "maxima",
   "mimetype": "text/x-maxima",
   "name": "maxima",
   "pygments_lexer": "maxima",
   "version": "circa-5.37"
  }
 },
 "nbformat": 4,
 "nbformat_minor": 2
}
