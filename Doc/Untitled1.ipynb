{
 "cells": [
  {
   "cell_type": "code",
   "execution_count": 3,
   "metadata": {},
   "outputs": [
    {
     "data": {
      "text/latex": [
       "$$\\mathbf{false}$$"
      ],
      "text/plain": [
       "false"
      ]
     },
     "execution_count": 3,
     "metadata": {},
     "output_type": "execute_result"
    }
   ],
   "source": [
    "<h1 align=\"center\"> Lie point symmetries for first order ODEs </h1>\n",
    " <h3 align=\"center\">A symbolic algorithm for the maxima CAS </h3>\n",
    "\n",
    "\n",
    "The symmetry method is a powerful method to solve differential equations by finding invariant transformations (point symmetries) of the ODE. For first order ODEs, there is no closed form algorithm to find a symmetry in general, but there are algorithms for finding symmetries of a certain form. In [1], a very general algorithm is presented that searches for symmetries of the form $[\\xi = F(x),\\eta=P(x)y+Q(x)]$. In [2], an algorithm is presented for finding several simpler symmetries of the form \n",
    "\n",
    "(1) $[\\xi=F(x)*G(y), \\eta=0]$,  $[\\xi=0, \\eta=F(x)*G(y)]$       \n",
    "\n",
    "(2) $[\\xi=F(x)+G(y), \\eta=0]$,  $[\\xi=0, \\eta=F(x)+G(y)]$\n",
    "\n",
    "(3) $[\\xi=F(x), \\eta=G(x)]$,    $[\\xi=F(y), \\eta=G(y)]$\n",
    "\n",
    "(4) $[\\xi=F(x), \\eta=G(y)]$,   $[\\xi=F(y), \\eta=G(x)]$\n",
    "\n",
    "(5) $[\\xi=ax+by+c, \\eta=fx+gy+h]$\n",
    "\n",
    "We see that the linear symmetries presented in [1] are a generalization of the search for symmetries of the form (3) presented in [2].\n",
    "\n",
    "As a performance test, the database of Kamke's first order ODEs was used [5]. In the database are 367 ODEs of first order and first degree. A number of these ODEs are unsolvable because they are too general (50, 55, 56, 74, 79, 82, 202, 219, 250, 269, 331). 178 of the ODEs are of type separable, linear, inverse linear and Bernoulli and therefore considered straightforward to solve. They are not considered in the evaluation of the symmetry method in [2]. These equations, as well as all homogeneous and Ricatti and Abel odes with constant invariants have linear symmetries of the form considered in [1]. Of the 246 ODEs of first order and first degree that are left, 133 were solved by the Cheb-Terrab and Roche method [2].\n",
    "For method [1], besides the ODEs mentioned, another 20 ODEs of first order and first degree have linear symmetries.  \n",
    "\n",
    "\n",
    "\n",
    "\n"
   ]
  },
  {
   "cell_type": "markdown",
   "metadata": {},
   "source": [
    "# example1 "
   ]
  },
  {
   "cell_type": "code",
   "execution_count": 8,
   "metadata": {},
   "outputs": [
    {
     "data": {
      "text/latex": [
       "$$\\mathbf{done}$$"
      ],
      "text/plain": [
       "done"
      ]
     },
     "execution_count": 8,
     "metadata": {},
     "output_type": "execute_result"
    }
   ],
   "source": [
    "kill(all);"
   ]
  },
  {
   "cell_type": "markdown",
   "metadata": {},
   "source": [
    "# Bibliography\n",
    "[1] E.S. Cheb-Terrab and T. Kolokolnikov, First-order ordinary differential equations, symmetries and linear transformations, Euro. J. of Applied Mathematics 14 (2003)\n",
    "\n",
    "[2] E.S. Cheb-Terrab and A.D. Roche, Symmetries and first order ODE patterns, Computer Physics Communications 113 (1998)\n",
    "\n",
    "[3] E.S. Cheb-Terrab, L.G.S. Duarte and L.A.C.P. da Mota, Computer algebra solving of first order ODEs using symmetry methods, Computer Physics Communications 101 (1997)\n",
    "\n",
    "[4] F. Schwarz, Symmetry Analysis of Abel's equation, Studies in applied mathematics 100 (1998)\n",
    "\n",
    "[5] E. Kamke, Differentialgleichungen, L$\\mathrm{\\ddot o}$sungsmethoden und L$\\mathrm{\\ddot o}$sungen, Leipzig (1959)\n",
    "\n"
   ]
  }
 ],
 "metadata": {
  "kernelspec": {
   "display_name": "Maxima",
   "language": "maxima",
   "name": "maxima"
  },
  "language_info": {
   "codemirror_mode": "maxima",
   "mimetype": "text/x-maxima",
   "name": "maxima",
   "pygments_lexer": "maxima",
   "version": "circa-5.37"
  }
 },
 "nbformat": 4,
 "nbformat_minor": 2
}
