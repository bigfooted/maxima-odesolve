{
 "cells": [
  {
   "cell_type": "markdown",
   "metadata": {},
   "source": [
    "# A maxima implementation for separation of variables\n",
    "\n",
    "We discuss a simple but effective implementation of a method to separate variables. Separation of variables is a well-known and much-used technique to solve ordinary and partial differential equations. \n",
    "\n",
    "An expression $F(x,y)$ with the 2 independent variables $x$ and $y$ is separable when $\\frac{\\partial F}{\\partial x}/F = \\frac{F_x}{F}$ depends only on $x$, see [1], [2]. This is easy to see because if $F$ is separable, it can be written as $F=f(x)\\cdot R(y)$. If on both sides we take the derivative with respect to $x$ and divide by $F$ we obtain: $\\frac{F_x}{F} = \\frac{f_x}{f}$. Since we know that the right-hand side is a function of only x, the left-hand side must be as well.\n",
    "The separated function $f(x)$ can then be found by solving the differential equation:\n",
    "\n",
    "$|f(x)| = e^{\\int(F_x/Fdx)}$ (1)\n",
    "\n",
    "The function $g(y)$ can be found in a similar way, e.g. by computing:\n",
    "\n",
    "$|g(y)| = e^{\\int(F_y/Fdy)}$, (2)\n",
    "\n",
    "or by using $g(y) = F(x,y)/f(x)$. Note that the latter approach might be computationally more costly because we have to properly factor out the x-dependency. With the above aproach eqs. (1)-(2), we lose any constant factors, e.g. when $F(x,y)=C \\cdot f(x) \\cdot g(y)$, we have lost $C$. We can find $C$ during the evaluation of our results: we check that \n",
    "$C = \\frac{F(x,y)}{f(x)\\cdot g(y)}$ is free of $x$ and $y$.\n",
    "\n",
    " \n",
    "The maxima implementation for separation of variables has been implemented as follows:\n"
   ]
  },
  {
   "cell_type": "markdown",
   "metadata": {},
   "source": [
    "# Function and variable index\n",
    "\n",
    "<u>Function:</u> <b>separable</b>(expr,x,y,[options])\n",
    "\n",
    "If the input expression is a separable function in the independent variables $x$ and $y$, e.g. the expression can be written as $C\\cdot f(x)\\cdot g(y)$, with $C$ a constant independent of $x,y$, then separable(expr,x,y) returns a list of the form $[f(x), C\\cdot g(y)]$, or false when the expression is not separable.\n",
    "When the optional input option 'splitConstant=true is set, the constant factor will be separated as well and a list $[f(x),g(y),C]$ will be returned.\n",
    "\n",
    "\n",
    "<u>Function:</u> <b>isSeparable</b>(expr,x,y)\n",
    "\n",
    "If the input expression can be written as a separable expression $f(x)*g(y)$, return true, otherwise return false.\n",
    "\n",
    "<u>Function:</u> <b>constant_factors</b>(expr,varlist)\n",
    "\n",
    "If the input expression can be written as $C\\cdot F(x,y)$, with $C$ an expression free of the variables in the list varlist, constant_factors will return the constant, or 1.\n"
   ]
  },
  {
   "cell_type": "markdown",
   "metadata": {},
   "source": [
    "# Example\n",
    "For some expressions is it not immediately clear from inspection that they are separable. For instance the expression\n",
    "\n",
    "$e^{x^2+y^2}(\\cos(x+y) + \\cos(x-y))$ \n",
    "\n",
    "can be rewritten as the product of separable functions: \n",
    "\n",
    "$e^{x^2} \\cdot e^{y^2} \\cdot 2\\cos(x) \\cos(y)$\n",
    "\n",
    "The maxima implementation of the above algorithm recognizes this without relying on trigonometric identities, "
   ]
  },
  {
   "cell_type": "code",
   "execution_count": 64,
   "metadata": {},
   "outputs": [
    {
     "data": {
      "text/latex": [
       "$$\\mathbf{done}$$"
      ],
      "text/plain": [
       "done"
      ]
     },
     "execution_count": 64,
     "metadata": {},
     "output_type": "execute_result"
    }
   ],
   "source": [
    "kill(all);"
   ]
  },
  {
   "cell_type": "code",
   "execution_count": null,
   "metadata": {},
   "outputs": [],
   "source": [
    "batch(\"/home/nijso/mathematics/maxima_files/separable.mac\");\n"
   ]
  },
  {
   "cell_type": "code",
   "execution_count": 64,
   "metadata": {},
   "outputs": [
    {
     "data": {
      "text/latex": [
       "$$6\\,e^{y^2+x^2}\\,\\left(2\\,\\cos \\left(y+x\\right)+2\\,\\cos \\left(y-x\n",
       " \\right)\\right)$$"
      ],
      "text/plain": [
       "6*e^(y^2+x^2)*(2*cos(y+x)+2*cos(y-x))"
      ]
     },
     "execution_count": 64,
     "metadata": {},
     "output_type": "execute_result"
    }
   ],
   "source": [
    "expr1 : 6*e^(x^2+y^2)*(2*cos(x+y) + 2*cos(x-y));"
   ]
  },
  {
   "cell_type": "code",
   "execution_count": 64,
   "metadata": {},
   "outputs": [
    {
     "data": {
      "text/latex": [
       "$$\\left[ e^{x^2}\\,\\cos x , 24\\,e^{y^2}\\,\\cos y \\right] $$"
      ],
      "text/plain": [
       "[e^x^2*cos(x),24*e^y^2*cos(y)]"
      ]
     },
     "execution_count": 64,
     "metadata": {},
     "output_type": "execute_result"
    }
   ],
   "source": [
    "separable(expr1,x,y);"
   ]
  },
  {
   "cell_type": "markdown",
   "metadata": {},
   "source": [
    "The constant factor is always added to the second term $g(y)$. We can also separate the constant by using the optional command 'splitConstant=true. The constant factor is then added to the list."
   ]
  },
  {
   "cell_type": "code",
   "execution_count": 64,
   "metadata": {},
   "outputs": [
    {
     "data": {
      "text/latex": [
       "$$\\left[ e^{x^2}\\,\\cos x , e^{y^2}\\,\\cos y , 24 \\right] $$"
      ],
      "text/plain": [
       "[e^x^2*cos(x),e^y^2*cos(y),24]"
      ]
     },
     "execution_count": 64,
     "metadata": {},
     "output_type": "execute_result"
    }
   ],
   "source": [
    "expr2 : separable(expr1,x,y,'splitConstant=true);"
   ]
  },
  {
   "cell_type": "markdown",
   "metadata": {},
   "source": [
    "We can also call the routine responsible for the separation of the constant factor independently:"
   ]
  },
  {
   "cell_type": "code",
   "execution_count": 64,
   "metadata": {},
   "outputs": [
    {
     "data": {
      "text/latex": [
       "$$5\\,c$$"
      ],
      "text/plain": [
       "5*c"
      ]
     },
     "execution_count": 64,
     "metadata": {},
     "output_type": "execute_result"
    }
   ],
   "source": [
    "constant_factors(5*c*x+5*c,[x]);"
   ]
  },
  {
   "cell_type": "markdown",
   "metadata": {},
   "source": [
    "constant_factors also tries to find a shared minus sign. If all terms in an expression of the form a+b+c+d have a minus sign, e.g. expr: -a-b-c-d, then the minus sign will also be factored out."
   ]
  },
  {
   "cell_type": "code",
   "execution_count": 64,
   "metadata": {},
   "outputs": [
    {
     "data": {
      "text/latex": [
       "$$-5\\,c$$"
      ],
      "text/plain": [
       "-5*c"
      ]
     },
     "execution_count": 64,
     "metadata": {},
     "output_type": "execute_result"
    }
   ],
   "source": [
    "constant_factors(-5*c*x-5*c,[x]);"
   ]
  },
  {
   "cell_type": "markdown",
   "metadata": {},
   "source": [
    "Sometimes we just want to know if an expression is separable or not. We can then skip some internal computations."
   ]
  },
  {
   "cell_type": "code",
   "execution_count": 64,
   "metadata": {},
   "outputs": [
    {
     "data": {
      "text/latex": [
       "$$\\mathbf{true}$$"
      ],
      "text/plain": [
       "true"
      ]
     },
     "execution_count": 64,
     "metadata": {},
     "output_type": "execute_result"
    }
   ],
   "source": [
    "isSeparable(x*y,x,y);"
   ]
  },
  {
   "cell_type": "markdown",
   "metadata": {},
   "source": [
    "# Separation of variables for an ODE\n",
    "\n",
    "We can use separation of variables to solve ordinary differential equations. For the general separable ode:"
   ]
  },
  {
   "cell_type": "code",
   "execution_count": 64,
   "metadata": {},
   "outputs": [
    {
     "data": {
      "text/latex": [
       "$${{d}\\over{d\\,x}}\\,y=f\\left(x\\right)\\,g\\left(y\\right)$$"
      ],
      "text/plain": [
       "'diff(y,x,1) = f(x)*g(y)"
      ]
     },
     "execution_count": 64,
     "metadata": {},
     "output_type": "execute_result"
    }
   ],
   "source": [
    "ode:'diff(y,x)=f(x)*g(y);"
   ]
  },
  {
   "cell_type": "code",
   "execution_count": 64,
   "metadata": {},
   "outputs": [
    {
     "data": {
      "text/latex": [
       "$$\\left[ f\\left(x\\right) , g\\left(y\\right) \\right] $$"
      ],
      "text/plain": [
       "[f(x),g(y)]"
      ]
     },
     "execution_count": 64,
     "metadata": {},
     "output_type": "execute_result"
    }
   ],
   "source": [
    "S:separable(rhs(ode),x,y);"
   ]
  },
  {
   "cell_type": "code",
   "execution_count": 64,
   "metadata": {},
   "outputs": [
    {
     "data": {
      "text/latex": [
       "$$\\int {{{1}\\over{g\\left(y\\right)}}}{\\;dy}=\\int {f\\left(x\\right)}{\\;d\n",
       " x}$$"
      ],
      "text/plain": [
       "'integrate(1/g(y),y) = 'integrate(f(x),x)"
      ]
     },
     "execution_count": 64,
     "metadata": {},
     "output_type": "execute_result"
    }
   ],
   "source": [
    "sol:integrate(1/S[2],y)=integrate(S[1],x);"
   ]
  },
  {
   "cell_type": "markdown",
   "metadata": {},
   "source": [
    "# Separation of variables of a PDE"
   ]
  },
  {
   "cell_type": "markdown",
   "metadata": {},
   "source": [
    "# Bibliography\n",
    "\n",
    "[1] C.P. Viazminsky, On separation of variables, arXiv:math/0210167 ()\n",
    "\n",
    "[2] J.A. Cid, A simple method to find out when and ordinary differential equation is separable,  International Journal of Mathematical Education in Science and Technology Vol. 40 , Iss. 5,2009 (http://www4.ujaen.es/~angelcid/Archivos/Papers/IJMEST.pdf)\n",
    "\n",
    "[3] "
   ]
  }
 ],
 "metadata": {
  "kernelspec": {
   "display_name": "Maxima",
   "language": "maxima",
   "name": "maxima"
  },
  "language_info": {
   "codemirror_mode": "maxima",
   "mimetype": "text/x-maxima",
   "name": "maxima",
   "pygments_lexer": "maxima",
   "version": "circa-5.37"
  }
 },
 "nbformat": 4,
 "nbformat_minor": 2
}
